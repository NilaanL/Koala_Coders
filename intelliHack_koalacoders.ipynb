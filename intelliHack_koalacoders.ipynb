{
  "nbformat": 4,
  "nbformat_minor": 0,
  "metadata": {
    "colab": {
      "name": "Untitled7.ipynb",
      "provenance": [],
      "collapsed_sections": [],
      "include_colab_link": true
    },
    "kernelspec": {
      "name": "python3",
      "display_name": "Python 3"
    },
    "accelerator": "GPU"
  },
  "cells": [
    {
      "cell_type": "markdown",
      "metadata": {
        "id": "view-in-github",
        "colab_type": "text"
      },
      "source": [
        "<a href=\"https://colab.research.google.com/github/NilaanL/Koala_Coders/blob/master/intelliHack_koalacoders.ipynb\" target=\"_parent\"><img src=\"https://colab.research.google.com/assets/colab-badge.svg\" alt=\"Open In Colab\"/></a>"
      ]
    },
    {
      "cell_type": "markdown",
      "metadata": {
        "id": "sEmeCPJ8iZqC",
        "colab_type": "text"
      },
      "source": [
        "**Imports**\n",
        "\n"
      ]
    },
    {
      "cell_type": "code",
      "metadata": {
        "id": "cvsg8NAoiE-i",
        "colab_type": "code",
        "colab": {}
      },
      "source": [
        "\n",
        "import numpy as np\n",
        "import pandas as pd\n",
        "import matplotlib.pyplot as plt\n",
        "import seaborn as sns\n",
        "import os\n",
        "import random\n",
        "\n",
        "from sklearn.linear_model import LogisticRegression\n",
        "from sklearn.ensemble import RandomForestClassifier\n",
        "from sklearn.linear_model import SGDClassifier\n",
        "from sklearn.svm import SVC\n",
        "\n",
        "from sklearn.preprocessing import OneHotEncoder, StandardScaler\n",
        "from sklearn.impute import SimpleImputer\n",
        "from sklearn.pipeline import Pipeline\n",
        "from sklearn.compose import ColumnTransformer\n",
        "from sklearn.model_selection import train_test_split, cross_val_score\n",
        "from sklearn.metrics import accuracy_score,confusion_matrix\n",
        "\n"
      ],
      "execution_count": 0,
      "outputs": []
    },
    {
      "cell_type": "markdown",
      "metadata": {
        "id": "fFvyplqsi4TE",
        "colab_type": "text"
      },
      "source": [
        "**Data preparation**"
      ]
    },
    {
      "cell_type": "code",
      "metadata": {
        "id": "enZdN7eciLMr",
        "colab_type": "code",
        "outputId": "70fb2069-6ecf-47f5-cd38-004f03305d86",
        "colab": {
          "base_uri": "https://localhost:8080/",
          "height": 485
        }
      },
      "source": [
        "\n",
        "full_data = pd.read_csv('raj.csv')\n",
        "\n",
        "#Removing unnecessary string values in cells\n",
        "for row in range(full_data.shape[0]):\n",
        "    for column in range(full_data.shape[1]):\n",
        "        if full_data.iat[row,column]=='?':\n",
        "            full_data.iat[row,column] = np.nan\n",
        "            \n",
        "#Converting string values of 3 columns to np.float64\n",
        "full_data.loc[:,['rc','wc','pcv']] = full_data.loc[:,['rc','wc','pcv']].astype(np.float64)\n",
        "\n",
        "full_data.drop(['id'],axis = 1,inplace=True)\n",
        "\n",
        "full_data.info()\n"
      ],
      "execution_count": 2,
      "outputs": [
        {
          "output_type": "stream",
          "text": [
            "<class 'pandas.core.frame.DataFrame'>\n",
            "RangeIndex: 400 entries, 0 to 399\n",
            "Data columns (total 23 columns):\n",
            "age               391 non-null float64\n",
            "bp                388 non-null float64\n",
            "sg                353 non-null float64\n",
            "al                354 non-null float64\n",
            "su                351 non-null float64\n",
            "pcc               400 non-null object\n",
            "ba                400 non-null object\n",
            "bgr               356 non-null float64\n",
            "bu                381 non-null float64\n",
            "sc                383 non-null float64\n",
            "sod               313 non-null float64\n",
            "pot               312 non-null float64\n",
            "hemo              348 non-null float64\n",
            "pcv               329 non-null float64\n",
            "wc                294 non-null float64\n",
            "rc                269 non-null float64\n",
            "htn               400 non-null object\n",
            "dm                400 non-null object\n",
            "cad               400 non-null object\n",
            "appet             400 non-null object\n",
            "pe                400 non-null object\n",
            "ane               400 non-null object\n",
            "classification    400 non-null object\n",
            "dtypes: float64(14), object(9)\n",
            "memory usage: 72.0+ KB\n"
          ],
          "name": "stdout"
        }
      ]
    },
    {
      "cell_type": "code",
      "metadata": {
        "id": "4Y7lwbEhlXpg",
        "colab_type": "code",
        "outputId": "7b9bce02-1426-4f05-9bf5-1add3e6436d3",
        "colab": {
          "base_uri": "https://localhost:8080/",
          "height": 50
        }
      },
      "source": [
        "print(\"Number of ckd patients in the dataset: \",(full_data['classification']=='ckd').astype(np.int64).values.sum())\n",
        "\n",
        "print(\"Number of people without ckd in the dataset: \",(full_data['classification']=='notckd').astype(np.int64).values.sum())"
      ],
      "execution_count": 3,
      "outputs": [
        {
          "output_type": "stream",
          "text": [
            "Number of ckd patients in the dataset:  250\n",
            "Number of people without ckd in the dataset:  150\n"
          ],
          "name": "stdout"
        }
      ]
    },
    {
      "cell_type": "code",
      "metadata": {
        "id": "dpyLKRDVnRsr",
        "colab_type": "code",
        "colab": {}
      },
      "source": [
        "\n",
        "\n",
        "full_data['classification']=(full_data['classification']=='ckd').astype(np.float64)\n",
        "\n",
        "full_data['pcc']=(full_data['pcc']=='present').astype(np.float64)\n",
        "\n",
        "full_data['ba']=(full_data['ba']=='present').astype(np.float64)\n",
        "full_data['htn']=(full_data['htn']=='yes').astype(np.float64)\n",
        "full_data['dm']=(full_data['dm']=='yes').astype(np.float64)\n",
        "full_data['cad']=(full_data['cad']=='yes').astype(np.float64)\n",
        "full_data['appet']=(full_data['appet']=='good').astype(np.float64)\n",
        "full_data['pe']=(full_data['pe']=='yes').astype(np.float64)\n",
        "full_data['ane']=(full_data['ane']=='yes').astype(np.float64)\n"
      ],
      "execution_count": 0,
      "outputs": []
    },
    {
      "cell_type": "code",
      "metadata": {
        "id": "g2GmChV4n8Vd",
        "colab_type": "code",
        "outputId": "12bbac2a-b69d-4010-9520-0f9dbfc11a3a",
        "colab": {
          "base_uri": "https://localhost:8080/",
          "height": 490
        }
      },
      "source": [
        "corr_matrix=full_data.corr()['classification'].sort_values().to_frame()\n",
        "plt.figure(figsize=(8,8))\n",
        "plt.rcParams[\"axes.labelsize\"] = 15\n",
        "sns.set(font_scale=0.9)\n",
        "sns.heatmap(corr_matrix, annot = True ,linewidths=.1)\n",
        "plt.show()"
      ],
      "execution_count": 5,
      "outputs": [
        {
          "output_type": "display_data",
          "data": {
            "image/png": "[encoded data removed]",
            "text/plain": [
              "<Figure size 576x576 with 2 Axes>"
            ]
          },
          "metadata": {
            "tags": []
          }
        }
      ]
    },
    {
      "cell_type": "markdown",
      "metadata": {
        "id": "t6BvLNN6rEpv",
        "colab_type": "text"
      },
      "source": [
        "We have chosen **10 features** to use in our final model. Initially there were 24 features. We chose these features based on their **pearson's correlation coefficient** (highest positive and negative coefficients).\n",
        "\n",
        "\n",
        "The features we have chosen, along with their corellations are:\n",
        "\n",
        "> Albumin (al) :    **0.63**\n",
        "\n",
        "\n",
        "> Specific Gravity (sg) :    **-0.73**\n",
        "\n",
        "\n",
        "\n",
        "> Hemoglobin (hemo) : **-0.77**\n",
        "\n",
        "\n",
        "> Packed cell Volume (pcv) : **-0.74**\n",
        "\n",
        "\n",
        "> Red Blood Cell Count (rc) : **-0.7**\n",
        "\n",
        "\n",
        "> Hypertension (htn) : **0.59**\n",
        "\n",
        "\n",
        "> Diabetes Mellitus (dm) : **0.56**\n",
        "\n",
        "\n",
        "\n",
        "> Blood Glucose Random (bgr) : **0.42**\n",
        "\n",
        "\n",
        "> Blood Urea (bu) : **0.38**\n",
        "\n",
        "\n",
        "> Appetite (appet) : **-0.39**\n",
        "\n",
        "\n",
        "\n",
        "\n",
        "\n",
        "\n",
        "\n",
        "\n",
        "\n",
        "\n",
        "\n",
        "\n",
        "\n",
        "\n",
        "\n",
        "\n",
        "\n",
        "\n",
        "\n",
        "\n",
        "\n"
      ]
    },
    {
      "cell_type": "code",
      "metadata": {
        "id": "ZAPWa36rjZCQ",
        "colab_type": "code",
        "colab": {}
      },
      "source": [
        "#Removing id column and splitting fataset into features and target\n",
        "X = full_data.drop(['classification'],axis = 1,inplace=False)\n",
        "y = full_data[['classification']]\n",
        "\n",
        "#Splitting dataset into Train set and Test set\n",
        "X_train,X_test,y_train,y_test = train_test_split(X,y,test_size=0.3,random_state =5)\n",
        "\n",
        "\n",
        "#Categorical attributes\n",
        "cat_attr = []\n",
        "\n",
        "#Numerical attributes\n",
        "num_attr= []\n",
        "\n",
        "for column,dtype in zip(X_train.columns,X_train.dtypes.values):\n",
        "    if dtype == 'O':\n",
        "        cat_attr.append(column)\n",
        "    else:\n",
        "        num_attr.append(column)\n",
        "\n",
        "\n",
        "num_pipeline = Pipeline([('impute',SimpleImputer(strategy = 'median')),('normalize',StandardScaler())])\n",
        "\n",
        "transformer = ColumnTransformer([('num',num_pipeline,num_attr),('cat','passthrough',cat_attr)])\n",
        "\n",
        "#Prepared features\n",
        "X_prepared = transformer.fit_transform(X_train)\n",
        "\n",
        "\n"
      ],
      "execution_count": 0,
      "outputs": []
    },
    {
      "cell_type": "code",
      "metadata": {
        "id": "RVmM-HYO0IRB",
        "colab_type": "code",
        "colab": {}
      },
      "source": [
        "y_train = y_train.to_numpy(np.float64).ravel()\n",
        "y_test = y_test.to_numpy(np.float64).ravel()"
      ],
      "execution_count": 0,
      "outputs": []
    },
    {
      "cell_type": "code",
      "metadata": {
        "id": "rUAaV3JJNKIm",
        "colab_type": "code",
        "colab": {
          "base_uri": "https://localhost:8080/",
          "height": 33
        },
        "outputId": "a80a7d4d-b96e-4218-9d33-313568a6b4d7"
      },
      "source": [
        "svc = SVC(kernel='linear')\n",
        "svc.fit(X_prepared,y_train)\n",
        "y_pred_svc = svc.predict(transformer.transform(X_test))\n",
        "\n",
        "print(accuracy_score(y_test,y_pred_svc))"
      ],
      "execution_count": 8,
      "outputs": [
        {
          "output_type": "stream",
          "text": [
            "0.9916666666666667\n"
          ],
          "name": "stdout"
        }
      ]
    },
    {
      "cell_type": "code",
      "metadata": {
        "id": "CuenhRh7Nbhj",
        "colab_type": "code",
        "colab": {
          "base_uri": "https://localhost:8080/",
          "height": 285
        },
        "outputId": "ae934b62-8727-417c-bfe5-5df6509e9f78"
      },
      "source": [
        "print(plt.plot(svc.coef_.ravel()))"
      ],
      "execution_count": 9,
      "outputs": [
        {
          "output_type": "stream",
          "text": [
            "[<matplotlib.lines.Line2D object at 0x7fa7e1015438>]\n"
          ],
          "name": "stdout"
        },
        {
          "output_type": "display_data",
          "data": {
            "image/png": "[encoded data removed]",
            "text/plain": [
              "<Figure size 432x288 with 1 Axes>"
            ]
          },
          "metadata": {
            "tags": []
          }
        }
      ]
    },
    {
      "cell_type": "code",
      "metadata": {
        "id": "P6amlwpGjZGH",
        "colab_type": "code",
        "colab": {
          "base_uri": "https://localhost:8080/",
          "height": 33
        },
        "outputId": "771c126f-139a-485a-f734-e2650cfd16db"
      },
      "source": [
        "sgd = SGDClassifier()\n",
        "sgd.fit(X_prepared,y_train)\n",
        "y_pred_sgd = sgd.predict(transformer.transform(X_test))\n",
        "\n",
        "print(accuracy_score(y_test,y_pred_sgd))"
      ],
      "execution_count": 10,
      "outputs": [
        {
          "output_type": "stream",
          "text": [
            "0.95\n"
          ],
          "name": "stdout"
        }
      ]
    },
    {
      "cell_type": "code",
      "metadata": {
        "id": "Nt7-TY-ojZBe",
        "colab_type": "code",
        "colab": {
          "base_uri": "https://localhost:8080/",
          "height": 285
        },
        "outputId": "4644e3f0-a238-41c6-a60f-669cc9251964"
      },
      "source": [
        "plt.plot(sgd.coef_.ravel()/20)"
      ],
      "execution_count": 11,
      "outputs": [
        {
          "output_type": "execute_result",
          "data": {
            "text/plain": [
              "[<matplotlib.lines.Line2D at 0x7fa7e0f69780>]"
            ]
          },
          "metadata": {
            "tags": []
          },
          "execution_count": 11
        },
        {
          "output_type": "display_data",
          "data": {
            "image/png": "[encoded data removed]",
            "text/plain": [
              "<Figure size 432x288 with 1 Axes>"
            ]
          },
          "metadata": {
            "tags": []
          }
        }
      ]
    },
    {
      "cell_type": "code",
      "metadata": {
        "id": "MRNG0xgePm9o",
        "colab_type": "code",
        "colab": {
          "base_uri": "https://localhost:8080/",
          "height": 53
        },
        "outputId": "cbe62a97-2906-4dec-b2d7-e87a73d070b2"
      },
      "source": [
        "def takeSecond(elem):\n",
        "    return elem[1]\n",
        "\n",
        "print(sorted(list(zip(X.columns,svc.coef_.ravel())),key = takeSecond))"
      ],
      "execution_count": 12,
      "outputs": [
        {
          "output_type": "stream",
          "text": [
            "[('sg', -1.3345415330618615), ('hemo', -0.8130286848472786), ('pcv', -0.5693477571668434), ('appet', -0.5160505360192034), ('rc', -0.41900555654163557), ('age', -0.36523745384568357), ('sod', -0.24645818124951588), ('wc', -0.11231496519113252), ('pot', -0.030459351660186162), ('cad', -1.6653345369377348e-16), ('pcc', -1.5265566588595902e-16), ('ba', -6.938893903907228e-17), ('pe', 0.1525502132367634), ('ane', 0.1697353495571883), ('bp', 0.18397712818466488), ('su', 0.23298723014466205), ('dm', 0.4484303508824792), ('bgr', 0.4732062887270101), ('sc', 0.6108490321061042), ('htn', 0.6218421959630716), ('al', 0.7105741847867241), ('bu', 0.7195398245071244)]\n"
          ],
          "name": "stdout"
        }
      ]
    },
    {
      "cell_type": "code",
      "metadata": {
        "id": "mPmTtEVaPnEn",
        "colab_type": "code",
        "colab": {
          "base_uri": "https://localhost:8080/",
          "height": 53
        },
        "outputId": "79ca039f-917f-4fad-f29a-ee10c0478bac"
      },
      "source": [
        "print(sorted(list(zip(X.columns,sgd.coef_.ravel())),key = takeSecond))"
      ],
      "execution_count": 13,
      "outputs": [
        {
          "output_type": "stream",
          "text": [
            "[('sg', -23.012436603095836), ('appet', -19.38087103244095), ('hemo', -17.0539673705791), ('pcv', -12.541940005125866), ('rc', -9.158004265383859), ('sod', -6.013749109562859), ('age', -4.759943312745199), ('wc', -1.3778534144099963), ('bp', -0.09348125634582881), ('pcc', 0.5862035547869273), ('cad', 2.1492408026526086), ('bgr', 3.8195449346314425), ('ba', 7.282676251835758), ('pe', 8.163515049568062), ('ane', 12.163527973920548), ('su', 12.639938254715194), ('htn', 15.303439698603414), ('dm', 15.51496588307811), ('al', 19.70057469230041), ('bu', 20.216524265623367), ('sc', 20.586030688172762), ('pot', 21.167627664329203)]\n"
          ],
          "name": "stdout"
        }
      ]
    },
    {
      "cell_type": "markdown",
      "metadata": {
        "id": "_CCjOVkMCtZR",
        "colab_type": "text"
      },
      "source": [
        "Considering the coefficients assigned to each of the attributes by the linear models: the linear kernel SVC and the SGDClassifier, the highest coefficients in the above linear models have been given to : sg, hemo, pcv, al, htn, dm, appet, along with bgr, bu and rc.\n",
        "Thus this is congruent to the results obtained using the correlation matrix."
      ]
    },
    {
      "cell_type": "code",
      "metadata": {
        "id": "8Jb43ovgSJEg",
        "colab_type": "code",
        "colab": {}
      },
      "source": [
        "X = X[['sg', 'hemo', 'pcv', 'al','rc','bgr','bu', 'htn', 'dm', 'appet']]\n",
        "\n",
        "num_attr_new = ['sg','hemo','pcv','al','rc','bgr','bu']\n",
        "cat_attr_new = ['htn','dm','appet']\n",
        "\n",
        "#Splitting dataset into Train set and Test set\n",
        "X_train,X_test,y_train,y_test = train_test_split(X,y,test_size=0.3,random_state = random.randint(1,1000))\n",
        "\n",
        "y_train = y_train.to_numpy(np.float64).ravel()\n",
        "y_test = y_test.to_numpy(np.float64).ravel()\n",
        "\n",
        "num_pipeline = Pipeline([('impute',SimpleImputer(strategy = 'median')),('normalize',StandardScaler())])\n",
        "\n",
        "transformer = ColumnTransformer([('num',num_pipeline,num_attr_new),('cat','passthrough',cat_attr_new)])\n",
        "\n",
        "#Prepared features\n",
        "X_prepared = transformer.fit_transform(X_train)"
      ],
      "execution_count": 0,
      "outputs": []
    },
    {
      "cell_type": "code",
      "metadata": {
        "id": "VsIKN8FySJI2",
        "colab_type": "code",
        "colab": {}
      },
      "source": [
        "svc_cv = SVC(kernel='linear')\n",
        "\n",
        "scores = cross_val_score(svc_cv, X_prepared, y_train,scoring='accuracy',cv=3)"
      ],
      "execution_count": 0,
      "outputs": []
    },
    {
      "cell_type": "code",
      "metadata": {
        "id": "bznYOgaESJH_",
        "colab_type": "code",
        "colab": {
          "base_uri": "https://localhost:8080/",
          "height": 33
        },
        "outputId": "156664be-a99b-4451-dcb9-f37404ffd4d9"
      },
      "source": [
        "print(scores)"
      ],
      "execution_count": 16,
      "outputs": [
        {
          "output_type": "stream",
          "text": [
            "[0.9893617  0.97849462 0.96774194]\n"
          ],
          "name": "stdout"
        }
      ]
    },
    {
      "cell_type": "code",
      "metadata": {
        "id": "9KBkVK0TSJDx",
        "colab_type": "code",
        "colab": {
          "base_uri": "https://localhost:8080/",
          "height": 33
        },
        "outputId": "02abbc26-3971-498d-b261-5d25fff197da"
      },
      "source": [
        "svc_final = SVC(kernel='linear')\n",
        "svc_final.fit(X_prepared,y_train)\n",
        "y_pred = svc_final.predict(transformer.transform(X_test))\n",
        "\n",
        "print(accuracy_score(y_test,y_pred))"
      ],
      "execution_count": 17,
      "outputs": [
        {
          "output_type": "stream",
          "text": [
            "0.975\n"
          ],
          "name": "stdout"
        }
      ]
    }
  ]
}