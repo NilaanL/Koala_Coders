{
  "nbformat": 4,
  "nbformat_minor": 0,
  "metadata": {
    "colab": {
      "name": "Untitled7.ipynb",
      "provenance": [],
      "collapsed_sections": [],
      "include_colab_link": true
    },
    "kernelspec": {
      "name": "python3",
      "display_name": "Python 3"
    },
    "accelerator": "GPU"
  },
  "cells": [
    {
      "cell_type": "markdown",
      "metadata": {
        "id": "view-in-github",
        "colab_type": "text"
      },
      "source": [
        "<a href=\"https://colab.research.google.com/github/NilaanL/Koala_Coders/blob/master/intelliHack_koalacoders.ipynb\" target=\"_parent\"><img src=\"https://colab.research.google.com/assets/colab-badge.svg\" alt=\"Open In Colab\"/></a>"
      ]
    },
    {
      "cell_type": "markdown",
      "metadata": {
        "id": "sEmeCPJ8iZqC",
        "colab_type": "text"
      },
      "source": [
        "# **Imports**\n",
        "\n"
      ]
    },
    {
      "cell_type": "code",
      "metadata": {
        "id": "cvsg8NAoiE-i",
        "colab_type": "code",
        "colab": {
          "base_uri": "https://localhost:8080/",
          "height": 70
        },
        "outputId": "0c7352d1-c931-41cd-ce9f-0b04ba88dbae"
      },
      "source": [
        "\n",
        "import numpy as np\n",
        "import pandas as pd\n",
        "import matplotlib.pyplot as plt\n",
        "import seaborn as sns\n",
        "import os\n",
        "import random\n",
        "\n",
        "from sklearn.linear_model import LogisticRegression\n",
        "from sklearn.ensemble import RandomForestClassifier\n",
        "from sklearn.linear_model import SGDClassifier\n",
        "from sklearn.svm import SVC\n",
        "\n",
        "from sklearn.preprocessing import OneHotEncoder, StandardScaler\n",
        "from sklearn.impute import SimpleImputer\n",
        "from sklearn.pipeline import Pipeline\n",
        "from sklearn.compose import ColumnTransformer\n",
        "from sklearn.model_selection import train_test_split, cross_val_score\n",
        "from sklearn.metrics import accuracy_score,confusion_matrix\n",
        "from sklearn.externals import joblib\n",
        "\n"
      ],
      "execution_count": 1,
      "outputs": [
        {
          "output_type": "stream",
          "text": [
            "/usr/local/lib/python3.6/dist-packages/sklearn/externals/joblib/__init__.py:15: DeprecationWarning: sklearn.externals.joblib is deprecated in 0.21 and will be removed in 0.23. Please import this functionality directly from joblib, which can be installed with: pip install joblib. If this warning is raised when loading pickled models, you may need to re-serialize those models with scikit-learn 0.21+.\n",
            "  warnings.warn(msg, category=DeprecationWarning)\n"
          ],
          "name": "stderr"
        }
      ]
    },
    {
      "cell_type": "markdown",
      "metadata": {
        "id": "fFvyplqsi4TE",
        "colab_type": "text"
      },
      "source": [
        "# **Data preparation**"
      ]
    },
    {
      "cell_type": "code",
      "metadata": {
        "id": "enZdN7eciLMr",
        "colab_type": "code",
        "outputId": "bdba6f22-4289-492f-e119-b9b9a9af5700",
        "colab": {
          "base_uri": "https://localhost:8080/",
          "height": 485
        }
      },
      "source": [
        "\n",
        "full_data = pd.read_csv('raj.csv')\n",
        "\n",
        "#Removing unnecessary string values in cells\n",
        "for row in range(full_data.shape[0]):\n",
        "    for column in range(full_data.shape[1]):\n",
        "        if full_data.iat[row,column]=='?':\n",
        "            full_data.iat[row,column] = np.nan\n",
        "            \n",
        "#Converting string values of 3 columns to np.float64\n",
        "full_data.loc[:,['rc','wc','pcv']] = full_data.loc[:,['rc','wc','pcv']].astype(np.float64)\n",
        "\n",
        "full_data.drop(['id'],axis = 1,inplace=True)\n",
        "\n",
        "full_data.info()\n"
      ],
      "execution_count": 2,
      "outputs": [
        {
          "output_type": "stream",
          "text": [
            "<class 'pandas.core.frame.DataFrame'>\n",
            "RangeIndex: 400 entries, 0 to 399\n",
            "Data columns (total 23 columns):\n",
            "age               391 non-null float64\n",
            "bp                388 non-null float64\n",
            "sg                353 non-null float64\n",
            "al                354 non-null float64\n",
            "su                351 non-null float64\n",
            "pcc               400 non-null object\n",
            "ba                400 non-null object\n",
            "bgr               356 non-null float64\n",
            "bu                381 non-null float64\n",
            "sc                383 non-null float64\n",
            "sod               313 non-null float64\n",
            "pot               312 non-null float64\n",
            "hemo              348 non-null float64\n",
            "pcv               329 non-null float64\n",
            "wc                294 non-null float64\n",
            "rc                269 non-null float64\n",
            "htn               400 non-null object\n",
            "dm                400 non-null object\n",
            "cad               400 non-null object\n",
            "appet             400 non-null object\n",
            "pe                400 non-null object\n",
            "ane               400 non-null object\n",
            "classification    400 non-null object\n",
            "dtypes: float64(14), object(9)\n",
            "memory usage: 72.0+ KB\n"
          ],
          "name": "stdout"
        }
      ]
    },
    {
      "cell_type": "code",
      "metadata": {
        "id": "4Y7lwbEhlXpg",
        "colab_type": "code",
        "outputId": "72ea41cc-e7c5-4f22-a946-ef8a508dba57",
        "colab": {
          "base_uri": "https://localhost:8080/",
          "height": 50
        }
      },
      "source": [
        "print(\"Number of ckd patients in the dataset: \",(full_data['classification']=='ckd').astype(np.int64).values.sum())\n",
        "\n",
        "print(\"Number of people without ckd in the dataset: \",(full_data['classification']=='notckd').astype(np.int64).values.sum())"
      ],
      "execution_count": 3,
      "outputs": [
        {
          "output_type": "stream",
          "text": [
            "Number of ckd patients in the dataset:  250\n",
            "Number of people without ckd in the dataset:  150\n"
          ],
          "name": "stdout"
        }
      ]
    },
    {
      "cell_type": "code",
      "metadata": {
        "id": "dpyLKRDVnRsr",
        "colab_type": "code",
        "colab": {}
      },
      "source": [
        "\n",
        "\n",
        "full_data['classification']=(full_data['classification']=='ckd').astype(np.float64)\n",
        "\n",
        "full_data['pcc']=(full_data['pcc']=='present').astype(np.float64)\n",
        "\n",
        "full_data['ba']=(full_data['ba']=='present').astype(np.float64)\n",
        "full_data['htn']=(full_data['htn']=='yes').astype(np.float64)\n",
        "full_data['dm']=(full_data['dm']=='yes').astype(np.float64)\n",
        "full_data['cad']=(full_data['cad']=='yes').astype(np.float64)\n",
        "full_data['appet']=(full_data['appet']=='good').astype(np.float64)\n",
        "full_data['pe']=(full_data['pe']=='yes').astype(np.float64)\n",
        "full_data['ane']=(full_data['ane']=='yes').astype(np.float64)\n"
      ],
      "execution_count": 0,
      "outputs": []
    },
    {
      "cell_type": "markdown",
      "metadata": {
        "id": "T5vdVAsu8PyK",
        "colab_type": "text"
      },
      "source": [
        "# **Feature** **Extraction**"
      ]
    },
    {
      "cell_type": "code",
      "metadata": {
        "id": "g2GmChV4n8Vd",
        "colab_type": "code",
        "outputId": "78747fb3-1d07-490c-996b-e343d4c58892",
        "colab": {
          "base_uri": "https://localhost:8080/",
          "height": 490
        }
      },
      "source": [
        "corr_matrix=full_data.corr()['classification'].sort_values().to_frame()\n",
        "plt.figure(figsize=(8,8))\n",
        "plt.rcParams[\"axes.labelsize\"] = 15\n",
        "sns.set(font_scale=0.9)\n",
        "sns.heatmap(corr_matrix, annot = True ,linewidths=.1)\n",
        "plt.show()"
      ],
      "execution_count": 5,
      "outputs": [
        {
          "output_type": "display_data",
          "data": {
            "image/png": "[encoded data removed]",
            "text/plain": [
              "<Figure size 576x576 with 2 Axes>"
            ]
          },
          "metadata": {
            "tags": []
          }
        }
      ]
    },
    {
      "cell_type": "markdown",
      "metadata": {
        "id": "t6BvLNN6rEpv",
        "colab_type": "text"
      },
      "source": [
        "We have chosen **10 features** to use in our final model. Initially there were 24 features. We chose these features based on their **pearson's correlation coefficient** (highest positive and negative coefficients).\n",
        "\n",
        "\n",
        "The features we have chosen, along with their corellations are:\n",
        "\n",
        "> Albumin (al) :    **0.63**\n",
        "\n",
        "\n",
        "> Specific Gravity (sg) :    **-0.73**\n",
        "\n",
        "\n",
        "\n",
        "> Hemoglobin (hemo) : **-0.77**\n",
        "\n",
        "\n",
        "> Packed cell Volume (pcv) : **-0.74**\n",
        "\n",
        "\n",
        "> Red Blood Cell Count (rc) : **-0.7**\n",
        "\n",
        "\n",
        "> Hypertension (htn) : **0.59**\n",
        "\n",
        "\n",
        "> Diabetes Mellitus (dm) : **0.56**\n",
        "\n",
        "\n",
        "\n",
        "> Blood Glucose Random (bgr) : **0.42**\n",
        "\n",
        "\n",
        "> Blood Urea (bu) : **0.38**\n",
        "\n",
        "\n",
        "> Appetite (appet) : **-0.39**\n",
        "\n",
        "\n",
        "\n",
        "\n",
        "\n",
        "\n",
        "\n",
        "\n",
        "\n",
        "\n",
        "\n",
        "\n",
        "\n",
        "\n",
        "\n",
        "\n",
        "\n",
        "\n",
        "\n",
        "\n",
        "\n"
      ]
    },
    {
      "cell_type": "code",
      "metadata": {
        "id": "ZAPWa36rjZCQ",
        "colab_type": "code",
        "colab": {}
      },
      "source": [
        "#Removing id column and splitting fataset into features and target\n",
        "X = full_data.drop(['classification'],axis = 1,inplace=False)\n",
        "y = full_data[['classification']]\n",
        "\n",
        "#Splitting dataset into Train set and Test set\n",
        "X_train,X_test,y_train,y_test = train_test_split(X,y,test_size=0.3,random_state =5)\n",
        "\n",
        "\n",
        "#Categorical attributes\n",
        "cat_attr = []\n",
        "\n",
        "#Numerical attributes\n",
        "num_attr= []\n",
        "\n",
        "for column,dtype in zip(X_train.columns,X_train.dtypes.values):\n",
        "    if dtype == 'O':\n",
        "        cat_attr.append(column)\n",
        "    else:\n",
        "        num_attr.append(column)\n",
        "\n",
        "\n",
        "num_pipeline = Pipeline([('impute',SimpleImputer(strategy = 'median')),('normalize',StandardScaler())])\n",
        "\n",
        "transformer = ColumnTransformer([('num',num_pipeline,num_attr),('cat','passthrough',cat_attr)])\n",
        "\n",
        "#Prepared features\n",
        "X_prepared = transformer.fit_transform(X_train)\n",
        "\n",
        "\n"
      ],
      "execution_count": 0,
      "outputs": []
    },
    {
      "cell_type": "code",
      "metadata": {
        "id": "RVmM-HYO0IRB",
        "colab_type": "code",
        "colab": {}
      },
      "source": [
        "y_train = y_train.to_numpy(np.float64).ravel()\n",
        "y_test = y_test.to_numpy(np.float64).ravel()"
      ],
      "execution_count": 0,
      "outputs": []
    },
    {
      "cell_type": "code",
      "metadata": {
        "id": "rUAaV3JJNKIm",
        "colab_type": "code",
        "colab": {
          "base_uri": "https://localhost:8080/",
          "height": 33
        },
        "outputId": "5efcde2e-972f-4b6f-f152-3d0b1031f354"
      },
      "source": [
        "svc = SVC(kernel='linear')\n",
        "svc.fit(X_prepared,y_train)\n",
        "y_pred_svc = svc.predict(transformer.transform(X_test))\n",
        "\n",
        "print(accuracy_score(y_test,y_pred_svc))"
      ],
      "execution_count": 8,
      "outputs": [
        {
          "output_type": "stream",
          "text": [
            "0.9916666666666667\n"
          ],
          "name": "stdout"
        }
      ]
    },
    {
      "cell_type": "code",
      "metadata": {
        "id": "CuenhRh7Nbhj",
        "colab_type": "code",
        "colab": {
          "base_uri": "https://localhost:8080/",
          "height": 285
        },
        "outputId": "fe02afdd-6d1f-4935-ce69-7e219ce40c14"
      },
      "source": [
        "print(plt.plot(svc.coef_.ravel()))"
      ],
      "execution_count": 9,
      "outputs": [
        {
          "output_type": "stream",
          "text": [
            "[<matplotlib.lines.Line2D object at 0x7fd7986934e0>]\n"
          ],
          "name": "stdout"
        },
        {
          "output_type": "display_data",
          "data": {
            "image/png": "[encoded data removed]",
            "text/plain": [
              "<Figure size 432x288 with 1 Axes>"
            ]
          },
          "metadata": {
            "tags": []
          }
        }
      ]
    },
    {
      "cell_type": "code",
      "metadata": {
        "id": "P6amlwpGjZGH",
        "colab_type": "code",
        "colab": {
          "base_uri": "https://localhost:8080/",
          "height": 33
        },
        "outputId": "2b1bef56-6ecd-487a-f843-2520fe21351f"
      },
      "source": [
        "sgd = SGDClassifier()\n",
        "sgd.fit(X_prepared,y_train)\n",
        "y_pred_sgd = sgd.predict(transformer.transform(X_test))\n",
        "\n",
        "print(accuracy_score(y_test,y_pred_sgd))"
      ],
      "execution_count": 10,
      "outputs": [
        {
          "output_type": "stream",
          "text": [
            "0.9833333333333333\n"
          ],
          "name": "stdout"
        }
      ]
    },
    {
      "cell_type": "code",
      "metadata": {
        "id": "Nt7-TY-ojZBe",
        "colab_type": "code",
        "colab": {
          "base_uri": "https://localhost:8080/",
          "height": 285
        },
        "outputId": "9c346f3e-24e6-4830-e236-bdb414f1a43a"
      },
      "source": [
        "plt.plot(sgd.coef_.ravel()/20)"
      ],
      "execution_count": 11,
      "outputs": [
        {
          "output_type": "execute_result",
          "data": {
            "text/plain": [
              "[<matplotlib.lines.Line2D at 0x7fd7985ea828>]"
            ]
          },
          "metadata": {
            "tags": []
          },
          "execution_count": 11
        },
        {
          "output_type": "display_data",
          "data": {
            "image/png": "[encoded data removed]",
            "text/plain": [
              "<Figure size 432x288 with 1 Axes>"
            ]
          },
          "metadata": {
            "tags": []
          }
        }
      ]
    },
    {
      "cell_type": "code",
      "metadata": {
        "id": "MRNG0xgePm9o",
        "colab_type": "code",
        "colab": {
          "base_uri": "https://localhost:8080/",
          "height": 753
        },
        "outputId": "5a1e6f5f-d330-4561-ce15-8508b5b2c4b2"
      },
      "source": [
        "def takeSecond(elem):\n",
        "    return elem[1]\n",
        "\n",
        "for i in sorted(list(zip(X.columns,svc.coef_.ravel())),key = takeSecond):\n",
        "  print(i,\"\\n\")"
      ],
      "execution_count": 12,
      "outputs": [
        {
          "output_type": "stream",
          "text": [
            "('sg', -1.3345415330618615) \n",
            "\n",
            "('hemo', -0.8130286848472786) \n",
            "\n",
            "('pcv', -0.5693477571668434) \n",
            "\n",
            "('appet', -0.5160505360192034) \n",
            "\n",
            "('rc', -0.41900555654163557) \n",
            "\n",
            "('age', -0.36523745384568357) \n",
            "\n",
            "('sod', -0.24645818124951588) \n",
            "\n",
            "('wc', -0.11231496519113252) \n",
            "\n",
            "('pot', -0.030459351660186162) \n",
            "\n",
            "('cad', -1.6653345369377348e-16) \n",
            "\n",
            "('pcc', -1.5265566588595902e-16) \n",
            "\n",
            "('ba', -6.938893903907228e-17) \n",
            "\n",
            "('pe', 0.1525502132367634) \n",
            "\n",
            "('ane', 0.1697353495571883) \n",
            "\n",
            "('bp', 0.18397712818466488) \n",
            "\n",
            "('su', 0.23298723014466205) \n",
            "\n",
            "('dm', 0.4484303508824792) \n",
            "\n",
            "('bgr', 0.4732062887270101) \n",
            "\n",
            "('sc', 0.6108490321061042) \n",
            "\n",
            "('htn', 0.6218421959630716) \n",
            "\n",
            "('al', 0.7105741847867241) \n",
            "\n",
            "('bu', 0.7195398245071244) \n",
            "\n"
          ],
          "name": "stdout"
        }
      ]
    },
    {
      "cell_type": "code",
      "metadata": {
        "id": "mPmTtEVaPnEn",
        "colab_type": "code",
        "colab": {
          "base_uri": "https://localhost:8080/",
          "height": 753
        },
        "outputId": "39dc33bc-9cb3-4bf6-d431-28a0956ed14b"
      },
      "source": [
        "for j in sorted(list(zip(X.columns,sgd.coef_.ravel())),key = takeSecond):\n",
        "  print(j,'\\n')"
      ],
      "execution_count": 13,
      "outputs": [
        {
          "output_type": "stream",
          "text": [
            "('hemo', -19.121772815453035) \n",
            "\n",
            "('appet', -18.5112314819151) \n",
            "\n",
            "('sg', -18.509623933509484) \n",
            "\n",
            "('rc', -11.32791668213417) \n",
            "\n",
            "('pcv', -11.1379573563396) \n",
            "\n",
            "('sod', -8.455849243923483) \n",
            "\n",
            "('ba', -4.768734431678865) \n",
            "\n",
            "('bu', -3.0469382207290434) \n",
            "\n",
            "('pot', -2.0439532320225453) \n",
            "\n",
            "('age', 0.4215688025454537) \n",
            "\n",
            "('bp', 0.7675044921285901) \n",
            "\n",
            "('wc', 1.8511398166922859) \n",
            "\n",
            "('pcc', 2.7864029258044396) \n",
            "\n",
            "('cad', 4.411451116466548) \n",
            "\n",
            "('pe', 4.85684783085591) \n",
            "\n",
            "('bgr', 5.961874627271092) \n",
            "\n",
            "('ane', 8.214054213192991) \n",
            "\n",
            "('su', 14.006718949020646) \n",
            "\n",
            "('htn', 16.108341918800537) \n",
            "\n",
            "('dm', 16.306155556076614) \n",
            "\n",
            "('al', 20.321110795664502) \n",
            "\n",
            "('sc', 30.64616807571536) \n",
            "\n"
          ],
          "name": "stdout"
        }
      ]
    },
    {
      "cell_type": "markdown",
      "metadata": {
        "id": "_CCjOVkMCtZR",
        "colab_type": "text"
      },
      "source": [
        "Considering the coefficients assigned to each of the attributes by the linear models: the linear kernel SVC and the SGDClassifier, the highest coefficients in the above linear models have been given to : **sg, hemo, pcv, al, htn, dm, appet**, along with **bgr, bu and rc**.\n",
        "Thus this is congruent to the results obtained using the correlation matrix."
      ]
    },
    {
      "cell_type": "markdown",
      "metadata": {
        "id": "Iw_NEFxT8fjA",
        "colab_type": "text"
      },
      "source": [
        "# **Model Training and Cross Validation**"
      ]
    },
    {
      "cell_type": "code",
      "metadata": {
        "id": "8Jb43ovgSJEg",
        "colab_type": "code",
        "colab": {}
      },
      "source": [
        "X = X[['sg', 'hemo', 'pcv', 'al','rc','bgr','bu', 'htn', 'dm', 'appet']]\n",
        "\n",
        "num_attr_new = ['sg','hemo','pcv','al','rc','bgr','bu']\n",
        "cat_attr_new = ['htn','dm','appet']\n",
        "\n",
        "#Splitting dataset into Train set and Test set\n",
        "X_train,X_test,y_train,y_test = train_test_split(X,y,test_size=0.3,random_state = random.randint(1,1000))\n",
        "\n",
        "y_train = y_train.to_numpy(np.float64).ravel()\n",
        "y_test = y_test.to_numpy(np.float64).ravel()\n",
        "\n",
        "num_pipeline = Pipeline([('impute',SimpleImputer(strategy = 'median')),('normalize',StandardScaler())])\n",
        "\n",
        "transformer = ColumnTransformer([('num',num_pipeline,num_attr_new),('cat','passthrough',cat_attr_new)])\n",
        "\n",
        "#Prepared features\n",
        "X_prepared = transformer.fit_transform(X_train)"
      ],
      "execution_count": 0,
      "outputs": []
    },
    {
      "cell_type": "code",
      "metadata": {
        "id": "VsIKN8FySJI2",
        "colab_type": "code",
        "colab": {}
      },
      "source": [
        "svc_cv = SVC(kernel='linear')\n",
        "\n",
        "scores = cross_val_score(svc_cv, X_prepared, y_train,scoring='accuracy',cv=3)"
      ],
      "execution_count": 0,
      "outputs": []
    },
    {
      "cell_type": "code",
      "metadata": {
        "id": "bznYOgaESJH_",
        "colab_type": "code",
        "colab": {
          "base_uri": "https://localhost:8080/",
          "height": 33
        },
        "outputId": "a4754841-6b25-470f-e600-91601992477b"
      },
      "source": [
        "print(scores)"
      ],
      "execution_count": 16,
      "outputs": [
        {
          "output_type": "stream",
          "text": [
            "[0.9893617  0.95744681 0.98913043]\n"
          ],
          "name": "stdout"
        }
      ]
    },
    {
      "cell_type": "markdown",
      "metadata": {
        "id": "Qw5hfmTw833b",
        "colab_type": "text"
      },
      "source": [
        "# **Testing**"
      ]
    },
    {
      "cell_type": "code",
      "metadata": {
        "id": "9KBkVK0TSJDx",
        "colab_type": "code",
        "colab": {
          "base_uri": "https://localhost:8080/",
          "height": 33
        },
        "outputId": "615f4435-7b49-48d6-8597-1beee5f96b24"
      },
      "source": [
        "svc_final = SVC(kernel='linear')\n",
        "svc_final.fit(X_prepared,y_train)\n",
        "y_pred = svc_final.predict(transformer.transform(X_test))\n",
        "\n",
        "print(\"Test Accuracy:   \",accuracy_score(y_test,y_pred))"
      ],
      "execution_count": 17,
      "outputs": [
        {
          "output_type": "stream",
          "text": [
            "Test Accuracy:    0.9916666666666667\n"
          ],
          "name": "stdout"
        }
      ]
    },
    {
      "cell_type": "code",
      "metadata": {
        "id": "Eiv027-17MFm",
        "colab_type": "code",
        "colab": {
          "base_uri": "https://localhost:8080/",
          "height": 50
        },
        "outputId": "5a9c7bfa-e5ca-4102-89e3-fbd9a513e815"
      },
      "source": [
        "confusion_matrix(y_test,y_pred)"
      ],
      "execution_count": 18,
      "outputs": [
        {
          "output_type": "execute_result",
          "data": {
            "text/plain": [
              "array([[37,  0],\n",
              "       [ 1, 82]])"
            ]
          },
          "metadata": {
            "tags": []
          },
          "execution_count": 18
        }
      ]
    }
  ]
}