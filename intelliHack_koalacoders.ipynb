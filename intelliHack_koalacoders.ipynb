{
  "nbformat": 4,
  "nbformat_minor": 0,
  "metadata": {
    "colab": {
      "name": "Untitled7.ipynb",
      "provenance": [],
      "collapsed_sections": [],
      "include_colab_link": true
    },
    "kernelspec": {
      "name": "python3",
      "display_name": "Python 3"
    },
    "accelerator": "GPU"
  },
  "cells": [
    {
      "cell_type": "markdown",
      "metadata": {
        "id": "view-in-github",
        "colab_type": "text"
      },
      "source": [
        "<a href=\"https://colab.research.google.com/github/NilaanL/Koala_Coders/blob/master/intelliHack_koalacoders.ipynb\" target=\"_parent\"><img src=\"https://colab.research.google.com/assets/colab-badge.svg\" alt=\"Open In Colab\"/></a>"
      ]
    },
    {
      "cell_type": "markdown",
      "metadata": {
        "id": "sEmeCPJ8iZqC",
        "colab_type": "text"
      },
      "source": [
        "**Imports**\n",
        "\n"
      ]
    },
    {
      "cell_type": "code",
      "metadata": {
        "id": "cvsg8NAoiE-i",
        "colab_type": "code",
        "colab": {}
      },
      "source": [
        "\n",
        "import numpy as np\n",
        "import pandas as pd\n",
        "import matplotlib.pyplot as plt\n",
        "import seaborn as sns\n",
        "import os\n",
        "import random\n",
        "\n",
        "from sklearn.linear_model import LogisticRegression\n",
        "from sklearn.ensemble import RandomForestClassifier\n",
        "from sklearn.linear_model import SGDClassifier\n",
        "from sklearn.svm import SVC\n",
        "\n",
        "from sklearn.preprocessing import OneHotEncoder, StandardScaler\n",
        "from sklearn.impute import SimpleImputer\n",
        "from sklearn.pipeline import Pipeline\n",
        "from sklearn.compose import ColumnTransformer\n",
        "from sklearn.model_selection import train_test_split, cross_val_score\n",
        "from sklearn.metrics import accuracy_score,confusion_matrix\n",
        "\n"
      ],
      "execution_count": 0,
      "outputs": []
    },
    {
      "cell_type": "markdown",
      "metadata": {
        "id": "fFvyplqsi4TE",
        "colab_type": "text"
      },
      "source": [
        "**Data preparation**"
      ]
    },
    {
      "cell_type": "code",
      "metadata": {
        "id": "enZdN7eciLMr",
        "colab_type": "code",
        "outputId": "2b69c689-6cd4-42e8-9ae1-a1bbcb4d72a7",
        "colab": {
          "base_uri": "https://localhost:8080/",
          "height": 485
        }
      },
      "source": [
        "\n",
        "full_data = pd.read_csv('raj.csv')\n",
        "\n",
        "#Removing unnecessary string values in cells\n",
        "for row in range(full_data.shape[0]):\n",
        "    for column in range(full_data.shape[1]):\n",
        "        if full_data.iat[row,column]=='?':\n",
        "            full_data.iat[row,column] = np.nan\n",
        "            \n",
        "#Converting string values of 3 columns to np.float64\n",
        "full_data.loc[:,['rc','wc','pcv']] = full_data.loc[:,['rc','wc','pcv']].astype(np.float64)\n",
        "\n",
        "full_data.drop(['id'],axis = 1,inplace=True)\n",
        "\n",
        "full_data.info()\n"
      ],
      "execution_count": 2,
      "outputs": [
        {
          "output_type": "stream",
          "text": [
            "<class 'pandas.core.frame.DataFrame'>\n",
            "RangeIndex: 400 entries, 0 to 399\n",
            "Data columns (total 23 columns):\n",
            "age               391 non-null float64\n",
            "bp                388 non-null float64\n",
            "sg                353 non-null float64\n",
            "al                354 non-null float64\n",
            "su                351 non-null float64\n",
            "pcc               400 non-null object\n",
            "ba                400 non-null object\n",
            "bgr               356 non-null float64\n",
            "bu                381 non-null float64\n",
            "sc                383 non-null float64\n",
            "sod               313 non-null float64\n",
            "pot               312 non-null float64\n",
            "hemo              348 non-null float64\n",
            "pcv               329 non-null float64\n",
            "wc                294 non-null float64\n",
            "rc                269 non-null float64\n",
            "htn               400 non-null object\n",
            "dm                400 non-null object\n",
            "cad               400 non-null object\n",
            "appet             400 non-null object\n",
            "pe                400 non-null object\n",
            "ane               400 non-null object\n",
            "classification    400 non-null object\n",
            "dtypes: float64(14), object(9)\n",
            "memory usage: 72.0+ KB\n"
          ],
          "name": "stdout"
        }
      ]
    },
    {
      "cell_type": "code",
      "metadata": {
        "id": "4Y7lwbEhlXpg",
        "colab_type": "code",
        "outputId": "5d154487-5e51-4415-c1d9-469d150ce242",
        "colab": {
          "base_uri": "https://localhost:8080/",
          "height": 50
        }
      },
      "source": [
        "print(\"Number of ckd patients in the dataset: \",(full_data['classification']=='ckd').astype(np.int64).values.sum())\n",
        "\n",
        "print(\"Number of people without ckd in the dataset: \",(full_data['classification']=='notckd').astype(np.int64).values.sum())"
      ],
      "execution_count": 3,
      "outputs": [
        {
          "output_type": "stream",
          "text": [
            "Number of ckd patients in the dataset:  250\n",
            "Number of people without ckd in the dataset:  150\n"
          ],
          "name": "stdout"
        }
      ]
    },
    {
      "cell_type": "code",
      "metadata": {
        "id": "dpyLKRDVnRsr",
        "colab_type": "code",
        "colab": {}
      },
      "source": [
        "\n",
        "\n",
        "full_data['classification']=(full_data['classification']=='ckd').astype(np.float64)\n",
        "\n",
        "full_data['pcc']=(full_data['pcc']=='present').astype(np.float64)\n",
        "\n",
        "full_data['ba']=(full_data['ba']=='present').astype(np.float64)\n",
        "full_data['htn']=(full_data['htn']=='yes').astype(np.float64)\n",
        "full_data['dm']=(full_data['dm']=='yes').astype(np.float64)\n",
        "full_data['cad']=(full_data['cad']=='yes').astype(np.float64)\n",
        "full_data['appet']=(full_data['appet']=='good').astype(np.float64)\n",
        "full_data['pe']=(full_data['pe']=='yes').astype(np.float64)\n",
        "full_data['ane']=(full_data['ane']=='yes').astype(np.float64)\n"
      ],
      "execution_count": 0,
      "outputs": []
    },
    {
      "cell_type": "code",
      "metadata": {
        "id": "g2GmChV4n8Vd",
        "colab_type": "code",
        "outputId": "13da153b-a230-46a9-f20f-9ac5d179d03b",
        "colab": {
          "base_uri": "https://localhost:8080/",
          "height": 490
        }
      },
      "source": [
        "corr_matrix=full_data.corr()['classification'].sort_values().to_frame()\n",
        "plt.figure(figsize=(8,8))\n",
        "plt.rcParams[\"axes.labelsize\"] = 15\n",
        "sns.set(font_scale=0.9)\n",
        "sns.heatmap(corr_matrix, annot = True ,linewidths=.1)\n",
        "plt.show()"
      ],
      "execution_count": 5,
      "outputs": [
        {
          "output_type": "display_data",
          "data": {
            "image/png": "[encoded data removed]",
            "text/plain": [
              "<Figure size 576x576 with 2 Axes>"
            ]
          },
          "metadata": {
            "tags": []
          }
        }
      ]
    },
    {
      "cell_type": "markdown",
      "metadata": {
        "id": "t6BvLNN6rEpv",
        "colab_type": "text"
      },
      "source": [
        "We have chosen **10 features** to use in our final model. Initially there were 24 features. We chose these features based on their **pearson's correlation coefficient** (highest positive and negative coefficients).\n",
        "\n",
        "\n",
        "The features we have chosen, along with their corellations are:\n",
        "\n",
        "> Albumin (al) :    **0.63**\n",
        "\n",
        "\n",
        "> Specific Gravity (sg) :    **-0.73**\n",
        "\n",
        "\n",
        "\n",
        "> Hemoglobin (hemo) : **-0.77**\n",
        "\n",
        "\n",
        "> Packed cell Volume (pcv) : **-0.74**\n",
        "\n",
        "\n",
        "> Red Blood Cell Count (rc) : **-0.7**\n",
        "\n",
        "\n",
        "> Hypertension (htn) : **0.59**\n",
        "\n",
        "\n",
        "> Diabetes Mellitus (dm) : **0.56**\n",
        "\n",
        "\n",
        "\n",
        "> Blood Glucose Random (bgr) : **0.42**\n",
        "\n",
        "\n",
        "> Blood Urea (bu) : **0.38**\n",
        "\n",
        "\n",
        "> Appetite (appet) : **-0.39**\n",
        "\n",
        "\n",
        "\n",
        "\n",
        "\n",
        "\n",
        "\n",
        "\n",
        "\n",
        "\n",
        "\n",
        "\n",
        "\n",
        "\n",
        "\n",
        "\n",
        "\n",
        "\n",
        "\n",
        "\n",
        "\n"
      ]
    },
    {
      "cell_type": "markdown",
      "metadata": {
        "id": "-w3KQHbfvJ3t",
        "colab_type": "text"
      },
      "source": [
        "The first 7 have been chosen as compulsory features to be entered, when we predict the result.\n",
        "As we are implementing the model on a web server, the user must enter the first seven features specified above.\n",
        "\n",
        "The last 3 features are optional features. If they are not entered, a reasonable value will be used based on the compulsory features.\n",
        "We will train 3 models with the optional features as targets, and the 7 compulsory features as input\n",
        "\n",
        "\n",
        "\n"
      ]
    },
    {
      "cell_type": "code",
      "metadata": {
        "id": "ZAPWa36rjZCQ",
        "colab_type": "code",
        "colab": {}
      },
      "source": [
        "#Removing id column and splitting fataset into features and target\n",
        "X = full_data.drop(['classification'],axis = 1,inplace=False)\n",
        "y = full_data[['classification']]\n",
        "\n",
        "#Splitting dataset into Train set and Test set\n",
        "X_train,X_test,y_train,y_test = train_test_split(X,y,test_size=0.3,random_state =3)\n",
        "\n",
        "#Categorical attributes\n",
        "cat_attr = []\n",
        "\n",
        "#Numerical attributes\n",
        "num_attr= []\n",
        "\n",
        "for column,dtype in zip(X_train.columns,X_train.dtypes.values):\n",
        "    if dtype == 'O':\n",
        "        cat_attr.append(column)\n",
        "    else:\n",
        "        num_attr.append(column)\n",
        "\n",
        "\n",
        "num_pipeline = Pipeline([('impute',SimpleImputer(strategy = 'median')),('normalize',StandardScaler())])\n",
        "\n",
        "transformer = ColumnTransformer([('num',num_pipeline,num_attr),('cat','passthrough',cat_attr)])\n",
        "\n",
        "#Prepared features\n",
        "X_prepared = transformer.fit_transform(X_train)\n",
        "\n",
        "\n"
      ],
      "execution_count": 0,
      "outputs": []
    },
    {
      "cell_type": "code",
      "metadata": {
        "id": "rUAaV3JJNKIm",
        "colab_type": "code",
        "colab": {
          "base_uri": "https://localhost:8080/",
          "height": 87
        },
        "outputId": "6b0b4c13-482f-482d-ad8c-2d43ded2fca2"
      },
      "source": [
        "svc = SVC(kernel='linear')\n",
        "svc.fit(X_prepared,y_train)\n",
        "y_pred_svc = svc.predict(transformer.transform(X_test))\n",
        "\n",
        "print(accuracy_score(y_test,y_pred_svc))"
      ],
      "execution_count": 7,
      "outputs": [
        {
          "output_type": "stream",
          "text": [
            "0.9666666666666667\n"
          ],
          "name": "stdout"
        },
        {
          "output_type": "stream",
          "text": [
            "/usr/local/lib/python3.6/dist-packages/sklearn/utils/validation.py:724: DataConversionWarning: A column-vector y was passed when a 1d array was expected. Please change the shape of y to (n_samples, ), for example using ravel().\n",
            "  y = column_or_1d(y, warn=True)\n"
          ],
          "name": "stderr"
        }
      ]
    },
    {
      "cell_type": "code",
      "metadata": {
        "id": "CuenhRh7Nbhj",
        "colab_type": "code",
        "colab": {
          "base_uri": "https://localhost:8080/",
          "height": 285
        },
        "outputId": "33b94d9e-ae2e-49af-cfc7-ba31b3443767"
      },
      "source": [
        "print(plt.plot(svc.coef_.ravel()))"
      ],
      "execution_count": 8,
      "outputs": [
        {
          "output_type": "stream",
          "text": [
            "[<matplotlib.lines.Line2D object at 0x7f553f9a2470>]\n"
          ],
          "name": "stdout"
        },
        {
          "output_type": "display_data",
          "data": {
            "image/png": "[encoded data removed]",
            "text/plain": [
              "<Figure size 432x288 with 1 Axes>"
            ]
          },
          "metadata": {
            "tags": []
          }
        }
      ]
    },
    {
      "cell_type": "code",
      "metadata": {
        "id": "P6amlwpGjZGH",
        "colab_type": "code",
        "colab": {
          "base_uri": "https://localhost:8080/",
          "height": 87
        },
        "outputId": "a258bc67-c344-4e46-b668-e57acd2e0112"
      },
      "source": [
        "sgd = SGDClassifier()\n",
        "sgd.fit(X_prepared,y_train)\n",
        "y_pred_sgd = sgd.predict(transformer.transform(X_test))\n",
        "\n",
        "print(accuracy_score(y_test,y_pred_sgd))"
      ],
      "execution_count": 9,
      "outputs": [
        {
          "output_type": "stream",
          "text": [
            "0.975\n"
          ],
          "name": "stdout"
        },
        {
          "output_type": "stream",
          "text": [
            "/usr/local/lib/python3.6/dist-packages/sklearn/utils/validation.py:724: DataConversionWarning: A column-vector y was passed when a 1d array was expected. Please change the shape of y to (n_samples, ), for example using ravel().\n",
            "  y = column_or_1d(y, warn=True)\n"
          ],
          "name": "stderr"
        }
      ]
    },
    {
      "cell_type": "code",
      "metadata": {
        "id": "Nt7-TY-ojZBe",
        "colab_type": "code",
        "colab": {
          "base_uri": "https://localhost:8080/",
          "height": 285
        },
        "outputId": "fdb30e97-0b84-4497-8a7a-1f4c78a556ad"
      },
      "source": [
        "plt.plot(sgd.coef_.ravel())"
      ],
      "execution_count": 10,
      "outputs": [
        {
          "output_type": "execute_result",
          "data": {
            "text/plain": [
              "[<matplotlib.lines.Line2D at 0x7f553f981be0>]"
            ]
          },
          "metadata": {
            "tags": []
          },
          "execution_count": 10
        },
        {
          "output_type": "display_data",
          "data": {
            "image/png": "[encoded data removed]",
            "text/plain": [
              "<Figure size 432x288 with 1 Axes>"
            ]
          },
          "metadata": {
            "tags": []
          }
        }
      ]
    },
    {
      "cell_type": "code",
      "metadata": {
        "id": "MRNG0xgePm9o",
        "colab_type": "code",
        "colab": {
          "base_uri": "https://localhost:8080/",
          "height": 53
        },
        "outputId": "ed83c5c0-d073-4cd5-a871-818f73a0a9aa"
      },
      "source": [
        "def takeSecond(elem):\n",
        "    return elem[1]\n",
        "\n",
        "print(sorted(list(zip(X.columns,svc.coef_.ravel())),key = takeSecond))"
      ],
      "execution_count": 11,
      "outputs": [
        {
          "output_type": "stream",
          "text": [
            "[('sg', -1.1257475886294772), ('pcv', -0.9177597820435132), ('appet', -0.7607237161328927), ('hemo', -0.6152133248288372), ('rc', -0.2488636604373014), ('pot', -0.19493976345360237), ('sod', -0.06283069418991809), ('ba', -5.551115123125783e-17), ('pcc', -2.7755575615628914e-17), ('ane', -6.938893903907228e-18), ('cad', 0.0), ('age', 0.0124446821784375), ('wc', 0.11852096987074523), ('bu', 0.1391319684746033), ('dm', 0.25488968013062424), ('bp', 0.29089357270679994), ('sc', 0.3237933052399764), ('su', 0.4070226458205725), ('bgr', 0.44589072490206705), ('al', 0.5101828457422665), ('pe', 0.6501384900900898), ('htn', 0.6899347567458085)]\n"
          ],
          "name": "stdout"
        }
      ]
    },
    {
      "cell_type": "code",
      "metadata": {
        "id": "mPmTtEVaPnEn",
        "colab_type": "code",
        "colab": {
          "base_uri": "https://localhost:8080/",
          "height": 53
        },
        "outputId": "9c070edd-5ef0-47ea-a5c1-2b7ec7a3baf7"
      },
      "source": [
        "print(sorted(list(zip(X.columns,sgd.coef_.ravel())),key = takeSecond))"
      ],
      "execution_count": 12,
      "outputs": [
        {
          "output_type": "stream",
          "text": [
            "[('sg', -19.857664872557958), ('appet', -12.321266522068557), ('pcv', -12.091872214527616), ('hemo', -9.667619395263841), ('sod', -9.103989438139052), ('rc', -7.178782860337523), ('ba', -4.056529850220652), ('pot', -0.19589683572528216), ('wc', 0.6617775051749886), ('bp', 1.353273055652494), ('pcc', 2.8071303243741363), ('age', 3.1454760901377266), ('bu', 3.2536262169970764), ('cad', 4.0571456388933385), ('ane', 9.014040445696748), ('su', 12.561640274382809), ('sc', 13.04321159997479), ('pe', 13.273312988646415), ('bgr', 13.834547402742091), ('htn', 16.780853008174024), ('dm', 18.32330231749986), ('al', 19.816953268500573)]\n"
          ],
          "name": "stdout"
        }
      ]
    },
    {
      "cell_type": "markdown",
      "metadata": {
        "id": "_CCjOVkMCtZR",
        "colab_type": "text"
      },
      "source": [
        "Considering the coefficients assigned to each of the attributes by the linear models: the linear kernel SVC and the SGDClassifier, the highest coefficients in the above linear models have been given to : sg, hemo, pcv, al, htn, dm, appet, along with bgr, bu and rc.\n",
        "Thus this is congruent to the results obtained using the correlation matrix."
      ]
    },
    {
      "cell_type": "code",
      "metadata": {
        "id": "8Jb43ovgSJEg",
        "colab_type": "code",
        "colab": {}
      },
      "source": [
        "X = X[['sg', 'hemo', 'pcv', 'al','rc','bgr','bu', 'htn', 'dm', 'appet']]\n",
        "\n",
        "num_attr_new = ['sg','hemo','pcv','al','rc','bgr','bu']\n",
        "cat_attr_new = ['htn','dm','appet']\n",
        "\n",
        "#Splitting dataset into Train set and Test set\n",
        "X_train,X_test,y_train,y_test = train_test_split(X,y,test_size=0.2,random_state = random.randint(1,1000))\n",
        "\n",
        "num_pipeline = Pipeline([('impute',SimpleImputer(strategy = 'median')),('normalize',StandardScaler())])\n",
        "\n",
        "transformer = ColumnTransformer([('num',num_pipeline,num_attr_new),('cat','passthrough',cat_attr_new)])\n",
        "\n",
        "#Prepared features\n",
        "X_prepared = transformer.fit_transform(X_train)"
      ],
      "execution_count": 0,
      "outputs": []
    },
    {
      "cell_type": "code",
      "metadata": {
        "id": "VsIKN8FySJI2",
        "colab_type": "code",
        "colab": {
          "base_uri": "https://localhost:8080/",
          "height": 137
        },
        "outputId": "9ab2af93-f90b-4707-9669-0c92e529658e"
      },
      "source": [
        "svc_cv = SVC(kernel='linear')\n",
        "\n",
        "scores = cross_val_score(svc_cv, X_prepared, y_train,scoring='accuracy',cv=3)"
      ],
      "execution_count": 14,
      "outputs": [
        {
          "output_type": "stream",
          "text": [
            "/usr/local/lib/python3.6/dist-packages/sklearn/utils/validation.py:724: DataConversionWarning: A column-vector y was passed when a 1d array was expected. Please change the shape of y to (n_samples, ), for example using ravel().\n",
            "  y = column_or_1d(y, warn=True)\n",
            "/usr/local/lib/python3.6/dist-packages/sklearn/utils/validation.py:724: DataConversionWarning: A column-vector y was passed when a 1d array was expected. Please change the shape of y to (n_samples, ), for example using ravel().\n",
            "  y = column_or_1d(y, warn=True)\n",
            "/usr/local/lib/python3.6/dist-packages/sklearn/utils/validation.py:724: DataConversionWarning: A column-vector y was passed when a 1d array was expected. Please change the shape of y to (n_samples, ), for example using ravel().\n",
            "  y = column_or_1d(y, warn=True)\n"
          ],
          "name": "stderr"
        }
      ]
    },
    {
      "cell_type": "code",
      "metadata": {
        "id": "bznYOgaESJH_",
        "colab_type": "code",
        "colab": {
          "base_uri": "https://localhost:8080/",
          "height": 33
        },
        "outputId": "17669060-7a43-420e-ed6c-036e9bb7b468"
      },
      "source": [
        "print(scores)"
      ],
      "execution_count": 15,
      "outputs": [
        {
          "output_type": "stream",
          "text": [
            "[0.98130841 0.99065421 0.99056604]\n"
          ],
          "name": "stdout"
        }
      ]
    },
    {
      "cell_type": "code",
      "metadata": {
        "id": "9KBkVK0TSJDx",
        "colab_type": "code",
        "colab": {
          "base_uri": "https://localhost:8080/",
          "height": 87
        },
        "outputId": "648e5d30-dbb8-4f27-f712-7574ac8026f6"
      },
      "source": [
        "svc_final = SVC(kernel='linear')\n",
        "svc_final.fit(X_prepared,y_train)\n",
        "y_pred = svc_final.predict(transformer.transform(X_test))\n",
        "\n",
        "print(accuracy_score(y_test,y_pred))"
      ],
      "execution_count": 16,
      "outputs": [
        {
          "output_type": "stream",
          "text": [
            "0.9875\n"
          ],
          "name": "stdout"
        },
        {
          "output_type": "stream",
          "text": [
            "/usr/local/lib/python3.6/dist-packages/sklearn/utils/validation.py:724: DataConversionWarning: A column-vector y was passed when a 1d array was expected. Please change the shape of y to (n_samples, ), for example using ravel().\n",
            "  y = column_or_1d(y, warn=True)\n"
          ],
          "name": "stderr"
        }
      ]
    }
  ]
}