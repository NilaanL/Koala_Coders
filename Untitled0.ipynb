{
  "nbformat": 4,
  "nbformat_minor": 0,
  "metadata": {
    "colab": {
      "name": "Untitled0.ipynb",
      "provenance": [],
      "collapsed_sections": [],
      "include_colab_link": true
    },
    "kernelspec": {
      "name": "python3",
      "display_name": "Python 3"
    }
  },
  "cells": [
    {
      "cell_type": "markdown",
      "metadata": {
        "id": "view-in-github",
        "colab_type": "text"
      },
      "source": [
        "<a href=\"https://colab.research.google.com/github/NilaanL/Koala_Coders/blob/master/Untitled0.ipynb\" target=\"_parent\"><img src=\"https://colab.research.google.com/assets/colab-badge.svg\" alt=\"Open In Colab\"/></a>"
      ]
    },
    {
      "cell_type": "code",
      "metadata": {
        "id": "9sizLi4lWkXk",
        "colab_type": "code",
        "outputId": "11407eb6-06e9-4472-9810-c7e255a913da",
        "colab": {
          "base_uri": "https://localhost:8080/",
          "height": 204
        }
      },
      "source": [
        "!pip install kaggle"
      ],
      "execution_count": 5,
      "outputs": [
        {
          "output_type": "stream",
          "text": [
            "Requirement already satisfied: kaggle in /usr/local/lib/python3.6/dist-packages (1.5.6)\n",
            "Requirement already satisfied: requests in /usr/local/lib/python3.6/dist-packages (from kaggle) (2.21.0)\n",
            "Requirement already satisfied: certifi in /usr/local/lib/python3.6/dist-packages (from kaggle) (2019.9.11)\n",
            "Requirement already satisfied: urllib3<1.25,>=1.21.1 in /usr/local/lib/python3.6/dist-packages (from kaggle) (1.24.3)\n",
            "Requirement already satisfied: python-slugify in /usr/local/lib/python3.6/dist-packages (from kaggle) (4.0.0)\n",
            "Requirement already satisfied: tqdm in /usr/local/lib/python3.6/dist-packages (from kaggle) (4.28.1)\n",
            "Requirement already satisfied: six>=1.10 in /usr/local/lib/python3.6/dist-packages (from kaggle) (1.12.0)\n",
            "Requirement already satisfied: python-dateutil in /usr/local/lib/python3.6/dist-packages (from kaggle) (2.6.1)\n",
            "Requirement already satisfied: idna<2.9,>=2.5 in /usr/local/lib/python3.6/dist-packages (from requests->kaggle) (2.8)\n",
            "Requirement already satisfied: chardet<3.1.0,>=3.0.2 in /usr/local/lib/python3.6/dist-packages (from requests->kaggle) (3.0.4)\n",
            "Requirement already satisfied: text-unidecode>=1.3 in /usr/local/lib/python3.6/dist-packages (from python-slugify->kaggle) (1.3)\n"
          ],
          "name": "stdout"
        }
      ]
    },
    {
      "cell_type": "code",
      "metadata": {
        "id": "NvU4Te-tOJ6p",
        "colab_type": "code",
        "colab": {}
      },
      "source": [
        "\n",
        "# To support both python 2 and python 3\n",
        "from __future__ import division, print_function, unicode_literals\n",
        "\n",
        "# Common imports\n",
        "import numpy as np\n",
        "import os\n",
        "\n",
        "# to make this notebook's output stable across runs\n",
        "np.random.seed(42)\n",
        "\n",
        "# To plot pretty figures\n",
        "%matplotlib inline\n",
        "import matplotlib as mpl\n",
        "import matplotlib.pyplot as plt\n",
        "mpl.rc('axes', labelsize=14)\n",
        "mpl.rc('xtick', labelsize=12)\n",
        "mpl.rc('ytick', labelsize=12)\n",
        "\n",
        "# Where to save the figures\n",
        "PROJECT_ROOT_DIR = \".\"\n",
        "CHAPTER_ID = \"svm\"\n",
        "\n",
        "def save_fig(fig_id, tight_layout=True):\n",
        "    path = os.path.join(PROJECT_ROOT_DIR, \"images\", CHAPTER_ID, fig_id + \".png\")\n",
        "    print(\"Saving figure\", fig_id)\n",
        "    if tight_layout:\n",
        "        plt.tight_layout()\n",
        "    plt.savefig(path, format='png', dpi=300)"
      ],
      "execution_count": 0,
      "outputs": []
    },
    {
      "cell_type": "code",
      "metadata": {
        "id": "i1xpI5BLXO9q",
        "colab_type": "code",
        "outputId": "57c7284d-3b53-4eaf-c405-7cb8ada41fe6",
        "colab": {
          "resources": {
            "http://localhost:8080/nbextensions/google.colab/files.js": {
              "data": "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",
              "ok": true,
              "headers": [
                [
                  "content-type",
                  "application/javascript"
                ]
              ],
              "status": 200,
              "status_text": ""
            }
          },
          "base_uri": "https://localhost:8080/",
          "height": 111
        }
      },
      "source": [
        "from google.colab import files\n",
        "files.upload()"
      ],
      "execution_count": 9,
      "outputs": [
        {
          "output_type": "display_data",
          "data": {
            "text/html": [
              "\n",
              "     <input type=\"file\" id=\"files-b7b65eb5-90ba-4140-a5db-d5667e184114\" name=\"files[]\" multiple disabled />\n",
              "     <output id=\"result-b7b65eb5-90ba-4140-a5db-d5667e184114\">\n",
              "      Upload widget is only available when the cell has been executed in the\n",
              "      current browser session. Please rerun this cell to enable.\n",
              "      </output>\n",
              "      <script src=\"/nbextensions/google.colab/files.js\"></script> "
            ],
            "text/plain": [
              "<IPython.core.display.HTML object>"
            ]
          },
          "metadata": {
            "tags": []
          }
        },
        {
          "output_type": "stream",
          "text": [
            "Saving dementia_data.csv to dementia_data.csv\n"
          ],
          "name": "stdout"
        },
        {
          "output_type": "execute_result",
          "data": {
            "text/plain": [
              "{'dementia_data.csv': b'Label,delta_p,theta_p,alpha_p,beta_p,alpha1_p,alpha2_p,alpha3_p,beta1_p,beta2_p\\r\\n2,58.36159626,3.344626853,3.595763244,0.045872881,2.990873005,3.043200899,2.502555446,0.319379339,0.61218649\\r\\n2,18.20651831,1.554185993,3.525184556,0.100213084,1.740261199,2.661986733,4.025382315,0.699622013,0.940954192\\r\\n0,2.451198006,0.487259442,2.158115342,0.024671147,1.13872416,1.581009198,1.63313032,0.302160916,0.779094064\\r\\n2,25.95903211,1.169146912,2.535858567,0.014481111,1.746608538,1.982935035,2.377537865,0.330775646,0.507793924\\r\\n0,13.51095273,1.081376491,4.078926148,0.062589413,2.449646554,3.15868397,3.920196274,0.990358978,2.118437784\\r\\n2,35.54228873,2.545772526,2.52196612,0.085913637,2.076084775,2.179585041,2.156882064,0.696676317,1.327686928\\r\\n2,36.02944131,2.482202451,2.357311272,0.055862236,1.777284066,1.512833175,2.668985697,0.450662653,0.831785792\\r\\n2,19.96632457,1.002732377,4.085864775,0.119917696,1.365372214,2.704508722,4.298708577,0.989889233,1.079537718\\r\\n0,5.501685602,0.77758614,5.843632271,0.128079294,2.020978254,4.087075599,6.392438669,1.06265759,1.169526002\\r\\n0,10.47957676,0.617267151,2.510214154,0.074308178,1.192076602,1.805643471,3.077663555,0.866069181,1.457984147\\r\\n0,3.731291653,1.312254186,3.485010455,0.050597237,2.485582429,2.566752742,3.537719691,0.515537413,1.001104585\\r\\n2,34.62754729,2.896380849,7.09357043,0.092408496,4.683236572,5.594759307,7.451549188,0.877920891,0.739779205\\r\\n2,30.65267544,1.779148988,2.717140415,0.062608865,1.57155765,1.782350381,3.040530507,0.466220905,0.620953267\\r\\n2,29.92086019,1.611340379,3.335022013,0.065463754,1.502255162,2.605755108,3.418932119,0.539590525,1.013798952\\r\\n0,6.727868284,1.812893932,3.827296313,0.0316452,3.296994031,2.968409902,3.078474736,0.386932072,0.981110151\\r\\n0,3.578931109,0.52018015,3.275414827,0.087309862,0.86438448,2.256901855,3.449953578,0.752013018,1.578234181\\r\\n0,16.8151683,1.039759934,1.584766145,0.053397773,1.001534848,1.256821632,1.662564949,0.526162507,0.741635367\\r\\n0,15.82597999,1.398203471,4.979648605,0.070503018,2.723761889,3.813375707,4.973644993,0.700195412,1.579279915\\r\\n2,30.88802907,1.667600578,3.383463319,0.066166094,1.54244345,2.646072525,3.470895303,0.544233088,1.014845713\\r\\n2,19.75244826,1.436953951,3.327760635,0.054169467,1.587764058,2.57010964,3.174256657,0.596857689,0.78563614\\r\\n0,6.086703623,2.069967695,8.60831014,0.089086159,4.45904247,6.863400438,8.243976502,1.224908001,1.206141301\\r\\n2,37.23351276,2.018910258,1.945787019,0.050336803,1.43921643,1.45978237,1.418557822,0.38497345,0.735330924\\r\\n0,9.550456908,0.908489043,1.846132837,0.074122971,0.903152542,1.184685929,2.344816093,0.545189126,0.819892727\\r\\n0,11.22762331,0.361057254,2.315154635,0.035027217,0.924240628,1.699144119,2.101943942,0.377896138,0.845198438\\r\\n0,16.16177788,0.528207429,2.311501462,0.063457141,1.290346034,1.73379007,2.13743678,0.442800711,0.746605301\\r\\n0,5.88962805,0.63395536,3.646918691,0.065457765,1.810767093,2.82844767,3.691547231,1.001425352,2.070615818\\r\\n0,6.76678945,1.803210888,3.838439309,0.052425836,2.481753765,3.075441259,3.333102858,0.621437596,1.061145388\\r\\n2,35.52885684,2.4523441,2.344926927,0.053808047,1.796711723,1.478504453,2.542818061,0.42590209,0.842604639\\r\\n0,11.62719425,1.233450627,5.680978584,0.119124274,2.119586271,4.191571345,5.632118678,1.024188724,1.101344723\\r\\n0,4.239891603,1.50137855,6.439606795,0.101757641,2.835012159,4.661425592,6.495127935,0.913014246,1.027896604\\r\\n1,24.8953634,0.911560105,5.261418627,0.158558741,2.36768454,4.148494387,6.249262905,1.216430623,1.582558899\\r\\n0,7.775579008,1.34176409,4.110886257,0.056473669,2.739893246,3.020668862,4.373205901,0.579814325,0.816171318\\r\\n0,16.85019189,1.49278818,4.546522126,0.083115937,2.4939653,3.391412315,4.913042711,0.676334439,0.625069814\\r\\n2,34.59508849,1.878730457,3.289477199,0.075325492,1.713034577,2.2111587,3.816153389,0.57186002,0.695590425\\r\\n0,12.89832279,1.623600542,5.12276305,0.097300484,2.477539619,4.013741862,5.991646649,0.803040126,1.00539659\\r\\n0,4.64779753,1.432417942,3.398974443,0.038578,2.734877933,2.595387562,2.697909962,0.413356435,0.992809591\\r\\n0,15.33558809,1.771387056,3.745431306,0.101106488,2.616236039,2.605682658,3.169015935,0.824418269,1.605391466\\r\\n0,14.50977436,1.05797999,1.815426753,0.045558429,1.167728157,1.463325627,1.839414634,0.473930947,0.723907859\\r\\n0,5.753183859,1.154380838,2.869972111,0.048731468,1.588116784,2.046632543,1.95606711,0.475555371,1.41722689\\r\\n0,13.7703809,1.669118677,5.148315404,0.097096429,2.513272645,4.048785915,6.016004,0.804309019,1.004069366\\r\\n0,8.853786101,1.261347356,3.240304877,0.047492555,1.649015878,2.656986516,3.331461934,0.551522712,0.735442623\\r\\n0,2.166317509,1.318704694,5.997386255,0.066037997,2.710133598,4.714686019,5.267316085,0.879828138,1.48587057\\r\\n2,31.87950529,2.141841881,3.79310839,0.052163575,2.043940392,2.809765207,2.639318799,0.617984436,0.715986701\\r\\n2,20.65987672,1.618740947,1.917683928,0.061786779,1.229681397,1.436398517,2.275427725,0.472112861,0.83566456\\r\\n0,4.261745088,0.389194588,2.699333095,0.030916031,1.121809984,1.972737882,2.213449097,0.395840085,0.875841977\\r\\n0,14.24107151,1.236299611,3.426313968,0.059880497,2.402525671,2.607290434,3.66884314,0.530440118,0.948660105\\r\\n0,15.34247129,1.603586419,2.586502456,0.084465962,1.192151229,2.023756623,3.048757702,1.058694594,2.238920114\\r\\n0,5.763018334,2.179002015,5.851523676,0.053483419,3.048261241,4.647886196,4.943944347,0.7490259,0.882613103\\r\\n2,28.81814862,1.835691945,2.186971532,0.0504918,1.451529866,1.378474409,2.545449037,0.408025508,0.809573249\\r\\n0,6.775171106,0.724030756,6.090425279,0.113661684,1.997597278,4.417964281,5.858123391,1.098650372,1.159423792\\r\\n0,16.42012824,1.068694485,6.333314905,0.099759361,2.386338837,4.734355775,6.039978515,0.960786546,0.944804318\\r\\n0,17.01174423,1.264021102,5.931371524,0.127669304,3.176368521,4.651822731,6.93465712,1.16993199,1.714513457\\r\\n0,5.865367314,0.738398719,3.719305272,0.069168851,1.968967035,2.756550332,4.244658568,0.570381733,0.701579253\\r\\n2,25.76527028,1.821634332,4.416824611,0.069371018,2.736470579,3.423213493,4.715211088,0.627267142,0.57529141\\r\\n2,33.92340741,1.633341633,3.356139645,0.093382413,1.503778643,2.227447198,3.98364286,0.600073773,0.75134049\\r\\n0,13.48817536,1.862216004,6.619391465,0.081247932,3.877992274,5.127990677,7.054778414,0.872725088,0.902974627\\r\\n0,5.333629318,1.545437262,4.354468146,0.0400247,2.998218174,3.301229108,3.127861413,0.508380731,1.034930862\\r\\n0,8.974559682,1.499192244,3.371402683,0.048938127,2.483914233,2.524970951,2.283341815,0.585380196,1.306829248\\r\\n0,13.61167814,0.579394622,2.050298037,0.044412969,0.737086852,1.497246891,2.088187836,0.356696186,0.606256926\\r\\n0,3.706207913,0.813216783,1.52672555,0.035633455,1.263385062,1.080496437,1.530600636,0.339879688,1.171613573\\r\\n0,14.43963279,1.90780715,6.67479427,0.081148003,3.929930939,5.179839145,7.090070694,0.875531328,0.902622187\\r\\n0,15.72419346,1.542529727,3.820271322,0.035939883,1.910838569,2.972417821,3.216058414,0.547304015,0.668899337\\r\\n1,20.80667404,1.628549993,2.041120298,0.047814651,1.600456998,1.800711778,2.237729776,0.617198312,1.883532396\\r\\n2,35.01281711,2.030975781,3.565667549,0.085642551,2.01687338,2.366131604,3.03518728,0.777340032,0.923778618\\r\\n0,9.450645694,1.145779221,1.490133413,0.053333267,1.417794783,0.979367179,1.742483791,0.42344419,0.941516174\\r\\n0,3.137055974,0.403380083,2.533973882,0.024500897,1.039436927,1.824988432,1.954371219,0.386468812,0.972074246\\r\\n0,8.062753421,0.781824976,3.120721949,0.088149268,1.695288462,2.313224048,3.545520477,0.649989955,1.05632871\\r\\n2,27.24744925,2.602416663,3.410136556,0.08780061,2.529061165,2.729372045,1.937193725,0.975864029,2.538130361\\r\\n0,5.732806236,2.166849906,6.545878109,0.068389572,3.112776525,5.146530657,5.662965023,0.85601818,1.037240688\\r\\n2,27.42871845,1.486022143,2.247392908,0.054651855,1.213773044,1.450451426,2.733277638,0.437977694,0.757040924\\r\\n0,15.1896662,1.204753226,4.036520222,0.109438216,1.518975304,2.740693358,4.640295034,0.999165067,1.178081629\\r\\n2,31.69267244,1.883694511,5.613764314,0.103917695,2.245953359,4.332428079,5.700950408,0.942342945,0.958834144\\r\\n0,5.509763926,1.829609415,6.454339248,0.112279265,3.909241538,4.967048202,7.037284072,1.125810729,1.759189766\\r\\n0,10.40217786,0.532151078,3.04934311,0.080286953,1.37359124,2.314553868,3.437957203,0.532907589,0.834954161\\r\\n0,15.46390446,1.030916334,3.206404006,0.059244273,1.761518748,2.474889896,3.538478141,0.535932936,0.527011664\\r\\n2,32.30607857,1.684915941,3.138102942,0.096800568,1.400344814,2.021686169,3.527673908,0.586270021,0.797095319\\r\\n2,30.51078601,2.904286899,7.708584915,0.089726265,5.242843598,6.210765725,7.863536954,0.950061706,1.086146257\\r\\n0,4.943623333,1.47546512,4.460955479,0.039042449,2.909833823,3.401581092,3.142416455,0.544271949,1.116711458\\r\\n1,21.44221083,1.933881413,4.110196391,0.115961979,2.64493403,3.17365815,3.199528815,0.882680381,1.394872445\\r\\n0,16.02951221,0.656320595,2.769064648,0.055457198,0.944104072,2.032901958,2.765737312,0.400716854,0.667679242\\r\\n0,15.93686439,1.522856279,2.598189732,0.100832684,1.428170673,1.918051042,3.033030384,0.670402121,1.613675127\\r\\n2,31.47795489,2.952835192,7.77230253,0.090076167,5.297747468,6.267781512,7.915813471,0.953375442,1.085793816\\r\\n1,26.28007076,1.865356813,3.615216552,0.061402051,2.415069699,2.771376953,2.536107821,0.657699845,0.774825873\\r\\n2,29.94713546,2.76397915,4.676686442,0.05175917,2.750299331,3.669769311,3.225001444,0.638798116,2.153341108\\r\\n1,27.78455997,1.377550522,5.540599165,0.127274156,2.166761787,3.776702357,6.125968823,0.981212476,1.009769966\\r\\n0,5.504170785,1.767656675,3.190641989,0.060627712,2.151139285,2.739919124,2.921601622,0.455507818,1.094697616\\r\\n0,7.646131839,0.304036566,2.562090444,0.03127347,0.939805959,1.918436336,2.147076204,0.41109956,1.128951696\\r\\n0,13.14620936,0.782068833,3.518214556,0.080220518,2.029070324,2.728750263,3.730022476,0.563006235,0.802264567\\r\\n1,25.04597176,2.309823028,3.499074772,0.065588946,2.08297183,2.638163274,2.23890387,0.766927599,2.31088705\\r\\n0,9.619377926,1.398142036,4.420597636,0.058284891,1.756136134,3.26570564,3.652635069,0.601611195,0.863399761\\r\\n1,26.47652695,1.282531284,2.266769267,0.057473069,0.98933855,1.607931303,2.731615684,0.459826196,0.715394609\\r\\n0,4.106026946,0.858623595,5.254188149,0.108443567,1.886823404,3.771091507,5.475822465,1.020379181,1.191363071\\r\\n0,16.23616186,1.965909026,7.362330667,0.0938907,3.76664842,5.651858072,7.31433277,1.029914216,0.967525309\\r\\n0,13.64262749,1.542951249,6.746416258,0.131233482,3.752465327,5.269479577,7.365330994,1.155654466,1.577205462\\r\\n0,13.41880343,0.692269712,3.922636672,0.103510258,1.762236303,3.00412416,4.48832607,0.667225919,0.892741376\\r\\n0,3.237691203,0.673543736,2.311931204,0.059354066,1.006416272,1.693746357,2.779878453,0.494082831,0.583495843\\r\\n2,33.04064178,1.768926406,3.295781772,0.106833596,1.353538548,2.143793812,3.593249103,0.65602572,0.778364419\\r\\n2,28.00484043,2.53050247,6.649554632,0.048105596,4.550687151,5.255672445,6.647505943,0.771388856,0.944066094\\r\\n0,2.688593692,0.926535151,3.900989302,0.044361524,2.118317168,2.871203686,2.949690856,0.539822901,1.23851007\\r\\n0,17.35168028,1.117359104,3.8881966,0.133976569,1.140957631,2.405539379,4.909797859,0.991956011,1.426627607\\r\\n1,21.07984088,1.239918573,2.758465162,0.040285845,1.428334443,2.190338272,3.022539481,0.399321047,0.656321033\\r\\n0,14.65215161,1.258034657,3.072780345,0.117207286,1.456139647,2.106469253,3.940176342,0.787976094,1.655137887\\r\\n2,28.97200931,2.579050764,6.713272247,0.048212635,4.605591021,5.312688232,6.699782459,0.776042648,0.944136096\\r\\n0,10.49056128,0.798340978,3.21717284,0.076940666,1.08381766,2.289734385,3.243907434,0.696033541,0.742278285\\r\\n2,31.68650487,2.832210187,4.999262501,0.032688303,2.866097132,3.851966662,3.410598609,0.497056076,1.555742215\\r\\n2,35.60880546,2.095292146,6.392481969,0.134435072,2.838980416,4.433877112,7.178844073,1.093806106,1.175004321\\r\\n0,15.95357058,2.36552221,4.163861728,0.050032053,2.489691553,3.513744078,3.237012238,0.444399433,1.02956276\\r\\n0,2.256623212,0.513349226,2.986078476,0.042151227,1.183305727,2.225252693,2.477270728,0.429695263,1.244537458\\r\\n0,16.34168321,0.686840155,2.145010911,0.069611082,1.016845959,1.470381306,1.773141811,0.48206453,1.420000128\\r\\n2,27.48372605,2.207216791,6.026090691,0.128470286,3.047267247,4.649358532,7.022587154,1.266071743,2.363659176\\r\\n1,19.52997316,1.490692056,3.526947852,0.066426452,1.297082959,2.390746192,3.181432096,0.5780258,0.911384747\\r\\n2,23.62110225,1.209768487,2.271421803,0.057717421,0.911051264,1.671196658,2.774887939,0.452615307,0.621739812\\r\\n0,9.115359444,1.267061268,6.440773002,0.102582603,2.285888362,4.732889225,6.349684531,1.10180914,1.193580501\\r\\n0,7.350306644,2.10848205,8.35262106,0.09575802,3.674946433,6.387405117,8.136055486,1.133119932,0.996119511\\r\\n0,6.392773319,1.161718717,4.563191874,0.114660119,2.356822301,3.515710461,4.486264026,0.954777878,2.025162161\\r\\n0,15.61079885,1.011213602,4.515645693,0.102158376,2.165310163,3.778403967,5.052958104,0.696688313,1.126618458\\r\\n0,14.73702411,1.642088705,3.430939102,0.050122562,1.950562704,2.801928177,3.186121202,0.431458818,0.449593896\\r\\n2,31.39980989,1.993052484,2.903589249,0.103327323,1.656245805,1.865178927,2.606064293,0.651896837,0.721171935\\r\\n2,31.02190597,2.308796769,4.512808529,0.031527881,3.615340074,3.621859151,4.108122239,0.497890836,1.544952443\\r\\n0,1.400167609,0.741457065,3.950135843,0.048815014,1.854798644,2.967407371,3.164137811,0.561699884,1.380256265\\r\\n'}"
            ]
          },
          "metadata": {
            "tags": []
          },
          "execution_count": 9
        }
      ]
    },
    {
      "cell_type": "code",
      "metadata": {
        "id": "pk5zgajUaD4F",
        "colab_type": "code",
        "outputId": "838ce779-c74a-4e50-83af-ce655dc486a4",
        "colab": {
          "base_uri": "https://localhost:8080/",
          "height": 204
        }
      },
      "source": [
        "import pandas as pd\n",
        "\n",
        "ckd = pd.read_csv('dementia_data.csv')\n",
        "ckd.head()"
      ],
      "execution_count": 11,
      "outputs": [
        {
          "output_type": "execute_result",
          "data": {
            "text/html": [
              "<div>\n",
              "<style scoped>\n",
              "    .dataframe tbody tr th:only-of-type {\n",
              "        vertical-align: middle;\n",
              "    }\n",
              "\n",
              "    .dataframe tbody tr th {\n",
              "        vertical-align: top;\n",
              "    }\n",
              "\n",
              "    .dataframe thead th {\n",
              "        text-align: right;\n",
              "    }\n",
              "</style>\n",
              "<table border=\"1\" class=\"dataframe\">\n",
              "  <thead>\n",
              "    <tr style=\"text-align: right;\">\n",
              "      <th></th>\n",
              "      <th>Label</th>\n",
              "      <th>delta_p</th>\n",
              "      <th>theta_p</th>\n",
              "      <th>alpha_p</th>\n",
              "      <th>beta_p</th>\n",
              "      <th>alpha1_p</th>\n",
              "      <th>alpha2_p</th>\n",
              "      <th>alpha3_p</th>\n",
              "      <th>beta1_p</th>\n",
              "      <th>beta2_p</th>\n",
              "    </tr>\n",
              "  </thead>\n",
              "  <tbody>\n",
              "    <tr>\n",
              "      <th>0</th>\n",
              "      <td>2</td>\n",
              "      <td>58.361596</td>\n",
              "      <td>3.344627</td>\n",
              "      <td>3.595763</td>\n",
              "      <td>0.045873</td>\n",
              "      <td>2.990873</td>\n",
              "      <td>3.043201</td>\n",
              "      <td>2.502555</td>\n",
              "      <td>0.319379</td>\n",
              "      <td>0.612186</td>\n",
              "    </tr>\n",
              "    <tr>\n",
              "      <th>1</th>\n",
              "      <td>2</td>\n",
              "      <td>18.206518</td>\n",
              "      <td>1.554186</td>\n",
              "      <td>3.525185</td>\n",
              "      <td>0.100213</td>\n",
              "      <td>1.740261</td>\n",
              "      <td>2.661987</td>\n",
              "      <td>4.025382</td>\n",
              "      <td>0.699622</td>\n",
              "      <td>0.940954</td>\n",
              "    </tr>\n",
              "    <tr>\n",
              "      <th>2</th>\n",
              "      <td>0</td>\n",
              "      <td>2.451198</td>\n",
              "      <td>0.487259</td>\n",
              "      <td>2.158115</td>\n",
              "      <td>0.024671</td>\n",
              "      <td>1.138724</td>\n",
              "      <td>1.581009</td>\n",
              "      <td>1.633130</td>\n",
              "      <td>0.302161</td>\n",
              "      <td>0.779094</td>\n",
              "    </tr>\n",
              "    <tr>\n",
              "      <th>3</th>\n",
              "      <td>2</td>\n",
              "      <td>25.959032</td>\n",
              "      <td>1.169147</td>\n",
              "      <td>2.535859</td>\n",
              "      <td>0.014481</td>\n",
              "      <td>1.746609</td>\n",
              "      <td>1.982935</td>\n",
              "      <td>2.377538</td>\n",
              "      <td>0.330776</td>\n",
              "      <td>0.507794</td>\n",
              "    </tr>\n",
              "    <tr>\n",
              "      <th>4</th>\n",
              "      <td>0</td>\n",
              "      <td>13.510953</td>\n",
              "      <td>1.081376</td>\n",
              "      <td>4.078926</td>\n",
              "      <td>0.062589</td>\n",
              "      <td>2.449647</td>\n",
              "      <td>3.158684</td>\n",
              "      <td>3.920196</td>\n",
              "      <td>0.990359</td>\n",
              "      <td>2.118438</td>\n",
              "    </tr>\n",
              "  </tbody>\n",
              "</table>\n",
              "</div>"
            ],
            "text/plain": [
              "   Label    delta_p   theta_p   alpha_p  ...  alpha2_p  alpha3_p   beta1_p   beta2_p\n",
              "0      2  58.361596  3.344627  3.595763  ...  3.043201  2.502555  0.319379  0.612186\n",
              "1      2  18.206518  1.554186  3.525185  ...  2.661987  4.025382  0.699622  0.940954\n",
              "2      0   2.451198  0.487259  2.158115  ...  1.581009  1.633130  0.302161  0.779094\n",
              "3      2  25.959032  1.169147  2.535859  ...  1.982935  2.377538  0.330776  0.507794\n",
              "4      0  13.510953  1.081376  4.078926  ...  3.158684  3.920196  0.990359  2.118438\n",
              "\n",
              "[5 rows x 10 columns]"
            ]
          },
          "metadata": {
            "tags": []
          },
          "execution_count": 11
        }
      ]
    },
    {
      "cell_type": "code",
      "metadata": {
        "id": "kGllrgsB3icY",
        "colab_type": "code",
        "outputId": "7b081102-0162-474c-a5e5-8da87cd112d4",
        "colab": {
          "base_uri": "https://localhost:8080/",
          "height": 187
        }
      },
      "source": [
        "for col in ckd.columns: \n",
        "    print(col)"
      ],
      "execution_count": 12,
      "outputs": [
        {
          "output_type": "stream",
          "text": [
            "Label\n",
            "delta_p\n",
            "theta_p\n",
            "alpha_p\n",
            "beta_p\n",
            "alpha1_p\n",
            "alpha2_p\n",
            "alpha3_p\n",
            "beta1_p\n",
            "beta2_p\n"
          ],
          "name": "stdout"
        }
      ]
    },
    {
      "cell_type": "code",
      "metadata": {
        "id": "gtKnc8io9Frh",
        "colab_type": "code",
        "outputId": "20e0851f-9517-42c3-aa42-db846443c1db",
        "colab": {
          "base_uri": "https://localhost:8080/",
          "height": 272
        }
      },
      "source": [
        "ckd.info()"
      ],
      "execution_count": 13,
      "outputs": [
        {
          "output_type": "stream",
          "text": [
            "<class 'pandas.core.frame.DataFrame'>\n",
            "RangeIndex: 120 entries, 0 to 119\n",
            "Data columns (total 10 columns):\n",
            "Label       120 non-null int64\n",
            "delta_p     120 non-null float64\n",
            "theta_p     120 non-null float64\n",
            "alpha_p     120 non-null float64\n",
            "beta_p      120 non-null float64\n",
            "alpha1_p    120 non-null float64\n",
            "alpha2_p    120 non-null float64\n",
            "alpha3_p    120 non-null float64\n",
            "beta1_p     120 non-null float64\n",
            "beta2_p     120 non-null float64\n",
            "dtypes: float64(9), int64(1)\n",
            "memory usage: 9.5 KB\n"
          ],
          "name": "stdout"
        }
      ]
    },
    {
      "cell_type": "code",
      "metadata": {
        "id": "tE3F5Bujrcgr",
        "colab_type": "code",
        "colab": {}
      },
      "source": [
        ""
      ],
      "execution_count": 0,
      "outputs": []
    },
    {
      "cell_type": "code",
      "metadata": {
        "colab_type": "code",
        "id": "t6x69qHVrwWs",
        "colab": {}
      },
      "source": [
        "from sklearn.model_selection import train_test_split\n",
        "\n",
        "train_set, test_set = train_test_split(ckd, test_size=0.15, random_state=84)"
      ],
      "execution_count": 0,
      "outputs": []
    },
    {
      "cell_type": "code",
      "metadata": {
        "id": "oIh-jhWmXnIP",
        "colab_type": "code",
        "colab": {}
      },
      "source": [
        "ckd1=ckd.copy()"
      ],
      "execution_count": 0,
      "outputs": []
    },
    {
      "cell_type": "code",
      "metadata": {
        "id": "2krSXNMWtHdb",
        "colab_type": "code",
        "colab": {}
      },
      "source": [
        "corr_matrix = ckd1.corr()"
      ],
      "execution_count": 0,
      "outputs": []
    },
    {
      "cell_type": "code",
      "metadata": {
        "id": "gOCSBwaSty3k",
        "colab_type": "code",
        "outputId": "76b27cca-d662-41f8-c757-4b391e3f6b64",
        "colab": {
          "base_uri": "https://localhost:8080/",
          "height": 204
        }
      },
      "source": [
        "corr_matrix[\"Label\"].sort_values(ascending=False)"
      ],
      "execution_count": 18,
      "outputs": [
        {
          "output_type": "execute_result",
          "data": {
            "text/plain": [
              "Label       1.000000\n",
              "delta_p     0.866422\n",
              "theta_p     0.611131\n",
              "alpha1_p    0.115800\n",
              "beta_p      0.013681\n",
              "alpha3_p   -0.024815\n",
              "alpha_p    -0.030730\n",
              "alpha2_p   -0.038547\n",
              "beta1_p    -0.069874\n",
              "beta2_p    -0.096576\n",
              "Name: Label, dtype: float64"
            ]
          },
          "metadata": {
            "tags": []
          },
          "execution_count": 18
        }
      ]
    },
    {
      "cell_type": "code",
      "metadata": {
        "id": "qYGI51VYXsIF",
        "colab_type": "code",
        "colab": {}
      },
      "source": [
        "housing_attr=train_set.drop([\"SUB_ID\",\"Diagnosis\",\"AGE\",\"MMSE_bl\",'Left-Lateral-Ventricle', 'Left-Inf-Lat-Vent', 'Left-Cerebellum-White-Matter', 'Left-Cerebellum-Cortex',\n",
        "     '3rd-Ventricle', '4th-Ventricle', 'Brain-Stem','CSF',  'Left-VentralDC', 'Left-vessel','Left-choroid-plexus',\n",
        "      'Right-Lateral-Ventricle','Right-Inf-Lat-Vent','Right-Cerebellum-White-Matter', 'Right-Cerebellum-Cortex',\n",
        "      'Right-VentralDC','Right-vessel','Right-choroid-plexus','5th-Ventricle', 'WM-hypointensities', \n",
        "      'Left-WM-hypointensities', 'Right-WM-hypointensities', 'non-WM-hypointensities', 'Left-non-WM-hypointensities',\n",
        "      'Right-non-WM-hypointensities','Optic-Chiasm','CC_Posterior','CC_Mid_Posterior','CC_Central','CC_Mid_Anterior',\n",
        "      'CC_Anterior','BrainSegVol','BrainSegVolNotVent','BrainSegVolNotVentSurf','lhCortexVol','rhCortexVol','CortexVol',\n",
        "      'lhCorticalWhiteMatterVol','rhCorticalWhiteMatterVol','CorticalWhiteMatterVol','SubCortGrayVol','TotalGrayVol',\n",
        "      'SupraTentorialVol','SupraTentorialVolNotVent','SupraTentorialVolNotVentVox','MaskVol','BrainSegVol-to-eTIV', \n",
        "      'MaskVol-to-eTIV','lhSurfaceHoles','rhSurfaceHoles','SurfaceHoles','EstimatedTotalIntraCranialVol', \n",
        "      'lh_MeanThickness_thickness','rh_MeanThickness_thickness','lh_WhiteSurfArea_area', 'rh_WhiteSurfArea_area'],axis=1)"
      ],
      "execution_count": 0,
      "outputs": []
    },
    {
      "cell_type": "code",
      "metadata": {
        "id": "-FRlk-7T2H9q",
        "colab_type": "code",
        "colab": {}
      },
      "source": [
        "housing_attr=train_set.drop([\"Label\"],axis=1)"
      ],
      "execution_count": 0,
      "outputs": []
    },
    {
      "cell_type": "code",
      "metadata": {
        "id": "lQB1dxh9J4vO",
        "colab_type": "code",
        "colab": {}
      },
      "source": [
        "housing_attr = train_set[[\"MMSE_bl\",\n",
        "\"Left-Hippocampus\",\n",
        "\"Right-Hippocampus\",\n",
        "\"lh_parahippocampal_volume\",\n",
        "\"Right-Inf-Lat-Vent\",\n",
        "\"Left-Inf-Lat-Vent\",\n",
        "\"rh_entorhinal_thickness\",\n",
        "\"lh_entorhinal_volume\",\n",
        "\"lh_middletemporal_thickness\",\n",
        "\"Right-Amygdala\",\n",
        "\"lh_entorhinal_thickness\",\"Left-Amygdala\",\n",
        "\"Right-Accumbens-area\",\n",
        "\n",
        "\"rh_entorhinal_volume\"\n",
        "\n",
        "\n",
        "\n",
        "]].copy()"
      ],
      "execution_count": 0,
      "outputs": []
    },
    {
      "cell_type": "code",
      "metadata": {
        "id": "hOQRtVvbSkYw",
        "colab_type": "code",
        "outputId": "2ffcfedb-2f7c-4f4a-a44a-4ea67c456a44",
        "colab": {
          "base_uri": "https://localhost:8080/",
          "height": 255
        }
      },
      "source": [
        "housing_attr.info()\n"
      ],
      "execution_count": 70,
      "outputs": [
        {
          "output_type": "stream",
          "text": [
            "<class 'pandas.core.frame.DataFrame'>\n",
            "Int64Index: 102 entries, 117 to 42\n",
            "Data columns (total 9 columns):\n",
            "delta_p     102 non-null float64\n",
            "theta_p     102 non-null float64\n",
            "alpha_p     102 non-null float64\n",
            "beta_p      102 non-null float64\n",
            "alpha1_p    102 non-null float64\n",
            "alpha2_p    102 non-null float64\n",
            "alpha3_p    102 non-null float64\n",
            "beta1_p     102 non-null float64\n",
            "beta2_p     102 non-null float64\n",
            "dtypes: float64(9)\n",
            "memory usage: 8.0 KB\n"
          ],
          "name": "stdout"
        }
      ]
    },
    {
      "cell_type": "code",
      "metadata": {
        "id": "PB3DRjU8XwYF",
        "colab_type": "code",
        "colab": {}
      },
      "source": [
        "ckd_labels = train_set[\"Label\"].copy()"
      ],
      "execution_count": 0,
      "outputs": []
    },
    {
      "cell_type": "code",
      "metadata": {
        "id": "mjIw0S3QX9S9",
        "colab_type": "code",
        "colab": {}
      },
      "source": [
        "housing_data=housing_attr.copy()"
      ],
      "execution_count": 0,
      "outputs": []
    },
    {
      "cell_type": "code",
      "metadata": {
        "id": "yZ6Io0coulhd",
        "colab_type": "code",
        "outputId": "7d1778fe-6798-45c0-870d-711c0c40a720",
        "colab": {
          "base_uri": "https://localhost:8080/",
          "height": 255
        }
      },
      "source": [
        "housing_attr.info()"
      ],
      "execution_count": 73,
      "outputs": [
        {
          "output_type": "stream",
          "text": [
            "<class 'pandas.core.frame.DataFrame'>\n",
            "Int64Index: 102 entries, 117 to 42\n",
            "Data columns (total 9 columns):\n",
            "delta_p     102 non-null float64\n",
            "theta_p     102 non-null float64\n",
            "alpha_p     102 non-null float64\n",
            "beta_p      102 non-null float64\n",
            "alpha1_p    102 non-null float64\n",
            "alpha2_p    102 non-null float64\n",
            "alpha3_p    102 non-null float64\n",
            "beta1_p     102 non-null float64\n",
            "beta2_p     102 non-null float64\n",
            "dtypes: float64(9)\n",
            "memory usage: 8.0 KB\n"
          ],
          "name": "stdout"
        }
      ]
    },
    {
      "cell_type": "code",
      "metadata": {
        "id": "2R4FQhl-v5x-",
        "colab_type": "code",
        "outputId": "604e6e18-f7ff-442f-94cb-c1d2cc3f96ff",
        "colab": {
          "base_uri": "https://localhost:8080/",
          "height": 221
        }
      },
      "source": [
        "ckd_labels.describe\n"
      ],
      "execution_count": 74,
      "outputs": [
        {
          "output_type": "execute_result",
          "data": {
            "text/plain": [
              "<bound method NDFrame.describe of 117    2\n",
              "73     0\n",
              "60     0\n",
              "90     1\n",
              "83     2\n",
              "      ..\n",
              "78     1\n",
              "56     0\n",
              "89     0\n",
              "113    0\n",
              "42     2\n",
              "Name: Label, Length: 102, dtype: int64>"
            ]
          },
          "metadata": {
            "tags": []
          },
          "execution_count": 74
        }
      ]
    },
    {
      "cell_type": "code",
      "metadata": {
        "id": "isX0JGtvX1W9",
        "colab_type": "code",
        "colab": {}
      },
      "source": [
        "\n",
        "\n",
        "ckd_num = housing_data.drop([\"GENDER\"]  ,axis=1)"
      ],
      "execution_count": 0,
      "outputs": []
    },
    {
      "cell_type": "code",
      "metadata": {
        "id": "cCwmHMGJiAjz",
        "colab_type": "code",
        "colab": {}
      },
      "source": [
        ""
      ],
      "execution_count": 0,
      "outputs": []
    },
    {
      "cell_type": "code",
      "metadata": {
        "id": "PrCGUO1VYbQD",
        "colab_type": "code",
        "colab": {}
      },
      "source": [
        "housing_cat = housing_data[[\"GENDER\"]].copy()"
      ],
      "execution_count": 0,
      "outputs": []
    },
    {
      "cell_type": "code",
      "metadata": {
        "id": "X-3_5jRUU_4G",
        "colab_type": "code",
        "outputId": "4ec02da4-966b-4de6-a36c-511186f1085e",
        "colab": {
          "base_uri": "https://localhost:8080/",
          "height": 697
        }
      },
      "source": [
        "housing_cat_check = housing_data[\"city\"]"
      ],
      "execution_count": 0,
      "outputs": [
        {
          "output_type": "error",
          "ename": "KeyError",
          "evalue": "ignored",
          "traceback": [
            "\u001b[0;31m---------------------------------------------------------------------------\u001b[0m",
            "\u001b[0;31mKeyError\u001b[0m                                  Traceback (most recent call last)",
            "\u001b[0;32m/usr/local/lib/python3.6/dist-packages/pandas/core/indexes/base.py\u001b[0m in \u001b[0;36mget_loc\u001b[0;34m(self, key, method, tolerance)\u001b[0m\n\u001b[1;32m   2896\u001b[0m             \u001b[0;32mtry\u001b[0m\u001b[0;34m:\u001b[0m\u001b[0;34m\u001b[0m\u001b[0;34m\u001b[0m\u001b[0m\n\u001b[0;32m-> 2897\u001b[0;31m                 \u001b[0;32mreturn\u001b[0m \u001b[0mself\u001b[0m\u001b[0;34m.\u001b[0m\u001b[0m_engine\u001b[0m\u001b[0;34m.\u001b[0m\u001b[0mget_loc\u001b[0m\u001b[0;34m(\u001b[0m\u001b[0mkey\u001b[0m\u001b[0;34m)\u001b[0m\u001b[0;34m\u001b[0m\u001b[0;34m\u001b[0m\u001b[0m\n\u001b[0m\u001b[1;32m   2898\u001b[0m             \u001b[0;32mexcept\u001b[0m \u001b[0mKeyError\u001b[0m\u001b[0;34m:\u001b[0m\u001b[0;34m\u001b[0m\u001b[0;34m\u001b[0m\u001b[0m\n",
            "\u001b[0;32mpandas/_libs/index.pyx\u001b[0m in \u001b[0;36mpandas._libs.index.IndexEngine.get_loc\u001b[0;34m()\u001b[0m\n",
            "\u001b[0;32mpandas/_libs/index.pyx\u001b[0m in \u001b[0;36mpandas._libs.index.IndexEngine.get_loc\u001b[0;34m()\u001b[0m\n",
            "\u001b[0;32mpandas/_libs/hashtable_class_helper.pxi\u001b[0m in \u001b[0;36mpandas._libs.hashtable.PyObjectHashTable.get_item\u001b[0;34m()\u001b[0m\n",
            "\u001b[0;32mpandas/_libs/hashtable_class_helper.pxi\u001b[0m in \u001b[0;36mpandas._libs.hashtable.PyObjectHashTable.get_item\u001b[0;34m()\u001b[0m\n",
            "\u001b[0;31mKeyError\u001b[0m: 'city'",
            "\nDuring handling of the above exception, another exception occurred:\n",
            "\u001b[0;31mKeyError\u001b[0m                                  Traceback (most recent call last)",
            "\u001b[0;32m<ipython-input-88-de7fdef8cdb7>\u001b[0m in \u001b[0;36m<module>\u001b[0;34m()\u001b[0m\n\u001b[0;32m----> 1\u001b[0;31m \u001b[0mhousing_cat_check\u001b[0m \u001b[0;34m=\u001b[0m \u001b[0mhousing_data\u001b[0m\u001b[0;34m[\u001b[0m\u001b[0;34m\"city\"\u001b[0m\u001b[0;34m]\u001b[0m\u001b[0;34m\u001b[0m\u001b[0;34m\u001b[0m\u001b[0m\n\u001b[0m",
            "\u001b[0;32m/usr/local/lib/python3.6/dist-packages/pandas/core/frame.py\u001b[0m in \u001b[0;36m__getitem__\u001b[0;34m(self, key)\u001b[0m\n\u001b[1;32m   2993\u001b[0m             \u001b[0;32mif\u001b[0m \u001b[0mself\u001b[0m\u001b[0;34m.\u001b[0m\u001b[0mcolumns\u001b[0m\u001b[0;34m.\u001b[0m\u001b[0mnlevels\u001b[0m \u001b[0;34m>\u001b[0m \u001b[0;36m1\u001b[0m\u001b[0;34m:\u001b[0m\u001b[0;34m\u001b[0m\u001b[0;34m\u001b[0m\u001b[0m\n\u001b[1;32m   2994\u001b[0m                 \u001b[0;32mreturn\u001b[0m \u001b[0mself\u001b[0m\u001b[0;34m.\u001b[0m\u001b[0m_getitem_multilevel\u001b[0m\u001b[0;34m(\u001b[0m\u001b[0mkey\u001b[0m\u001b[0;34m)\u001b[0m\u001b[0;34m\u001b[0m\u001b[0;34m\u001b[0m\u001b[0m\n\u001b[0;32m-> 2995\u001b[0;31m             \u001b[0mindexer\u001b[0m \u001b[0;34m=\u001b[0m \u001b[0mself\u001b[0m\u001b[0;34m.\u001b[0m\u001b[0mcolumns\u001b[0m\u001b[0;34m.\u001b[0m\u001b[0mget_loc\u001b[0m\u001b[0;34m(\u001b[0m\u001b[0mkey\u001b[0m\u001b[0;34m)\u001b[0m\u001b[0;34m\u001b[0m\u001b[0;34m\u001b[0m\u001b[0m\n\u001b[0m\u001b[1;32m   2996\u001b[0m             \u001b[0;32mif\u001b[0m \u001b[0mis_integer\u001b[0m\u001b[0;34m(\u001b[0m\u001b[0mindexer\u001b[0m\u001b[0;34m)\u001b[0m\u001b[0;34m:\u001b[0m\u001b[0;34m\u001b[0m\u001b[0;34m\u001b[0m\u001b[0m\n\u001b[1;32m   2997\u001b[0m                 \u001b[0mindexer\u001b[0m \u001b[0;34m=\u001b[0m \u001b[0;34m[\u001b[0m\u001b[0mindexer\u001b[0m\u001b[0;34m]\u001b[0m\u001b[0;34m\u001b[0m\u001b[0;34m\u001b[0m\u001b[0m\n",
            "\u001b[0;32m/usr/local/lib/python3.6/dist-packages/pandas/core/indexes/base.py\u001b[0m in \u001b[0;36mget_loc\u001b[0;34m(self, key, method, tolerance)\u001b[0m\n\u001b[1;32m   2897\u001b[0m                 \u001b[0;32mreturn\u001b[0m \u001b[0mself\u001b[0m\u001b[0;34m.\u001b[0m\u001b[0m_engine\u001b[0m\u001b[0;34m.\u001b[0m\u001b[0mget_loc\u001b[0m\u001b[0;34m(\u001b[0m\u001b[0mkey\u001b[0m\u001b[0;34m)\u001b[0m\u001b[0;34m\u001b[0m\u001b[0;34m\u001b[0m\u001b[0m\n\u001b[1;32m   2898\u001b[0m             \u001b[0;32mexcept\u001b[0m \u001b[0mKeyError\u001b[0m\u001b[0;34m:\u001b[0m\u001b[0;34m\u001b[0m\u001b[0;34m\u001b[0m\u001b[0m\n\u001b[0;32m-> 2899\u001b[0;31m                 \u001b[0;32mreturn\u001b[0m \u001b[0mself\u001b[0m\u001b[0;34m.\u001b[0m\u001b[0m_engine\u001b[0m\u001b[0;34m.\u001b[0m\u001b[0mget_loc\u001b[0m\u001b[0;34m(\u001b[0m\u001b[0mself\u001b[0m\u001b[0;34m.\u001b[0m\u001b[0m_maybe_cast_indexer\u001b[0m\u001b[0;34m(\u001b[0m\u001b[0mkey\u001b[0m\u001b[0;34m)\u001b[0m\u001b[0;34m)\u001b[0m\u001b[0;34m\u001b[0m\u001b[0;34m\u001b[0m\u001b[0m\n\u001b[0m\u001b[1;32m   2900\u001b[0m         \u001b[0mindexer\u001b[0m \u001b[0;34m=\u001b[0m \u001b[0mself\u001b[0m\u001b[0;34m.\u001b[0m\u001b[0mget_indexer\u001b[0m\u001b[0;34m(\u001b[0m\u001b[0;34m[\u001b[0m\u001b[0mkey\u001b[0m\u001b[0;34m]\u001b[0m\u001b[0;34m,\u001b[0m \u001b[0mmethod\u001b[0m\u001b[0;34m=\u001b[0m\u001b[0mmethod\u001b[0m\u001b[0;34m,\u001b[0m \u001b[0mtolerance\u001b[0m\u001b[0;34m=\u001b[0m\u001b[0mtolerance\u001b[0m\u001b[0;34m)\u001b[0m\u001b[0;34m\u001b[0m\u001b[0;34m\u001b[0m\u001b[0m\n\u001b[1;32m   2901\u001b[0m         \u001b[0;32mif\u001b[0m \u001b[0mindexer\u001b[0m\u001b[0;34m.\u001b[0m\u001b[0mndim\u001b[0m \u001b[0;34m>\u001b[0m \u001b[0;36m1\u001b[0m \u001b[0;32mor\u001b[0m \u001b[0mindexer\u001b[0m\u001b[0;34m.\u001b[0m\u001b[0msize\u001b[0m \u001b[0;34m>\u001b[0m \u001b[0;36m1\u001b[0m\u001b[0;34m:\u001b[0m\u001b[0;34m\u001b[0m\u001b[0;34m\u001b[0m\u001b[0m\n",
            "\u001b[0;32mpandas/_libs/index.pyx\u001b[0m in \u001b[0;36mpandas._libs.index.IndexEngine.get_loc\u001b[0;34m()\u001b[0m\n",
            "\u001b[0;32mpandas/_libs/index.pyx\u001b[0m in \u001b[0;36mpandas._libs.index.IndexEngine.get_loc\u001b[0;34m()\u001b[0m\n",
            "\u001b[0;32mpandas/_libs/hashtable_class_helper.pxi\u001b[0m in \u001b[0;36mpandas._libs.hashtable.PyObjectHashTable.get_item\u001b[0;34m()\u001b[0m\n",
            "\u001b[0;32mpandas/_libs/hashtable_class_helper.pxi\u001b[0m in \u001b[0;36mpandas._libs.hashtable.PyObjectHashTable.get_item\u001b[0;34m()\u001b[0m\n",
            "\u001b[0;31mKeyError\u001b[0m: 'city'"
          ]
        }
      ]
    },
    {
      "cell_type": "code",
      "metadata": {
        "id": "F23DFxWkV81_",
        "colab_type": "code",
        "outputId": "7feaeb1c-0d0c-4947-e1dc-2205a9c431a9",
        "colab": {
          "base_uri": "https://localhost:8080/",
          "height": 34
        }
      },
      "source": [
        "import pandas\n",
        "print(pandas.__version__)\n"
      ],
      "execution_count": 0,
      "outputs": [
        {
          "output_type": "stream",
          "text": [
            "0.25.2\n"
          ],
          "name": "stdout"
        }
      ]
    },
    {
      "cell_type": "code",
      "metadata": {
        "id": "zfz_pQ7KVGom",
        "colab_type": "code",
        "outputId": "05a726f0-77f4-4fa3-bec6-7de8a0e31523",
        "colab": {
          "base_uri": "https://localhost:8080/",
          "height": 34
        }
      },
      "source": [
        "housing_cat_check.shape"
      ],
      "execution_count": 0,
      "outputs": [
        {
          "output_type": "execute_result",
          "data": {
            "text/plain": [
              "(1237,)"
            ]
          },
          "metadata": {
            "tags": []
          },
          "execution_count": 45
        }
      ]
    },
    {
      "cell_type": "code",
      "metadata": {
        "id": "s5Fpw4PxVjVU",
        "colab_type": "code",
        "outputId": "6c5d7136-0afa-4bab-cd8f-64f805b28c6e",
        "colab": {
          "base_uri": "https://localhost:8080/",
          "height": 282
        }
      },
      "source": [
        "housing_cat_check.info()"
      ],
      "execution_count": 0,
      "outputs": [
        {
          "output_type": "error",
          "ename": "AttributeError",
          "evalue": "ignored",
          "traceback": [
            "\u001b[0;31m---------------------------------------------------------------------------\u001b[0m",
            "\u001b[0;31mAttributeError\u001b[0m                            Traceback (most recent call last)",
            "\u001b[0;32m<ipython-input-46-b58a0c2d57a6>\u001b[0m in \u001b[0;36m<module>\u001b[0;34m()\u001b[0m\n\u001b[0;32m----> 1\u001b[0;31m \u001b[0mhousing_cat_check\u001b[0m\u001b[0;34m.\u001b[0m\u001b[0minfo\u001b[0m\u001b[0;34m(\u001b[0m\u001b[0;34m)\u001b[0m\u001b[0;34m\u001b[0m\u001b[0;34m\u001b[0m\u001b[0m\n\u001b[0m",
            "\u001b[0;32m/usr/local/lib/python3.6/dist-packages/pandas/core/generic.py\u001b[0m in \u001b[0;36m__getattr__\u001b[0;34m(self, name)\u001b[0m\n\u001b[1;32m   5177\u001b[0m             \u001b[0;32mif\u001b[0m \u001b[0mself\u001b[0m\u001b[0;34m.\u001b[0m\u001b[0m_info_axis\u001b[0m\u001b[0;34m.\u001b[0m\u001b[0m_can_hold_identifiers_and_holds_name\u001b[0m\u001b[0;34m(\u001b[0m\u001b[0mname\u001b[0m\u001b[0;34m)\u001b[0m\u001b[0;34m:\u001b[0m\u001b[0;34m\u001b[0m\u001b[0;34m\u001b[0m\u001b[0m\n\u001b[1;32m   5178\u001b[0m                 \u001b[0;32mreturn\u001b[0m \u001b[0mself\u001b[0m\u001b[0;34m[\u001b[0m\u001b[0mname\u001b[0m\u001b[0;34m]\u001b[0m\u001b[0;34m\u001b[0m\u001b[0;34m\u001b[0m\u001b[0m\n\u001b[0;32m-> 5179\u001b[0;31m             \u001b[0;32mreturn\u001b[0m \u001b[0mobject\u001b[0m\u001b[0;34m.\u001b[0m\u001b[0m__getattribute__\u001b[0m\u001b[0;34m(\u001b[0m\u001b[0mself\u001b[0m\u001b[0;34m,\u001b[0m \u001b[0mname\u001b[0m\u001b[0;34m)\u001b[0m\u001b[0;34m\u001b[0m\u001b[0;34m\u001b[0m\u001b[0m\n\u001b[0m\u001b[1;32m   5180\u001b[0m \u001b[0;34m\u001b[0m\u001b[0m\n\u001b[1;32m   5181\u001b[0m     \u001b[0;32mdef\u001b[0m \u001b[0m__setattr__\u001b[0m\u001b[0;34m(\u001b[0m\u001b[0mself\u001b[0m\u001b[0;34m,\u001b[0m \u001b[0mname\u001b[0m\u001b[0;34m,\u001b[0m \u001b[0mvalue\u001b[0m\u001b[0;34m)\u001b[0m\u001b[0;34m:\u001b[0m\u001b[0;34m\u001b[0m\u001b[0;34m\u001b[0m\u001b[0m\n",
            "\u001b[0;31mAttributeError\u001b[0m: 'Series' object has no attribute 'info'"
          ]
        }
      ]
    },
    {
      "cell_type": "code",
      "metadata": {
        "id": "uSBfu2KQZaHt",
        "colab_type": "code",
        "colab": {}
      },
      "source": [
        "ckd_date1=housing_data.copy()"
      ],
      "execution_count": 0,
      "outputs": []
    },
    {
      "cell_type": "code",
      "metadata": {
        "id": "QfNyOiVQgPMH",
        "colab_type": "code",
        "outputId": "2baf1839-3982-450f-a100-8490390b5f65",
        "colab": {
          "base_uri": "https://localhost:8080/",
          "height": 255
        }
      },
      "source": [
        "ckd_date1.info()"
      ],
      "execution_count": 76,
      "outputs": [
        {
          "output_type": "stream",
          "text": [
            "<class 'pandas.core.frame.DataFrame'>\n",
            "Int64Index: 102 entries, 117 to 42\n",
            "Data columns (total 9 columns):\n",
            "delta_p     102 non-null float64\n",
            "theta_p     102 non-null float64\n",
            "alpha_p     102 non-null float64\n",
            "beta_p      102 non-null float64\n",
            "alpha1_p    102 non-null float64\n",
            "alpha2_p    102 non-null float64\n",
            "alpha3_p    102 non-null float64\n",
            "beta1_p     102 non-null float64\n",
            "beta2_p     102 non-null float64\n",
            "dtypes: float64(9)\n",
            "memory usage: 8.0 KB\n"
          ],
          "name": "stdout"
        }
      ]
    },
    {
      "cell_type": "code",
      "metadata": {
        "id": "CR-xlTAnZ5FD",
        "colab_type": "code",
        "outputId": "b2184a79-8d20-40d6-a5ba-851a64054a55",
        "colab": {
          "base_uri": "https://localhost:8080/",
          "height": 102
        }
      },
      "source": [
        "ckd_num.info()"
      ],
      "execution_count": 0,
      "outputs": [
        {
          "output_type": "stream",
          "text": [
            "<class 'pandas.core.frame.DataFrame'>\n",
            "Int64Index: 204 entries, 119 to 170\n",
            "Columns: 370 entries, Left-Thalamus-Proper to right_hippocampal_fissure\n",
            "dtypes: float64(370)\n",
            "memory usage: 591.3 KB\n"
          ],
          "name": "stdout"
        }
      ]
    },
    {
      "cell_type": "code",
      "metadata": {
        "id": "_VNhBUmJZ01M",
        "colab_type": "code",
        "outputId": "1cce8d20-e5c8-4980-b1c5-a27527f827af",
        "colab": {
          "base_uri": "https://localhost:8080/",
          "height": 119
        }
      },
      "source": [
        "housing_cat.info()"
      ],
      "execution_count": 0,
      "outputs": [
        {
          "output_type": "stream",
          "text": [
            "<class 'pandas.core.frame.DataFrame'>\n",
            "Int64Index: 204 entries, 119 to 170\n",
            "Data columns (total 1 columns):\n",
            "GENDER    204 non-null object\n",
            "dtypes: object(1)\n",
            "memory usage: 3.2+ KB\n"
          ],
          "name": "stdout"
        }
      ]
    },
    {
      "cell_type": "code",
      "metadata": {
        "id": "xPPd8mGvZfBO",
        "colab_type": "code",
        "outputId": "5d629ef1-60c1-40bf-ecc6-48d5f6877a5a",
        "colab": {
          "base_uri": "https://localhost:8080/",
          "height": 350
        }
      },
      "source": [
        "from sklearn.base import BaseEstimator, TransformerMixin\n",
        "import numpy as np\n",
        "\n",
        "# get the right column indices: safer than hard-coding indices 3, 4, 5, 6\n",
        "PageValues_ix, Contactus_Duration_ix = [\n",
        "    list(housing.columns).index(col)\n",
        "    for col in (\"al\", \"hemo\")]\n",
        "from sk.learnpreproceesing import FunctionTransformer\n",
        "\n",
        "\n",
        "def add_extra_features(X, add_Z=True):\n",
        "    \n",
        "    if add_Z:\n",
        "        Z = X[:, PageValues_ix] * X[:, Contactus_Duration_ix]\n",
        "        return np.c_[X,Z]\n",
        "    else:\n",
        "        return np.c_[X, ]\n",
        "\n",
        "attr_adder = FunctionTransformer(add_extra_features, validate=False,\n",
        "                                 kw_args={\"add_Z\": False})\n",
        "housing_extra_attribs = attr_adder.fit_transform(housing_date1.values)"
      ],
      "execution_count": 0,
      "outputs": [
        {
          "output_type": "error",
          "ename": "ValueError",
          "evalue": "ignored",
          "traceback": [
            "\u001b[0;31m---------------------------------------------------------------------------\u001b[0m",
            "\u001b[0;31mValueError\u001b[0m                                Traceback (most recent call last)",
            "\u001b[0;32m<ipython-input-39-e56c5cca8b20>\u001b[0m in \u001b[0;36m<module>\u001b[0;34m()\u001b[0m\n\u001b[1;32m      5\u001b[0m PageValues_ix, Contactus_Duration_ix = [\n\u001b[1;32m      6\u001b[0m     \u001b[0mlist\u001b[0m\u001b[0;34m(\u001b[0m\u001b[0mhousing\u001b[0m\u001b[0;34m.\u001b[0m\u001b[0mcolumns\u001b[0m\u001b[0;34m)\u001b[0m\u001b[0;34m.\u001b[0m\u001b[0mindex\u001b[0m\u001b[0;34m(\u001b[0m\u001b[0mcol\u001b[0m\u001b[0;34m)\u001b[0m\u001b[0;34m\u001b[0m\u001b[0;34m\u001b[0m\u001b[0m\n\u001b[0;32m----> 7\u001b[0;31m     for col in (\"PageValues\", \"Contactus_Duration\")]\n\u001b[0m\u001b[1;32m      8\u001b[0m \u001b[0;32mfrom\u001b[0m \u001b[0msklearn\u001b[0m\u001b[0;34m.\u001b[0m\u001b[0mpreprocessing\u001b[0m \u001b[0;32mimport\u001b[0m \u001b[0mFunctionTransformer\u001b[0m\u001b[0;34m\u001b[0m\u001b[0;34m\u001b[0m\u001b[0m\n\u001b[1;32m      9\u001b[0m \u001b[0;34m\u001b[0m\u001b[0m\n",
            "\u001b[0;32m<ipython-input-39-e56c5cca8b20>\u001b[0m in \u001b[0;36m<listcomp>\u001b[0;34m(.0)\u001b[0m\n\u001b[1;32m      5\u001b[0m PageValues_ix, Contactus_Duration_ix = [\n\u001b[1;32m      6\u001b[0m     \u001b[0mlist\u001b[0m\u001b[0;34m(\u001b[0m\u001b[0mhousing\u001b[0m\u001b[0;34m.\u001b[0m\u001b[0mcolumns\u001b[0m\u001b[0;34m)\u001b[0m\u001b[0;34m.\u001b[0m\u001b[0mindex\u001b[0m\u001b[0;34m(\u001b[0m\u001b[0mcol\u001b[0m\u001b[0;34m)\u001b[0m\u001b[0;34m\u001b[0m\u001b[0;34m\u001b[0m\u001b[0m\n\u001b[0;32m----> 7\u001b[0;31m     for col in (\"PageValues\", \"Contactus_Duration\")]\n\u001b[0m\u001b[1;32m      8\u001b[0m \u001b[0;32mfrom\u001b[0m \u001b[0msklearn\u001b[0m\u001b[0;34m.\u001b[0m\u001b[0mpreprocessing\u001b[0m \u001b[0;32mimport\u001b[0m \u001b[0mFunctionTransformer\u001b[0m\u001b[0;34m\u001b[0m\u001b[0;34m\u001b[0m\u001b[0m\n\u001b[1;32m      9\u001b[0m \u001b[0;34m\u001b[0m\u001b[0m\n",
            "\u001b[0;31mValueError\u001b[0m: 'PageValues' is not in list"
          ]
        }
      ]
    },
    {
      "cell_type": "code",
      "metadata": {
        "id": "yUnKbxr8ZjbF",
        "colab_type": "code",
        "colab": {}
      },
      "source": [
        "from sklearn.pipeline import Pipeline\n",
        "from sklearn.impute import SimpleImputer\n",
        "from sklearn.preprocessing import StandardScaler\n",
        "from sklearn.preprocessing import OneHotEncoder\n",
        "from sklearn.compose import ColumnTransformer\n",
        "\n",
        "num_attribs = list(housing_attr)\n",
        "#cat_attribs = list(housing_cat)\n",
        "\n",
        "full_pipeline = ColumnTransformer([\n",
        "        ('std_scaler' , StandardScaler(),num_attribs),\n",
        "        #(\"cat\", OneHotEncoder(), cat_attribs),\n",
        "    ])\n",
        "\n",
        "housing_prepared = full_pipeline.fit_transform(ckd_date1)"
      ],
      "execution_count": 0,
      "outputs": []
    },
    {
      "cell_type": "code",
      "metadata": {
        "id": "M6SNtqPGfZc6",
        "colab_type": "code",
        "outputId": "bb0dc7bc-4617-4b05-bddc-71d20d9e1050",
        "colab": {
          "base_uri": "https://localhost:8080/",
          "height": 34
        }
      },
      "source": [
        "housing_prepared.shape\n"
      ],
      "execution_count": 78,
      "outputs": [
        {
          "output_type": "execute_result",
          "data": {
            "text/plain": [
              "(102, 9)"
            ]
          },
          "metadata": {
            "tags": []
          },
          "execution_count": 78
        }
      ]
    },
    {
      "cell_type": "code",
      "metadata": {
        "id": "CH0RrdwFUl8F",
        "colab_type": "code",
        "outputId": "bedebc36-fead-4e4f-9a50-4e200f24a38a",
        "colab": {
          "base_uri": "https://localhost:8080/",
          "height": 34
        }
      },
      "source": [
        "housing_labels2.shape"
      ],
      "execution_count": 0,
      "outputs": [
        {
          "output_type": "execute_result",
          "data": {
            "text/plain": [
              "(1237,)"
            ]
          },
          "metadata": {
            "tags": []
          },
          "execution_count": 35
        }
      ]
    },
    {
      "cell_type": "code",
      "metadata": {
        "id": "ItaZ3jiyU2MO",
        "colab_type": "code",
        "outputId": "4754ac09-77e2-49d8-e60c-d1e5eca8a460",
        "colab": {
          "base_uri": "https://localhost:8080/",
          "height": 34
        }
      },
      "source": [
        "housing_cat.shape"
      ],
      "execution_count": 0,
      "outputs": [
        {
          "output_type": "execute_result",
          "data": {
            "text/plain": [
              "(1237, 2)"
            ]
          },
          "metadata": {
            "tags": []
          },
          "execution_count": 36
        }
      ]
    },
    {
      "cell_type": "code",
      "metadata": {
        "id": "vdiZzogXalAZ",
        "colab_type": "code",
        "outputId": "fdd0cad0-5b80-48ca-ad3c-5f243c804d2e",
        "colab": {
          "base_uri": "https://localhost:8080/",
          "height": 85
        }
      },
      "source": [
        "# Saving NumPy array as a csv file\n",
        "\n",
        "np.savetxt(fname=\"y_train__test.csv\", delimiter=\",\", X=y_train_test)\n",
        "\n",
        "# Check generated csv file after loading it\n",
        "\n",
        "array_rain_fall_csv_saved = np.loadtxt(\n",
        "    fname=\"y_train__test.csv\", delimiter=\",\"\n",
        ")\n",
        "\n",
        "print(\"NumPy array: \\n\", array_rain_fall_csv_saved)\n",
        "print(\"Shape: \", array_rain_fall_csv_saved.shape)\n",
        "print(\"Data Type: \", array_rain_fall_csv_saved.dtype.name)"
      ],
      "execution_count": 0,
      "outputs": [
        {
          "output_type": "stream",
          "text": [
            "NumPy array: \n",
            " [0. 0. 0. ... 1. 1. 1.]\n",
            "Shape:  (2700,)\n",
            "Data Type:  float64\n"
          ],
          "name": "stdout"
        }
      ]
    },
    {
      "cell_type": "code",
      "metadata": {
        "id": "YOjhPEhzaYxE",
        "colab_type": "code",
        "colab": {}
      },
      "source": [
        "from google.colab import files\n",
        "files.download('y_train__test.csv')\n"
      ],
      "execution_count": 0,
      "outputs": []
    },
    {
      "cell_type": "code",
      "metadata": {
        "id": "s98rYlQnc60P",
        "colab_type": "code",
        "colab": {}
      },
      "source": [
        "housing_attr_test=test_set.drop([\"Label\"],axis=1)"
      ],
      "execution_count": 0,
      "outputs": []
    },
    {
      "cell_type": "code",
      "metadata": {
        "id": "wGB0dW2ScopK",
        "colab_type": "code",
        "colab": {}
      },
      "source": [
        "housing_attr_test = test_set[[\"MMSE_bl\",\n",
        "\"Left-Hippocampus\",\n",
        "\"Right-Hippocampus\",\n",
        "\"lh_parahippocampal_volume\",\n",
        "\"Right-Inf-Lat-Vent\",\n",
        "\"Left-Inf-Lat-Vent\",\n",
        "\"rh_entorhinal_thickness\",\n",
        "\"lh_entorhinal_volume\",\n",
        "\"lh_middletemporal_thickness\",\n",
        "\"Right-Amygdala\",\n",
        "\"lh_entorhinal_thickness\",\"Left-Amygdala\",\n",
        "\"Right-Accumbens-area\",\n",
        "\n",
        "\"rh_entorhinal_volume\"\n",
        "\n",
        "\n",
        "\n",
        "]].copy()"
      ],
      "execution_count": 0,
      "outputs": []
    },
    {
      "cell_type": "code",
      "metadata": {
        "id": "sxiwlf5OeqrJ",
        "colab_type": "code",
        "colab": {}
      },
      "source": [
        ""
      ],
      "execution_count": 0,
      "outputs": []
    },
    {
      "cell_type": "code",
      "metadata": {
        "id": "zvg1NpbNc_3T",
        "colab_type": "code",
        "colab": {}
      },
      "source": [
        "housing_labels_test = test_set[\"Label\"].copy()"
      ],
      "execution_count": 0,
      "outputs": []
    },
    {
      "cell_type": "code",
      "metadata": {
        "id": "UBGLwD4ydD08",
        "colab_type": "code",
        "colab": {}
      },
      "source": [
        "housing_data_test=housing_attr_test.copy()"
      ],
      "execution_count": 0,
      "outputs": []
    },
    {
      "cell_type": "code",
      "metadata": {
        "id": "8EnqKQ2z903c",
        "colab_type": "code",
        "outputId": "7dd60405-fcf1-438f-d593-b804ed5ba211",
        "colab": {
          "base_uri": "https://localhost:8080/",
          "height": 161
        }
      },
      "source": [
        "housing_data_test=ho"
      ],
      "execution_count": 0,
      "outputs": [
        {
          "output_type": "error",
          "ename": "NameError",
          "evalue": "ignored",
          "traceback": [
            "\u001b[0;31m---------------------------------------------------------------------------\u001b[0m",
            "\u001b[0;31mNameError\u001b[0m                                 Traceback (most recent call last)",
            "\u001b[0;32m<ipython-input-242-34d9adce0c6f>\u001b[0m in \u001b[0;36m<module>\u001b[0;34m()\u001b[0m\n\u001b[0;32m----> 1\u001b[0;31m \u001b[0mhousing_data_test\u001b[0m\u001b[0;34m=\u001b[0m\u001b[0mho\u001b[0m\u001b[0;34m\u001b[0m\u001b[0;34m\u001b[0m\u001b[0m\n\u001b[0m",
            "\u001b[0;31mNameError\u001b[0m: name 'ho' is not defined"
          ]
        }
      ]
    },
    {
      "cell_type": "code",
      "metadata": {
        "id": "AGlYHBBSgIqN",
        "colab_type": "code",
        "outputId": "a87db181-25be-40d3-c4b1-5f1344df8ffa",
        "colab": {
          "base_uri": "https://localhost:8080/",
          "height": 255
        }
      },
      "source": [
        "housing_data_test.info()"
      ],
      "execution_count": 82,
      "outputs": [
        {
          "output_type": "stream",
          "text": [
            "<class 'pandas.core.frame.DataFrame'>\n",
            "Int64Index: 18 entries, 70 to 25\n",
            "Data columns (total 9 columns):\n",
            "delta_p     18 non-null float64\n",
            "theta_p     18 non-null float64\n",
            "alpha_p     18 non-null float64\n",
            "beta_p      18 non-null float64\n",
            "alpha1_p    18 non-null float64\n",
            "alpha2_p    18 non-null float64\n",
            "alpha3_p    18 non-null float64\n",
            "beta1_p     18 non-null float64\n",
            "beta2_p     18 non-null float64\n",
            "dtypes: float64(9)\n",
            "memory usage: 1.4 KB\n"
          ],
          "name": "stdout"
        }
      ]
    },
    {
      "cell_type": "code",
      "metadata": {
        "id": "QClBZuQVdH8O",
        "colab_type": "code",
        "colab": {}
      },
      "source": [
        "housing_num_test = housing_data_test.drop([\"GENDER\"]  ,axis=1)"
      ],
      "execution_count": 0,
      "outputs": []
    },
    {
      "cell_type": "code",
      "metadata": {
        "id": "_ohRiZI4fvdq",
        "colab_type": "code",
        "outputId": "4bc5a116-f9e5-4dd6-c72b-d58e34fcfc4d",
        "colab": {
          "base_uri": "https://localhost:8080/",
          "height": 102
        }
      },
      "source": [
        "housing_num_test.info()"
      ],
      "execution_count": 0,
      "outputs": [
        {
          "output_type": "stream",
          "text": [
            "<class 'pandas.core.frame.DataFrame'>\n",
            "Int64Index: 36 entries, 178 to 180\n",
            "Columns: 428 entries, AGE to right_hippocampal_fissure\n",
            "dtypes: float64(427), int64(1)\n",
            "memory usage: 120.7 KB\n"
          ],
          "name": "stdout"
        }
      ]
    },
    {
      "cell_type": "code",
      "metadata": {
        "id": "tAZmptjUdL5a",
        "colab_type": "code",
        "colab": {}
      },
      "source": [
        "housing_cat_test = housing_data_test[[\"GENDER\"]]"
      ],
      "execution_count": 0,
      "outputs": []
    },
    {
      "cell_type": "code",
      "metadata": {
        "id": "NieSWmFSf06K",
        "colab_type": "code",
        "outputId": "254a79e2-e3bc-4d78-8679-da42819783fa",
        "colab": {
          "base_uri": "https://localhost:8080/",
          "height": 119
        }
      },
      "source": [
        "housing_cat_test.info()"
      ],
      "execution_count": 0,
      "outputs": [
        {
          "output_type": "stream",
          "text": [
            "<class 'pandas.core.frame.DataFrame'>\n",
            "Int64Index: 36 entries, 178 to 180\n",
            "Data columns (total 1 columns):\n",
            "GENDER    36 non-null object\n",
            "dtypes: object(1)\n",
            "memory usage: 576.0+ bytes\n"
          ],
          "name": "stdout"
        }
      ]
    },
    {
      "cell_type": "code",
      "metadata": {
        "id": "vqFXXHJCdQCM",
        "colab_type": "code",
        "colab": {}
      },
      "source": [
        "housing_date1_test=housing_data_test.copy()"
      ],
      "execution_count": 0,
      "outputs": []
    },
    {
      "cell_type": "code",
      "metadata": {
        "id": "gJ-W-NhA6Syw",
        "colab_type": "code",
        "colab": {}
      },
      "source": [
        "from sklearn.pipeline import Pipeline\n",
        "from sklearn.impute import SimpleImputer\n",
        "from sklearn.preprocessing import StandardScaler\n",
        "from sklearn.preprocessing import OneHotEncoder\n",
        "from sklearn.compose import ColumnTransformer\n",
        "\n",
        "num_attribs = list(housing_attr_test)\n",
        "#cat_attribs = list(housing_cat)\n",
        "\n",
        "full_pipeline = ColumnTransformer([\n",
        "        ('std_scaler' , StandardScaler(),num_attribs),\n",
        "        #(\"cat\", OneHotEncoder(), cat_attribs),\n",
        "    ])\n",
        "\n",
        "housing_prepared_test = full_pipeline.fit_transform(housing_date1_test)"
      ],
      "execution_count": 0,
      "outputs": []
    },
    {
      "cell_type": "code",
      "metadata": {
        "id": "CmLqy7cXdUgT",
        "colab_type": "code",
        "colab": {}
      },
      "source": [
        "housing_prepared_test = full_pipeline.fit_transform(housing_data_test)"
      ],
      "execution_count": 0,
      "outputs": []
    },
    {
      "cell_type": "code",
      "metadata": {
        "id": "je97pTBviku2",
        "colab_type": "code",
        "outputId": "3d956774-3a1e-42bf-aa5b-df2abfac4067",
        "colab": {
          "base_uri": "https://localhost:8080/",
          "height": 34
        }
      },
      "source": [
        "housing_prepared_test.shape"
      ],
      "execution_count": 85,
      "outputs": [
        {
          "output_type": "execute_result",
          "data": {
            "text/plain": [
              "(18, 9)"
            ]
          },
          "metadata": {
            "tags": []
          },
          "execution_count": 85
        }
      ]
    },
    {
      "cell_type": "code",
      "metadata": {
        "id": "i3mEghHa9XTV",
        "colab_type": "code",
        "outputId": "9734cd73-85d9-4449-81e5-de3a3e0b5992",
        "colab": {
          "base_uri": "https://localhost:8080/",
          "height": 340
        }
      },
      "source": [
        "from sklearn.pipeline import Pipeline\n",
        "from sklearn.impute import SimpleImputer\n",
        "from sklearn.preprocessing import StandardScaler\n",
        "from sklearn.preprocessing import OneHotEncoder\n",
        "from sklearn.compose import ColumnTransformer\n",
        "\n",
        "\n",
        "cat_attribs = list(ckd_labels)\n",
        "\n",
        "full_pipeline = ColumnTransformer([\n",
        "        \n",
        "        (\"cat\", OneHotEncoder(), cat_attribs),\n",
        "    ])\n",
        "\n",
        "housingx_test = full_pipeline.fit_transform(ckd_labels)"
      ],
      "execution_count": 0,
      "outputs": [
        {
          "output_type": "error",
          "ename": "IndexError",
          "evalue": "ignored",
          "traceback": [
            "\u001b[0;31m---------------------------------------------------------------------------\u001b[0m",
            "\u001b[0;31mIndexError\u001b[0m                                Traceback (most recent call last)",
            "\u001b[0;32m<ipython-input-48-a4fb8c4d93b0>\u001b[0m in \u001b[0;36m<module>\u001b[0;34m()\u001b[0m\n\u001b[1;32m     13\u001b[0m     ])\n\u001b[1;32m     14\u001b[0m \u001b[0;34m\u001b[0m\u001b[0m\n\u001b[0;32m---> 15\u001b[0;31m \u001b[0mhousingx_test\u001b[0m \u001b[0;34m=\u001b[0m \u001b[0mfull_pipeline\u001b[0m\u001b[0;34m.\u001b[0m\u001b[0mfit_transform\u001b[0m\u001b[0;34m(\u001b[0m\u001b[0mckd_labels\u001b[0m\u001b[0;34m)\u001b[0m\u001b[0;34m\u001b[0m\u001b[0;34m\u001b[0m\u001b[0m\n\u001b[0m",
            "\u001b[0;32m/usr/local/lib/python3.6/dist-packages/sklearn/compose/_column_transformer.py\u001b[0m in \u001b[0;36mfit_transform\u001b[0;34m(self, X, y)\u001b[0m\n\u001b[1;32m    472\u001b[0m         \u001b[0mself\u001b[0m\u001b[0;34m.\u001b[0m\u001b[0m_validate_transformers\u001b[0m\u001b[0;34m(\u001b[0m\u001b[0;34m)\u001b[0m\u001b[0;34m\u001b[0m\u001b[0;34m\u001b[0m\u001b[0m\n\u001b[1;32m    473\u001b[0m         \u001b[0mself\u001b[0m\u001b[0;34m.\u001b[0m\u001b[0m_validate_column_callables\u001b[0m\u001b[0;34m(\u001b[0m\u001b[0mX\u001b[0m\u001b[0;34m)\u001b[0m\u001b[0;34m\u001b[0m\u001b[0;34m\u001b[0m\u001b[0m\n\u001b[0;32m--> 474\u001b[0;31m         \u001b[0mself\u001b[0m\u001b[0;34m.\u001b[0m\u001b[0m_validate_remainder\u001b[0m\u001b[0;34m(\u001b[0m\u001b[0mX\u001b[0m\u001b[0;34m)\u001b[0m\u001b[0;34m\u001b[0m\u001b[0;34m\u001b[0m\u001b[0m\n\u001b[0m\u001b[1;32m    475\u001b[0m \u001b[0;34m\u001b[0m\u001b[0m\n\u001b[1;32m    476\u001b[0m         \u001b[0mresult\u001b[0m \u001b[0;34m=\u001b[0m \u001b[0mself\u001b[0m\u001b[0;34m.\u001b[0m\u001b[0m_fit_transform\u001b[0m\u001b[0;34m(\u001b[0m\u001b[0mX\u001b[0m\u001b[0;34m,\u001b[0m \u001b[0my\u001b[0m\u001b[0;34m,\u001b[0m \u001b[0m_fit_transform_one\u001b[0m\u001b[0;34m)\u001b[0m\u001b[0;34m\u001b[0m\u001b[0;34m\u001b[0m\u001b[0m\n",
            "\u001b[0;32m/usr/local/lib/python3.6/dist-packages/sklearn/compose/_column_transformer.py\u001b[0m in \u001b[0;36m_validate_remainder\u001b[0;34m(self, X)\u001b[0m\n\u001b[1;32m    310\u001b[0m             \u001b[0mself\u001b[0m\u001b[0;34m.\u001b[0m\u001b[0m_df_columns\u001b[0m \u001b[0;34m=\u001b[0m \u001b[0mX\u001b[0m\u001b[0;34m.\u001b[0m\u001b[0mcolumns\u001b[0m\u001b[0;34m\u001b[0m\u001b[0;34m\u001b[0m\u001b[0m\n\u001b[1;32m    311\u001b[0m \u001b[0;34m\u001b[0m\u001b[0m\n\u001b[0;32m--> 312\u001b[0;31m         \u001b[0mself\u001b[0m\u001b[0;34m.\u001b[0m\u001b[0m_n_features\u001b[0m \u001b[0;34m=\u001b[0m \u001b[0mX\u001b[0m\u001b[0;34m.\u001b[0m\u001b[0mshape\u001b[0m\u001b[0;34m[\u001b[0m\u001b[0;36m1\u001b[0m\u001b[0;34m]\u001b[0m\u001b[0;34m\u001b[0m\u001b[0;34m\u001b[0m\u001b[0m\n\u001b[0m\u001b[1;32m    313\u001b[0m         \u001b[0mcols\u001b[0m \u001b[0;34m=\u001b[0m \u001b[0;34m[\u001b[0m\u001b[0;34m]\u001b[0m\u001b[0;34m\u001b[0m\u001b[0;34m\u001b[0m\u001b[0m\n\u001b[1;32m    314\u001b[0m         \u001b[0;32mfor\u001b[0m \u001b[0mcolumns\u001b[0m \u001b[0;32min\u001b[0m \u001b[0mself\u001b[0m\u001b[0;34m.\u001b[0m\u001b[0m_columns\u001b[0m\u001b[0;34m:\u001b[0m\u001b[0;34m\u001b[0m\u001b[0;34m\u001b[0m\u001b[0m\n",
            "\u001b[0;31mIndexError\u001b[0m: tuple index out of range"
          ]
        }
      ]
    },
    {
      "cell_type": "code",
      "metadata": {
        "id": "TngmtN4U76nf",
        "colab_type": "code",
        "colab": {}
      },
      "source": [
        "from sklearn.decomposition import PCA\n",
        "\n",
        "pca = PCA(n_components=200)\n",
        "X_train = pca.fit_transform(housing_prepared)\n",
        "X_test = pca.transform(housing_prepared_test)"
      ],
      "execution_count": 0,
      "outputs": []
    },
    {
      "cell_type": "code",
      "metadata": {
        "id": "c8ojIT2A8PwN",
        "colab_type": "code",
        "colab": {}
      },
      "source": [
        "from sklearn.ensemble import RandomForestClassifier\n",
        "\n",
        "classifier = RandomForestClassifier(n_estimators=30,max_features=8,random_state=42)\n",
        "classifier.fit(X_train, ckd_labels)\n",
        "\n",
        "# Predicting the Test set results\n",
        "y_pred = classifier.predict(X_test)"
      ],
      "execution_count": 0,
      "outputs": []
    },
    {
      "cell_type": "code",
      "metadata": {
        "id": "ySoMcSyt-XyI",
        "colab_type": "code",
        "outputId": "e935ad39-1506-4926-d9f1-920ad2fd99ca",
        "colab": {
          "base_uri": "https://localhost:8080/",
          "height": 34
        }
      },
      "source": [
        "from sklearn.metrics import confusion_matrix\n",
        "from sklearn.metrics import accuracy_score\n",
        "\n",
        "#cm = confusion_matrix(y_test, y_pred)\n",
        "#print(cm)\n",
        "print(accuracy_score(housing_labels_test, y_pred))"
      ],
      "execution_count": 0,
      "outputs": [
        {
          "output_type": "stream",
          "text": [
            "0.3611111111111111\n"
          ],
          "name": "stdout"
        }
      ]
    },
    {
      "cell_type": "code",
      "metadata": {
        "id": "97TzWR-id0yN",
        "colab_type": "code",
        "outputId": "c970411f-ba92-4723-866b-4fc6d5a12816",
        "colab": {
          "base_uri": "https://localhost:8080/",
          "height": 119
        }
      },
      "source": [
        "from sklearn import model_selection\n",
        "from sklearn.linear_model import LogisticRegression\n",
        "from sklearn.neighbors import KNeighborsClassifier\n",
        "from sklearn.naive_bayes import GaussianNB \n",
        "from sklearn.ensemble import RandomForestClassifier\n",
        "from mlxtend.classifier import StackingClassifier\n",
        "from sklearn.svm import SVC\n",
        "import numpy as np\n",
        "import warnings\n",
        "\n",
        "warnings.simplefilter('ignore')\n",
        "\n",
        "clf1 = KNeighborsClassifier(n_neighbors=1)\n",
        "clf2 = RandomForestClassifier(n_estimators=30,max_features=8,random_state=42)\n",
        "clf3 = GaussianNB()\n",
        "svm_clf = SVC(gamma=\"auto\", random_state=42,probability=True)\n",
        "lr = LogisticRegression(solver=\"liblinear\", random_state=42)\n",
        "sclf = StackingClassifier(classifiers=[clf2, clf1,clf2],\n",
        "                          \n",
        "                          meta_classifier=lr)\n",
        "\n",
        "print('3-fold cross validation:\\n')\n",
        "\n",
        "for clf, label in zip([clf1,clf2,svm_clf, sclf], \n",
        "                      [ 'KNN',\n",
        "                       'RF', \n",
        "                       'SVM', \n",
        "                      \n",
        "                       'StackingClassifier']):\n",
        "\n",
        "    scores = model_selection.cross_val_score(clf2, housing_prepared, ckd_labels, \n",
        "                                              cv=3, scoring='accuracy')\n",
        "    print(\"Accuracy: %0.2f (+/- %0.2f) [%s]\" \n",
        "          % (scores.mean(), scores.std(), label))"
      ],
      "execution_count": 86,
      "outputs": [
        {
          "output_type": "stream",
          "text": [
            "3-fold cross validation:\n",
            "\n",
            "Accuracy: 0.86 (+/- 0.01) [KNN]\n",
            "Accuracy: 0.86 (+/- 0.01) [RF]\n",
            "Accuracy: 0.86 (+/- 0.01) [SVM]\n",
            "Accuracy: 0.86 (+/- 0.01) [StackingClassifier]\n"
          ],
          "name": "stdout"
        }
      ]
    },
    {
      "cell_type": "code",
      "metadata": {
        "id": "S403URw-08dN",
        "colab_type": "code",
        "outputId": "30c7f6f0-9a22-49fb-8dc2-d737a9be7a23",
        "colab": {
          "base_uri": "https://localhost:8080/",
          "height": 34
        }
      },
      "source": [
        "from sklearn.linear_model import LinearRegression\n",
        "\n",
        "lin_reg = LinearRegression()\n",
        "lin_reg.fit(housing_prepared, housing_labels2)"
      ],
      "execution_count": 0,
      "outputs": [
        {
          "output_type": "execute_result",
          "data": {
            "text/plain": [
              "LinearRegression(copy_X=True, fit_intercept=True, n_jobs=None, normalize=False)"
            ]
          },
          "metadata": {
            "tags": []
          },
          "execution_count": 74
        }
      ]
    },
    {
      "cell_type": "code",
      "metadata": {
        "id": "haKotbYv1B2g",
        "colab_type": "code",
        "outputId": "70b9e75f-415e-4adc-b777-1e464c00844f",
        "colab": {
          "base_uri": "https://localhost:8080/",
          "height": 34
        }
      },
      "source": [
        "some_data = housing.iloc[:5]\n",
        "some_labels = housing_labels2.iloc[:5]\n",
        "some_data_prepared = full_pipeline.transform(some_data)\n",
        "\n",
        "print(\"Predictions:\", lin_reg.predict(some_data_prepared))"
      ],
      "execution_count": 0,
      "outputs": [
        {
          "output_type": "stream",
          "text": [
            "Predictions: [ 7.45255663  5.37949785 14.03338679 11.53712159 10.82708503]\n"
          ],
          "name": "stdout"
        }
      ]
    },
    {
      "cell_type": "code",
      "metadata": {
        "id": "_nJcUtXT1GUA",
        "colab_type": "code",
        "outputId": "386e898c-96ba-499b-930a-499c9ebb7f24",
        "colab": {
          "base_uri": "https://localhost:8080/",
          "height": 34
        }
      },
      "source": [
        "print(\"Labels:\", list(some_labels))"
      ],
      "execution_count": 0,
      "outputs": [
        {
          "output_type": "stream",
          "text": [
            "Labels: [2, 11, 18, 4, 59]\n"
          ],
          "name": "stdout"
        }
      ]
    },
    {
      "cell_type": "code",
      "metadata": {
        "id": "W98TjyWu1wVs",
        "colab_type": "code",
        "outputId": "e89840b6-21ba-4104-db72-b72fa2c90aca",
        "colab": {
          "base_uri": "https://localhost:8080/",
          "height": 34
        }
      },
      "source": [
        "import numpy as np\n",
        "from sklearn.metrics import mean_squared_error\n",
        "\n",
        "housing_predictions = lin_reg.predict(housing_prepared)\n",
        "lin_mse = mean_squared_error(housing_labels2, housing_predictions)\n",
        "lin_rmse = np.sqrt(lin_mse)\n",
        "lin_rmse"
      ],
      "execution_count": 0,
      "outputs": [
        {
          "output_type": "execute_result",
          "data": {
            "text/plain": [
              "32.844124322066556"
            ]
          },
          "metadata": {
            "tags": []
          },
          "execution_count": 77
        }
      ]
    },
    {
      "cell_type": "code",
      "metadata": {
        "id": "VuLZiJ9E13_8",
        "colab_type": "code",
        "outputId": "d2646249-0a01-4248-fe53-4b15305f6372",
        "colab": {
          "base_uri": "https://localhost:8080/",
          "height": 34
        }
      },
      "source": [
        "from sklearn.metrics import mean_absolute_error\n",
        "\n",
        "lin_mae = mean_absolute_error(housing_labels2, housing_predictions)\n",
        "lin_mae"
      ],
      "execution_count": 0,
      "outputs": [
        {
          "output_type": "execute_result",
          "data": {
            "text/plain": [
              "17.573725052975455"
            ]
          },
          "metadata": {
            "tags": []
          },
          "execution_count": 78
        }
      ]
    },
    {
      "cell_type": "code",
      "metadata": {
        "id": "leF1C66WgrGr",
        "colab_type": "code",
        "outputId": "b1bce0df-f77f-4863-f526-1d6bfcd407ef",
        "colab": {
          "base_uri": "https://localhost:8080/",
          "height": 544
        }
      },
      "source": [
        "sclf.fit(X_train, y_train)"
      ],
      "execution_count": 0,
      "outputs": [
        {
          "output_type": "execute_result",
          "data": {
            "text/plain": [
              "StackingClassifier(average_probas=False,\n",
              "                   classifiers=[RandomForestClassifier(bootstrap=True,\n",
              "                                                       class_weight=None,\n",
              "                                                       criterion='gini',\n",
              "                                                       max_depth=None,\n",
              "                                                       max_features=8,\n",
              "                                                       max_leaf_nodes=None,\n",
              "                                                       min_impurity_decrease=0.0,\n",
              "                                                       min_impurity_split=None,\n",
              "                                                       min_samples_leaf=1,\n",
              "                                                       min_samples_split=2,\n",
              "                                                       min_weight_fraction_leaf=0.0,\n",
              "                                                       n_estimators=30,\n",
              "                                                       n_jobs=None,\n",
              "                                                       oob_score=False,\n",
              "                                                       random_state...\n",
              "                   meta_classifier=LogisticRegression(C=1.0, class_weight=None,\n",
              "                                                      dual=False,\n",
              "                                                      fit_intercept=True,\n",
              "                                                      intercept_scaling=1,\n",
              "                                                      l1_ratio=None,\n",
              "                                                      max_iter=100,\n",
              "                                                      multi_class='warn',\n",
              "                                                      n_jobs=None, penalty='l2',\n",
              "                                                      random_state=42,\n",
              "                                                      solver='liblinear',\n",
              "                                                      tol=0.0001, verbose=0,\n",
              "                                                      warm_start=False),\n",
              "                   store_train_meta_features=False, use_clones=True,\n",
              "                   use_features_in_secondary=False, use_probas=False,\n",
              "                   verbose=0)"
            ]
          },
          "metadata": {
            "tags": []
          },
          "execution_count": 40
        }
      ]
    },
    {
      "cell_type": "code",
      "metadata": {
        "id": "dZhtJktzdRUT",
        "colab_type": "code",
        "colab": {}
      },
      "source": [
        ""
      ],
      "execution_count": 0,
      "outputs": []
    },
    {
      "cell_type": "code",
      "metadata": {
        "id": "swwfyOcMh2-U",
        "colab_type": "code",
        "colab": {}
      },
      "source": [
        "from sklearn.svm import SVC\n",
        "\n",
        "poly_kernel_svm_clf = Pipeline([\n",
        "        (\"scaler\", StandardScaler()),\n",
        "        (\"svm_clf\", SVC(kernel=\"poly\", degree=3, coef0=1, C=5))\n",
        "    ])\n"
      ],
      "execution_count": 0,
      "outputs": []
    },
    {
      "cell_type": "code",
      "metadata": {
        "id": "K5Xjtnh5LJ1i",
        "colab_type": "code",
        "colab": {}
      },
      "source": [
        "from sklearn.datasets import make_moons\n",
        "from sklearn.pipeline import Pipeline\n",
        "from sklearn.svm import SVC\n",
        "from sklearn.preprocessing import PolynomialFeatures\n",
        "\n",
        "polynomial_svm_clf = Pipeline([\n",
        "        (\"poly_features\", PolynomialFeatures(degree=3)),\n",
        "        (\"scaler\", StandardScaler()),\n",
        "        (\"svm_clf\", SVC(kernel=\"poly\", degree=3, coef0=1, C=5))\n",
        "    ])\n",
        "\n"
      ],
      "execution_count": 0,
      "outputs": []
    },
    {
      "cell_type": "code",
      "metadata": {
        "id": "FIHEJUlFOPJQ",
        "colab_type": "code",
        "outputId": "5c6d0ce5-527f-40f1-a55a-f0f556c97009",
        "colab": {
          "base_uri": "https://localhost:8080/",
          "height": 630
        }
      },
      "source": [
        "plt.figure(figsize=(11, 4))\n",
        "\n",
        "plt.subplot(121)\n",
        "plot_predictions(polynomial_svm_clf, [-1.5, 2.5, -1, 1.5])\n",
        "plot_dataset(X_train, y_train, [-1.5, 2.5, -1, 1.5])\n",
        "plt.title(r\"$d=3, r=1, C=5$\", fontsize=18)\n",
        "\n",
        "\n",
        "\n",
        "save_fig(\"moons_kernelized_polynomial_svc_plot\")\n",
        "plt.show()"
      ],
      "execution_count": 0,
      "outputs": [
        {
          "output_type": "error",
          "ename": "ValueError",
          "evalue": "ignored",
          "traceback": [
            "\u001b[0;31m---------------------------------------------------------------------------\u001b[0m",
            "\u001b[0;31mValueError\u001b[0m                                Traceback (most recent call last)",
            "\u001b[0;32m<ipython-input-64-275bc04577b6>\u001b[0m in \u001b[0;36m<module>\u001b[0;34m()\u001b[0m\n\u001b[1;32m      2\u001b[0m \u001b[0;34m\u001b[0m\u001b[0m\n\u001b[1;32m      3\u001b[0m \u001b[0mplt\u001b[0m\u001b[0;34m.\u001b[0m\u001b[0msubplot\u001b[0m\u001b[0;34m(\u001b[0m\u001b[0;36m121\u001b[0m\u001b[0;34m)\u001b[0m\u001b[0;34m\u001b[0m\u001b[0;34m\u001b[0m\u001b[0m\n\u001b[0;32m----> 4\u001b[0;31m \u001b[0mplot_predictions\u001b[0m\u001b[0;34m(\u001b[0m\u001b[0mpolynomial_svm_clf\u001b[0m\u001b[0;34m,\u001b[0m \u001b[0;34m[\u001b[0m\u001b[0;34m-\u001b[0m\u001b[0;36m1.5\u001b[0m\u001b[0;34m,\u001b[0m \u001b[0;36m2.5\u001b[0m\u001b[0;34m,\u001b[0m \u001b[0;34m-\u001b[0m\u001b[0;36m1\u001b[0m\u001b[0;34m,\u001b[0m \u001b[0;36m1.5\u001b[0m\u001b[0;34m]\u001b[0m\u001b[0;34m)\u001b[0m\u001b[0;34m\u001b[0m\u001b[0;34m\u001b[0m\u001b[0m\n\u001b[0m\u001b[1;32m      5\u001b[0m \u001b[0mplot_dataset\u001b[0m\u001b[0;34m(\u001b[0m\u001b[0mX_train\u001b[0m\u001b[0;34m,\u001b[0m \u001b[0my_train\u001b[0m\u001b[0;34m,\u001b[0m \u001b[0;34m[\u001b[0m\u001b[0;34m-\u001b[0m\u001b[0;36m1.5\u001b[0m\u001b[0;34m,\u001b[0m \u001b[0;36m2.5\u001b[0m\u001b[0;34m,\u001b[0m \u001b[0;34m-\u001b[0m\u001b[0;36m1\u001b[0m\u001b[0;34m,\u001b[0m \u001b[0;36m1.5\u001b[0m\u001b[0;34m]\u001b[0m\u001b[0;34m)\u001b[0m\u001b[0;34m\u001b[0m\u001b[0;34m\u001b[0m\u001b[0m\n\u001b[1;32m      6\u001b[0m \u001b[0mplt\u001b[0m\u001b[0;34m.\u001b[0m\u001b[0mtitle\u001b[0m\u001b[0;34m(\u001b[0m\u001b[0;34mr\"$d=3, r=1, C=5$\"\u001b[0m\u001b[0;34m,\u001b[0m \u001b[0mfontsize\u001b[0m\u001b[0;34m=\u001b[0m\u001b[0;36m18\u001b[0m\u001b[0;34m)\u001b[0m\u001b[0;34m\u001b[0m\u001b[0;34m\u001b[0m\u001b[0m\n",
            "\u001b[0;32m<ipython-input-57-65d53fba9227>\u001b[0m in \u001b[0;36mplot_predictions\u001b[0;34m(clf, axes)\u001b[0m\n\u001b[1;32m      4\u001b[0m     \u001b[0mx0\u001b[0m\u001b[0;34m,\u001b[0m \u001b[0mx1\u001b[0m \u001b[0;34m=\u001b[0m \u001b[0mnp\u001b[0m\u001b[0;34m.\u001b[0m\u001b[0mmeshgrid\u001b[0m\u001b[0;34m(\u001b[0m\u001b[0mx0s\u001b[0m\u001b[0;34m,\u001b[0m \u001b[0mx1s\u001b[0m\u001b[0;34m)\u001b[0m\u001b[0;34m\u001b[0m\u001b[0;34m\u001b[0m\u001b[0m\n\u001b[1;32m      5\u001b[0m     \u001b[0mX\u001b[0m \u001b[0;34m=\u001b[0m \u001b[0mnp\u001b[0m\u001b[0;34m.\u001b[0m\u001b[0mc_\u001b[0m\u001b[0;34m[\u001b[0m\u001b[0mx0\u001b[0m\u001b[0;34m.\u001b[0m\u001b[0mravel\u001b[0m\u001b[0;34m(\u001b[0m\u001b[0;34m)\u001b[0m\u001b[0;34m,\u001b[0m \u001b[0mx1\u001b[0m\u001b[0;34m.\u001b[0m\u001b[0mravel\u001b[0m\u001b[0;34m(\u001b[0m\u001b[0;34m)\u001b[0m\u001b[0;34m]\u001b[0m\u001b[0;34m\u001b[0m\u001b[0;34m\u001b[0m\u001b[0m\n\u001b[0;32m----> 6\u001b[0;31m     \u001b[0my_pred\u001b[0m \u001b[0;34m=\u001b[0m \u001b[0mclf\u001b[0m\u001b[0;34m.\u001b[0m\u001b[0mpredict\u001b[0m\u001b[0;34m(\u001b[0m\u001b[0mX\u001b[0m\u001b[0;34m)\u001b[0m\u001b[0;34m.\u001b[0m\u001b[0mreshape\u001b[0m\u001b[0;34m(\u001b[0m\u001b[0mx0\u001b[0m\u001b[0;34m.\u001b[0m\u001b[0mshape\u001b[0m\u001b[0;34m)\u001b[0m\u001b[0;34m\u001b[0m\u001b[0;34m\u001b[0m\u001b[0m\n\u001b[0m\u001b[1;32m      7\u001b[0m     \u001b[0my_decision\u001b[0m \u001b[0;34m=\u001b[0m \u001b[0mclf\u001b[0m\u001b[0;34m.\u001b[0m\u001b[0mdecision_function\u001b[0m\u001b[0;34m(\u001b[0m\u001b[0mX\u001b[0m\u001b[0;34m)\u001b[0m\u001b[0;34m.\u001b[0m\u001b[0mreshape\u001b[0m\u001b[0;34m(\u001b[0m\u001b[0mx0\u001b[0m\u001b[0;34m.\u001b[0m\u001b[0mshape\u001b[0m\u001b[0;34m)\u001b[0m\u001b[0;34m\u001b[0m\u001b[0;34m\u001b[0m\u001b[0m\n\u001b[1;32m      8\u001b[0m     \u001b[0mplt\u001b[0m\u001b[0;34m.\u001b[0m\u001b[0mcontourf\u001b[0m\u001b[0;34m(\u001b[0m\u001b[0mx0\u001b[0m\u001b[0;34m,\u001b[0m \u001b[0mx1\u001b[0m\u001b[0;34m,\u001b[0m \u001b[0my_pred\u001b[0m\u001b[0;34m,\u001b[0m \u001b[0mcmap\u001b[0m\u001b[0;34m=\u001b[0m\u001b[0mplt\u001b[0m\u001b[0;34m.\u001b[0m\u001b[0mcm\u001b[0m\u001b[0;34m.\u001b[0m\u001b[0mbrg\u001b[0m\u001b[0;34m,\u001b[0m \u001b[0malpha\u001b[0m\u001b[0;34m=\u001b[0m\u001b[0;36m0.2\u001b[0m\u001b[0;34m)\u001b[0m\u001b[0;34m\u001b[0m\u001b[0;34m\u001b[0m\u001b[0m\n",
            "\u001b[0;32m/usr/local/lib/python3.6/dist-packages/sklearn/utils/metaestimators.py\u001b[0m in \u001b[0;36m<lambda>\u001b[0;34m(*args, **kwargs)\u001b[0m\n\u001b[1;32m    114\u001b[0m \u001b[0;34m\u001b[0m\u001b[0m\n\u001b[1;32m    115\u001b[0m         \u001b[0;31m# lambda, but not partial, allows help() to work with update_wrapper\u001b[0m\u001b[0;34m\u001b[0m\u001b[0;34m\u001b[0m\u001b[0;34m\u001b[0m\u001b[0m\n\u001b[0;32m--> 116\u001b[0;31m         \u001b[0mout\u001b[0m \u001b[0;34m=\u001b[0m \u001b[0;32mlambda\u001b[0m \u001b[0;34m*\u001b[0m\u001b[0margs\u001b[0m\u001b[0;34m,\u001b[0m \u001b[0;34m**\u001b[0m\u001b[0mkwargs\u001b[0m\u001b[0;34m:\u001b[0m \u001b[0mself\u001b[0m\u001b[0;34m.\u001b[0m\u001b[0mfn\u001b[0m\u001b[0;34m(\u001b[0m\u001b[0mobj\u001b[0m\u001b[0;34m,\u001b[0m \u001b[0;34m*\u001b[0m\u001b[0margs\u001b[0m\u001b[0;34m,\u001b[0m \u001b[0;34m**\u001b[0m\u001b[0mkwargs\u001b[0m\u001b[0;34m)\u001b[0m\u001b[0;34m\u001b[0m\u001b[0;34m\u001b[0m\u001b[0m\n\u001b[0m\u001b[1;32m    117\u001b[0m         \u001b[0;31m# update the docstring of the returned function\u001b[0m\u001b[0;34m\u001b[0m\u001b[0;34m\u001b[0m\u001b[0;34m\u001b[0m\u001b[0m\n\u001b[1;32m    118\u001b[0m         \u001b[0mupdate_wrapper\u001b[0m\u001b[0;34m(\u001b[0m\u001b[0mout\u001b[0m\u001b[0;34m,\u001b[0m \u001b[0mself\u001b[0m\u001b[0;34m.\u001b[0m\u001b[0mfn\u001b[0m\u001b[0;34m)\u001b[0m\u001b[0;34m\u001b[0m\u001b[0;34m\u001b[0m\u001b[0m\n",
            "\u001b[0;32m/usr/local/lib/python3.6/dist-packages/sklearn/pipeline.py\u001b[0m in \u001b[0;36mpredict\u001b[0;34m(self, X, **predict_params)\u001b[0m\n\u001b[1;32m    419\u001b[0m         \u001b[0mXt\u001b[0m \u001b[0;34m=\u001b[0m \u001b[0mX\u001b[0m\u001b[0;34m\u001b[0m\u001b[0;34m\u001b[0m\u001b[0m\n\u001b[1;32m    420\u001b[0m         \u001b[0;32mfor\u001b[0m \u001b[0m_\u001b[0m\u001b[0;34m,\u001b[0m \u001b[0mname\u001b[0m\u001b[0;34m,\u001b[0m \u001b[0mtransform\u001b[0m \u001b[0;32min\u001b[0m \u001b[0mself\u001b[0m\u001b[0;34m.\u001b[0m\u001b[0m_iter\u001b[0m\u001b[0;34m(\u001b[0m\u001b[0mwith_final\u001b[0m\u001b[0;34m=\u001b[0m\u001b[0;32mFalse\u001b[0m\u001b[0;34m)\u001b[0m\u001b[0;34m:\u001b[0m\u001b[0;34m\u001b[0m\u001b[0;34m\u001b[0m\u001b[0m\n\u001b[0;32m--> 421\u001b[0;31m             \u001b[0mXt\u001b[0m \u001b[0;34m=\u001b[0m \u001b[0mtransform\u001b[0m\u001b[0;34m.\u001b[0m\u001b[0mtransform\u001b[0m\u001b[0;34m(\u001b[0m\u001b[0mXt\u001b[0m\u001b[0;34m)\u001b[0m\u001b[0;34m\u001b[0m\u001b[0;34m\u001b[0m\u001b[0m\n\u001b[0m\u001b[1;32m    422\u001b[0m         \u001b[0;32mreturn\u001b[0m \u001b[0mself\u001b[0m\u001b[0;34m.\u001b[0m\u001b[0msteps\u001b[0m\u001b[0;34m[\u001b[0m\u001b[0;34m-\u001b[0m\u001b[0;36m1\u001b[0m\u001b[0;34m]\u001b[0m\u001b[0;34m[\u001b[0m\u001b[0;34m-\u001b[0m\u001b[0;36m1\u001b[0m\u001b[0;34m]\u001b[0m\u001b[0;34m.\u001b[0m\u001b[0mpredict\u001b[0m\u001b[0;34m(\u001b[0m\u001b[0mXt\u001b[0m\u001b[0;34m,\u001b[0m \u001b[0;34m**\u001b[0m\u001b[0mpredict_params\u001b[0m\u001b[0;34m)\u001b[0m\u001b[0;34m\u001b[0m\u001b[0;34m\u001b[0m\u001b[0m\n\u001b[1;32m    423\u001b[0m \u001b[0;34m\u001b[0m\u001b[0m\n",
            "\u001b[0;32m/usr/local/lib/python3.6/dist-packages/sklearn/preprocessing/data.py\u001b[0m in \u001b[0;36mtransform\u001b[0;34m(self, X)\u001b[0m\n\u001b[1;32m   1506\u001b[0m \u001b[0;34m\u001b[0m\u001b[0m\n\u001b[1;32m   1507\u001b[0m         \u001b[0;32mif\u001b[0m \u001b[0mn_features\u001b[0m \u001b[0;34m!=\u001b[0m \u001b[0mself\u001b[0m\u001b[0;34m.\u001b[0m\u001b[0mn_input_features_\u001b[0m\u001b[0;34m:\u001b[0m\u001b[0;34m\u001b[0m\u001b[0;34m\u001b[0m\u001b[0m\n\u001b[0;32m-> 1508\u001b[0;31m             \u001b[0;32mraise\u001b[0m \u001b[0mValueError\u001b[0m\u001b[0;34m(\u001b[0m\u001b[0;34m\"X shape does not match training shape\"\u001b[0m\u001b[0;34m)\u001b[0m\u001b[0;34m\u001b[0m\u001b[0;34m\u001b[0m\u001b[0m\n\u001b[0m\u001b[1;32m   1509\u001b[0m \u001b[0;34m\u001b[0m\u001b[0m\n\u001b[1;32m   1510\u001b[0m         \u001b[0;32mif\u001b[0m \u001b[0msparse\u001b[0m\u001b[0;34m.\u001b[0m\u001b[0misspmatrix_csr\u001b[0m\u001b[0;34m(\u001b[0m\u001b[0mX\u001b[0m\u001b[0;34m)\u001b[0m\u001b[0;34m:\u001b[0m\u001b[0;34m\u001b[0m\u001b[0;34m\u001b[0m\u001b[0m\n",
            "\u001b[0;31mValueError\u001b[0m: X shape does not match training shape"
          ]
        },
        {
          "output_type": "display_data",
          "data": {
            "image/png": "[encoded data removed]",
            "text/plain": [
              "<Figure size 792x288 with 1 Axes>"
            ]
          },
          "metadata": {
            "tags": []
          }
        }
      ]
    },
    {
      "cell_type": "code",
      "metadata": {
        "id": "Y_j7fdx8kzJd",
        "colab_type": "code",
        "outputId": "781152b0-012e-4515-99b5-2bec5bf394c0",
        "colab": {
          "resources": {
            "http://localhost:8080/nbextensions/google.colab/files.js": {
              "data": "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",
              "ok": true,
              "headers": [
                [
                  "content-type",
                  "application/javascript"
                ]
              ],
              "status": 200,
              "status_text": ""
            }
          },
          "base_uri": "https://localhost:8080/",
          "height": 111
        }
      },
      "source": [
        "from google.colab import files\n",
        "files.upload()"
      ],
      "execution_count": 0,
      "outputs": [
        {
          "output_type": "display_data",
          "data": {
            "text/html": [
              "\n",
              "     <input type=\"file\" id=\"files-0ca8cd74-9dac-430f-a294-b477647a75f2\" name=\"files[]\" multiple disabled />\n",
              "     <output id=\"result-0ca8cd74-9dac-430f-a294-b477647a75f2\">\n",
              "      Upload widget is only available when the cell has been executed in the\n",
              "      current browser session. Please rerun this cell to enable.\n",
              "      </output>\n",
              "      <script src=\"/nbextensions/google.colab/files.js\"></script> "
            ],
            "text/plain": [
              "<IPython.core.display.HTML object>"
            ]
          },
          "metadata": {
            "tags": []
          }
        },
        {
          "output_type": "stream",
          "text": [
            "Saving xtest.csv to xtest.csv\n"
          ],
          "name": "stdout"
        },
        {
          "output_type": "execute_result",
          "data": {
            "text/plain": [
              "{'xtest.csv': b'ID,Homepage,Homepage _Duration,Aboutus,Aboutus_Duration,Contactus,Contactus_Duration,BounceRates,ExitRates,PageValues,SpecialDay,Month,OperatingSystems,Browser,Province,TrafficType,VisitorType,Weekend\\r\\n1,0,0,0,0,1,0,0.2,0.2,0,0,May,1,1,1,1,Returning_Visitor,FALSE\\r\\n2,0,0,0,0,24,743.75,0,0.016666667,0,0,Dec,2,2,2,2,New_Visitor,TRUE\\r\\n3,0,0,0,0,13,129.5,0.015384615,0.053846154,0,0,Nov,2,2,3,1,Returning_Visitor,FALSE\\r\\n4,3,84,0,0,59,1720.422222,0.026984127,0.038231522,0,0,Oct,3,2,1,3,Returning_Visitor,TRUE\\r\\n5,0,0,0,0,13,390.5,0.038461538,0.053846154,0,0,Dec,2,2,1,13,Returning_Visitor,FALSE\\r\\n6,0,0,0,0,12,259.5,0.008333333,0.033333333,0,0,May,2,4,6,6,Returning_Visitor,FALSE\\r\\n7,3,86.33333333,0,0,14,1256.333333,0,0.023076923,0,0,Nov,1,1,4,2,Returning_Visitor,FALSE\\r\\n8,0,0,0,0,5,182.625,0,0.008,0,0,Dec,3,2,8,13,Returning_Visitor,FALSE\\r\\n9,0,0,1,0,50,1115.459524,0.007843137,0.015686275,0,0,May,3,2,6,4,Returning_Visitor,TRUE\\r\\n10,6,32.5,2,62.5,80,1190.418903,0.005714286,0.027420635,7.530107143,0.8,May,2,2,1,4,Returning_Visitor,FALSE\\r\\n11,0,0,0,0,9,104.8333333,0.022222222,0.072222222,0,0,Mar,2,2,4,2,Returning_Visitor,FALSE\\r\\n12,0,0,0,0,30,1285.166667,0.002758621,0.022660099,0,0,Nov,3,3,1,8,Returning_Visitor,TRUE\\r\\n13,0,0,0,0,15,337,0.02,0.032222222,0,0,Jul,1,8,1,1,Returning_Visitor,FALSE\\r\\n14,0,0,0,0,35,1608.7,0,0.002857143,0,0,Sep,2,4,3,2,New_Visitor,FALSE\\r\\n15,0,0,1,0,0,0,0.2,0.2,0,0,Nov,1,1,4,15,Returning_Visitor,FALSE\\r\\n16,0,0,0,0,4,10,0.1,0.15,0,0,Nov,2,2,1,1,Returning_Visitor,FALSE\\r\\n17,0,0,0,0,28,2076.966667,0.003846154,0.017948718,0,0,Dec,2,2,8,2,Returning_Visitor,FALSE\\r\\n18,3,80.6,2,112.8,10,390.2,0,0.015384615,0,0,Oct,2,5,3,20,Returning_Visitor,FALSE\\r\\n19,0,0,0,0,12,366.5,0,0.016666667,287.9537928,0,Dec,2,2,1,2,New_Visitor,FALSE\\r\\n20,2,46.4,0,0,16,463.36,0,0.011111111,46.33991252,0,Sep,2,2,7,2,Returning_Visitor,FALSE\\r\\n21,0,0,0,0,3,23,0.044444444,0.111111111,0,0.8,May,2,2,6,1,Returning_Visitor,FALSE\\r\\n22,7,79.5,2,31.5,65,5410.956705,0.002898551,0.019031516,0,0,Nov,2,2,3,2,Returning_Visitor,FALSE\\r\\n23,2,45,0,0,9,96.46666667,0,0.018181818,0,0,Mar,2,2,3,1,Returning_Visitor,FALSE\\r\\n24,8,352.2428571,6,241.5,45,1998.444081,0.009090909,0.01644733,2.842307011,0,Mar,3,2,1,2,Returning_Visitor,TRUE\\r\\n25,15,275.9104437,6,606.75,47,1813.86461,0.007377049,0.019090804,9.417272131,0,May,3,2,4,6,Returning_Visitor,TRUE\\r\\n26,0,0,0,0,15,2653.5,0,0.04,0,0,Sep,4,1,7,1,Returning_Visitor,FALSE\\r\\n27,9,443.2916667,1,0,74,3615.889239,0.007028112,0.016930138,1.119759036,0.8,May,2,2,3,1,Returning_Visitor,FALSE\\r\\n28,0,0,0,0,15,143.75,0.08,0.091555556,0,0.6,May,3,2,1,13,Returning_Visitor,FALSE\\r\\n29,5,548.3142857,6,448.5,102,5703.476786,0.00173913,0.01470751,0,0,May,2,2,1,4,Returning_Visitor,TRUE\\r\\n30,0,0,0,0,6,184,0.066666667,0.116666667,0,0,Nov,2,10,4,3,Returning_Visitor,FALSE\\r\\n31,6,112.5,0,0,86,2041.23355,0.000387597,0.00786268,5.911452178,0,Nov,2,4,1,2,Returning_Visitor,FALSE\\r\\n32,2,844,0,0,6,192.5,0.05,0.075,0,0.6,May,3,2,6,2,Returning_Visitor,FALSE\\r\\n33,0,0,0,0,2,222,0,0.1,0,0,Feb,2,6,1,2,Returning_Visitor,TRUE\\r\\n34,2,46.4,0,0,8,349,0.02,0.08,0,0,Aug,4,1,1,1,Returning_Visitor,FALSE\\r\\n35,3,304,0,0,31,1735.301587,0.015625,0.0515625,0,0,Mar,1,1,2,1,Returning_Visitor,FALSE\\r\\n36,0,0,0,0,17,437.1666667,0.011111111,0.033333333,0,0,Feb,2,4,1,3,Returning_Visitor,FALSE\\r\\n37,5,65.5,0,0,27,354.5833333,0.014285714,0.023809524,0,0,Nov,1,1,8,1,Returning_Visitor,FALSE\\r\\n38,10,161.7083333,1,0,126,2645.833333,0.004511278,0.01597088,2.776907268,0.6,May,3,2,2,3,Returning_Visitor,FALSE\\r\\n39,12,633.5,0,0,28,752.7166667,0,0.017027417,0,0,May,2,2,1,2,Returning_Visitor,TRUE\\r\\n40,0,0,0,0,19,528.25,0,0.005263158,0,0,Sep,2,2,5,2,Returning_Visitor,FALSE\\r\\n41,1,41,0,0,43,1087.25,0,0.013636364,0,0,Mar,4,2,1,1,Returning_Visitor,FALSE\\r\\n42,0,0,0,0,48,2235,0.004347826,0.025362319,9.127391304,0,May,2,2,7,2,Returning_Visitor,TRUE\\r\\n43,0,0,0,0,39,963.1666667,0.005405405,0.028828829,9.922972973,0.6,May,2,6,2,3,Returning_Visitor,FALSE\\r\\n44,0,0,0,0,18,5188.5,0,0.05,0,0,Mar,2,5,1,1,Returning_Visitor,FALSE\\r\\n45,1,22.2,0,0,5,136.1,0.066666667,0.066666667,0,0,Oct,1,1,1,20,Returning_Visitor,FALSE\\r\\n46,1,15,0,0,29,1397.5,0.011555556,0.046190476,0,0.8,May,2,4,7,3,Returning_Visitor,FALSE\\r\\n47,8,146.5333333,0,0,107,3739.635556,0,0.009316239,2.551140814,0,Oct,2,2,3,2,Returning_Visitor,FALSE\\r\\n48,4,88.625,3,170.5833333,5,124.9583333,0,0.005555556,0,0,Nov,2,4,7,2,New_Visitor,FALSE\\r\\n49,6,326.25,4,94,128,5062.213753,0.000854701,0.01791847,0,0,Feb,2,5,1,3,Returning_Visitor,FALSE\\r\\n50,2,109.8,0,0,32,897.3619048,0.005882353,0.035620915,0,0,Sep,2,10,4,2,Returning_Visitor,FALSE\\r\\n51,0,0,0,0,12,213.2833333,0.016666667,0.041666667,0,0,Aug,3,2,3,4,Returning_Visitor,FALSE\\r\\n52,0,0,0,0,52,2086.242857,0.015384615,0.020352564,0,0,Feb,2,2,7,1,Returning_Visitor,FALSE\\r\\n53,0,0,0,0,11,1390.166667,0.012121212,0.014545455,0,0,Mar,1,1,1,3,Returning_Visitor,TRUE\\r\\n54,4,134.1,0,0,7,110.3,0,0.015151515,0,0,Sep,3,2,1,5,New_Visitor,FALSE\\r\\n55,0,0,0,0,1,0,0.2,0.2,0,0,May,2,2,6,4,Returning_Visitor,FALSE\\r\\n56,1,0,0,0,8,436,0,0.022222222,0,0,Mar,2,4,6,1,Returning_Visitor,TRUE\\r\\n57,0,0,0,0,9,324.5,0.014814815,0.022222222,0,0,Mar,1,2,6,1,Returning_Visitor,FALSE\\r\\n58,1,80,2,48,25,879.6666667,0,0.007692308,0,0,May,1,1,4,2,New_Visitor,TRUE\\r\\n59,3,209,0,0,18,412.3333333,0,0.01875,0,0.4,May,3,2,3,3,Returning_Visitor,FALSE\\r\\n60,3,148,2,58.5,33,1847.211905,0,0.007830405,0,0,May,2,4,3,2,Returning_Visitor,FALSE\\r\\n61,2,11,0,0,19,608.9428571,0.009090909,0.041915584,0,0,Mar,2,2,1,1,Returning_Visitor,FALSE\\r\\n62,9,152.875,2,54.91666667,85,2971.254167,0.002197802,0.013631606,1.022550578,0,Nov,2,2,3,1,Returning_Visitor,FALSE\\r\\n63,0,0,1,104,9,244.6666667,0.05,0.096,0,1,May,3,2,3,4,Returning_Visitor,TRUE\\r\\n64,10,1455.35,0,0,66,1646.612195,0.007142857,0.029065112,0,0,Nov,2,2,1,2,Returning_Visitor,TRUE\\r\\n65,0,0,2,172,32,1227.047222,0.005882353,0.015787285,6.380862745,0,May,2,2,1,6,Returning_Visitor,FALSE\\r\\n66,0,0,0,0,14,266.0166667,0,0.042857143,0,0,Mar,3,2,1,1,Returning_Visitor,TRUE\\r\\n67,0,0,0,0,1,0,0.2,0.2,0,0,Dec,2,2,1,3,Returning_Visitor,FALSE\\r\\n68,1,81,0,0,12,131.5,0,0.003076923,0,1,May,3,2,1,4,Returning_Visitor,TRUE\\r\\n69,0,0,1,38,10,311,0.018181818,0.036363636,0,0,May,2,10,2,4,Returning_Visitor,TRUE\\r\\n70,0,0,0,0,2,31,0,0.025,0,0,Mar,3,2,3,3,Returning_Visitor,FALSE\\r\\n71,15,591.6636364,0,0,56,2504.413636,0.004918033,0.011662763,8.184095082,0,May,3,2,1,2,Returning_Visitor,FALSE\\r\\n72,1,2,0,0,24,958.25,0.025,0.035,24.34016667,0,May,2,2,1,6,Returning_Visitor,FALSE\\r\\n73,0,0,0,0,12,1165.333333,0.004166667,0.043055556,0,0,Mar,2,2,3,2,Returning_Visitor,FALSE\\r\\n74,0,0,0,0,7,42,0.057142857,0.085714286,0,0,Dec,2,4,6,1,Returning_Visitor,TRUE\\r\\n75,2,60,0,0,20,717.6166667,0,0.004761905,60.19477937,0,Mar,2,5,9,2,Returning_Visitor,FALSE\\r\\n76,0,0,0,0,6,399,0.033333333,0.022222222,44.99,0,May,3,2,2,5,Returning_Visitor,FALSE\\r\\n77,1,7,0,0,11,98.1,0.035555556,0.058412698,0,0,June,1,1,1,20,Returning_Visitor,FALSE\\r\\n78,1,7,2,562,36,1300.190476,0.010810811,0.038738739,0,0,Mar,2,2,1,1,Returning_Visitor,TRUE\\r\\n79,4,71.33333333,0,0,21,295.3333333,0.016666667,0.058333333,0,0,Jul,2,10,3,2,Returning_Visitor,TRUE\\r\\n80,0,0,0,0,5,270.5833333,0.04,0.07,0,0,Dec,1,1,5,8,Returning_Visitor,TRUE\\r\\n81,0,0,0,0,2,30.5,0,0.05,0,0,Mar,3,2,4,10,Returning_Visitor,FALSE\\r\\n82,8,246.5,0,0,74,2326.666667,0,0.002597403,5.015272727,0,May,2,4,3,2,New_Visitor,FALSE\\r\\n83,0,0,0,0,15,263.25,0.013333333,0.04,0,0,Nov,1,1,3,10,Returning_Visitor,TRUE\\r\\n84,4,56,1,88,22,1734.780952,0,0.010142857,0,0,Mar,3,2,3,9,Returning_Visitor,TRUE\\r\\n85,2,180.9,0,0,26,1030.06,0,0.005952381,0,0,Aug,3,2,6,2,New_Visitor,FALSE\\r\\n86,0,0,0,0,7,96,0,0.025,54.20146753,0,Nov,2,2,1,2,New_Visitor,FALSE\\r\\n87,0,0,0,0,7,98.5,0.071428571,0.1,0,0,Mar,1,1,6,1,Returning_Visitor,FALSE\\r\\n88,0,0,0,0,25,1320.5,0,0.030666667,0,0.8,May,2,10,1,1,Returning_Visitor,FALSE\\r\\n89,1,4,0,0,47,2386.066667,0.004444444,0.030864198,0,0,Nov,2,2,1,1,Returning_Visitor,FALSE\\r\\n90,0,0,0,0,15,638.6428571,0.003571429,0.053571429,0,0,Mar,3,2,1,1,Returning_Visitor,FALSE\\r\\n91,4,292.1904762,1,194.5,56,1948.713745,0.001724138,0.021055381,14.69293103,0,May,1,2,3,2,Returning_Visitor,FALSE\\r\\n92,0,0,0,0,3,106.5,0,0.033333333,0,0,May,3,2,2,13,Returning_Visitor,FALSE\\r\\n93,1,112.8,0,0,8,543.7333333,0,0.011111111,28.69843548,0,Oct,1,1,6,2,New_Visitor,TRUE\\r\\n94,0,0,0,0,4,121.5,0,0.05,0,0,Nov,1,1,4,8,Returning_Visitor,FALSE\\r\\n95,0,0,0,0,4,44.4,0,0.05,0,0,June,2,10,1,3,Returning_Visitor,FALSE\\r\\n96,1,72.6,0,0,44,1256.825,0,0,0,0,Nov,1,1,4,5,New_Visitor,FALSE\\r\\n97,6,239.3333333,0,0,31,1875.169444,0,0.025324675,21.85958403,0,Nov,1,1,1,2,Returning_Visitor,FALSE\\r\\n98,0,0,0,0,29,1102.85,0.009195402,0.028275862,0,0,Nov,1,1,1,3,Returning_Visitor,FALSE\\r\\n99,12,155.6,6,282,52,1283.052597,0.024747475,0.039201413,12.07468889,0,May,1,1,3,2,Returning_Visitor,FALSE\\r\\n100,0,0,0,0,3,79,0,0.033333333,0,0,Nov,1,2,1,1,Returning_Visitor,FALSE\\r\\n101,1,216.6,0,0,34,1463.8,0.006060606,0.007575758,0,0,Nov,1,1,8,2,Returning_Visitor,FALSE\\r\\n102,2,310.8571429,3,27,68,2950.62381,0.009589041,0.023074581,16.6702274,0,May,2,2,7,6,Returning_Visitor,FALSE\\r\\n103,22,438.3309524,3,703.5,178,6241.687398,0.002878526,0.016885589,2.038399449,0,Nov,2,2,1,10,Returning_Visitor,FALSE\\r\\n104,1,14.2,0,0,22,839.568189,0,0.000952381,60.58437066,0,Nov,3,2,3,2,New_Visitor,TRUE\\r\\n105,4,190,0,0,53,1328.626894,0.017857143,0.022238793,0,0,Dec,1,1,1,10,Returning_Visitor,TRUE\\r\\n106,0,0,0,0,23,647.1428571,0.004347826,0.022222222,0,0,Nov,1,8,1,11,Returning_Visitor,TRUE\\r\\n107,0,0,0,0,30,1281,0.006666667,0.02,0,0,Mar,2,4,2,1,Returning_Visitor,FALSE\\r\\n108,3,78,0,0,27,672.5833333,0.0125,0.039583333,8.07853125,0,May,2,2,4,4,Returning_Visitor,FALSE\\r\\n109,0,0,0,0,13,737.1666667,0.038461538,0.084615385,0,0,Nov,3,2,3,13,Returning_Visitor,FALSE\\r\\n110,1,0,0,0,2,66.5,0,0.1,0,0,Dec,2,2,9,2,Returning_Visitor,TRUE\\r\\n111,4,251,9,172,64,4326.666667,0.008552632,0.024502924,0,0,Dec,2,2,4,2,Returning_Visitor,FALSE\\r\\n112,5,69.6,3,53,6,92.7,0,0.02,0,0,Jul,2,6,1,3,New_Visitor,TRUE\\r\\n113,0,0,0,0,1,0,0.2,0.2,0,0,May,1,1,4,3,Returning_Visitor,FALSE\\r\\n114,0,0,0,0,13,323.3,0.084615385,0.102564103,0,0,June,3,2,1,1,Returning_Visitor,FALSE\\r\\n115,0,0,0,0,1,0,0.2,0.2,0,0,May,3,2,3,1,Returning_Visitor,FALSE\\r\\n116,0,0,0,0,1,0,0.2,0.2,0,0.4,May,1,1,1,3,Returning_Visitor,FALSE\\r\\n117,0,0,0,0,54,3978.245833,0.003846154,0.024807692,0,0,Nov,2,2,6,1,Returning_Visitor,TRUE\\r\\n118,9,184,5,61,68,1986.251515,0,0.009553204,17.19611523,0,May,2,6,2,3,Returning_Visitor,FALSE\\r\\n119,4,32,1,43.5,311,12500.35306,0.001387656,0.014687275,0,0,Nov,2,2,7,2,Returning_Visitor,FALSE\\r\\n120,1,82,0,0,59,1927.122222,0.007909605,0.023728814,23.87629104,0,May,2,2,9,13,Returning_Visitor,FALSE\\r\\n121,2,10.77142857,0,0,70,2094.138889,0.023611111,0.05224537,0,0,Jul,2,2,3,1,Returning_Visitor,FALSE\\r\\n122,2,146,2,52.25,1,0,0,0.04,0,0,Dec,1,1,1,2,Returning_Visitor,FALSE\\r\\n123,1,5,0,0,13,545.5714286,0.013333333,0.020784314,26.12015415,0,Mar,2,2,3,2,Returning_Visitor,TRUE\\r\\n124,0,0,0,0,4,331,0.05,0.1,0,0,Mar,2,2,1,1,Returning_Visitor,FALSE\\r\\n125,1,37,0,0,30,1584.3,0,0.01547619,3.356892857,0,May,3,2,9,4,Returning_Visitor,TRUE\\r\\n126,0,0,0,0,21,1535,0.01,0.048333333,0,0,Nov,2,2,7,3,Returning_Visitor,FALSE\\r\\n127,6,160.0952381,3,94.5,47,1682.870247,0.001333333,0.007891429,5.698642857,0,Mar,3,2,6,10,Returning_Visitor,FALSE\\r\\n128,6,125.5,0,0,19,1409.416667,0.002469136,0.023703704,0,0,Mar,1,8,3,2,Returning_Visitor,FALSE\\r\\n129,5,39,2,12,15,158,0,0.02010582,0,0,May,2,2,9,4,Returning_Visitor,FALSE\\r\\n130,2,24,0,0,28,1206.614719,0,0.023222222,5.417644444,0,Mar,2,2,1,2,Returning_Visitor,FALSE\\r\\n131,0,0,1,83,16,223,0,0.023529412,0,0,Mar,2,2,1,2,Returning_Visitor,FALSE\\r\\n132,6,141.0583333,0,0,46,1728.866268,0,0.019059741,0,0,June,2,2,7,4,Returning_Visitor,FALSE\\r\\n133,2,229.5,0,0,31,1909.232143,0.0125,0.034375,17.15249937,0,Dec,2,2,3,8,Returning_Visitor,FALSE\\r\\n134,0,0,0,0,12,70,0.15,0.166666667,0,0.4,May,1,1,3,3,Returning_Visitor,FALSE\\r\\n135,1,4,0,0,18,631.6666667,0,0.027777778,56.32466667,0,May,2,2,1,3,Returning_Visitor,FALSE\\r\\n136,17,195.4864719,1,60.5,94,2267.472565,0.002111614,0.008213489,4.511078764,0,Nov,3,2,3,2,Returning_Visitor,FALSE\\r\\n137,0,0,0,0,5,156,0,0.04,0,0,Feb,1,1,9,3,Returning_Visitor,FALSE\\r\\n138,1,6,0,0,16,608.8333333,0.011764706,0.026666667,52.70052142,0,Mar,3,2,1,11,Returning_Visitor,FALSE\\r\\n139,5,224.5833333,5,84,15,674.247619,0.008695652,0.013043478,0,0,May,3,2,4,2,Returning_Visitor,FALSE\\r\\n140,0,0,0,0,55,946.3636364,0.010909091,0.025454545,0,0,Nov,2,2,6,1,Returning_Visitor,TRUE\\r\\n141,3,31.2,1,42.4,13,134.45,0,0.0125,0,0,Nov,2,2,6,2,New_Visitor,FALSE\\r\\n142,3,44.75,0,0,7,102,0.066666667,0.074074074,0,0.4,May,3,2,2,13,Returning_Visitor,FALSE\\r\\n143,0,0,0,0,2,16,0,0.1,0,0,Nov,2,2,4,8,Returning_Visitor,FALSE\\r\\n144,0,0,0,0,3,144.5,0,0.1,0,0,Nov,3,2,2,2,New_Visitor,FALSE\\r\\n145,4,100.75,0,0,11,221.375,0,0.015384615,0,0,Nov,2,2,3,2,New_Visitor,TRUE\\r\\n146,8,125.6309524,6,75,312,13379.36658,0.002769231,0.014969192,8.055833998,0,Dec,2,2,4,2,Returning_Visitor,FALSE\\r\\n147,4,40.2,1,0,12,2339.207143,0.011111111,0.036944444,0,0,Nov,1,1,1,2,Returning_Visitor,FALSE\\r\\n148,2,35.2,2,98.8,84,8365.602222,0.008914729,0.037209302,0,0,Sep,2,2,5,1,Returning_Visitor,FALSE\\r\\n149,3,107.2083333,0,0,17,513.25,0,0.012030075,17.54619116,0,Nov,2,2,1,10,Returning_Visitor,FALSE\\r\\n150,0,0,0,0,6,223.3333333,0,0.008333333,0,0,May,2,2,1,2,Returning_Visitor,FALSE\\r\\n151,0,0,0,0,6,181,0,0.016666667,0,0,May,3,2,1,3,Returning_Visitor,FALSE\\r\\n152,3,212.6,0,0,87,3898.816667,0,0.00411985,0,0,Sep,2,2,7,1,Returning_Visitor,FALSE\\r\\n153,0,0,0,0,15,751.8,0.026666667,0.04,0,0,Mar,1,2,2,1,Returning_Visitor,FALSE\\r\\n154,0,0,0,0,1,0,0.2,0.2,0,0,Nov,7,1,1,3,Returning_Visitor,FALSE\\r\\n155,0,0,0,0,12,312.0333333,0,0.009090909,17.808,0,May,2,2,8,6,Returning_Visitor,FALSE\\r\\n156,2,26.75,3,49.5,62,2964.650595,0.010769231,0.026444444,0,0,Dec,3,2,1,2,Returning_Visitor,FALSE\\r\\n157,1,0,0,0,21,658.25,0.035497835,0.057482993,0,0,Nov,3,2,5,13,Returning_Visitor,FALSE\\r\\n158,0,0,0,0,1,0,0.2,0.2,0,0,Nov,4,1,1,10,Returning_Visitor,TRUE\\r\\n159,2,76.5,0,0,10,123.2291667,0.022857143,0.059444444,0,0,Dec,1,2,1,10,Returning_Visitor,FALSE\\r\\n160,0,0,0,0,53,715.5,0.022641509,0.036298293,0,1,May,2,2,7,3,Returning_Visitor,TRUE\\r\\n161,0,0,0,0,14,267.25,0,0.021428571,0,0,Nov,3,2,1,11,New_Visitor,TRUE\\r\\n162,1,19,0,0,8,208,0.04,0.1,0,0,Nov,2,2,1,1,Returning_Visitor,FALSE\\r\\n163,0,0,0,0,4,112.5,0,0.05,0,0,May,3,2,1,6,Returning_Visitor,FALSE\\r\\n164,0,0,0,0,5,138,0.02,0.1,0,0.8,May,2,2,1,4,Returning_Visitor,FALSE\\r\\n165,0,0,0,0,25,316.5416667,0,0.02,0,0,Dec,2,2,9,1,Returning_Visitor,FALSE\\r\\n166,4,106,0,0,6,180.4166667,0,0.025,0,0,Nov,3,6,3,2,New_Visitor,FALSE\\r\\n167,9,227.375,4,102.25,48,2849.482143,0,0.014853801,4.741626063,0,Nov,2,2,4,2,Returning_Visitor,FALSE\\r\\n168,0,0,0,0,7,1721.666667,0.038095238,0.038571429,0,0,Nov,1,1,3,3,Returning_Visitor,FALSE\\r\\n169,0,0,0,0,22,815.8333333,0,0.01,0,0,May,2,4,1,1,Returning_Visitor,FALSE\\r\\n170,0,0,0,0,5,277.5,0,0.04,42.03044096,0,Nov,2,2,3,2,Returning_Visitor,FALSE\\r\\n171,0,0,0,0,7,56,0,0.042857143,0,1,May,2,2,3,1,Returning_Visitor,TRUE\\r\\n172,2,267.8,0,0,6,616.5,0.028571429,0.038095238,0,0,Sep,3,2,3,4,Returning_Visitor,FALSE\\r\\n173,0,0,0,0,8,233.6666667,0.025,0.0875,0,0,Mar,2,2,3,13,Returning_Visitor,FALSE\\r\\n174,0,0,0,0,76,2854.783333,0.005866667,0.019555556,0,0,May,2,2,3,4,Returning_Visitor,FALSE\\r\\n175,0,0,0,0,9,145,0.066666667,0.122222222,0,0.8,May,3,2,1,13,Returning_Visitor,FALSE\\r\\n176,0,0,0,0,2,21.2,0,0.1,0,0,June,2,2,5,1,Returning_Visitor,FALSE\\r\\n177,9,1294.9,1,32.66666667,37,1012.233333,0,0.006910299,33.31220592,0,Nov,2,2,1,2,Returning_Visitor,FALSE\\r\\n178,0,0,0,0,12,337,0,0.006666667,19.37005896,0,Dec,2,5,4,1,Returning_Visitor,TRUE\\r\\n179,0,0,0,0,5,59,0.08,0.12,0,0,Mar,2,2,7,1,Returning_Visitor,FALSE\\r\\n180,5,59,0,0,3,44.66666667,0,0.025,0,0,Mar,2,4,6,2,Returning_Visitor,TRUE\\r\\n181,2,64.5,0,0,24,1151.136905,0,0.0186,15.27655756,0,Dec,2,2,3,2,Returning_Visitor,FALSE\\r\\n182,5,43.4,0,0,32,3121.555556,0.009259259,0.036759259,26.5455,0,May,2,4,4,2,Returning_Visitor,FALSE\\r\\n183,0,0,0,0,20,526.8,0,0.010526316,104.2012273,0,Sep,2,2,1,2,Returning_Visitor,FALSE\\r\\n184,7,177.25,0,0,13,297.8333333,0,0.021428571,0,0,Nov,1,2,3,2,New_Visitor,TRUE\\r\\n185,3,45.5,0,0,43,1738.25,0.006349206,0.03537415,0,0,May,2,5,7,3,Returning_Visitor,FALSE\\r\\n186,9,175.9333333,0,0,28,717.2190476,0.005882353,0.017058824,0,1,May,2,2,5,4,Returning_Visitor,TRUE\\r\\n187,5,193,1,13,66,2049.458471,0.004489796,0.012765306,29.45815149,0,Mar,3,2,3,1,Returning_Visitor,TRUE\\r\\n188,0,0,0,0,15,372.0833333,0,0.04,0,0,Nov,2,2,1,2,New_Visitor,TRUE\\r\\n189,0,0,0,0,5,27.2,0,0.04,0,0,Nov,2,2,1,4,Returning_Visitor,FALSE\\r\\n190,0,0,2,15,93,3646.278788,0.017204301,0.023117504,0,0,May,1,1,5,4,Returning_Visitor,FALSE\\r\\n191,0,0,0,0,111,1624.75,0.013636364,0.025515152,0,0,Dec,2,2,1,2,Returning_Visitor,FALSE\\r\\n192,0,0,0,0,9,11,0.155555556,0.177777778,0,0,May,2,2,2,4,Returning_Visitor,FALSE\\r\\n193,5,473.1666667,2,195.4,111,4022.812148,0.003571429,0.012351425,0,0,Aug,3,2,9,5,Returning_Visitor,FALSE\\r\\n194,0,0,0,0,8,272.9,0.05,0.075,0,0,Oct,1,1,1,1,New_Visitor,FALSE\\r\\n195,0,0,0,0,1,0,0,0.1,0,0,May,2,2,3,18,Returning_Visitor,TRUE\\r\\n196,0,0,0,0,14,320.25,0,0.013333333,52.17313647,0,Oct,2,2,1,3,Returning_Visitor,TRUE\\r\\n197,8,168.1666667,0,0,70,2146.757984,0,0.009316323,67.30929078,0,Nov,2,4,5,2,Returning_Visitor,FALSE\\r\\n198,2,40.2,2,26.1,10,186.7,0,0.021428571,0,0,Oct,2,2,3,3,New_Visitor,FALSE\\r\\n199,5,90.875,1,15,58,2153.71859,0.007526882,0.012156298,3.97647235,0,May,3,2,1,2,Returning_Visitor,TRUE\\r\\n200,0,0,0,0,1,0,0.2,0.2,0,0,Nov,3,2,4,3,Returning_Visitor,FALSE\\r\\n201,15,292.88,1,48.35,130,3645.909048,0.001459854,0.008515815,10.41358118,0,Nov,2,4,8,2,Returning_Visitor,FALSE\\r\\n202,0,0,0,0,3,60.5,0.1,0.1,0,0,Nov,3,2,6,6,Returning_Visitor,FALSE\\r\\n203,7,122.875,0,0,22,250.0357143,0,0.03974359,0,0,Dec,2,2,1,2,New_Visitor,FALSE\\r\\n204,3,103.6,0,0,1,7,0,0.04,0,0,Nov,3,2,1,5,New_Visitor,FALSE\\r\\n205,0,0,0,0,5,200,0,0.05,0,0,May,3,2,1,4,Returning_Visitor,TRUE\\r\\n206,8,192.4333333,2,53.4,45,1372.875238,0.004166667,0.00625,0,0,Sep,4,1,1,3,New_Visitor,FALSE\\r\\n207,0,0,0,0,40,4175.75,0.048333333,0.106,0,1,May,2,2,1,3,Returning_Visitor,TRUE\\r\\n208,2,47.5,1,17,40,1202.916667,0.015813953,0.048604651,0,0,Nov,2,6,1,3,Returning_Visitor,FALSE\\r\\n209,0,0,0,0,5,164,0.04,0.08,0,0,May,2,2,1,3,Returning_Visitor,TRUE\\r\\n210,5,37,1,16,18,463.5,0,0.004545455,0,0,May,2,5,1,6,Returning_Visitor,FALSE\\r\\n211,0,0,0,0,46,2308.261905,0,0.000555556,0,0,May,2,2,7,2,New_Visitor,FALSE\\r\\n212,1,19,0,0,11,501.75,0.016666667,0.033333333,55.485,0,May,2,4,4,2,Returning_Visitor,FALSE\\r\\n213,1,49,0,0,4,2210.5,0,0.013333333,0,0,May,1,1,1,3,Returning_Visitor,TRUE\\r\\n214,2,58,0,0,7,101.8,0,0.011111111,0,0,Mar,3,2,8,2,New_Visitor,FALSE\\r\\n215,8,71.66666667,0,0,24,364.4166667,0,0.013793103,0,0.2,May,2,2,1,5,Returning_Visitor,FALSE\\r\\n216,1,104,0,0,5,152.5,0.028571429,0.057142857,64.95645099,0,Dec,2,13,9,20,Returning_Visitor,FALSE\\r\\n217,0,0,0,0,3,65,0.1,0.111111111,0,0,May,3,2,1,3,Returning_Visitor,FALSE\\r\\n218,0,0,0,0,27,1871.9,0.014814815,0.020740741,0,0,Sep,1,1,1,3,Returning_Visitor,FALSE\\r\\n219,0,0,0,0,57,820.3636364,0.035087719,0.061650605,0,0,June,3,2,3,13,Returning_Visitor,FALSE\\r\\n220,0,0,0,0,9,867,0.022222222,0.051851852,0,0,Nov,1,1,1,3,Returning_Visitor,FALSE\\r\\n221,1,46.5,0,0,22,578.8106061,0.00952381,0.04021164,0,0,Dec,1,1,2,2,Returning_Visitor,FALSE\\r\\n222,0,0,0,0,8,203,0.0125,0.0375,0,0,May,2,2,5,2,Returning_Visitor,TRUE\\r\\n223,2,16,0,0,33,1123.242857,0.006060606,0.021969697,11.12342124,0,Mar,2,2,3,13,Returning_Visitor,FALSE\\r\\n224,9,268.5,0,0,8,407.5,0,0.0275,0,0,Dec,3,2,3,8,Returning_Visitor,FALSE\\r\\n225,3,171.75,3,264.1,49,1435.772114,0.01509434,0.013579188,0,0,Nov,1,1,1,2,Returning_Visitor,FALSE\\r\\n226,0,0,0,0,6,313,0,0.05,0,0,May,2,4,3,1,Returning_Visitor,FALSE\\r\\n227,2,29.75,0,0,33,689.202381,0.001010101,0.027020202,0,0,Dec,2,2,2,2,Returning_Visitor,FALSE\\r\\n228,4,70.4,1,645.5,82,11257.1083,0.005574913,0.019401736,0,0,Nov,2,5,1,2,Returning_Visitor,TRUE\\r\\n229,5,230.25,2,135,27,517.3928571,0,0.011458333,30.269375,0,May,2,2,4,2,New_Visitor,TRUE\\r\\n230,2,69,0,0,51,2103.628837,0,0.015384615,40.659727,0,Sep,2,2,4,13,Returning_Visitor,FALSE\\r\\n231,0,0,0,0,14,1049.05,0,0.016666667,0,0,Nov,3,2,1,20,Returning_Visitor,FALSE\\r\\n232,0,0,0,0,48,691.3572797,0.034873188,0.082209406,0,0,Nov,3,2,3,3,Returning_Visitor,FALSE\\r\\n233,0,0,0,0,13,324,0,0.003030303,0,0,May,2,2,2,2,New_Visitor,TRUE\\r\\n234,10,214.6214286,1,114,36,673.6380952,0.019379845,0.032443035,0,0,Nov,1,1,1,2,Returning_Visitor,FALSE\\r\\n235,15,149.0316092,2,1529.2,23,2128.704568,0.005714286,0.020425941,16.19731984,0,Oct,2,2,2,20,Returning_Visitor,FALSE\\r\\n236,2,61.5,2,10,13,210,0.0125,0.03125,0,0,Dec,3,2,4,1,Returning_Visitor,FALSE\\r\\n237,0,0,0,0,14,313.0178571,0,0.016071429,0,0,Nov,3,2,4,2,Returning_Visitor,FALSE\\r\\n238,0,0,0,0,8,1066.25,0,0.028571429,9.0847678,0,Nov,1,8,4,11,Returning_Visitor,TRUE\\r\\n239,0,0,0,0,18,644.125,0.00625,0.021924603,0,0,Mar,3,2,3,10,Returning_Visitor,FALSE\\r\\n240,10,150.2083333,0,0,14,221.2083333,0,0.012698413,0,0,Dec,2,2,4,2,New_Visitor,FALSE\\r\\n241,0,0,0,0,3,41,0,0.066666667,0,0,Feb,1,1,3,3,Returning_Visitor,FALSE\\r\\n242,3,150.125,4,26.5,26,1332.695346,0.026523297,0.04656682,5.473874968,0,Dec,3,2,3,2,Returning_Visitor,FALSE\\r\\n243,3,182.6428571,3,119.375,64,2671.06994,0.000275482,0.017352092,37.59646822,0,Nov,2,5,6,2,Returning_Visitor,FALSE\\r\\n244,12,1449.666667,4,559.0833333,127,4876.007712,0.005755396,0.029203072,5.751219035,0,Nov,2,2,1,2,Returning_Visitor,FALSE\\r\\n245,0,0,0,0,4,151.5,0,0.05,0,0,Mar,3,2,1,1,Returning_Visitor,FALSE\\r\\n246,0,0,0,0,16,2214.666667,0,0.003921569,92.9041786,0,Oct,2,2,1,2,New_Visitor,FALSE\\r\\n247,0,0,0,0,9,329.25,0.05,0.075,38.83384563,0,Dec,3,2,4,1,Returning_Visitor,FALSE\\r\\n248,2,23,0,0,18,657.25,0,0.0125,0,0,Dec,2,2,9,2,New_Visitor,FALSE\\r\\n249,8,46.875,3,10,111,5358.375439,0,0.011957672,10.21771151,0,Nov,2,2,1,11,Returning_Visitor,FALSE\\r\\n250,0,0,0,0,3,0,0.2,0.2,0,0,Nov,2,2,5,1,Returning_Visitor,FALSE\\r\\n251,2,107.4,2,96.7,32,833.325,0.024509804,0.035882353,0,0,Jul,3,2,4,1,Returning_Visitor,FALSE\\r\\n252,0,0,0,0,7,80,0.028571429,0.057142857,0,0,May,2,2,4,3,Returning_Visitor,TRUE\\r\\n253,7,98.73333333,2,229.8,151,4249.12,0.013402778,0.041166667,5.88595629,0,Jul,2,5,3,3,Returning_Visitor,FALSE\\r\\n254,0,0,0,0,15,304.1666667,0,0.04,0,0,May,2,2,1,3,Returning_Visitor,TRUE\\r\\n255,7,150.375,0,0,7,219.5833333,0,0.018181818,0,0,Dec,1,1,1,2,Returning_Visitor,TRUE\\r\\n256,0,0,0,0,3,164,0,0.066666667,0,0,Nov,1,1,1,3,Returning_Visitor,TRUE\\r\\n257,4,234.1666667,0,0,24,1589.583333,0,0.007692308,61.20406619,0,Nov,2,2,2,10,Returning_Visitor,FALSE\\r\\n258,2,23,0,0,39,1828.966667,0.005128205,0.02008547,20.5924708,0,Nov,1,1,1,2,Returning_Visitor,TRUE\\r\\n259,5,3398.75,6,2549.375,449,63973.52223,0.000764406,0.02770134,0,0,Dec,2,2,1,2,Returning_Visitor,FALSE\\r\\n260,0,0,0,0,8,20.2,0.1,0.175,0,0,June,3,2,1,1,Returning_Visitor,FALSE\\r\\n261,0,0,2,207.25,114,3788.8,0.003478261,0.010434783,1.795451001,0,Dec,2,2,3,2,Returning_Visitor,TRUE\\r\\n262,10,149.013357,2,138,78,2207.366936,0.002380952,0.012458392,0,0,Dec,3,2,1,2,Returning_Visitor,FALSE\\r\\n263,2,34,0,0,81,2241.002381,0.002439024,0.007012195,0,0,Mar,2,2,1,1,Returning_Visitor,FALSE\\r\\n264,6,105.6333333,2,105.95,8,246.3865079,0,0.008928571,0,0,Nov,3,2,2,3,Returning_Visitor,FALSE\\r\\n265,0,0,0,0,23,195.6666667,0.05,0.086363636,0,0.4,May,4,1,1,3,Returning_Visitor,FALSE\\r\\n266,0,0,0,0,37,2960.971429,0.036936937,0.062012012,0,0,Oct,1,1,1,1,Returning_Visitor,FALSE\\r\\n267,0,0,0,0,4,505,0,0.05,0,0,Mar,2,2,1,1,Returning_Visitor,FALSE\\r\\n268,1,34,2,9,3,149,0,0.05,0,0,Mar,2,2,1,1,Returning_Visitor,FALSE\\r\\n269,5,34.44242424,0,0,103,1843.759347,0,0.019613005,0,0,June,2,4,1,2,Returning_Visitor,TRUE\\r\\n270,3,101.6666667,0,0,22,2250.083333,0,0.019565217,32.70730435,0,May,2,4,4,1,Returning_Visitor,FALSE\\r\\n271,0,0,1,25,8,388,0.025,0.033333333,0,0.6,May,2,5,3,2,New_Visitor,FALSE\\r\\n272,4,204.2,0,0,31,652.3766667,0.012121212,0.016161616,0,0,Nov,1,1,6,1,Returning_Visitor,FALSE\\r\\n273,1,48,0,0,26,1066.666667,0.025,0.04202381,0,0,May,3,2,8,11,Returning_Visitor,FALSE\\r\\n274,4,24.16666667,0,0,56,1977.385088,0,0.007471264,0,0.4,May,2,2,1,4,Returning_Visitor,FALSE\\r\\n275,1,27.5,3,17,1,10,0,0.04,0,0,Nov,1,1,1,8,New_Visitor,FALSE\\r\\n276,0,0,0,0,26,810.3713768,0.019230769,0.02530525,0,0.8,May,3,2,3,1,Returning_Visitor,FALSE\\r\\n277,3,13,0,0,28,324.7692308,0,0.001724138,0,0,Mar,2,2,1,6,Returning_Visitor,FALSE\\r\\n278,0,0,0,0,1,0,0.2,0.2,0,0,Nov,3,2,1,13,Returning_Visitor,TRUE\\r\\n279,2,37,0,0,7,139.3333333,0,0.011111111,0,0,Mar,3,2,7,8,New_Visitor,TRUE\\r\\n280,6,78.51333333,1,63.4,110,1691.236147,0.003448276,0.019359924,19.18310758,0,Aug,2,2,7,4,Returning_Visitor,TRUE\\r\\n281,0,0,0,0,16,519.75,0.0125,0.04,0,0,Mar,3,2,3,3,Returning_Visitor,FALSE\\r\\n282,2,213.6,4,108,19,989.3333333,0.029166667,0.0375,0,0,June,1,1,1,2,Returning_Visitor,TRUE\\r\\n283,0,0,0,0,2,17,0,0.1,0,0.4,May,4,1,4,3,Returning_Visitor,FALSE\\r\\n284,0,0,0,0,63,5220.083333,0,0.003329865,51.46331148,0,Mar,2,5,3,1,Returning_Visitor,TRUE\\r\\n285,13,123.875,0,0,87,2903.764417,0.00625,0.015280206,1.773369333,0,Dec,2,2,3,2,Returning_Visitor,FALSE\\r\\n286,5,91.31666667,0,0,29,1352.976722,0.01125,0.024522672,7.91345877,0,Nov,1,1,6,1,Returning_Visitor,FALSE\\r\\n287,0,0,0,0,22,347.6666667,0.021212121,0.059848485,0,0,June,4,1,1,3,Returning_Visitor,FALSE\\r\\n288,2,35.2,0,0,15,521.8666667,0,0.00625,0,0,June,2,2,9,2,New_Visitor,FALSE\\r\\n289,6,89.0625,2,888,275,9139.496696,0.00625,0.018539498,0,0,Nov,2,2,1,2,Returning_Visitor,FALSE\\r\\n290,4,49.85714286,0,0,94,4804.834524,0.008843537,0.023561816,0,0,Nov,2,2,1,2,Returning_Visitor,FALSE\\r\\n291,0,0,0,0,9,1331,0.022222222,0.044444444,0,0.6,May,2,2,3,1,Returning_Visitor,FALSE\\r\\n292,6,228,5,89.33333333,18,513.4666667,0,0.003461538,0,0,Mar,1,1,3,3,New_Visitor,FALSE\\r\\n293,7,2720.5,3,353.4,68,5943.547619,0.032236842,0.038623482,0,0,Jul,3,2,1,13,Returning_Visitor,FALSE\\r\\n294,0,0,0,0,28,756.8611111,0.035714286,0.067857143,0,0,Dec,2,2,4,1,Returning_Visitor,FALSE\\r\\n295,0,0,0,0,11,151.5,0.016666667,0.066666667,0,0,May,2,2,2,6,Returning_Visitor,TRUE\\r\\n296,4,96.5,0,0,19,1430.659091,0.01,0.025666667,0,0,Mar,1,1,1,1,Returning_Visitor,FALSE\\r\\n297,5,389,0,0,5,310.5,0,0.014285714,0,0,May,2,4,2,2,New_Visitor,FALSE\\r\\n298,1,53,0,0,10,1331,0,0.022222222,49.388,0,May,2,2,1,4,Returning_Visitor,TRUE\\r\\n299,2,44,0,0,8,182,0,0.005,0,0,May,2,4,1,2,New_Visitor,FALSE\\r\\n300,0,0,0,0,1,0,0.2,0.2,0,0,Aug,2,2,1,4,Returning_Visitor,TRUE\\r\\n301,0,0,0,0,1,0,0.2,0.2,0,0,Dec,1,1,6,2,Returning_Visitor,FALSE\\r\\n302,9,296.1166667,1,26.5,79,5057.175,0.002298851,0.022687466,17.78922266,0,Nov,2,2,1,10,Returning_Visitor,FALSE\\r\\n303,0,0,0,0,5,883.6,0,0,125.8939091,0,Nov,2,2,4,2,Returning_Visitor,TRUE\\r\\n304,0,0,0,0,1,0,0.2,0.2,0,0,Nov,2,2,4,11,Returning_Visitor,TRUE\\r\\n305,2,32.2,1,0,20,342.6866667,0,0.009090909,0,0,Aug,2,2,1,4,New_Visitor,FALSE\\r\\n306,2,55.4,0,0,20,654.2,0,0.00952381,0,0,Sep,4,1,1,2,New_Visitor,TRUE\\r\\n307,0,0,0,0,22,657.42,0.021212121,0.046969697,0,0,Jul,3,2,3,4,Returning_Visitor,TRUE\\r\\n308,0,0,0,0,10,443.75,0.06,0.07,38.19240444,0,Nov,1,8,8,1,Returning_Visitor,FALSE\\r\\n309,0,0,0,0,8,497.25,0.016666667,0.025,0,0,Dec,1,8,3,1,Returning_Visitor,TRUE\\r\\n310,0,0,0,0,57,4312.225,0.004464286,0.031964286,0,0,Nov,2,2,1,2,Returning_Visitor,FALSE\\r\\n311,0,0,0,0,1,0,0.2,0.2,0,0,Dec,3,2,3,1,Returning_Visitor,TRUE\\r\\n312,2,17,0,0,11,440,0,0.018181818,54.53454545,0,May,2,4,8,4,New_Visitor,FALSE\\r\\n313,0,0,0,0,9,1397.666667,0.022222222,0.027777778,0,0,Nov,3,2,4,2,Returning_Visitor,FALSE\\r\\n314,14,173.55,0,0,164,4155.746883,0.002514286,0.01343784,13.76473644,0,Nov,2,2,3,2,Returning_Visitor,FALSE\\r\\n315,6,89.8,0,0,26,1570.133333,0,0.005357143,0,0,June,2,2,8,4,New_Visitor,TRUE\\r\\n316,9,333.8674242,4,121.625,29,1406.917424,0.017567568,0.021302211,20.74810067,0,Nov,3,2,6,1,Returning_Visitor,FALSE\\r\\n317,7,330.0555556,5,251.5,116,2971.435101,0.001858304,0.012303523,3.701618891,0,Dec,2,2,2,2,Returning_Visitor,FALSE\\r\\n318,6,95.6,0,0,12,582.7333333,0.014285714,0.035714286,21.32413414,0,Sep,2,2,8,7,Returning_Visitor,FALSE\\r\\n319,0,0,0,0,43,1650.416667,0,0.003875969,0,0,Mar,2,2,7,3,Returning_Visitor,TRUE\\r\\n320,2,23,0,0,31,618,0,0.006451613,0,0,May,2,2,9,3,Returning_Visitor,FALSE\\r\\n321,3,420.1,2,14.2,32,591.72,0.032432432,0.043745174,0,0,Oct,1,1,1,3,Returning_Visitor,TRUE\\r\\n322,0,0,0,0,12,375,0.016666667,0.058333333,0,0,Feb,3,2,4,1,Returning_Visitor,FALSE\\r\\n323,2,18,0,0,15,756.3333333,0.0125,0.0625,29.24325,0,Mar,2,10,3,1,Returning_Visitor,FALSE\\r\\n324,10,214.7833333,3,30.2,52,1968.942963,0.004166667,0.023015892,17.75267237,0,June,3,3,3,2,Returning_Visitor,TRUE\\r\\n325,0,0,3,62.8,90,2167.900476,0.002898551,0.013297101,0,0,Aug,1,1,3,4,Returning_Visitor,FALSE\\r\\n326,0,0,1,249.5,33,1458.97619,0.027459219,0.041167134,0,0,Dec,1,1,1,10,Returning_Visitor,FALSE\\r\\n327,1,11,1,8,79,2693.582331,0,0.003430424,0,0,Dec,1,1,3,2,Returning_Visitor,FALSE\\r\\n328,4,69.83333333,0,0,133,4885.049069,0.002962963,0.008689192,15.95538838,0,Nov,1,2,1,2,Returning_Visitor,TRUE\\r\\n329,0,0,0,0,36,572.9,0.011111111,0.038888889,0,0,Dec,2,2,3,2,Returning_Visitor,FALSE\\r\\n330,0,0,0,0,20,2280.833333,0.01,0.038333333,0,0,May,1,1,1,4,Returning_Visitor,FALSE\\r\\n331,7,151,0,0,44,1406.1,0.004081633,0.006501458,0,0,Mar,1,1,4,2,Returning_Visitor,FALSE\\r\\n332,0,0,1,8,31,651.6666667,0,0.025,0,0,Dec,4,1,1,2,New_Visitor,TRUE\\r\\n333,13,110.7583333,1,3,34,858.9464286,0,0.011627907,17.78585727,0,Nov,2,2,5,10,Returning_Visitor,TRUE\\r\\n334,0,0,0,0,3,181.5,0,0.033333333,0,0,Dec,4,1,1,6,Returning_Visitor,TRUE\\r\\n335,0,0,0,0,36,1287.958333,0.034259259,0.073333333,0,0,Dec,2,2,1,3,Returning_Visitor,FALSE\\r\\n336,13,278.1519608,1,46.5,150,5575.614608,7.27E-05,0.017155355,1.529570511,0,Dec,2,2,2,1,Returning_Visitor,FALSE\\r\\n337,3,166,0,0,2,134,0,0.03,0,0.8,May,3,2,8,2,Returning_Visitor,FALSE\\r\\n338,0,0,0,0,43,778.6437229,0.010232558,0.023197087,0,0,Jul,4,1,1,3,Returning_Visitor,TRUE\\r\\n339,13,266.047619,9,985.4833333,179,11492.20838,0.020689931,0.028728531,0,0,June,1,1,1,3,Returning_Visitor,FALSE\\r\\n340,3,42,0,0,41,492.6833333,0,0.003571429,0,0,May,3,2,1,2,Returning_Visitor,TRUE\\r\\n341,3,47.4,0,0,21,961.52,0.030434783,0.053623188,0,0,Aug,3,2,4,4,Returning_Visitor,FALSE\\r\\n342,0,0,0,0,7,155,0.066666667,0.1,0,0,May,2,2,1,4,Returning_Visitor,FALSE\\r\\n343,2,48.5,0,0,53,2438.075,0.005357143,0.017261905,29.04476648,0,Nov,2,2,1,6,Returning_Visitor,TRUE\\r\\n344,0,0,0,0,33,1703.321429,0,0.042424242,0,0.6,May,2,5,3,1,Returning_Visitor,FALSE\\r\\n345,0,0,0,0,19,187.2,0.068421053,0.131578947,0,0,Nov,3,2,3,13,Returning_Visitor,FALSE\\r\\n346,0,0,0,0,31,457.4047799,0,0.026938057,0,0.8,May,2,2,7,1,Returning_Visitor,FALSE\\r\\n347,1,120.5,1,260.5,22,1148.166667,0.009090909,0.036363636,7.518979759,0,Nov,2,2,1,1,Returning_Visitor,TRUE\\r\\n348,2,32,0,0,30,1407.5,0.006451613,0.02516129,15.51193548,0,May,2,2,1,13,Returning_Visitor,FALSE\\r\\n349,0,0,0,0,38,1338.778571,0.011111111,0.024532828,0,0,Nov,1,1,1,3,Returning_Visitor,TRUE\\r\\n350,1,51,2,176,37,1420.733333,0,0.012612613,102.3538378,0,May,2,5,7,4,Returning_Visitor,TRUE\\r\\n351,4,158,0,0,18,567.75,0,0.034586466,0,0,May,3,2,2,4,Returning_Visitor,FALSE\\r\\n352,7,275.0844444,0,0,70,806.0266667,0,0.002666667,0,0,Oct,2,5,1,2,New_Visitor,FALSE\\r\\n353,0,0,0,0,7,40,0.142857143,0.157142857,0,0.6,May,3,2,3,4,Returning_Visitor,FALSE\\r\\n354,18,1103.330357,8,696.8333333,359,12959.91515,0.000795756,0.008975428,7.231074783,0,Nov,2,2,1,2,Returning_Visitor,FALSE\\r\\n355,6,90.6,0,0,10,384.8,0,0.015384615,0,0,Aug,1,2,3,2,New_Visitor,TRUE\\r\\n356,0,0,0,0,19,621.7266667,0.010526316,0.024035088,0,0,Jul,1,1,1,2,Returning_Visitor,FALSE\\r\\n357,0,0,0,0,55,1933.423611,0.001818182,0.017355372,0,0,Nov,2,2,1,2,Returning_Visitor,FALSE\\r\\n358,16,178.7995495,2,47.64,193,5946.275777,0,0.008886586,9.836180753,0,June,2,2,4,2,Returning_Visitor,FALSE\\r\\n359,0,0,0,0,30,1224.75,0,0.007142857,21.04864167,0,Mar,2,4,2,2,New_Visitor,FALSE\\r\\n360,0,0,0,0,7,103.5,0,0.057142857,0,0,Nov,2,2,2,2,Returning_Visitor,FALSE\\r\\n361,0,0,0,0,11,814.5,0,0.01,0,0,Mar,1,1,1,2,New_Visitor,FALSE\\r\\n362,2,77,0,0,43,1607.297619,0.002272727,0.015909091,0,0,Mar,2,2,1,2,Returning_Visitor,FALSE\\r\\n363,0,0,0,0,16,219.55,0,0.014583333,0,0,Nov,4,1,1,20,Returning_Visitor,FALSE\\r\\n364,2,14,0,0,58,1806.504167,0.013793103,0.026819923,0,0.8,May,2,2,2,6,Returning_Visitor,FALSE\\r\\n365,0,0,0,0,10,206.5,0,0.02,0,0,Mar,2,2,1,1,Returning_Visitor,FALSE\\r\\n366,1,5,0,0,41,764.1333333,0,0.014444444,0,0,June,2,2,1,4,Returning_Visitor,FALSE\\r\\n367,2,16.5,0,0,5,37.5,0,0.033333333,0,0,May,2,2,1,3,Returning_Visitor,FALSE\\r\\n368,3,118.5,0,0,11,241.625,0,0.012727273,0,0,Dec,3,2,3,1,Returning_Visitor,TRUE\\r\\n369,0,0,0,0,9,73.66666667,0,0.022222222,0,0.2,May,2,2,1,3,Returning_Visitor,FALSE\\r\\n370,4,157,0,0,20,834.075,0,0.013333333,4.84736534,0,Dec,2,2,1,2,Returning_Visitor,FALSE\\r\\n371,1,21.2,1,141,7,307.8666667,0,0,0,0,Aug,2,2,1,3,Returning_Visitor,FALSE\\r\\n372,6,888.8333333,0,0,39,1570.791667,0.00952381,0.011156463,16.32930757,0,Dec,1,1,3,2,Returning_Visitor,TRUE\\r\\n373,0,0,0,0,7,180,0.028571429,0.057142857,0,0.6,May,2,2,1,4,Returning_Visitor,FALSE\\r\\n374,1,6,0,0,57,1836.775,0,0.004093567,0,0,Nov,2,2,7,2,Returning_Visitor,FALSE\\r\\n375,2,95,3,48,9,259.5,0,0.015384615,0,0,May,1,1,1,2,Returning_Visitor,FALSE\\r\\n376,0,0,0,0,18,559,0.047058824,0.098039216,0,0,Nov,1,1,4,1,Returning_Visitor,TRUE\\r\\n377,5,173.1666667,2,24.5,30,1288.733333,0,0.013376623,54.121714,0,Nov,1,2,3,2,Returning_Visitor,TRUE\\r\\n378,15,370.275,12,689.8333333,96,2964.590278,0.002608696,0.010732401,3.358133333,0,May,1,1,3,1,Returning_Visitor,FALSE\\r\\n379,0,0,0,0,9,1238.333333,0,0.040740741,0,0.4,Feb,2,2,1,3,Returning_Visitor,FALSE\\r\\n380,6,331.25,3,365.25,6,267,0,0.021428571,0,0,Dec,1,2,7,3,Returning_Visitor,TRUE\\r\\n381,11,903.7,1,26.2,109,3297.491311,0.006140351,0.010281148,3.870588042,0,Oct,3,2,6,1,Returning_Visitor,FALSE\\r\\n382,4,85,0,0,22,452.5833333,0,0.008333333,107.94,0,May,2,2,6,4,New_Visitor,FALSE\\r\\n383,14,515.9821429,0,0,170,7128.75377,0.003370787,0.016081238,4.470297685,0,Nov,2,2,7,1,Returning_Visitor,TRUE\\r\\n384,8,628.3666667,1,0,131,4044.465674,0.008889185,0.030612404,0,0,Aug,1,1,3,2,Returning_Visitor,FALSE\\r\\n385,0,0,0,0,11,315.6,0,0.018181818,0,0,Mar,1,1,6,3,Returning_Visitor,TRUE\\r\\n386,0,0,0,0,4,26,0,0.05,0,0,May,4,1,1,1,Returning_Visitor,FALSE\\r\\n387,8,228.5,0,0,5,64.5,0,0.028571429,0,0,May,1,2,3,5,New_Visitor,TRUE\\r\\n388,0,0,0,0,2,17,0,0.1,0,0,May,2,2,2,4,Returning_Visitor,FALSE\\r\\n389,1,0,0,0,9,837.6666667,0,0.022222222,0,0,May,3,2,1,13,Returning_Visitor,FALSE\\r\\n390,0,0,0,0,25,1690.977778,0.008,0.037333333,0,0,Mar,1,1,8,1,Returning_Visitor,FALSE\\r\\n391,3,224,2,42,132,5098.75498,0.010632603,0.014962157,2.209003373,0,Nov,1,2,1,2,Returning_Visitor,FALSE\\r\\n392,1,3,2,373,6,66.83333333,0,0.0125,0,0,Mar,2,4,1,8,New_Visitor,FALSE\\r\\n393,0,0,0,0,5,108,0,0.04,0,0,May,4,1,3,4,Returning_Visitor,FALSE\\r\\n394,2,17,1,105,9,148.25,0.02,0.022,0,0,Mar,3,2,1,1,Returning_Visitor,FALSE\\r\\n395,8,77.5,0,0,35,2518.266667,0.01025641,0.012576313,0,0,Jul,2,2,2,2,New_Visitor,TRUE\\r\\n396,0,0,0,0,58,1076.073649,0,0.022653941,1.81635021,0,Sep,2,2,3,2,Returning_Visitor,FALSE\\r\\n397,0,0,0,0,1,0,0.2,0.2,0,0,May,1,1,1,15,Returning_Visitor,TRUE\\r\\n398,2,46.4,1,29.2,12,303.2464286,0,0.015384615,0,0,Oct,1,1,3,2,New_Visitor,TRUE\\r\\n399,0,0,0,0,21,1275.9,0.052380952,0.101587302,0,0,Sep,2,4,5,1,Returning_Visitor,FALSE\\r\\n400,0,0,0,0,16,2515.1,0.053571429,0.070238095,0,0,May,3,2,2,3,Returning_Visitor,FALSE\\r\\n401,3,61,0,0,31,1470.416667,0,0.006666667,0,0,May,1,2,1,3,New_Visitor,FALSE\\r\\n402,2,53.4,0,0,3,66.4,0,0.04,0,0,Oct,1,1,4,3,Returning_Visitor,TRUE\\r\\n403,1,20.2,0,0,13,227.6,0,0,42.29306752,0,Jul,2,2,3,3,New_Visitor,FALSE\\r\\n404,7,58.6,0,0,20,585.8833333,0.017391304,0.044637681,0,0,Jul,1,1,1,4,Returning_Visitor,TRUE\\r\\n405,13,293.5785714,3,26,161,3457.628812,0.006140351,0.018923933,15.988034,0,Nov,2,5,7,2,Returning_Visitor,TRUE\\r\\n406,7,154,3,248.1666667,34,886.4791667,0,0.005128205,77.801588,0,Dec,2,2,1,2,New_Visitor,FALSE\\r\\n407,4,104,1,93,15,292.5,0,0.02125,0,0,May,2,4,3,4,Returning_Visitor,TRUE\\r\\n408,0,0,1,132,8,445,0,0.014285714,0,0,Mar,3,2,4,14,Returning_Visitor,TRUE\\r\\n409,3,39,0,0,10,176.8,0,0.0375,0,0,June,3,2,5,4,Returning_Visitor,FALSE\\r\\n410,0,0,0,0,40,1411.833333,0,0.001282051,0,0,May,3,2,8,6,Returning_Visitor,FALSE\\r\\n411,1,29.5,0,0,41,1119.541667,0.009756098,0.035656214,0,0,Nov,3,2,1,2,Returning_Visitor,FALSE\\r\\n412,0,0,0,0,2,16,0,0.1,0,0.8,May,2,2,1,2,Returning_Visitor,FALSE\\r\\n413,0,0,0,0,3,121.5,0,0.007407407,0,0,Nov,1,1,1,2,New_Visitor,TRUE\\r\\n414,0,0,0,0,30,1372.455556,0.012903226,0.021505376,21.14016404,0,Sep,2,2,7,1,Returning_Visitor,FALSE\\r\\n415,0,0,0,0,18,550.5,0,0.031481481,0,0,Mar,1,1,1,2,Returning_Visitor,TRUE\\r\\n416,0,0,0,0,7,261.5,0,0.00952381,0,0,Mar,2,2,4,1,Returning_Visitor,FALSE\\r\\n417,7,233,0,0,45,881.7412698,0.000531915,0.029964539,11.96396809,0.2,May,1,2,4,4,Returning_Visitor,FALSE\\r\\n418,0,0,0,0,20,1116.473333,0.033,0.027954545,0,0,Oct,3,2,6,1,Returning_Visitor,FALSE\\r\\n419,0,0,0,0,2,29.2,0,0.05,0,0,Jul,1,1,4,3,Returning_Visitor,FALSE\\r\\n420,8,190.25,1,23,19,1323.25,0.007692308,0.021816239,21.318,0,May,6,2,4,2,Returning_Visitor,TRUE\\r\\n421,3,50.94615385,1,42.4,38,1323.093695,0.007738095,0.012865853,5.62486136,0,Sep,3,2,8,2,Returning_Visitor,TRUE\\r\\n422,3,180,0,0,12,1436.5,0,0.013333333,27.75904925,0,Mar,2,2,2,2,Returning_Visitor,TRUE\\r\\n423,1,29.25,1,0,3,67.66666667,0,0.04,0,0,Dec,8,13,9,20,Other,FALSE\\r\\n424,0,0,1,20,48,1686.354994,0.020408163,0.033747213,0,0,Dec,3,2,1,10,Returning_Visitor,TRUE\\r\\n425,0,0,0,0,14,263.175,0,0.021428571,0,0,Nov,5,11,1,8,Returning_Visitor,FALSE\\r\\n426,0,0,0,0,8,117.8,0.15,0.15,0,0,June,1,1,3,3,Returning_Visitor,TRUE\\r\\n427,2,76,0,0,40,1209.802992,0.004878049,0.01624838,0,0,Mar,1,1,2,2,Returning_Visitor,FALSE\\r\\n428,0,0,0,0,1,0,0.2,0.2,0,0,May,2,2,3,6,Returning_Visitor,FALSE\\r\\n429,0,0,0,0,36,777.2175325,0.029166667,0.018068783,0,1,May,1,1,7,3,Returning_Visitor,TRUE\\r\\n430,7,145,1,37.5,130,5252.861501,0.004411765,0.012009804,0.680988542,0,Nov,2,2,4,2,Returning_Visitor,FALSE\\r\\n431,0,0,0,0,7,99.7,0,0.014285714,0,0.2,May,1,1,1,1,Returning_Visitor,FALSE\\r\\n432,1,19,0,0,45,4018.45,0.009090909,0.021969697,0,0,Nov,2,2,3,1,Returning_Visitor,TRUE\\r\\n433,0,0,7,840.5833333,162,5918.308915,0.004790419,0.019256933,0,0,Nov,2,2,1,1,Returning_Visitor,FALSE\\r\\n434,1,63,0,0,9,265.25,0,0.004,0,0,May,1,1,4,2,Returning_Visitor,TRUE\\r\\n435,1,4,0,0,30,1409.53355,0,0.028,0,0,Nov,3,2,3,2,Returning_Visitor,TRUE\\r\\n436,6,803.47,0,0,30,634.6880952,0.08083779,0.106666667,0,0,Nov,3,2,8,13,Returning_Visitor,FALSE\\r\\n437,1,12,0,0,22,380.8066667,0.019047619,0.013333333,0,0,Jul,1,2,3,2,Returning_Visitor,FALSE\\r\\n438,0,0,2,686,11,288.125,0.030769231,0.066666667,0,0,Dec,4,1,3,3,Returning_Visitor,FALSE\\r\\n439,5,71.08333333,0,0,24,1249.708333,0,0.005128205,52.28491058,0,Dec,2,2,3,2,New_Visitor,FALSE\\r\\n440,0,0,0,0,9,249.41,0.022222222,0.005128205,0,0,Nov,1,2,1,4,Returning_Visitor,FALSE\\r\\n441,10,215.244507,2,245.1714286,101,3558.576942,0.008636364,0.012040588,30.87227217,0,Sep,3,2,1,2,Returning_Visitor,TRUE\\r\\n442,6,352.3666667,0,0,11,605.6166667,0,0.008888889,0.714623214,0,June,2,2,1,2,Returning_Visitor,FALSE\\r\\n443,5,39.7,0,0,14,253.6,0,0.018333333,0,0,Sep,2,2,4,4,Returning_Visitor,FALSE\\r\\n444,0,0,0,0,5,118.75,0.04,0.08,0,0,Dec,1,1,1,8,New_Visitor,FALSE\\r\\n445,9,344,0,0,22,1860.25,0,0.013095238,12.94438665,0,Dec,2,2,7,1,Returning_Visitor,FALSE\\r\\n446,0,0,0,0,3,21,0,0.066666667,0,0,Nov,2,4,2,2,Returning_Visitor,TRUE\\r\\n447,0,0,0,0,5,1439.5,0,0.08,0,0,May,2,2,4,2,Returning_Visitor,FALSE\\r\\n448,6,176.6,2,204.4,45,789.3666667,0,0.004255319,0,0,June,2,5,7,2,New_Visitor,FALSE\\r\\n449,0,0,0,0,16,340.65,0.060416667,0.063690476,0,0,Sep,3,2,2,3,Returning_Visitor,TRUE\\r\\n450,0,0,0,0,9,326,0,0.055555556,0,0,May,3,2,4,2,Returning_Visitor,FALSE\\r\\n451,4,82.66666667,0,0,8,142,0,0.002857143,0,0,May,3,2,1,4,Returning_Visitor,FALSE\\r\\n452,6,70.5,2,9,25,2852,0.013333333,0.043333333,0,0,May,2,2,9,3,Returning_Visitor,FALSE\\r\\n453,1,26.5,0,0,71,1260.441758,0.001449275,0.008792271,3.74015068,0,Nov,2,2,1,1,Returning_Visitor,FALSE\\r\\n454,0,0,0,0,6,351.4,0.066666667,0.1,0,0,June,2,2,1,3,Returning_Visitor,FALSE\\r\\n455,4,147.5,1,37.5,25,788.2666667,0.007142857,0.028571429,16.70657143,0,May,2,2,3,3,Returning_Visitor,FALSE\\r\\n456,0,0,2,46,9,546,0,0.02,0,0,Mar,2,6,1,2,Returning_Visitor,FALSE\\r\\n457,6,132,1,5,30,1039.244444,0.005714286,0.017809524,3.998,0.6,May,3,2,4,3,Returning_Visitor,FALSE\\r\\n458,0,0,0,0,50,1784.516667,0.0016,0.020593939,0,0,Nov,1,1,4,2,Returning_Visitor,FALSE\\r\\n459,0,0,0,0,3,8,0,0.066666667,0,0,Mar,2,2,6,1,Returning_Visitor,FALSE\\r\\n460,0,0,0,0,7,189.2,0,0.014285714,78.56959864,0,Sep,3,2,3,2,Returning_Visitor,FALSE\\r\\n461,8,121.425,3,273.5,100,2565.797222,0.001869159,0.012071651,0,0,Nov,2,2,7,13,Returning_Visitor,TRUE\\r\\n462,0,0,0,0,9,69.75,0.088888889,0.122222222,0,0,Dec,2,2,1,3,Returning_Visitor,FALSE\\r\\n463,0,0,0,0,23,1422.85,0.017391304,0.049275362,0,0,Nov,2,2,7,1,Returning_Visitor,FALSE\\r\\n464,10,197.1666667,0,0,35,1078.727778,0,0.010452962,39.75577236,0,May,2,2,3,3,Returning_Visitor,FALSE\\r\\n465,3,68,0,0,8,306,0,0.008888889,0,0,Mar,1,1,9,3,New_Visitor,TRUE\\r\\n466,0,0,0,0,10,611,0.02,0.06,0,0.8,May,2,4,3,1,Returning_Visitor,FALSE\\r\\n467,2,11,3,123.3333333,34,448.75,0.021621622,0.048648649,0,0,Mar,2,10,6,1,Returning_Visitor,FALSE\\r\\n468,0,0,0,0,6,69.5,0,0.033333333,0,0,Mar,2,2,7,1,Returning_Visitor,FALSE\\r\\n469,2,341.6,0,0,7,177.9,0.047619048,0.062857143,0,0,Aug,3,2,1,1,Returning_Visitor,FALSE\\r\\n470,2,54.5,4,29.5,11,1055.75,0,0.026666667,0,0,Dec,2,2,1,2,New_Visitor,FALSE\\r\\n471,0,0,0,0,15,1861.5,0,0.026666667,0,0,May,3,3,4,3,Returning_Visitor,FALSE\\r\\n472,0,0,5,118.5,17,558.3988095,0.022727273,0.046212121,0,0,Dec,1,8,5,11,Returning_Visitor,FALSE\\r\\n473,0,0,0,0,26,2351.7,0.008,0.034666667,0,0,May,2,6,8,3,Returning_Visitor,FALSE\\r\\n474,0,0,2,1368,26,650.8083333,0,0.014285714,0,0,Nov,1,1,1,2,Returning_Visitor,TRUE\\r\\n475,0,0,0,0,2,66.5,0.066666667,0.166666667,0,0,Nov,3,2,3,13,Returning_Visitor,FALSE\\r\\n476,14,160.1115392,6,1079.833333,154,7405.360281,0.004924242,0.021452975,8.533928457,0,Nov,4,1,4,1,Returning_Visitor,FALSE\\r\\n477,2,112.8,0,0,27,1555.967143,0,0.001724138,44.85638692,0,Nov,1,1,4,2,New_Visitor,FALSE\\r\\n478,0,0,0,0,4,133.5,0,0.025,0,0,Dec,4,2,1,2,New_Visitor,FALSE\\r\\n479,1,0,0,0,23,975.75,0,0.05030303,16.197,0,May,2,2,6,6,Returning_Visitor,TRUE\\r\\n480,1,0,0,0,8,1340.3,0,0.025,0,0,Sep,1,2,3,4,Returning_Visitor,FALSE\\r\\n481,0,0,0,0,2,0,0.2,0.2,0,0,Aug,1,2,8,1,New_Visitor,FALSE\\r\\n482,12,279.4166667,0,0,42,1553.583333,0.009,0.019666667,38.30849268,0,Feb,1,1,3,2,Returning_Visitor,FALSE\\r\\n483,0,0,0,0,2,54,0.05,0.15,0,0,May,1,1,1,1,Returning_Visitor,FALSE\\r\\n484,2,14,0,0,65,2130.447802,0.016923077,0.024589744,20.60235987,0,Nov,3,2,1,1,Returning_Visitor,FALSE\\r\\n485,2,20,0,0,24,242,0.018181818,0.045454545,0,0,May,2,2,4,11,Returning_Visitor,FALSE\\r\\n486,2,33.5,1,91,31,1271.821212,0,0.011505376,1.592774194,0,Mar,1,8,4,1,Returning_Visitor,FALSE\\r\\n487,0,0,0,0,62,2787.678571,0.003225806,0.015591398,57.48364657,0,Nov,4,2,1,1,Returning_Visitor,TRUE\\r\\n488,0,0,0,0,9,273.25,0.066666667,0.077777778,0,0,Dec,3,3,5,1,Returning_Visitor,TRUE\\r\\n489,3,177.88,0,0,12,311.6133333,0.05,0.052380952,0,0,Oct,3,2,2,13,Returning_Visitor,FALSE\\r\\n490,2,94,0,0,9,501.5,0.06,0.106666667,0,0.8,May,3,2,8,13,Returning_Visitor,FALSE\\r\\n491,1,30.2,0,0,30,613.9933333,0.025287356,0.035139573,0,0,Oct,1,1,1,1,Returning_Visitor,TRUE\\r\\n492,0,0,0,0,12,466.125,0,0.022222222,0,0,Nov,3,2,1,3,Returning_Visitor,FALSE\\r\\n493,1,76.6,2,23.2,46,4598.433333,0.004255319,0.046808511,10.72449269,0,Jul,2,2,1,1,Returning_Visitor,FALSE\\r\\n494,2,59.83333333,0,0,70,2509.25,0,0.006428571,11.28411429,0,May,2,2,3,1,Returning_Visitor,FALSE\\r\\n495,3,118.6666667,0,0,17,694,0.003703704,0.008333333,27.45138186,0,Mar,3,2,1,2,Returning_Visitor,TRUE\\r\\n496,5,72.5,0,0,31,649.3071429,0,0.001041667,35.10378279,0,Mar,2,7,2,2,Returning_Visitor,TRUE\\r\\n497,0,0,0,0,1,0,0.2,0.2,0,0,Nov,4,1,1,3,Returning_Visitor,FALSE\\r\\n498,0,0,0,0,4,271.4666667,0,0.021428571,0,0,Jul,3,2,1,6,Returning_Visitor,FALSE\\r\\n499,0,0,0,0,5,239,0,0.04,0,0,Mar,2,2,9,1,Returning_Visitor,FALSE\\r\\n500,1,15,0,0,11,224,0.016666667,0.022222222,47.65566667,0,May,2,5,1,4,Returning_Visitor,FALSE\\r\\n501,6,1922,0,0,30,941.672619,0.018181818,0.044444444,0,0,Nov,3,2,2,1,Returning_Visitor,FALSE\\r\\n502,1,28.2,0,0,2,0,0.066666667,0.133333333,0,0,June,1,8,2,3,New_Visitor,TRUE\\r\\n503,0,0,0,0,5,109,0.08,0.1,0,0,May,3,2,3,3,Returning_Visitor,TRUE\\r\\n504,1,11,0,0,4,1145,0.05,0.1,0,0.2,May,2,2,3,13,Returning_Visitor,FALSE\\r\\n505,5,106.8,0,0,20,470.8666667,0.027272727,0.045454545,0,0,Oct,2,2,1,13,Returning_Visitor,FALSE\\r\\n506,0,0,0,0,20,301.5,0.028571429,0.05952381,0,0.8,May,3,2,1,3,Returning_Visitor,FALSE\\r\\n507,2,167.8888889,2,825.5,117,5256.472341,0.004030055,0.014604028,3.187495058,0,Nov,3,2,5,8,Returning_Visitor,FALSE\\r\\n508,0,0,0,0,20,968.75,0.015789474,0.018421053,73.98253901,0,Dec,1,2,1,1,Returning_Visitor,FALSE\\r\\n509,0,0,1,0,131,4597.575252,0.006766917,0.028754539,0,0,Dec,3,2,1,2,Returning_Visitor,FALSE\\r\\n510,0,0,0,0,7,1260.666667,0.057142857,0.107142857,0,0.8,May,2,4,5,6,Returning_Visitor,FALSE\\r\\n511,0,0,2,28,1,0,0.066666667,0.133333333,0,0.6,May,2,2,8,3,Returning_Visitor,FALSE\\r\\n512,1,28,0,0,14,924,0.014285714,0.028571429,0,0,May,1,1,3,4,Returning_Visitor,TRUE\\r\\n513,5,181.8666667,0,0,192,4845.989214,0.005412371,0.022099252,18.67564853,0,Nov,2,2,1,1,Returning_Visitor,FALSE\\r\\n514,1,22.2,0,0,34,606.2,0,0.001388889,17.92983378,0,Oct,2,2,7,3,New_Visitor,TRUE\\r\\n515,0,0,0,0,17,391.8666667,0,0.029411765,0,1,May,2,2,1,1,Returning_Visitor,TRUE\\r\\n516,12,203.4714286,1,0,220,11308.09795,0.001699507,0.012414872,0.673127586,0.8,May,2,2,5,6,Returning_Visitor,FALSE\\r\\n517,2,156,1,201,14,1033.066667,0.0125,0.012291667,0,0,May,1,1,6,3,Returning_Visitor,TRUE\\r\\n518,0,0,0,0,2,0,0.2,0.2,0,0,Nov,1,1,1,1,Returning_Visitor,FALSE\\r\\n519,3,43,0,0,11,610,0,0.015384615,0,0,Mar,2,4,1,1,Returning_Visitor,FALSE\\r\\n520,0,0,1,28,12,276,0,0.008333333,0,0,May,4,5,9,2,New_Visitor,FALSE\\r\\n521,2,29,1,0,9,536,0,0.018181818,37.51854545,0,May,2,2,3,4,New_Visitor,FALSE\\r\\n522,2,99.2,0,0,7,106.9666667,0.025,0.015,0,0,Oct,3,2,1,2,Returning_Visitor,TRUE\\r\\n523,1,14,1,0,14,710.25,0,0.017777778,0,0,Mar,2,2,1,1,Returning_Visitor,FALSE\\r\\n524,2,214.6,3,34.4,1,165.2,0,0.033333333,0,0,Jul,2,2,7,2,Returning_Visitor,FALSE\\r\\n525,0,0,0,0,10,371.5,0,0.04,0,0,Nov,2,2,4,10,Returning_Visitor,FALSE\\r\\n526,3,188,0,0,22,1436.45,0,0.009090909,0,0,Mar,2,2,3,1,Returning_Visitor,FALSE\\r\\n527,0,0,0,0,1,0,0.2,0.2,0,0,May,2,2,7,4,Returning_Visitor,FALSE\\r\\n528,1,33.5,0,0,34,1181.85119,0,0.03515625,0,0,Nov,1,1,1,2,Returning_Visitor,FALSE\\r\\n529,6,115.5833333,0,0,30,1076.958333,0,0.022857143,10.3889438,0,Nov,2,2,4,3,Returning_Visitor,TRUE\\r\\n530,3,94,2,44.2,56,1430.208205,0.02,0.030388889,0,0,Nov,2,2,9,3,Returning_Visitor,FALSE\\r\\n531,3,86.6,0,0,35,596.0333333,0,0.005263158,0,0,Oct,2,5,1,2,New_Visitor,FALSE\\r\\n532,4,68.75,0,0,23,585.65,0,0.008695652,0,0,Dec,8,1,1,2,New_Visitor,TRUE\\r\\n533,0,0,0,0,28,608.5227273,0.015384615,0.021952663,0,0,May,2,2,1,6,Returning_Visitor,TRUE\\r\\n534,0,0,0,0,29,4279.966667,0.044827586,0.072413793,0,0,Dec,2,2,1,1,Returning_Visitor,FALSE\\r\\n535,2,29.33333333,0,0,98,2680.828571,0.009183673,0.014160401,16.04860714,0,May,3,2,3,13,Returning_Visitor,FALSE\\r\\n536,0,0,0,0,65,2706.595238,0,0.022692308,0,0,Nov,2,2,1,2,New_Visitor,FALSE\\r\\n537,0,0,0,0,42,879.0333333,0.004761905,0.024603175,0,0,May,2,2,2,4,Returning_Visitor,TRUE\\r\\n538,14,230.1069444,0,0,52,2059.109203,0.003747073,0.008451124,7.610431148,0,May,2,2,1,13,Returning_Visitor,FALSE\\r\\n539,0,0,2,8,27,723.7666667,0.011494253,0.016387521,0,0,Nov,1,1,1,2,Returning_Visitor,TRUE\\r\\n540,0,0,0,0,23,1919.55,0.008695652,0.031884058,4.280302196,0,Nov,2,2,4,1,Returning_Visitor,FALSE\\r\\n541,2,96.75,0,0,103,3216.920172,0.012190476,0.030754266,0,0,Dec,2,2,6,2,Returning_Visitor,TRUE\\r\\n542,2,24.2,0,0,8,530,0,0.044444444,0,0,Aug,1,8,1,2,Returning_Visitor,FALSE\\r\\n543,0,0,0,0,4,63,0,0.05,0,0.2,Feb,2,6,1,3,Returning_Visitor,FALSE\\r\\n544,0,0,0,0,41,1444.166667,0.009756098,0.026829268,0,0,May,2,2,1,4,Returning_Visitor,FALSE\\r\\n545,0,0,2,89,188,5728.673611,0.003409759,0.01638112,0,0,Nov,2,2,1,2,Returning_Visitor,FALSE\\r\\n546,9,115.4,0,0,29,1514.703333,0.005,0.011342593,4.702065533,0,Jul,3,2,8,1,Returning_Visitor,TRUE\\r\\n547,0,0,0,0,4,0,0.2,0.2,0,0.2,May,3,2,1,13,Returning_Visitor,FALSE\\r\\n548,0,0,0,0,9,386.25,0,0.022222222,0,0,Dec,3,2,6,6,New_Visitor,FALSE\\r\\n549,0,0,0,0,21,947.3928571,0.01,0.033333333,0,0,Dec,1,1,1,10,Returning_Visitor,TRUE\\r\\n550,6,77.5,0,0,71,1361.780952,0,0.014003044,0,0,Dec,2,2,9,2,Returning_Visitor,FALSE\\r\\n551,0,0,1,56,8,497.3333333,0.03,0.06,0,0.4,May,3,2,3,3,Returning_Visitor,FALSE\\r\\n552,0,0,0,0,10,348.25,0.02,0.024,0,0,Nov,2,2,4,13,Returning_Visitor,FALSE\\r\\n553,0,0,0,0,13,1245.25,0,0.015384615,0,0,Dec,2,2,1,2,Returning_Visitor,TRUE\\r\\n554,0,0,0,0,17,392.1666667,0.011764706,0.023529412,0,0.2,May,1,1,1,1,Returning_Visitor,FALSE\\r\\n555,6,450.4,0,0,6,72.9,0,0.028571429,0,0,May,2,2,9,5,New_Visitor,FALSE\\r\\n556,4,464.5,0,0,9,635.7238095,0,0.002777778,0,0,Jul,1,1,3,2,New_Visitor,FALSE\\r\\n557,4,81.6,0,0,45,1096.42,0.041945289,0.072659574,0,0,Jul,3,2,6,13,Returning_Visitor,FALSE\\r\\n558,4,148.5,1,118,150,4764.429997,0,0.005636724,33.33074497,0,Mar,2,2,5,2,Returning_Visitor,FALSE\\r\\n559,4,50.33333333,0,0,3,28.33333333,0,0.016666667,0,0,Dec,2,2,9,10,Returning_Visitor,FALSE\\r\\n560,1,146,0,0,7,221.4,0.025,0.0225,0,0,Nov,1,1,4,3,Returning_Visitor,FALSE\\r\\n561,0,0,0,0,37,1489.590909,0.009459459,0.03816999,0,0,Sep,3,2,2,4,Returning_Visitor,FALSE\\r\\n562,6,79.5,1,19,11,314.25,0,0.003333333,0,0,May,2,2,1,2,New_Visitor,TRUE\\r\\n563,8,335.875,2,75.25,18,1494.125,0,0.022,12.60913229,0,Nov,2,2,9,10,Returning_Visitor,FALSE\\r\\n564,0,0,0,0,37,511.1666667,0.018018018,0.036936937,0,1,May,2,2,1,13,Returning_Visitor,TRUE\\r\\n565,0,0,0,0,16,195.5,0.0125,0.06875,0,0,May,2,4,3,4,Returning_Visitor,FALSE\\r\\n566,0,0,0,0,8,262.1666667,0,0.020833333,0,0,Mar,2,2,2,2,Returning_Visitor,FALSE\\r\\n567,0,0,0,0,16,242.75,0,0.004910714,0,0,Nov,1,8,2,11,Returning_Visitor,TRUE\\r\\n568,0,0,0,0,21,598.6,0,0.038095238,0,0.6,May,2,4,1,4,Returning_Visitor,FALSE\\r\\n569,0,0,0,0,11,398.6944444,0.014814815,0.059259259,0,0,Nov,1,8,3,11,Returning_Visitor,FALSE\\r\\n570,0,0,0,0,8,261.8,0.01,0.04,10.99901844,0,Sep,2,2,4,1,Returning_Visitor,TRUE\\r\\n571,0,0,0,0,27,352.0833333,0.014814815,0.022222222,0,0,May,3,2,3,3,Returning_Visitor,FALSE\\r\\n572,6,175.1,0,0,3,27.6,0,0.011111111,0,0,Jul,2,10,3,5,New_Visitor,FALSE\\r\\n573,0,0,2,7,23,198.8848485,0,0.012,0,0.8,May,2,2,1,4,Returning_Visitor,FALSE\\r\\n574,2,50,0,0,24,602.25,0,0.003846154,0,0,Nov,2,2,1,2,Returning_Visitor,TRUE\\r\\n575,0,0,0,0,35,1192.386111,0.005714286,0.028571429,0,0,Mar,2,4,2,2,Returning_Visitor,FALSE\\r\\n576,0,0,3,300,13,509.1214286,0.006666667,0.002222222,40.7932,0,Mar,3,2,7,2,Returning_Visitor,TRUE\\r\\n577,7,268.4166667,0,0,41,1124.875,0,0.011904762,0,0,Nov,2,2,9,2,Returning_Visitor,FALSE\\r\\n578,0,0,0,0,11,241,0,0.018181818,0,0,Mar,2,2,5,1,Returning_Visitor,FALSE\\r\\n579,0,0,0,0,74,3237.114166,0.002702703,0.009113578,0,0,Nov,4,2,3,3,Returning_Visitor,FALSE\\r\\n580,11,604.73,0,0,63,1276.843158,0,0.006712329,0,0,Jul,2,2,8,6,New_Visitor,FALSE\\r\\n581,0,0,0,0,1,0,0.2,0.2,0,0,Nov,6,2,9,2,Returning_Visitor,FALSE\\r\\n582,0,0,0,0,40,2046.832418,0.004166667,0.033880952,0,0,Nov,1,8,1,11,Returning_Visitor,FALSE\\r\\n583,3,1715,0,0,20,536.6166667,0,0.002898551,0,0,Nov,1,1,1,8,New_Visitor,FALSE\\r\\n584,10,316.1405025,7,321.6666667,287,12983.78771,0.000668896,0.006998399,1.088158231,0,Mar,2,4,3,8,New_Visitor,FALSE\\r\\n585,4,68.75,0,0,137,3770.916071,0.003165468,0.014745252,0,0,Dec,2,2,3,1,Returning_Visitor,FALSE\\r\\n586,2,34.25,0,0,55,3227.483333,0.003636364,0.016363636,0,0,Nov,2,2,3,13,Returning_Visitor,FALSE\\r\\n587,2,69.5,0,0,21,308.4583333,0.027272727,0.043939394,0,0,Dec,2,2,1,13,Returning_Visitor,FALSE\\r\\n588,0,0,0,0,1,0,0.2,0.2,0,0,Dec,1,1,7,3,Returning_Visitor,FALSE\\r\\n589,0,0,0,0,29,3312.5,0.013793103,0.028965517,0,0,Mar,2,2,1,13,Returning_Visitor,FALSE\\r\\n590,0,0,0,0,6,192.875,0,0.016666667,0,0,Dec,8,13,9,20,Other,FALSE\\r\\n591,2,15,0,0,3,21,0,0.05,0,0,Mar,3,2,4,8,Returning_Visitor,FALSE\\r\\n592,0,0,0,0,50,999.8333333,0,0.009,0,0,Dec,2,2,1,8,New_Visitor,TRUE\\r\\n593,10,706.5566667,0,0,53,1572.816667,0.007017544,0.024948268,0,0,Nov,3,2,1,1,Returning_Visitor,FALSE\\r\\n594,0,0,0,0,12,317.8333333,0,0.005555556,0,0,Feb,1,1,1,4,Returning_Visitor,TRUE\\r\\n595,7,105.2083333,2,139.5,98,3452.2625,0.003543956,0.02462704,0,0,Nov,4,1,1,3,Returning_Visitor,FALSE\\r\\n596,0,0,0,0,21,952.5333333,0,0.01,91.246,0,May,2,4,1,3,New_Visitor,FALSE\\r\\n597,0,0,0,0,26,1435.375,0,0.020833333,20.79483821,0,Dec,2,2,4,2,Returning_Visitor,FALSE\\r\\n598,4,159,0,0,3,64.75,0,0.014285714,0,0,Mar,1,1,1,2,Returning_Visitor,FALSE\\r\\n599,3,76.5,2,66,16,315.3666667,0,0.014736842,0,0,May,3,2,1,3,Returning_Visitor,TRUE\\r\\n600,0,0,0,0,1,0,0.2,0.2,0,0.6,May,2,2,1,1,Returning_Visitor,FALSE\\r\\n601,3,32.5,0,0,24,603.25,0,0.014666667,14.57483754,0,Nov,4,2,1,3,Returning_Visitor,FALSE\\r\\n602,1,4,1,0,22,360.65,0,0.01037037,1.453922921,0,Oct,2,2,1,2,Returning_Visitor,FALSE\\r\\n603,5,215.5,0,0,61,1238.066667,0.004761905,0.020740741,0,0.6,May,3,2,3,13,Returning_Visitor,FALSE\\r\\n604,0,0,0,0,81,1950.840873,0.004938272,0.024773663,0,0,Nov,2,2,1,2,Returning_Visitor,FALSE\\r\\n605,2,50.5,1,7,27,916.9222222,0,0.009677419,0,0,Nov,1,2,1,8,New_Visitor,TRUE\\r\\n606,0,0,0,0,7,383.5,0,0.023809524,0,0,Mar,3,2,6,3,Returning_Visitor,FALSE\\r\\n607,0,0,1,0,48,783.6944444,0.012244898,0.01877551,0,0,Dec,2,2,3,2,Returning_Visitor,FALSE\\r\\n608,0,0,0,0,11,673,0.018181818,0.063636364,0,0,Mar,2,6,1,1,Returning_Visitor,FALSE\\r\\n609,6,107.7,0,0,14,290.8,0,0.010526316,0,0,Sep,2,2,1,5,New_Visitor,FALSE\\r\\n610,6,113.25,2,19,23,2049.75,0.022222222,0.033333333,95.35469341,0,Dec,1,1,2,2,Returning_Visitor,FALSE\\r\\n611,1,7,4,364.9166667,248,7445.957075,0.004316069,0.015735624,1.26665917,0,Nov,2,2,1,2,Returning_Visitor,FALSE\\r\\n612,12,221.7279167,4,144.2,136,5944.387373,0.011252599,0.031851593,2.045137389,0,Oct,2,5,1,1,Returning_Visitor,FALSE\\r\\n613,1,4,0,0,13,161.1666667,0.024615385,0.061538462,0,0.6,May,2,5,9,5,Returning_Visitor,FALSE\\r\\n614,3,46,0,0,59,3478.75,0,0.013559322,0,0,Nov,2,10,3,1,Returning_Visitor,TRUE\\r\\n615,0,0,0,0,11,192.45,0.036363636,0.040909091,27.31510469,0,Oct,3,2,1,1,Returning_Visitor,TRUE\\r\\n616,0,0,0,0,40,1090.566667,0.018392857,0.041198413,0,0,May,2,4,1,6,Returning_Visitor,FALSE\\r\\n617,5,173.2632132,0,0,49,1465.555338,0.02384954,0.023755148,20.6672459,0,Nov,3,2,3,1,Returning_Visitor,FALSE\\r\\n618,10,260.25,0,0,31,1694.333333,0.017142857,0.039047619,15.108543,0,Nov,2,2,4,3,Returning_Visitor,FALSE\\r\\n619,1,31,2,515,4,718.6666667,0,0.008333333,0,0,May,2,2,6,6,Returning_Visitor,FALSE\\r\\n620,24,876.2333333,5,625.5,34,1588.666667,0,0.013800705,0,0,Mar,2,2,5,2,Returning_Visitor,FALSE\\r\\n621,1,28.5,0,0,79,1608.214286,0.002597403,0.007748918,0,0,Nov,1,1,3,3,Returning_Visitor,FALSE\\r\\n622,5,44,0,0,54,1391.733333,0.005357143,0.022619048,0,0,Dec,2,2,4,1,Returning_Visitor,FALSE\\r\\n623,9,279.5,0,0,14,313.5833333,0,0.010526316,0,0,Nov,1,1,1,2,New_Visitor,FALSE\\r\\n624,0,0,0,0,20,1078.583117,0.011111111,0.025925926,0,0,Dec,1,1,8,2,Returning_Visitor,FALSE\\r\\n625,10,237.8333333,2,23,82,1814.564286,0.002325581,0.010385835,8.495651163,0,May,3,2,3,2,Returning_Visitor,FALSE\\r\\n626,1,44,0,0,56,2075.983333,0,0.014545455,13.81852727,0,May,2,5,2,3,Returning_Visitor,FALSE\\r\\n627,0,0,0,0,10,366,0.02,0.056666667,0,0.6,May,1,1,1,3,Returning_Visitor,FALSE\\r\\n628,1,0,0,0,11,113.8,0.083333333,0.116666667,0,0,Nov,2,4,1,3,Returning_Visitor,FALSE\\r\\n629,0,0,0,0,1,0,0.2,0.2,0,0,Mar,3,3,3,3,Returning_Visitor,FALSE\\r\\n630,0,0,1,51.5,31,618.75,0.003225806,0.027956989,0,0,Nov,2,2,1,13,Returning_Visitor,FALSE\\r\\n631,0,0,0,0,23,373.5,0.019047619,0.050793651,0,0,June,3,2,1,1,Returning_Visitor,FALSE\\r\\n632,0,0,0,0,2,203,0,0.1,0,0,May,2,2,1,3,Returning_Visitor,FALSE\\r\\n633,10,363.3333333,0,0,59,2012.900794,0.001538462,0.011431235,54.65714872,0,May,1,5,1,4,Returning_Visitor,FALSE\\r\\n634,0,0,0,0,1,0,0.2,0.2,0,0,Nov,2,4,4,1,Returning_Visitor,FALSE\\r\\n635,0,0,0,0,28,683.3,0.028571429,0.089285714,0,0,June,2,2,3,1,Returning_Visitor,FALSE\\r\\n636,1,5,0,0,13,271,0,0.003571429,0,0,Mar,1,1,2,2,New_Visitor,TRUE\\r\\n637,0,0,0,0,25,1225.857143,0.012,0.040977778,0,0.4,May,2,2,5,2,Returning_Visitor,FALSE\\r\\n638,0,0,1,17,8,549,0.022222222,0.044444444,0,0.6,May,1,1,6,3,Returning_Visitor,FALSE\\r\\n639,1,88,0,0,11,522.6666667,0,0.022222222,0,0,May,3,3,1,4,Returning_Visitor,FALSE\\r\\n640,11,771.9285714,2,214.1666667,39,1022.474026,0.000833333,0.012361111,52.05165,0,May,3,2,1,2,Returning_Visitor,FALSE\\r\\n641,2,303.2,0,0,13,181.0666667,0,0.016666667,0,0,Oct,1,1,3,2,Returning_Visitor,TRUE\\r\\n642,1,7,0,0,39,1118.833333,0.005405405,0.019099099,0,0,Nov,2,2,6,13,Returning_Visitor,FALSE\\r\\n643,3,107.4285714,0,0,59,1843.187696,0.014385965,0.041993382,5.71562257,0,Dec,2,2,7,7,Returning_Visitor,TRUE\\r\\n644,0,0,0,0,3,17,0,0.033333333,0,0,Mar,1,1,1,3,Returning_Visitor,FALSE\\r\\n645,5,497.75,1,10,51,4977.85,0,0.015536723,15.35760339,0,May,2,2,1,5,Returning_Visitor,FALSE\\r\\n646,0,0,0,0,1,0,0.2,0.2,0,0,Mar,2,6,1,1,Returning_Visitor,FALSE\\r\\n647,0,0,0,0,48,4346.916667,0.020138889,0.034791667,0,0,May,3,2,2,13,Returning_Visitor,FALSE\\r\\n648,0,0,0,0,26,852.7666667,0.001923077,0.024166667,0,1,May,3,2,4,1,Returning_Visitor,TRUE\\r\\n649,4,64.66666667,0,0,50,936.81,0,0.003773585,0,0,Aug,2,2,4,2,New_Visitor,FALSE\\r\\n650,0,0,0,0,15,455.5,0,0.014285714,0,0,May,2,10,3,2,New_Visitor,FALSE\\r\\n651,0,0,5,663.9166667,47,2059.7,0.005769231,0.033243423,0,0,Dec,3,2,3,6,Returning_Visitor,FALSE\\r\\n652,2,63,0,0,35,850.3333333,0,0.005405405,0,0,Mar,2,2,3,2,New_Visitor,TRUE\\r\\n653,0,0,0,0,16,344.4,0.023529412,0.052941176,0,0,Jul,2,2,2,4,Returning_Visitor,FALSE\\r\\n654,0,0,0,0,35,1386.716667,0.02,0.039269841,14.96432,0,May,1,8,4,20,Returning_Visitor,TRUE\\r\\n655,1,36,0,0,34,2240.166667,0.013541667,0.034895833,0,0.6,May,1,1,1,4,Returning_Visitor,FALSE\\r\\n656,0,0,0,0,12,252.75,0,0.016666667,0,0,Dec,2,2,7,3,Returning_Visitor,FALSE\\r\\n657,0,0,0,0,1,0,0.2,0.2,0,0,Nov,2,4,1,2,Returning_Visitor,FALSE\\r\\n658,1,9,0,0,13,858.8333333,0.014285714,0.051190476,0,0,Nov,1,1,6,11,Returning_Visitor,FALSE\\r\\n659,0,0,0,0,14,238.6666667,0,0.003846154,0,0,Dec,2,2,5,2,New_Visitor,FALSE\\r\\n660,0,0,0,0,23,566.8,0,0.007971014,0,0,Nov,3,2,1,13,Returning_Visitor,FALSE\\r\\n661,0,0,0,0,3,66.4,0.066666667,0.1,0,0,June,3,2,6,11,Returning_Visitor,TRUE\\r\\n662,0,0,0,0,4,96.33333333,0,0.05,0,0,May,1,1,1,2,Returning_Visitor,TRUE\\r\\n663,7,114.2,0,0,26,360.1816667,0,0.008800253,0,0,Nov,1,1,1,2,Returning_Visitor,FALSE\\r\\n664,0,-1,0,-1,1,-1,0.2,0.2,0,0,Jul,1,1,3,1,Returning_Visitor,FALSE\\r\\n665,5,59.52777778,3,124.25,156,5189.960659,0.001234568,0.008928986,20.50963783,0,Nov,2,2,7,1,Returning_Visitor,FALSE\\r\\n666,3,154.5,0,0,21,638.3333333,0,0.047222222,0,0,May,2,5,4,4,Returning_Visitor,FALSE\\r\\n667,0,0,0,0,9,82.5,0,0.033333333,0,0,Dec,2,2,1,1,Returning_Visitor,FALSE\\r\\n668,0,0,0,0,14,1025,0.042857143,0.066666667,0,0,May,4,2,1,13,Returning_Visitor,FALSE\\r\\n669,11,233.475,0,0,118,4251.208187,0,0.012659622,14.67198629,0,Nov,2,2,1,2,Returning_Visitor,FALSE\\r\\n670,1,7,0,0,151,2564.278157,0.00917226,0.0210895,0,0.6,May,1,1,1,15,Returning_Visitor,FALSE\\r\\n671,0,0,0,0,4,302,0,0.04,46.06937312,0,Dec,8,13,9,20,Other,FALSE\\r\\n672,2,273,1,1,10,384.4,0.044444444,0.043386243,0,0,May,1,1,1,3,Returning_Visitor,FALSE\\r\\n673,0,0,0,0,8,101.75,0.025,0.075,0,0,Nov,2,2,6,2,Returning_Visitor,FALSE\\r\\n674,3,44,0,0,15,310.25,0.0125,0.0125,0,0,Dec,3,2,3,2,Returning_Visitor,TRUE\\r\\n675,0,0,0,0,2,0,0.2,0.2,0,0,May,1,8,2,1,Returning_Visitor,FALSE\\r\\n676,5,92.5625,0,0,2,99.5,0,0.022222222,0,0,Nov,2,2,1,8,New_Visitor,TRUE\\r\\n677,0,0,0,0,21,472.875,0.00952381,0.041269841,0,0,Nov,2,2,1,2,Returning_Visitor,FALSE\\r\\n678,0,0,0,0,12,173,0,0.016666667,0,0.8,May,1,1,6,1,Returning_Visitor,FALSE\\r\\n679,0,0,0,0,2,135.5,0.066666667,0.166666667,0,0,Dec,1,1,4,3,Returning_Visitor,FALSE\\r\\n680,3,34.5,0,0,17,298.875,0,0.014035088,0,0,Dec,1,5,1,2,New_Visitor,FALSE\\r\\n681,0,0,0,0,2,0,0.2,0.2,0,0,Oct,3,2,1,1,Returning_Visitor,TRUE\\r\\n682,0,0,1,93,30,1045.833333,0.012903226,0.035483871,0,0.2,Feb,1,1,1,3,Returning_Visitor,FALSE\\r\\n683,0,0,0,0,30,469.1,0,0.015,0,0,Jul,2,4,4,4,Returning_Visitor,FALSE\\r\\n684,4,64.5,0,0,28,852.3333333,0.013793103,0.02454844,0,0,May,2,2,1,7,Returning_Visitor,TRUE\\r\\n685,13,344.4922161,5,271.25,182,5402.78526,0.000968661,0.006829256,16.27511574,0,Dec,3,2,1,2,Returning_Visitor,FALSE\\r\\n686,3,187,2,41,48,1769.697383,0.000606061,0.011616162,16.71534488,0,Mar,2,2,3,2,Returning_Visitor,FALSE\\r\\n687,1,20.2,0,0,77,3107.173333,0.002597403,0.017041847,18.74860165,0,Sep,2,2,7,1,Returning_Visitor,FALSE\\r\\n688,1,44.5,0,0,18,519.5,0,0.035,20.394,0,May,2,2,7,13,Returning_Visitor,FALSE\\r\\n689,0,0,0,0,52,1218.1,0.001282051,0.030448718,0,0,Sep,2,2,3,1,Returning_Visitor,FALSE\\r\\n690,0,0,0,0,8,113.6666667,0,0.025,0,0,Nov,2,2,4,13,Returning_Visitor,FALSE\\r\\n691,0,0,0,0,8,129,0.025,0.1,0,0.8,May,2,4,1,3,Returning_Visitor,FALSE\\r\\n692,0,0,0,0,24,1476.021429,0.013043478,0.024378882,0,0,Sep,2,2,8,2,Returning_Visitor,FALSE\\r\\n693,0,0,0,0,27,644,0.007692308,0.051923077,0,0,Mar,3,2,2,3,Returning_Visitor,FALSE\\r\\n694,0,0,0,0,42,570.1832287,0.01,0.016547619,0,0,Aug,2,2,1,2,Returning_Visitor,FALSE\\r\\n695,3,377,0,0,14,634,0,0.013333333,0,0,May,1,1,8,15,New_Visitor,TRUE\\r\\n696,1,0,0,0,23,440.5833333,0.025,0.036666667,0,0,Dec,1,1,8,2,Returning_Visitor,TRUE\\r\\n697,6,202.4,1,0,22,2006.046667,0.007142857,0.032738095,8.052231522,0,Nov,6,5,4,2,Returning_Visitor,FALSE\\r\\n698,2,87.25,0,0,56,2094.983333,0.032738095,0.063214286,0,0.8,May,2,4,3,3,Returning_Visitor,FALSE\\r\\n699,1,64,0,0,15,188.5,0,0.007142857,0,0,May,2,4,2,2,Returning_Visitor,FALSE\\r\\n700,2,147,0,0,2,35,0,0.05,0,0,Mar,2,2,1,2,New_Visitor,FALSE\\r\\n701,6,224,0,0,33,677.95,0.005714286,0.01968254,0,0,May,3,2,3,4,Returning_Visitor,FALSE\\r\\n702,3,45,0,0,42,1288.066667,0,0.007317073,0,0,May,2,5,1,4,Returning_Visitor,FALSE\\r\\n703,2,338,0,0,17,1205.566667,0.0125,0.0375,19.23625,0.8,May,3,2,2,2,Returning_Visitor,FALSE\\r\\n704,0,0,0,0,30,4262.966667,0,0.013333333,65.29516039,0,Dec,2,10,7,1,Returning_Visitor,TRUE\\r\\n705,0,0,0,0,3,65.5,0.066666667,0.1,0,0,Nov,3,2,1,13,Returning_Visitor,FALSE\\r\\n706,7,182.0833333,0,0,15,310.9,0,0.01,0,0,Mar,2,2,4,2,Returning_Visitor,FALSE\\r\\n707,1,56.4,1,7,72,2163.569524,0.015492958,0.032253521,4.286743658,0,June,2,2,1,13,Returning_Visitor,FALSE\\r\\n708,4,63.75,0,0,13,774.7288136,0,0.012150434,0,0,Nov,2,2,6,2,Returning_Visitor,FALSE\\r\\n709,4,155,0,0,60,3086.398654,0.000287356,0.019676875,0,0.4,May,2,5,2,1,Returning_Visitor,FALSE\\r\\n710,6,623.5,0,0,122,3068.062904,0.01312,0.016953816,0,0,Nov,1,1,1,2,Returning_Visitor,FALSE\\r\\n711,0,0,0,0,1,0,0.2,0.2,0,0,Mar,2,4,6,2,Returning_Visitor,FALSE\\r\\n712,0,0,0,0,12,1012.2,0,0.033333333,0,0,Jul,2,2,7,4,Returning_Visitor,FALSE\\r\\n713,0,0,0,0,48,4293.833333,0.008333333,0.034166667,0,0,Nov,2,1,1,2,New_Visitor,TRUE\\r\\n714,1,33.5,0,0,15,710.25,0,0.011111111,0,0,Dec,2,10,1,8,New_Visitor,FALSE\\r\\n715,1,17.6,0,0,12,1192.866667,0,0.019230769,0,0,Sep,2,2,1,3,Returning_Visitor,FALSE\\r\\n716,1,27.5,0,0,37,1673.593939,0.001851852,0.040162037,0,0,Nov,2,4,3,10,Returning_Visitor,TRUE\\r\\n717,0,0,0,0,20,504.2333333,0.01,0.021666667,0,0,Mar,3,2,1,1,Returning_Visitor,FALSE\\r\\n718,1,21.2,0,0,53,2224.633333,0.011538462,0.03514652,0,0,Aug,2,2,3,3,Returning_Visitor,FALSE\\r\\n719,0,0,0,0,6,64,0.1,0.133333333,0,0,Mar,4,1,1,1,Returning_Visitor,FALSE\\r\\n720,0,0,0,0,11,199.5,0.127272727,0.142424242,0,0,Jul,3,2,1,1,Returning_Visitor,FALSE\\r\\n721,0,0,0,0,6,219.5,0.011111111,0.077777778,0,0,May,2,4,2,6,Returning_Visitor,FALSE\\r\\n722,0,0,0,0,27,1065.45,0,0.012345679,0,0,Nov,2,2,3,2,New_Visitor,FALSE\\r\\n723,2,36,0,0,15,2190.666667,0,0.004444444,0,0,Mar,2,2,3,8,Returning_Visitor,FALSE\\r\\n724,0,0,0,0,12,471.5,0.016666667,0.066666667,0,0,Mar,1,1,6,3,Returning_Visitor,FALSE\\r\\n725,0,0,0,0,21,882.75,0,0.020408163,0,0,Dec,2,2,2,2,New_Visitor,TRUE\\r\\n726,0,0,0,0,98,3986.789646,0.006122449,0.027110844,0,0,Dec,2,2,1,2,Returning_Visitor,FALSE\\r\\n727,5,471.25,0,0,21,883,0,0.010666667,44.98081787,0,Nov,1,1,2,8,New_Visitor,TRUE\\r\\n728,0,0,1,0,17,982.757619,0.0125,0.035416667,0,0,Sep,2,5,2,1,Returning_Visitor,FALSE\\r\\n729,4,85,0,0,3,43.5,0,0.05,0,0,Dec,1,1,1,8,New_Visitor,TRUE\\r\\n730,0,0,0,0,15,1233.25,0.02,0.042222222,0,0.8,May,1,1,1,1,Returning_Visitor,FALSE\\r\\n731,2,20.75,0,0,22,868.6785714,0.002777778,0.019722222,62.51664293,0,Dec,2,2,1,2,Returning_Visitor,FALSE\\r\\n732,0,0,0,0,56,2354.958333,0,0.018571429,0,0,Nov,2,2,3,2,New_Visitor,TRUE\\r\\n733,3,57,0,0,42,3556.516667,0,0.00968254,26.98362279,0,Dec,2,4,3,1,Returning_Visitor,FALSE\\r\\n734,10,291.2357143,0,0,36,940.1044266,0,0.002845528,87.30695843,0,Aug,2,2,2,2,Returning_Visitor,FALSE\\r\\n735,0,0,0,0,2,59,0,0.1,0,0,May,1,2,1,6,Returning_Visitor,FALSE\\r\\n736,0,0,0,0,3,18,0.1,0.111111111,0,0,Nov,3,2,2,13,Returning_Visitor,FALSE\\r\\n737,1,4,0,0,19,760.25,0,0.011764706,33.788,0,May,1,2,1,3,New_Visitor,FALSE\\r\\n738,0,0,0,0,19,1195.375,0.004210526,0.036090226,0,0,Nov,2,2,4,13,Returning_Visitor,FALSE\\r\\n739,4,103.625,0,0,14,1003.416667,0,0.018039216,0,0.2,Feb,1,1,3,3,Returning_Visitor,FALSE\\r\\n740,0,0,0,0,5,108,0,0.05,0,0,May,1,1,4,3,Returning_Visitor,FALSE\\r\\n741,2,47,1,0,20,738.9107143,0.017391304,0.023671498,0,0,Nov,3,2,1,2,Returning_Visitor,FALSE\\r\\n742,3,227,0,0,2,62,0,0.025,0,0,Mar,3,2,1,10,Returning_Visitor,TRUE\\r\\n743,0,0,0,0,5,143.5,0,0.04,0,0,Mar,2,5,3,3,Returning_Visitor,FALSE\\r\\n744,9,417.25,0,0,42,922.2083333,0,0.024074074,0,1,May,4,1,1,3,Returning_Visitor,TRUE\\r\\n745,0,0,0,0,14,1037.5,0.014285714,0.047619048,0,0,Mar,2,2,4,2,Returning_Visitor,FALSE\\r\\n746,0,0,0,0,15,270,0.028571429,0.035714286,0,0,Mar,2,2,7,1,Returning_Visitor,FALSE\\r\\n747,6,127.4166667,0,0,162,5509.717928,0.001905069,0.021987823,0,0,Nov,2,2,1,1,Returning_Visitor,FALSE\\r\\n748,2,70.6,0,0,27,213.0157143,0,0.007407407,79.51302667,0,Oct,2,2,1,3,New_Visitor,TRUE\\r\\n749,0,0,0,0,19,926.6333333,0.011111111,0.02962963,0,0,Mar,2,2,2,1,Returning_Visitor,TRUE\\r\\n750,7,667.25,0,0,4,101.8,0,0.01,0,0,Jul,3,2,6,2,Returning_Visitor,TRUE\\r\\n751,2,36.2,3,52,4,48,0.057142857,0.057142857,0,0,Jul,1,1,1,4,Returning_Visitor,TRUE\\r\\n752,0,0,0,0,12,468,0.016666667,0.033333333,0,0,Mar,4,1,4,3,Returning_Visitor,FALSE\\r\\n753,0,0,0,0,2,63.5,0,0.1,0,0,Nov,1,1,1,3,Returning_Visitor,FALSE\\r\\n754,0,0,0,0,3,13,0.066666667,0.133333333,0,0,Dec,3,2,3,1,Returning_Visitor,TRUE\\r\\n755,1,13.75,0,0,32,855.5416667,0.000840336,0.027058824,22.95499447,0,Nov,2,2,2,6,Returning_Visitor,FALSE\\r\\n756,2,100,0,0,22,639.5,0,0.008695652,101.3721739,0,May,1,1,1,4,Returning_Visitor,TRUE\\r\\n757,2,18,2,6,10,363.6,0,0.015384615,0,0,Sep,2,2,1,5,New_Visitor,TRUE\\r\\n758,0,0,0,0,18,356.5,0.0125,0.025,0,0.6,May,2,2,3,2,New_Visitor,FALSE\\r\\n759,0,0,0,0,16,316,0.025,0.0375,0,0,Nov,1,8,9,2,Returning_Visitor,FALSE\\r\\n760,0,0,0,0,16,79,0.025,0.0375,0,0,May,2,2,2,4,Returning_Visitor,TRUE\\r\\n761,1,5,2,66.5,64,1716.583333,0.012121212,0.019444444,0,0,Nov,4,2,1,2,Returning_Visitor,TRUE\\r\\n762,0,0,0,0,21,1483,0.007894737,0.021754386,0,1,May,1,1,3,7,Returning_Visitor,TRUE\\r\\n763,0,0,0,0,11,500,0,0.02,44.388,0,May,2,2,3,2,Returning_Visitor,FALSE\\r\\n764,2,33.75,0,0,6,96,0,0.025,0,0,Dec,2,2,4,2,New_Visitor,FALSE\\r\\n765,0,0,0,0,6,551.5,0.033333333,0.077777778,0,0,Nov,3,2,4,11,Returning_Visitor,TRUE\\r\\n766,0,0,0,0,6,180.1666667,0,0.016666667,0,0,May,1,1,7,2,Returning_Visitor,TRUE\\r\\n767,5,766.8333333,0,0,37,1133.016667,0,0.013846154,49.66307692,0,May,4,2,4,2,Returning_Visitor,FALSE\\r\\n768,1,129.36,0,0,6,341.36,0,0.0625,11.27546478,0,Nov,2,5,3,1,Returning_Visitor,FALSE\\r\\n769,2,22.2,0,0,18,584.74,0.005882353,0.023529412,0,0,Aug,1,1,3,2,Returning_Visitor,FALSE\\r\\n770,4,315,0,0,8,465.8333333,0,0.024242424,0,0,Mar,3,2,3,3,Returning_Visitor,TRUE\\r\\n771,0,0,0,0,5,115.625,0.04,0.088,0,0,Nov,2,2,3,3,Returning_Visitor,FALSE\\r\\n772,3,60.73333333,0,0,27,696.9,0,0.014814815,0,0,Sep,2,2,6,4,Returning_Visitor,FALSE\\r\\n773,0,0,0,0,1,0,0.2,0.2,0,0,Nov,2,5,1,1,Returning_Visitor,TRUE\\r\\n774,2,83.6,0,0,43,1582.7,0.004545455,0.014393939,0,0,Nov,3,2,3,1,Returning_Visitor,FALSE\\r\\n775,2,254,1,39,95,4990.959524,0.004123711,0.015307716,5.638103093,0,May,2,2,1,6,Returning_Visitor,FALSE\\r\\n776,1,0,0,0,61,1934.225758,0.009677419,0.01662531,0,0,Nov,2,2,1,13,Returning_Visitor,FALSE\\r\\n777,9,138.5666667,1,21.2,39,977.4128571,0.009756098,0.017615176,0,0,Oct,1,1,3,3,Returning_Visitor,FALSE\\r\\n778,1,15.2,2,62.6,84,4941.698611,0.017647059,0.038705882,0,0,Sep,1,8,6,1,Returning_Visitor,FALSE\\r\\n779,0,0,0,0,21,197.3333333,0.00952381,0.041269841,0,0.8,May,2,10,7,4,Returning_Visitor,FALSE\\r\\n780,0,0,0,0,12,305.4,0,0.019444444,0,0,Dec,3,2,1,11,Returning_Visitor,FALSE\\r\\n781,1,0,0,0,3,22,0.066666667,0.1,0,0.8,May,2,2,1,6,Returning_Visitor,FALSE\\r\\n782,17,698.1333333,1,9,83,4306.612355,0.001075269,0.019375648,0,0,Oct,7,1,2,1,Returning_Visitor,TRUE\\r\\n783,5,152.875,2,81,46,2295.182143,0.004081633,0.014873664,21.02481633,0.2,May,3,2,4,1,Returning_Visitor,FALSE\\r\\n784,1,11,1,10,74,3487.12471,0.002739726,0.009519461,0,0,Nov,3,2,4,3,Returning_Visitor,TRUE\\r\\n785,0,0,1,0,28,2743.216667,0.020689655,0.042528736,0,0,Mar,2,5,2,1,Returning_Visitor,FALSE\\r\\n786,0,0,0,0,37,684.7272727,0.005405405,0.023423423,0,0,Mar,2,4,3,1,Returning_Visitor,FALSE\\r\\n787,1,10,0,0,30,602.5,0.009677419,0.014910394,0,0,Dec,2,2,2,10,Returning_Visitor,FALSE\\r\\n788,5,237.25,1,181,63,3445.0125,0.011897436,0.028190306,0,0,Dec,3,2,1,2,Returning_Visitor,FALSE\\r\\n789,0,0,0,0,7,50.5,0.057142857,0.1,0,0,May,3,2,1,3,Returning_Visitor,TRUE\\r\\n790,9,181.275,2,65,120,3283.715359,0.004651163,0.024543027,2.442153455,0,Nov,1,2,1,2,Returning_Visitor,FALSE\\r\\n791,0,0,0,0,6,31,0,0.033333333,0,0,Oct,2,5,1,1,Returning_Visitor,FALSE\\r\\n792,3,120.6666667,0,0,8,261.6,0,0.01,0,0,May,2,7,1,2,New_Visitor,FALSE\\r\\n793,4,438.8,0,0,4,599,0,0.011111111,0,0,Aug,3,2,3,5,New_Visitor,TRUE\\r\\n794,0,0,0,0,14,331.3,0,0.015384615,0,0,Jul,1,8,1,1,Returning_Visitor,FALSE\\r\\n795,3,22,0,0,10,53.83333333,0.025,0.0375,0,0,Dec,4,2,3,10,Returning_Visitor,TRUE\\r\\n796,6,358.0833333,1,18,93,3422.525,0.020408163,0.039301175,0,0,Nov,2,4,2,1,Returning_Visitor,FALSE\\r\\n797,0,0,0,0,36,5300.291667,0,0.005714286,0,0,Nov,2,4,6,2,Returning_Visitor,FALSE\\r\\n798,0,0,0,0,6,83.5,0,0.066666667,0,0,Nov,1,1,3,10,Returning_Visitor,FALSE\\r\\n799,4,67.5,0,0,27,834.6666667,0,0.014285714,0,0,Nov,2,2,2,2,New_Visitor,TRUE\\r\\n800,0,0,1,41.5,98,2400.037843,0.000183655,0.011646771,0,0,Nov,2,2,1,2,Returning_Visitor,FALSE\\r\\n801,0,0,0,0,3,48,0,0.033333333,0,0,Mar,2,2,5,1,Returning_Visitor,TRUE\\r\\n802,0,0,0,0,13,541.9166667,0,0.015384615,26.09995422,0,Dec,2,4,1,2,New_Visitor,FALSE\\r\\n803,5,104.875,0,0,39,805.625,0,0.020905923,2.217029402,0,Dec,2,2,2,2,Returning_Visitor,FALSE\\r\\n804,2,223,0,0,8,392.4,0,0.04,0,0,May,1,1,3,1,Returning_Visitor,FALSE\\r\\n805,2,8.5,0,0,3,25.5,0,0.028571429,0,0,May,2,2,5,4,Returning_Visitor,FALSE\\r\\n806,0,0,4,82.5,22,1087.986111,0.007692308,0.020244755,0,0,Nov,3,2,3,2,Returning_Visitor,FALSE\\r\\n807,0,0,0,0,20,584,0,0.003508772,0,0,May,2,2,6,4,New_Visitor,FALSE\\r\\n808,1,123,0,0,7,181.5,0,0.025,64.7325,0,Mar,2,2,1,2,New_Visitor,TRUE\\r\\n809,9,164.5833333,1,0,76,3580.333333,0.004819277,0.020522088,12.20780052,0,Nov,4,1,1,1,Returning_Visitor,FALSE\\r\\n810,3,61,4,31,1,43,0,0.025,0,0,Dec,8,13,9,20,Other,FALSE\\r\\n811,2,162,0,0,7,204.5,0,0.022222222,0,0,May,1,1,8,2,New_Visitor,FALSE\\r\\n812,0,0,0,0,4,270,0,0.016666667,0,0.8,Feb,1,1,1,3,Returning_Visitor,FALSE\\r\\n813,0,0,0,0,5,20.2,0.18,0.186666667,0,0,Aug,3,2,4,20,Returning_Visitor,FALSE\\r\\n814,0,0,0,0,2,94,0,0.1,0,0,Nov,2,4,2,8,Returning_Visitor,FALSE\\r\\n815,0,0,0,0,1,0,0.2,0.2,0,0,May,3,3,4,4,Returning_Visitor,FALSE\\r\\n816,0,0,0,0,2,5,0,0.1,0,0,Mar,2,2,3,1,Returning_Visitor,FALSE\\r\\n817,3,179.5,0,0,22,746.1666667,0,0.004266667,0,0,May,3,3,1,15,Returning_Visitor,TRUE\\r\\n818,5,102.5333333,0,0,74,2396.690316,0.002699055,0.020349845,15.03328131,0,Mar,2,5,6,1,Returning_Visitor,FALSE\\r\\n819,2,21,0,0,34,2600.258333,0.011111111,0.037464387,9.938399233,0,Mar,1,1,1,3,Returning_Visitor,FALSE\\r\\n820,1,31.5,0,0,3,32.83333333,0,0.05,0,0,Dec,2,2,9,2,New_Visitor,TRUE\\r\\n821,0,0,0,0,25,883.9761905,0.02,0.029333333,0,0,Sep,3,2,3,4,Returning_Visitor,TRUE\\r\\n822,3,61,0,0,19,573.6571429,0.036842105,0.04,0,0,Mar,1,1,2,1,Returning_Visitor,FALSE\\r\\n823,1,63.5,0,0,7,58.9,0,0.025,0,0,Dec,1,1,2,2,New_Visitor,FALSE\\r\\n824,0,0,0,0,1,0,0.2,0.2,0,0,Feb,1,1,1,2,Returning_Visitor,TRUE\\r\\n825,1,37,0,0,10,240.4166667,0.018181818,0.022727273,0,0,May,2,2,3,3,New_Visitor,TRUE\\r\\n826,1,154.5,0,0,9,308.3333333,0,0.0125,0,0,Nov,1,2,2,10,Returning_Visitor,TRUE\\r\\n827,0,0,0,0,8,863.3333333,0,0.014583333,0,0,Mar,2,2,4,3,Returning_Visitor,TRUE\\r\\n828,3,63.4,1,0,26,1115.4,0.061494253,0.087060755,0,0,Aug,3,2,6,13,Returning_Visitor,TRUE\\r\\n829,0,0,0,0,9,72,0.022222222,0.044444444,0,0.6,May,1,1,1,3,Returning_Visitor,FALSE\\r\\n830,0,0,0,0,15,221,0,0.035555556,0,0,May,2,4,1,1,Returning_Visitor,FALSE\\r\\n831,0,0,0,0,6,546,0,0.04,35.49,0,Mar,2,2,3,1,Returning_Visitor,FALSE\\r\\n832,0,0,0,0,5,672.5,0,0.04,0,0,Mar,2,2,1,1,Returning_Visitor,FALSE\\r\\n833,7,144.4615385,4,167.1666667,111,2312.337853,0.005128205,0.013887559,8.191922892,0,Nov,1,1,1,2,Returning_Visitor,FALSE\\r\\n834,0,0,0,0,17,631.5,0.011764706,0.064705882,0,0.8,May,2,2,1,13,Returning_Visitor,FALSE\\r\\n835,4,19.66666667,3,254.9166667,147,4254.666667,0.008445946,0.01925038,0,0,Nov,2,2,1,1,Returning_Visitor,FALSE\\r\\n836,4,264.1333333,1,152.2,47,906.1166667,0,0.002614379,0,0,Aug,3,2,3,2,New_Visitor,TRUE\\r\\n837,0,0,0,0,20,436.1,0.04,0.07,0,0,June,1,1,4,3,Returning_Visitor,FALSE\\r\\n838,3,53.5,0,0,26,1097.05,0,0.019605911,0,0,May,2,2,4,2,Returning_Visitor,FALSE\\r\\n839,3,176,0,0,21,654.5,0.009090909,0.031818182,0,0.2,May,1,1,2,3,Returning_Visitor,FALSE\\r\\n840,0,0,0,0,53,1768.657051,0,0.003921569,0,0,Nov,2,4,3,2,Returning_Visitor,FALSE\\r\\n841,0,0,0,0,3,22.5,0,0.066666667,0,0,May,1,2,3,2,Returning_Visitor,TRUE\\r\\n842,0,0,0,0,25,610.3095238,0,0.039,0,0,Nov,2,2,3,2,Returning_Visitor,FALSE\\r\\n843,5,75.25,0,0,35,572.9761905,0.005405405,0.014414414,0,0,Dec,3,2,1,3,Returning_Visitor,FALSE\\r\\n844,3,82.5,1,56.5,54,2295,0.007272727,0.014545455,0,0,Dec,1,1,1,10,Returning_Visitor,TRUE\\r\\n845,4,47.5,0,0,16,331.3333333,0,0.010526316,254.6071579,0,May,2,5,1,2,New_Visitor,FALSE\\r\\n846,13,1249.809524,4,205,36,1626.625433,0.010638298,0.026186255,6.831792392,0,Mar,3,2,2,3,Returning_Visitor,FALSE\\r\\n847,1,17.75,0,0,22,610.975,0.031818182,0.072727273,0,0,Nov,1,1,1,2,Returning_Visitor,FALSE\\r\\n848,1,30.25,2,0,20,543.9583333,0.00952381,0.026984127,0,0,Dec,3,2,1,2,Returning_Visitor,FALSE\\r\\n849,10,312,0,0,18,782.5,0,0.002105263,0,0,May,3,2,1,18,Returning_Visitor,TRUE\\r\\n850,9,441.85,0,0,122,2577.449603,0,0.010463332,75.27712913,0,Nov,1,1,1,2,Returning_Visitor,FALSE\\r\\n851,0,0,0,0,14,289.625,0,0.028571429,0,0,Nov,2,2,1,2,New_Visitor,TRUE\\r\\n852,1,0,0,0,17,1314.25,0.045833333,0.1,0,0,Mar,2,2,7,1,Returning_Visitor,FALSE\\r\\n853,8,108.8333333,0,0,21,780.5833333,0.008695652,0.017391304,25.03946022,0,Nov,2,5,1,3,New_Visitor,FALSE\\r\\n854,0,0,2,842.3,26,1911.711111,0.015384615,0.036666667,8.018832458,0,Jul,3,2,1,2,Returning_Visitor,TRUE\\r\\n855,6,184.32,0,0,8,163.22,0,0.018181818,0,0,Nov,1,1,1,2,New_Visitor,FALSE\\r\\n856,0,0,0,0,2,57,0,0.1,0,0,Mar,3,2,1,1,Returning_Visitor,TRUE\\r\\n857,4,30.3,0,0,7,493.4,0,0.016666667,0,0,Oct,2,5,1,2,New_Visitor,FALSE\\r\\n858,8,108.5,0,0,53,1287.852778,0.003389831,0.027514124,0,0,Dec,2,2,1,2,Returning_Visitor,FALSE\\r\\n859,1,162.2,0,0,6,156.2,0.014285714,0.1,0,0,Jul,3,2,3,1,Returning_Visitor,FALSE\\r\\n860,0,0,0,0,18,353.0833333,0.022222222,0.05,0,0,Nov,1,1,1,2,Returning_Visitor,TRUE\\r\\n861,0,0,0,0,14,999,0,0.023076923,8.482951523,0,Dec,2,2,3,6,Returning_Visitor,FALSE\\r\\n862,0,0,0,0,13,734,0,0.0375,0,0,May,1,1,1,3,Returning_Visitor,FALSE\\r\\n863,1,4,2,11,110,3211.827706,0.003571429,0.012916667,0,0,Mar,2,2,1,2,Returning_Visitor,FALSE\\r\\n864,0,0,0,0,2,187,0.1,0.15,0,0,Mar,3,2,1,3,Returning_Visitor,FALSE\\r\\n865,0,0,2,407.5,14,1043.15,0.05,0.08125,0,0,Nov,1,1,1,2,Returning_Visitor,TRUE\\r\\n866,1,29.2,0,0,66,1364.873333,0.0171875,0.036488095,16.1347001,0,Jul,1,1,8,1,Returning_Visitor,TRUE\\r\\n867,0,0,0,0,21,1050.25,0,0.028571429,0,0,Nov,2,2,6,2,Returning_Visitor,TRUE\\r\\n868,4,323.5,0,0,10,320.75,0,0.015384615,0,0,Nov,2,2,6,2,New_Visitor,FALSE\\r\\n869,3,89,0,0,26,655.5357143,0,0.0375,0,0,Nov,2,2,4,1,Returning_Visitor,FALSE\\r\\n870,3,39.875,1,414.5,88,4937.639583,0.002173913,0.005857488,25.57242933,0,Nov,2,1,1,2,Returning_Visitor,FALSE\\r\\n871,7,105.75,0,0,124,3394.130159,0.001587302,0.012918871,5.921482086,0,May,2,2,3,11,Returning_Visitor,TRUE\\r\\n872,3,62,0,0,13,392.9285714,0.0125,0.025,0,0,May,3,2,3,2,New_Visitor,FALSE\\r\\n873,0,0,0,0,17,1032.9,0,0.013333333,0,0,Nov,2,4,1,2,Returning_Visitor,FALSE\\r\\n874,1,96.66666667,0,0,23,1605.875,0.031818182,0.05030303,54.10230816,0,Dec,2,2,2,10,Returning_Visitor,FALSE\\r\\n875,0,0,0,0,3,24,0.066666667,0.133333333,0,0,Mar,3,2,3,1,Returning_Visitor,TRUE\\r\\n876,3,249,0,0,8,1046.5,0.04,0.04,0,0,May,1,1,6,4,New_Visitor,TRUE\\r\\n877,0,0,0,0,21,706.7,0.052380952,0.074716553,0,0,Nov,3,2,3,2,Returning_Visitor,FALSE\\r\\n878,4,100,0,0,18,954.9083333,0,0.008521303,0,0,Nov,1,2,8,2,Returning_Visitor,TRUE\\r\\n879,0,0,0,0,1,0,0.2,0.2,0,0,Mar,3,2,3,1,Returning_Visitor,FALSE\\r\\n880,0,0,0,0,14,342.5,0,0.021428571,0,0,May,2,2,8,4,Returning_Visitor,FALSE\\r\\n881,0,0,0,0,6,236.5,0,0.016666667,0,0,Mar,1,1,1,3,Returning_Visitor,TRUE\\r\\n882,5,211.25,0,0,22,1344.75,0.034782609,0.048447205,0,0,Nov,3,2,2,8,Returning_Visitor,FALSE\\r\\n883,0,0,0,0,17,600.5,0,0.005882353,0,0,Mar,2,2,7,10,Returning_Visitor,FALSE\\r\\n884,0,0,0,0,7,380,0.014285714,0.074285714,0,0,May,2,4,7,1,Returning_Visitor,TRUE\\r\\n885,1,140.5,0,0,19,1475.166667,0.02037037,0.043333333,16.9796231,0,Nov,3,2,2,10,Returning_Visitor,FALSE\\r\\n886,0,0,0,0,5,171.5,0,0.02,0,0,Mar,1,1,1,2,Returning_Visitor,FALSE\\r\\n887,7,156.5,1,122,26,694.7121212,0,0.00297619,0,0,Mar,2,4,1,2,Returning_Visitor,FALSE\\r\\n888,0,0,0,0,60,967.25,0.006779661,0.025141243,0,0.6,May,2,4,3,3,Returning_Visitor,FALSE\\r\\n889,1,613.6666667,0,0,4,957,0.161904762,0.096298701,0,0,Mar,3,2,8,10,Returning_Visitor,FALSE\\r\\n890,2,45,0,0,26,535.3459596,0.007407407,0.01051332,0,0,Mar,2,4,3,10,Returning_Visitor,FALSE\\r\\n891,1,45.5,3,1021.666667,130,3376.027564,0.007518797,0.029169274,0,0,Dec,2,2,1,1,Returning_Visitor,FALSE\\r\\n892,9,178.5,0,0,10,558,0.011764706,0.023529412,0,0,Nov,2,5,1,11,Returning_Visitor,FALSE\\r\\n893,5,390.87,2,29.2,39,2251.116667,0.006818182,0.020887446,0,0,Sep,2,2,9,1,Returning_Visitor,FALSE\\r\\n894,12,219.274359,4,857.1666667,107,2640.135697,0,0.015489592,6.479206264,0,Nov,1,2,1,2,Returning_Visitor,TRUE\\r\\n895,0,0,0,0,9,110.5,0,0.05,0,0.6,May,2,4,6,3,Returning_Visitor,FALSE\\r\\n896,5,68.01428571,1,21.2,63,1033.206667,0,0.009068627,0,0,Aug,2,2,2,2,Returning_Visitor,FALSE\\r\\n897,12,381.5,1,22.2,154,7835.874629,0.012549679,0.022587818,0,0,Aug,3,2,1,2,Returning_Visitor,TRUE\\r\\n898,0,0,0,0,1,0,0.2,0.2,0,0,Nov,2,2,7,13,Returning_Visitor,FALSE\\r\\n899,8,839,0,0,72,1248.242262,0,0.002597403,13.36332468,0,May,3,2,6,3,Returning_Visitor,TRUE\\r\\n900,9,125.25,0,0,3,119.25,0,0.025,0,0,Dec,8,13,9,20,Other,FALSE\\r\\n901,1,24,1,239,11,839.5,0.016666667,0.05,0,0,Mar,1,1,4,2,Returning_Visitor,FALSE\\r\\n902,1,38,2,20,57,2931.580303,0.004,0.021833333,0,1,May,2,2,4,2,Returning_Visitor,TRUE\\r\\n903,0,0,0,0,1,0,0.2,0.2,0,0,Nov,1,1,1,3,Returning_Visitor,FALSE\\r\\n904,0,0,0,0,14,244,0.004761905,0.047619048,0,0,May,2,4,1,4,Returning_Visitor,FALSE\\r\\n905,0,0,0,0,10,824,0.06,0.09,0,0,Dec,1,1,1,3,Returning_Visitor,FALSE\\r\\n906,0,0,0,0,64,2018.762066,0.009895833,0.027936058,0,0,Nov,3,2,1,2,Returning_Visitor,FALSE\\r\\n907,0,0,0,0,23,347.8522727,0.008695652,0.030434783,0,0,Nov,2,2,1,3,Returning_Visitor,FALSE\\r\\n908,1,54.4,6,505.6,21,838.15,0,0,0,0,Nov,2,2,3,2,New_Visitor,TRUE\\r\\n909,1,60,1,15,26,670.1666667,0,0.003846154,0,0,May,2,2,3,4,Returning_Visitor,FALSE\\r\\n910,0,0,0,0,62,944.4055556,0,0.015591398,0,0,June,1,1,7,3,Returning_Visitor,FALSE\\r\\n911,0,0,0,0,20,333,0.021052632,0.036842105,0,0,Dec,2,2,1,1,Returning_Visitor,FALSE\\r\\n912,10,322.8333333,1,12,28,866.2166667,0.006451613,0.012903226,0,0,Dec,2,4,7,1,Returning_Visitor,FALSE\\r\\n913,3,66.5,3,65.75,152,3684.321458,0.005194805,0.010451453,12.64606692,0,Nov,2,2,1,2,Returning_Visitor,FALSE\\r\\n914,0,0,0,0,47,636.7,0,0,0,0,Aug,2,4,1,2,New_Visitor,FALSE\\r\\n915,1,0,2,29,28,557.4047619,0.013793103,0.034154351,0,0.4,May,2,4,3,3,Returning_Visitor,FALSE\\r\\n916,0,0,0,0,41,1066.339286,0.012195122,0.043292683,0,0,Nov,3,2,3,1,Returning_Visitor,FALSE\\r\\n917,0,0,2,21,43,1825.557143,0,0.018115942,0,0,Nov,2,6,1,2,Returning_Visitor,TRUE\\r\\n918,4,131,1,0,39,1752.942857,0.020075188,0.03374269,0,0.2,May,1,1,3,4,Returning_Visitor,FALSE\\r\\n919,2,49.25,2,17,77,4130.937879,0.011219512,0.029260777,43.99403085,0,Nov,4,1,1,2,Returning_Visitor,FALSE\\r\\n920,0,0,0,0,1,0,0.2,0.2,0,0,May,1,1,1,3,Returning_Visitor,FALSE\\r\\n921,0,0,0,0,6,657.5,0,0.011111111,0,0,May,2,2,1,13,Returning_Visitor,FALSE\\r\\n922,1,10,3,47.66666667,34,944.297619,0,0.0125,0,0,May,2,2,3,6,Returning_Visitor,FALSE\\r\\n923,0,0,0,0,2,9,0,0.1,0,0,May,2,2,2,3,Returning_Visitor,FALSE\\r\\n924,5,85.16666667,1,8,95,3715.777564,0.01010101,0.011851852,0,0,Jul,2,4,4,1,Returning_Visitor,FALSE\\r\\n925,1,14.5,0,0,24,1277.842857,0,0.016073781,0,0,Nov,3,2,1,2,New_Visitor,TRUE\\r\\n926,0,0,1,0,22,812.3,0.030848861,0.057391304,0,0,Nov,1,1,4,10,Returning_Visitor,TRUE\\r\\n927,0,0,0,0,21,1129,0.00952381,0.038095238,0,0,Mar,2,5,5,1,Returning_Visitor,FALSE\\r\\n928,3,135.5,0,0,37,1238.375,0.005405405,0.030510511,7.941531532,0,May,2,2,1,2,Returning_Visitor,FALSE\\r\\n929,0,0,0,0,7,88,0.085714286,0.142857143,0,0,Nov,2,4,3,1,Returning_Visitor,FALSE\\r\\n930,5,153.5666667,0,0,16,742.2095238,0,0.015789474,22.89972198,0,Nov,1,1,3,5,New_Visitor,FALSE\\r\\n931,0,0,0,0,80,3734.958333,0.0025,0.026547619,0,0,Nov,2,2,1,2,Returning_Visitor,FALSE\\r\\n932,1,10,0,0,32,1277.75,0,0.006060606,78.12165404,0,Dec,8,13,9,20,Other,FALSE\\r\\n933,9,211.5,4,222,30,2266.270833,0.005263158,0.029874687,0,0,Nov,3,2,1,2,Returning_Visitor,FALSE\\r\\n934,4,396.5,0,0,6,415.5,0,0.0125,0,0,Dec,1,1,3,8,New_Visitor,FALSE\\r\\n935,0,0,0,0,6,198.75,0.016666667,0.023333333,0,0,Nov,2,5,7,3,Returning_Visitor,TRUE\\r\\n936,0,0,0,0,33,1132.791667,0.009090909,0.047474747,0,0,Dec,4,1,3,1,Returning_Visitor,FALSE\\r\\n937,0,0,0,0,2,84,0.15,0.166666667,0,0,Nov,3,2,6,3,Returning_Visitor,TRUE\\r\\n938,0,0,0,0,22,464.6583333,0.018181818,0.034090909,0,0,Nov,1,1,4,2,Returning_Visitor,TRUE\\r\\n939,8,293,0,0,12,399.0666667,0.003030303,0.010606061,37.86167396,0,Nov,4,1,3,3,Returning_Visitor,FALSE\\r\\n940,1,20.2,6,226,76,1308.573395,0.032611502,0.054407935,0,0,June,3,2,6,2,Returning_Visitor,FALSE\\r\\n941,4,390.5,0,0,27,1285.583333,0,0.006896552,14.67222588,0,Dec,2,2,8,2,Returning_Visitor,FALSE\\r\\n942,4,104.25,0,0,38,1429.875,0,0.022807018,4.113391331,0,Nov,2,2,1,13,Returning_Visitor,FALSE\\r\\n943,0,0,0,0,13,151,0.007692308,0.023076923,0,1,May,1,1,1,1,Returning_Visitor,TRUE\\r\\n944,8,185,0,0,14,186.1666667,0.021052632,0.035087719,0,0,May,3,2,3,4,Returning_Visitor,FALSE\\r\\n945,0,0,0,0,12,418.3333333,0,0.004545455,0,0,May,2,4,9,5,Returning_Visitor,FALSE\\r\\n946,1,18,2,13,20,1287.27381,0.015873016,0.038095238,0,0,Nov,3,2,4,2,Returning_Visitor,FALSE\\r\\n947,6,101.3333333,0,0,10,266.5,0.028571429,0.028571429,0,0,Mar,2,2,4,1,Returning_Visitor,FALSE\\r\\n948,0,0,0,0,5,47,0.02,0.06,0,0,May,2,2,3,1,Returning_Visitor,FALSE\\r\\n949,0,0,0,0,3,27,0.066666667,0.133333333,0,0,Mar,2,2,1,13,Returning_Visitor,FALSE\\r\\n950,0,0,0,0,24,3181.5,0.002777778,0.027083333,0,0,Nov,2,2,1,13,Returning_Visitor,TRUE\\r\\n951,0,0,0,0,16,241.4,0.029166667,0.045833333,0,0,Nov,3,2,6,13,Returning_Visitor,FALSE\\r\\n952,4,89.5,0,0,3,30,0,0.033333333,0,0,May,1,1,1,2,Returning_Visitor,TRUE\\r\\n953,2,50.875,0,0,32,1375.8,0.016129032,0.041935484,0,0,Nov,3,2,3,6,Returning_Visitor,TRUE\\r\\n954,7,312.8,1,4,155,2374.966713,0.025906525,0.039077841,0,0,Jul,3,2,4,13,Returning_Visitor,FALSE\\r\\n955,0,0,0,0,10,196.5,0.044444444,0.066666667,0,0.6,May,2,2,1,3,Returning_Visitor,FALSE\\r\\n956,0,0,0,0,1,0,0.2,0.2,0,0,Mar,2,2,2,3,Returning_Visitor,FALSE\\r\\n957,1,16.2,1,8.1,17,1180.366667,0.010526316,0.052631579,0,0,Aug,2,2,3,4,Returning_Visitor,FALSE\\r\\n958,0,0,0,0,8,95,0,0.075,0,0,Feb,4,1,3,3,Returning_Visitor,FALSE\\r\\n959,10,220,2,88,77,5284.765079,0,0.015,7.668639535,0,May,2,2,3,4,Returning_Visitor,FALSE\\r\\n960,0,0,0,0,11,1712.416667,0.018181818,0.036363636,0,0,Nov,3,2,1,10,Returning_Visitor,TRUE\\r\\n961,0,0,2,38.2,39,873,0.01,0.02,0,0,Sep,1,1,1,4,Returning_Visitor,FALSE\\r\\n962,3,118,0,0,2,96.25,0,0.025,0,0,Dec,8,13,9,20,Other,FALSE\\r\\n963,7,317.9142857,4,216.5666667,35,910.0809524,0,0.01,40.78047078,0,Sep,2,4,3,5,New_Visitor,FALSE\\r\\n964,2,35.3,0,0,3,18.1,0.033333333,0.061111111,0,0,Jul,3,2,3,3,Returning_Visitor,TRUE\\r\\n965,1,16,0,0,7,136,0,0.00952381,0,0,May,2,10,3,2,Returning_Visitor,FALSE\\r\\n966,0,0,0,0,7,701,0,0.057142857,0,0.8,May,2,5,1,4,Returning_Visitor,FALSE\\r\\n967,2,33.5,0,0,108,2270.908333,0.005504587,0.029663609,0,0,Nov,2,2,1,3,Returning_Visitor,FALSE\\r\\n968,10,398.5727115,1,132,24,985.0802412,0.00859375,0.028987132,0,0,Sep,3,2,1,3,Returning_Visitor,TRUE\\r\\n969,0,0,0,0,56,1294.637143,0.007407407,0.03345679,0,0,Aug,1,1,3,3,Returning_Visitor,FALSE\\r\\n970,4,131.4,0,0,4,199.4,0,0.025,0,0,Aug,2,6,3,5,New_Visitor,FALSE\\r\\n971,0,0,0,0,3,71.5,0.066666667,0.133333333,0,0,Nov,2,2,3,3,Returning_Visitor,FALSE\\r\\n972,2,70.6,0,0,30,515.2333333,0,0.02,0,0,Aug,1,1,3,1,Returning_Visitor,FALSE\\r\\n973,5,72.425,2,72,33,1143.657143,0,0.015888889,4.230212245,0,May,2,2,2,1,Returning_Visitor,TRUE\\r\\n974,0,0,0,0,44,1184.269841,0.004545455,0.023295455,0,0,Nov,1,2,1,2,Returning_Visitor,FALSE\\r\\n975,0,0,0,0,80,1987.533333,0.035,0.06514881,0,0.8,May,2,2,1,6,Returning_Visitor,FALSE\\r\\n976,8,166.2,5,371,23,626.2213675,0.004444444,0.008888889,0,0,Mar,1,1,8,3,Returning_Visitor,FALSE\\r\\n977,7,105.4666667,0,0,44,778.9666667,0,0.004166667,37.92414395,0,Aug,2,2,6,2,New_Visitor,FALSE\\r\\n978,0,0,0,0,17,465.6666667,0,0.005098039,0,0,May,3,2,1,2,Returning_Visitor,FALSE\\r\\n979,1,0,2,23.75,193,6784.671131,0.004931973,0.021157516,0,0,Nov,2,2,7,2,Returning_Visitor,TRUE\\r\\n980,2,32.5,0,0,12,239.75,0,0.005128205,0,0.4,May,2,4,1,5,New_Visitor,FALSE\\r\\n981,10,200.5833333,1,86,65,1476.5,0.040096618,0.059661836,1.680318841,0.8,May,2,6,5,1,Returning_Visitor,FALSE\\r\\n982,11,202.4254386,5,1767.666667,338,13265.35595,0.007520348,0.018855633,1.114150182,0,Nov,2,2,3,2,Returning_Visitor,FALSE\\r\\n983,10,236.4083333,3,118,313,7428.181584,0.002509267,0.013416263,6.976504629,1,May,2,2,3,2,Returning_Visitor,TRUE\\r\\n984,0,0,0,0,12,249.5,0.005555556,0.025,0,0,Mar,2,7,7,1,Returning_Visitor,FALSE\\r\\n985,0,0,0,0,11,257.75,0,0.024242424,0,0,Dec,3,2,2,2,New_Visitor,FALSE\\r\\n986,0,0,0,0,12,293.5,0.05,0.075,0,0.6,May,3,2,1,13,Returning_Visitor,FALSE\\r\\n987,0,0,0,0,5,109.5,0.08,0.093333333,0,0.4,May,3,2,1,13,Returning_Visitor,FALSE\\r\\n988,3,102.8,0,0,25,1109.233333,0,0.001666667,61.30486592,0,Aug,2,2,6,5,New_Visitor,FALSE\\r\\n989,0,0,0,0,12,580.5,0.02,0.046666667,11.193,0,May,1,1,1,3,Returning_Visitor,FALSE\\r\\n990,0,0,0,0,42,602.8833333,0,0.004365079,21.26632526,0,Sep,6,2,3,1,Returning_Visitor,FALSE\\r\\n991,0,0,0,0,4,61,0,0.025,0,0,May,1,1,4,4,Returning_Visitor,FALSE\\r\\n992,6,109.2,0,0,31,663.2777778,0.005882353,0.007058824,0,0,Oct,1,1,1,3,Returning_Visitor,FALSE\\r\\n993,2,38,0,0,14,643,0,0.013333333,35.0928,0,Mar,2,2,5,1,Returning_Visitor,FALSE\\r\\n994,0,0,2,0,3,56.75,0.1,0.125,0,0,Nov,1,1,1,2,Returning_Visitor,FALSE\\r\\n995,2,67.66666667,1,17,7,258,0,0.022222222,0,0,May,1,1,8,4,Returning_Visitor,FALSE\\r\\n996,1,7,2,12,5,412.25,0,0.0375,0,0,Dec,2,2,1,2,Returning_Visitor,FALSE\\r\\n997,6,111.5,0,0,26,449.0277778,0,0.018518519,0,0.6,Feb,1,1,3,3,Returning_Visitor,FALSE\\r\\n998,0,0,0,0,26,587.9,0.023076923,0.037179487,0,0,June,3,2,5,13,Returning_Visitor,FALSE\\r\\n999,2,31,1,16,36,2083.530952,0,0.01351025,0,0.8,Feb,2,2,4,3,Returning_Visitor,FALSE\\r\\n1000,0,0,1,13,27,1620.024762,0.05,0.085714286,0,0,Sep,5,11,4,1,Returning_Visitor,FALSE\\r\\n1001,17,446.9333333,8,597.5833333,62,2350.667857,0.007452575,0.033986814,79.48403933,0,Dec,1,1,7,10,Returning_Visitor,FALSE\\r\\n1002,10,236.0795455,2,5,107,2589.881537,0.010601564,0.019627539,0,0,Dec,3,2,4,2,Returning_Visitor,FALSE\\r\\n1003,1,12.83333333,3,77,31,2372.333333,0,0.012941176,10.32166068,0,Mar,2,2,1,2,Returning_Visitor,FALSE\\r\\n1004,0,0,0,0,1,0,0.2,0.2,0,0,May,3,6,2,2,Returning_Visitor,FALSE\\r\\n1005,0,-1,0,-1,1,-1,0.2,0.2,0,0,Feb,3,2,3,3,Returning_Visitor,FALSE\\r\\n1006,4,146,0,0,14,879.5,0,0.0125,0,0,Dec,2,5,4,2,New_Visitor,TRUE\\r\\n1007,0,0,0,0,7,112,0.028571429,0.085714286,0,0,Nov,2,2,1,2,Returning_Visitor,FALSE\\r\\n1008,0,0,0,0,1,0,0.2,0.2,0,0,Sep,2,2,1,1,Returning_Visitor,TRUE\\r\\n1009,2,82,0,0,9,587.25,0.01,0.041666667,0,0,Dec,3,2,1,8,Returning_Visitor,TRUE\\r\\n1010,6,723.5,2,410.5,5,109,0,0.015384615,0,0,Nov,2,5,2,2,Other,FALSE\\r\\n1011,0,0,0,0,5,112,0,0.02,0,0,May,2,2,4,1,Returning_Visitor,TRUE\\r\\n1012,9,474,0,0,19,805.65,0.001242236,0.019397993,0,0,Nov,1,1,1,2,Returning_Visitor,FALSE\\r\\n1013,0,0,0,0,112,6673.291392,0,0.008744589,5.468093499,0,Nov,2,4,1,3,Returning_Visitor,FALSE\\r\\n1014,0,0,0,0,48,832.0833333,0.038478261,0.064782609,0,0,Dec,3,2,1,3,Returning_Visitor,FALSE\\r\\n1015,6,90.41666667,0,0,5,100.4166667,0,0.02,0,0,Dec,1,2,6,8,New_Visitor,FALSE\\r\\n1016,14,324,2,40.5,12,338.25,0,0.002380952,0,0,Dec,1,1,1,10,Returning_Visitor,TRUE\\r\\n1017,1,5,0,0,7,228,0,0.028571429,0,0,May,1,1,3,3,Returning_Visitor,FALSE\\r\\n1018,4,48.66666667,0,0,66,2436.106169,0.006036217,0.034560698,12.02904527,0,Nov,2,2,3,6,Returning_Visitor,FALSE\\r\\n1019,0,0,0,0,2,34.5,0,0.1,0,0,Nov,2,2,3,3,Returning_Visitor,TRUE\\r\\n1020,0,0,2,19,65,2163.132326,0,0.011780384,0,0,Nov,2,2,8,2,New_Visitor,FALSE\\r\\n1021,0,0,0,0,4,82,0,0.05,0,0,Nov,2,2,4,1,Returning_Visitor,FALSE\\r\\n1022,0,0,0,0,10,235.5,0,0.013333333,0,0,Nov,3,2,6,1,Returning_Visitor,FALSE\\r\\n1023,0,0,0,0,6,139,0,0.01,0,0,Mar,1,2,1,8,New_Visitor,FALSE\\r\\n1024,6,104.1136364,3,95,95,2411.789279,0,0.01068254,16.78420229,0,May,3,2,5,6,Returning_Visitor,FALSE\\r\\n1025,8,310.0666667,1,49.4,71,1441.974535,0.003013699,0.009218133,48.30461627,0,Oct,1,1,2,20,Returning_Visitor,TRUE\\r\\n1026,16,301.1369048,4,886.5,78,5097.41833,0.014132104,0.030390424,7.296889074,0,Nov,3,2,2,2,Returning_Visitor,TRUE\\r\\n1027,0,0,0,0,10,269,0,0.02,0,0,May,2,2,3,2,Returning_Visitor,FALSE\\r\\n1028,1,15.75,0,0,337,11231.41012,0.002472799,0.013233522,0,0,Nov,2,2,1,2,Returning_Visitor,FALSE\\r\\n1029,0,0,0,0,8,92.25,0.041666667,0.066666667,0,0,Nov,3,2,4,13,Returning_Visitor,FALSE\\r\\n1030,0,0,0,0,25,1344.291667,0,0.008695652,0,0,Nov,2,4,1,8,Returning_Visitor,FALSE\\r\\n1031,0,0,0,0,26,532,0.030769231,0.044230769,0,0,Nov,2,2,1,1,Returning_Visitor,FALSE\\r\\n1032,0,0,0,0,16,381.2142857,0.0125,0.022395833,0,0,Nov,3,2,1,2,Returning_Visitor,FALSE\\r\\n1033,6,60,2,61,23,1031.704762,0,0.007111111,33.14784917,0,Mar,4,2,9,10,Returning_Visitor,TRUE\\r\\n1034,3,143,0,0,17,331.8375,0.033333333,0.051234568,0,0,Dec,2,2,1,1,Returning_Visitor,TRUE\\r\\n1035,0,0,0,0,7,47,0,0.028571429,0,0,Nov,2,2,4,8,Returning_Visitor,FALSE\\r\\n1036,0,0,0,0,17,252,0.023529412,0.052941176,0,0.8,May,2,7,9,11,Returning_Visitor,FALSE\\r\\n1037,3,40,0,0,19,1051.5,0.008333333,0.030555556,12.18,0.6,May,1,1,4,3,Returning_Visitor,FALSE\\r\\n1038,0,0,0,0,46,2425.083333,0.010869565,0.027681159,0,0.6,May,1,1,3,2,Returning_Visitor,FALSE\\r\\n1039,0,0,0,0,6,222.4,0,0.033333333,63.55337685,0,Jul,1,1,4,4,Returning_Visitor,TRUE\\r\\n1040,0,0,0,0,17,601.0333333,0.062745098,0.092156863,18.87145759,0,Aug,3,2,3,1,Returning_Visitor,FALSE\\r\\n1041,0,0,0,0,2,0,0.2,0.2,0,0,Mar,3,2,3,1,Returning_Visitor,FALSE\\r\\n1042,0,0,0,0,1,0,0.2,0.2,0,0,Sep,4,1,2,1,Returning_Visitor,FALSE\\r\\n1043,1,50.5,0,0,3,192.5,0,0.05,0,0,Nov,2,2,8,2,New_Visitor,TRUE\\r\\n1044,2,64,0,0,10,341.25,0.016666667,0.030555556,0,0,Nov,3,2,3,10,Returning_Visitor,FALSE\\r\\n1045,4,183,3,48,34,2141.4,0.005405405,0.021621622,0,0,May,2,2,1,4,Returning_Visitor,TRUE\\r\\n1046,0,0,0,0,2,254,0,0.1,0,0,Mar,3,2,4,1,Returning_Visitor,FALSE\\r\\n1047,0,0,0,0,2,0,0.1,0.2,0,0,Nov,2,2,1,1,Returning_Visitor,FALSE\\r\\n1048,0,-1,0,-1,1,-1,0.2,0.2,0,0,Nov,1,1,9,2,Returning_Visitor,FALSE\\r\\n1049,0,0,0,0,18,1473.333333,0.011111111,0.044444444,0,0,Mar,1,1,1,2,Returning_Visitor,FALSE\\r\\n1050,0,0,0,0,17,315,0.004166667,0.020625,0,0.2,May,2,2,3,4,Returning_Visitor,FALSE\\r\\n1051,3,73.5,8,376.3333333,42,986.5166667,0.019934641,0.031113658,0,0,May,3,2,1,1,Returning_Visitor,TRUE\\r\\n1052,0,0,0,0,4,73.5,0,0.05,0,0,Nov,1,1,3,1,Returning_Visitor,FALSE\\r\\n1053,0,0,0,0,2,35.2,0,0.1,0,0,June,2,2,2,3,Returning_Visitor,TRUE\\r\\n1054,0,0,1,242.8,73,1860.95,0.005405405,0.019527027,0,0,June,2,2,1,2,Returning_Visitor,FALSE\\r\\n1055,0,0,0,0,34,877.6666667,0.02020202,0.042323232,5.694121212,0,May,2,2,1,2,Returning_Visitor,FALSE\\r\\n1056,0,0,0,0,1,0,0.2,0.2,0,0,Mar,3,2,3,1,Returning_Visitor,FALSE\\r\\n1057,3,104,0,0,34,2991.319444,0.005555556,0.026111111,0,0,Dec,2,2,4,1,Returning_Visitor,FALSE\\r\\n1058,6,153.275,3,394,25,599.1,0.013333333,0.030151515,22.3392,0,May,1,1,3,4,Returning_Visitor,TRUE\\r\\n1059,6,175,1,10,25,2877.5,0.007692308,0.037435897,0,0,May,2,2,7,1,Returning_Visitor,FALSE\\r\\n1060,0,0,0,0,2,697.5,0,0.1,0,0,Dec,4,1,3,1,Returning_Visitor,FALSE\\r\\n1061,5,333,2,166,12,151.9,0.031111111,0.064444444,0,0,Mar,2,2,1,1,Returning_Visitor,FALSE\\r\\n1062,5,199.125,0,0,9,430.6071429,0,0.008333333,0,0,Nov,3,2,1,11,Returning_Visitor,FALSE\\r\\n1063,1,73,0,0,12,2156.5,0.018181818,0.027272727,68.88769355,0,Nov,3,2,1,2,New_Visitor,FALSE\\r\\n1064,0,0,0,0,37,607.4666667,0,0.002777778,39.97777778,0,May,1,1,1,2,Returning_Visitor,TRUE\\r\\n1065,3,17,0,0,62,1493.353846,0.00952381,0.04031746,0,0,Dec,2,2,1,2,Returning_Visitor,FALSE\\r\\n1066,0,0,3,135,32,804.1899134,0.029946524,0.03546327,4.027998418,0,Oct,1,1,6,2,Returning_Visitor,TRUE\\r\\n1067,2,8,2,90.2,13,1286.050476,0.0125,0.019886364,0,0,Aug,2,2,3,2,Returning_Visitor,FALSE\\r\\n1068,0,0,0,0,4,99,0,0.05,0,0.4,May,1,1,7,2,Returning_Visitor,FALSE\\r\\n1069,2,7.5,0,0,63,1903.666667,0.008064516,0.019546851,0,0.4,May,1,2,2,4,Returning_Visitor,FALSE\\r\\n1070,2,31.2,0,0,17,2077.166667,0,0.011764706,0,0,Nov,2,2,8,2,Returning_Visitor,TRUE\\r\\n1071,0,0,0,0,5,626,0,0.04,0,0,May,1,1,1,4,Returning_Visitor,FALSE\\r\\n1072,0,0,0,0,3,1666.5,0,0.033333333,0,0,Nov,2,5,3,3,Returning_Visitor,FALSE\\r\\n1073,0,0,0,0,2,0,0.2,0.2,0,0,May,2,2,6,6,Returning_Visitor,FALSE\\r\\n1074,3,219,0,0,12,526.3333333,0.022222222,0.058571429,0,0,Mar,1,1,3,1,Returning_Visitor,FALSE\\r\\n1075,2,76.6,0,0,16,368.4666667,0,0.021568627,0,0,Oct,4,1,4,1,Returning_Visitor,TRUE\\r\\n1076,0,0,0,0,20,402.9583333,0.02,0.036666667,0,0,Dec,3,2,3,2,Returning_Visitor,FALSE\\r\\n1077,3,109,0,0,31,3116.5,0,0.005208333,0,0,Dec,3,2,1,10,Returning_Visitor,FALSE\\r\\n1078,0,0,0,0,62,2636.513492,0.04781874,0.061364567,0,0,Jul,3,2,3,13,Returning_Visitor,TRUE\\r\\n1079,0,0,2,148.5,72,2271.553571,0.002702703,0.017905405,0,0,Dec,2,2,1,2,Returning_Visitor,FALSE\\r\\n1080,3,69,1,18,10,409.4666667,0.005128205,0.039010989,0,0,Dec,2,2,1,2,Returning_Visitor,FALSE\\r\\n1081,0,0,0,0,33,2861.966667,0,0.034375,0,0,Nov,2,2,9,2,Returning_Visitor,FALSE\\r\\n1082,4,34,0,0,3,24,0,0.04,0,0,May,1,1,3,2,New_Visitor,FALSE\\r\\n1083,0,0,0,0,6,254,0.025,0.0875,0,0,Mar,1,1,6,10,Returning_Visitor,FALSE\\r\\n1084,0,0,0,0,2,49,0,0.033333333,0,0,May,3,2,3,3,Returning_Visitor,FALSE\\r\\n1085,8,117.5,0,0,17,545.5,0,0.019047619,0,0,May,2,2,1,13,Returning_Visitor,FALSE\\r\\n1086,0,0,0,0,12,599.6133333,0,0.020833333,0,0,Nov,2,2,4,20,Returning_Visitor,TRUE\\r\\n1087,0,0,0,0,11,326.5,0.036363636,0.077272727,0,0,Nov,1,1,4,3,Returning_Visitor,FALSE\\r\\n1088,0,0,0,0,1,0,0.2,0.2,0,0,Mar,2,4,1,1,Returning_Visitor,FALSE\\r\\n1089,9,299.0833333,1,0,14,212.8333333,0.010526316,0.033684211,0,0,May,3,2,1,11,Returning_Visitor,TRUE\\r\\n1090,3,52.75,0,0,69,909.1548701,0.002857143,0.012225275,8.086657063,0,Dec,2,2,1,7,Returning_Visitor,FALSE\\r\\n1091,0,0,0,0,3,23,0,0.066666667,0,0,Nov,2,2,4,3,Returning_Visitor,FALSE\\r\\n1092,2,83.6,1,0,18,1219.7,0,0.00952381,16.36245374,0,Aug,2,2,1,4,New_Visitor,FALSE\\r\\n1093,0,0,0,0,18,476.1777778,0.05,0.066666667,1.718218835,0,Aug,3,2,5,13,Returning_Visitor,FALSE\\r\\n1094,3,44,0,0,10,355,0,0.016666667,0,0,May,2,2,1,2,New_Visitor,FALSE\\r\\n1095,7,63.5,5,100.25,62,1573.233333,0,0.004594595,0,0,Mar,2,2,6,3,Returning_Visitor,TRUE\\r\\n1096,1,54,0,0,6,210.5,0,0.02,0,0,Mar,2,2,1,8,New_Visitor,FALSE\\r\\n1097,0,0,0,0,38,1608.5,0.005263158,0.034210526,0,0.6,May,2,2,5,1,Returning_Visitor,FALSE\\r\\n1098,2,74.4,0,0,42,1481.866667,0.004761905,0.004761905,44.73610411,0,Oct,2,2,7,2,New_Visitor,TRUE\\r\\n1099,0,0,0,0,1,0,0.2,0.2,0,0.6,May,3,2,3,13,Returning_Visitor,FALSE\\r\\n1100,0,0,0,0,5,71,0,0.04,0,0,May,4,1,1,2,Returning_Visitor,TRUE\\r\\n1101,0,0,0,0,8,444.6333333,0,0.025,0,0,Nov,2,4,1,10,Returning_Visitor,FALSE\\r\\n1102,0,0,0,0,7,203.25,0,0.028571429,0,0,Nov,1,1,3,3,Returning_Visitor,FALSE\\r\\n1103,0,0,2,66,27,875.5,0,0.014367816,0,0,May,4,2,1,2,Returning_Visitor,TRUE\\r\\n1104,5,224.8,0,0,30,974.9,0.00625,0.0140625,25.11150884,0,Nov,2,2,4,4,Returning_Visitor,FALSE\\r\\n1105,2,270,3,228.5,13,2451,0,0.021428571,42.22150549,0,Nov,2,2,4,2,Returning_Visitor,FALSE\\r\\n1106,4,77.6,0,0,39,1477.154762,0.038157895,0.073976608,0.775318113,0,Nov,1,1,4,3,Returning_Visitor,FALSE\\r\\n1107,3,57.425,3,55,11,281.425,0.004166667,0.053125,0,0,Nov,2,2,4,2,Returning_Visitor,FALSE\\r\\n1108,0,0,0,0,15,440,0,0.033333333,0,0.8,May,4,1,4,2,Returning_Visitor,FALSE\\r\\n1109,3,84.5,0,0,346,12541.77628,0.001709402,0.006473478,5.177106841,0,Aug,2,2,3,1,Returning_Visitor,TRUE\\r\\n1110,0,0,0,0,46,3346.041667,0,0.01884058,0,0,Nov,2,2,3,2,Returning_Visitor,TRUE\\r\\n1111,2,67.75,0,0,11,417.9892857,0.016666667,0.043148148,0,0,Nov,3,2,1,2,Returning_Visitor,FALSE\\r\\n1112,0,0,0,0,14,291.6,0,0.085714286,0,1,May,2,2,1,6,Returning_Visitor,TRUE\\r\\n1113,0,0,0,0,47,902.77,0.022222222,0.04037037,0,0,Jul,3,2,8,1,Returning_Visitor,FALSE\\r\\n1114,0,0,2,18,1,0,0.066666667,0.133333333,0,0,Nov,1,1,1,2,Returning_Visitor,FALSE\\r\\n1115,8,222.75,3,15.75,61,1749.842262,0.015196078,0.02894958,0,0,Nov,1,1,1,3,Returning_Visitor,TRUE\\r\\n1116,0,0,0,0,48,1607.191667,0,0.004609929,5.157803677,0,Dec,1,1,1,2,Returning_Visitor,TRUE\\r\\n1117,0,0,0,0,5,89.86666667,0.04,0.06,0,0,Jul,3,2,5,4,Returning_Visitor,TRUE\\r\\n1118,0,0,0,0,1,0,0.2,0.2,0,0,Feb,1,1,1,1,Returning_Visitor,FALSE\\r\\n1119,3,64.5,0,0,14,671.625,0,0.030625,0,0,Nov,1,1,3,2,Returning_Visitor,TRUE\\r\\n1120,0,0,0,0,4,72.5,0,0.05,0,0,Dec,1,1,8,10,Returning_Visitor,FALSE\\r\\n1121,0,0,0,0,4,288.4333333,0,0.0125,0,0,Aug,1,1,4,2,Returning_Visitor,FALSE\\r\\n1122,0,0,0,0,2,56,0,0.1,0,0,Mar,3,2,1,1,Returning_Visitor,FALSE\\r\\n1123,3,40.8,1,12,5,96,0.028571429,0.042857143,0,0,Sep,3,2,7,4,Returning_Visitor,TRUE\\r\\n1124,4,1764,1,0,3,86,0,0.033333333,0,0,May,3,2,4,5,New_Visitor,FALSE\\r\\n1125,0,0,0,0,5,50,0.16,0.18,0,0.4,May,1,2,2,4,Returning_Visitor,FALSE\\r\\n1126,0,0,1,33,25,972.25,0.019230769,0.012937063,0,0,May,1,2,1,1,Returning_Visitor,FALSE\\r\\n1127,0,0,2,445,38,996.5166667,0.000854701,0.016544567,0,0,Mar,2,2,3,2,Returning_Visitor,FALSE\\r\\n1128,7,123.5,0,0,27,477.5,0.005,0.012,0,0,May,2,2,9,4,Returning_Visitor,FALSE\\r\\n1129,2,129,0,0,16,1835.5,0.003703704,0.031481481,0,0,Aug,2,4,9,6,Returning_Visitor,FALSE\\r\\n1130,0,0,0,0,24,654.0666667,0,0.001449275,0,0.8,May,3,2,1,2,Returning_Visitor,FALSE\\r\\n1131,1,73,1,740,50,1434.255128,0,0.019230769,22.03276923,0,Mar,2,2,3,2,Returning_Visitor,TRUE\\r\\n1132,0,0,0,0,37,1669.559524,0.016190476,0.051333333,0,0,May,3,2,3,1,Returning_Visitor,FALSE\\r\\n1133,1,236.5,5,1373.75,141,2834.697619,0.009684685,0.020551802,0,0,Nov,2,2,3,2,Returning_Visitor,FALSE\\r\\n1134,4,35.125,0,0,31,1975.458333,0,0.01,0,0,Mar,2,2,3,3,New_Visitor,TRUE\\r\\n1135,3,94.6,0,0,16,1254,0,0.019327731,0,0,Nov,3,2,7,2,New_Visitor,TRUE\\r\\n1136,10,586.6480186,3,263.6666667,41,1919.24523,0.014875647,0.03167916,3.485352521,0,May,1,1,8,6,Returning_Visitor,TRUE\\r\\n1137,0,0,0,0,8,204.75,0,0.033333333,0,0,Dec,1,1,1,1,Returning_Visitor,TRUE\\r\\n1138,1,87,0,0,38,1326.25,0.013157895,0.028508772,7.153421053,0,May,2,2,1,4,Returning_Visitor,FALSE\\r\\n1139,2,233.5,0,0,36,1081.666667,0.025,0.046851852,0,0,Nov,2,2,9,1,Returning_Visitor,FALSE\\r\\n1140,5,38.57777778,2,9,7,584.3777778,0,0.064351852,0,0,Jul,1,1,1,2,Returning_Visitor,TRUE\\r\\n1141,3,40,0,0,9,1362,0,0.008333333,0,0,Mar,2,2,7,6,Returning_Visitor,FALSE\\r\\n1142,0,0,0,0,12,153.625,0,0.008333333,0,0,Nov,2,2,3,2,New_Visitor,FALSE\\r\\n1143,5,78.4,0,0,35,706.4,0.024561404,0.039824561,26.5455,0,May,3,2,1,2,Returning_Visitor,TRUE\\r\\n1144,0,0,0,0,19,1138.793636,0,0.007017544,0,0,Aug,2,4,3,2,Returning_Visitor,FALSE\\r\\n1145,0,0,0,0,6,210.2,0.055555556,0.068055556,0,0,May,3,2,4,20,Returning_Visitor,FALSE\\r\\n1146,0,0,0,0,3,36,0,0.033333333,0,0,Mar,2,2,1,2,Returning_Visitor,FALSE\\r\\n1147,0,0,0,0,2,0,0.2,0.2,0,0,May,1,1,1,1,Returning_Visitor,FALSE\\r\\n1148,12,139.3666667,0,0,13,139.4333333,0,0.007017544,47.30370179,0,Oct,3,2,1,5,New_Visitor,TRUE\\r\\n1149,3,49.125,0,0,19,344.3452381,0.010526316,0.015789474,0,0,Nov,3,2,1,13,Returning_Visitor,FALSE\\r\\n1150,0,0,0,0,10,386.5,0,0.01,0,0,Nov,2,4,6,8,Returning_Visitor,FALSE\\r\\n1151,3,106.5,2,49.5,29,1433.634921,0.008064516,0.018932412,0,0,Nov,3,2,4,2,Returning_Visitor,TRUE\\r\\n1152,0,0,0,0,1,0,0.2,0.2,0,0,Dec,1,1,1,1,Returning_Visitor,TRUE\\r\\n1153,4,341.6,0,0,3,77,0,0.022222222,0,0,Oct,3,2,8,2,New_Visitor,TRUE\\r\\n1154,5,47.33333333,0,0,65,1267.502814,0.004545455,0.021632395,0,0,Nov,3,2,1,10,Returning_Visitor,FALSE\\r\\n1155,11,316.8229167,1,10,29,1233.307765,0.009142857,0.03247619,0,0,Dec,2,2,1,2,Returning_Visitor,FALSE\\r\\n1156,7,84.66666667,2,60,110,5343.049577,0.00877193,0.029643028,0,0.8,May,1,1,1,2,Returning_Visitor,FALSE\\r\\n1157,0,0,0,0,13,649.25,0,0.015384615,0,0,Feb,2,2,1,5,New_Visitor,FALSE\\r\\n1158,9,444.2847222,0,0,534,18504.12621,0.010856514,0.023309001,2.54795624,0,Nov,2,2,3,2,Returning_Visitor,TRUE\\r\\n1159,1,82.6,0,0,25,243.4666667,0.016,0.024,0,0,Aug,2,2,2,2,New_Visitor,FALSE\\r\\n1160,1,67.5,0,0,12,592.25,0,0.018181818,218.8649096,0,Dec,1,1,5,3,New_Visitor,FALSE\\r\\n1161,0,0,0,0,21,987.77,0.015238095,0.067619048,0,0,Jul,2,4,3,1,Returning_Visitor,FALSE\\r\\n1162,2,42.75,0,0,31,2526.483333,0.027272727,0.055555556,40.1844879,0,Dec,2,4,6,1,Returning_Visitor,FALSE\\r\\n1163,1,14,0,0,11,239.5833333,0,0.016666667,0,0,Nov,2,2,6,1,Returning_Visitor,TRUE\\r\\n1164,0,0,0,0,6,89.66666667,0,0.033333333,0,0,Nov,2,10,3,3,Returning_Visitor,FALSE\\r\\n1165,0,0,0,0,2,252.8,0,0.1,0,0,Oct,2,5,9,13,Returning_Visitor,TRUE\\r\\n1166,4,793.5,0,0,61,2440.473611,0.00625,0.014867424,12.58179402,0,Nov,3,2,9,2,Returning_Visitor,TRUE\\r\\n1167,3,424,0,0,3,61.5,0,0.05,0,0,Dec,2,4,4,2,New_Visitor,FALSE\\r\\n1168,9,183.7083333,1,17,80,1143.371078,0.002463054,0.019057903,12.45099015,0,May,1,1,3,3,Returning_Visitor,TRUE\\r\\n1169,2,22,1,49,22,602.1666667,0,0.008695652,0,0,Mar,2,2,1,2,New_Visitor,TRUE\\r\\n1170,0,0,0,0,7,130,0.057142857,0.085714286,0,0,Nov,2,5,9,10,Returning_Visitor,TRUE\\r\\n1171,3,76.5,0,0,55,2846.295305,0.010344828,0.028962492,0,0,Jul,2,2,1,13,Returning_Visitor,FALSE\\r\\n1172,0,0,0,0,6,137,0.066666667,0.1,0,0,Nov,1,1,1,1,Returning_Visitor,FALSE\\r\\n1173,1,77.1,0,0,35,365.5833333,0.017142857,0.026857143,0,0,Nov,2,2,1,4,Returning_Visitor,FALSE\\r\\n1174,9,213.3214286,5,528,61,2258.430586,0.01,0.020655014,2.810812468,0,Mar,1,1,4,2,Returning_Visitor,FALSE\\r\\n1175,0,0,0,0,1,0,0.2,0.2,0,0,Sep,1,1,2,2,Returning_Visitor,FALSE\\r\\n1176,0,0,0,0,33,3506.166667,0,0.025,0,0,Mar,1,1,1,1,Returning_Visitor,TRUE\\r\\n1177,1,120,1,85,33,616.4333333,0,0.005714286,0,0,May,2,2,5,2,New_Visitor,FALSE\\r\\n1178,4,76,0,0,186,5106.262991,0.003723404,0.023642242,0,0,Nov,2,2,3,2,Returning_Visitor,TRUE\\r\\n1179,1,26,0,0,16,638.8333333,0,0.0125,20.26155684,0,Mar,2,4,2,2,New_Visitor,FALSE\\r\\n1180,0,0,0,0,1,0,0.2,0.2,0,0,Mar,2,2,1,1,Returning_Visitor,FALSE\\r\\n1181,0,0,0,0,15,309.8,0,0.016666667,0,0.2,May,2,2,6,4,Returning_Visitor,FALSE\\r\\n1182,0,0,0,0,70,1473.701515,0.008695652,0.032370528,0,0,Nov,1,1,1,2,Returning_Visitor,FALSE\\r\\n1183,0,0,0,0,5,87.6,0,0.04,0,0,Aug,2,4,1,1,Returning_Visitor,FALSE\\r\\n1184,0,0,0,0,6,216,0,0.033333333,0,0,Mar,2,4,7,10,Returning_Visitor,FALSE\\r\\n1185,0,0,0,0,33,1035.083333,0.012121212,0.032323232,0,0,Nov,2,10,1,3,Returning_Visitor,FALSE\\r\\n1186,2,144.5,0,0,7,416.5,0.044444444,0.031111111,0,0,Nov,3,2,3,8,Returning_Visitor,TRUE\\r\\n1187,0,0,0,0,7,49.86666667,0.085714286,0.092857143,0,0,Sep,1,1,9,3,Returning_Visitor,FALSE\\r\\n1188,1,45,0,0,10,413,0,0.009090909,0,0,Mar,2,4,1,1,Returning_Visitor,TRUE\\r\\n1189,0,0,0,0,33,1246.708333,0.03030303,0.056986532,0,0,Dec,3,2,1,2,Returning_Visitor,FALSE\\r\\n1190,0,0,0,0,24,2022.25,0.008333333,0.048611111,0,0,May,2,2,3,13,Returning_Visitor,FALSE\\r\\n1191,0,0,0,0,4,93.5,0,0.05,0,0,May,2,2,1,2,Returning_Visitor,TRUE\\r\\n1192,2,118,0,0,4,42,0,0.066666667,0,0,Mar,1,2,7,3,Returning_Visitor,FALSE\\r\\n1193,0,0,0,0,15,340.1,0,0.04,0,0,Aug,2,2,1,1,Returning_Visitor,FALSE\\r\\n1194,2,17,0,0,30,1448.928571,0.043851852,0.069954545,0,0,Dec,3,2,1,13,Returning_Visitor,FALSE\\r\\n1195,0,0,0,0,4,66,0,0.025,0,0,Dec,2,2,4,2,Returning_Visitor,FALSE\\r\\n1196,3,84,0,0,15,183.0952381,0,0.016666667,0,0.6,May,1,1,3,2,New_Visitor,FALSE\\r\\n1197,6,55,1,7,132,4056.175369,0.005882353,0.019282953,0,0,Mar,2,2,8,2,Returning_Visitor,FALSE\\r\\n1198,15,677.1911765,0,0,152,3561.130212,0,0.008686559,5.731607803,0,Dec,2,2,6,1,Returning_Visitor,FALSE\\r\\n1199,10,299.6031746,2,166,86,2559.541228,0.008333333,0.008587569,2.087782738,0,May,3,2,7,5,Returning_Visitor,FALSE\\r\\n1200,4,120,4,64,52,1859.083333,0.010344828,0.018390805,17.24870115,0,May,2,2,2,13,Returning_Visitor,FALSE\\r\\n1201,1,68.6,1,29.2,97,4318.668082,0.002520046,0.013784185,0,0,Jul,2,4,2,2,Returning_Visitor,TRUE\\r\\n1202,2,19,0,0,28,1183.65,0,0.006896552,21.2112655,0,Dec,3,12,9,2,Returning_Visitor,FALSE\\r\\n1203,5,95.1,4,116.8,53,1696.567619,0.003508772,0.017602339,0,0,Oct,2,2,5,2,Returning_Visitor,FALSE\\r\\n1204,0,0,0,0,31,1008.416667,0,0.007881773,0,0,May,2,6,1,2,Returning_Visitor,FALSE\\r\\n1205,0,0,0,0,4,81,0,0.025,0,0,Mar,2,2,3,2,Returning_Visitor,FALSE\\r\\n1206,11,1640.590909,0,0,16,1849.833333,0,0.013636364,10.78136364,0,Mar,1,1,2,3,Returning_Visitor,FALSE\\r\\n1207,0,0,0,0,41,1130.92619,0,0.015447154,0,0,Dec,2,2,8,2,New_Visitor,FALSE\\r\\n1208,7,441.8333333,3,102.5,231,9230.890838,0.006458333,0.021838687,0,0,Nov,3,2,1,2,Returning_Visitor,TRUE\\r\\n1209,6,647.3333333,6,191.5833333,175,10886.87692,0.005110897,0.018243793,16.64099403,0,Nov,2,2,1,2,Returning_Visitor,FALSE\\r\\n1210,0,0,0,0,11,684.3333333,0.018181818,0.063636364,0,0,Feb,2,4,6,1,Returning_Visitor,FALSE\\r\\n1211,1,5.5,0,0,7,277,0.044444444,0.035555556,0,0.4,May,1,1,1,3,Returning_Visitor,FALSE\\r\\n1212,0,0,0,0,18,541.9166667,0,0.015686275,0,0,Nov,3,2,1,2,New_Visitor,TRUE\\r\\n1213,4,80.6,0,0,39,639.4933333,0,0.005,0,0,Nov,1,2,1,20,Returning_Visitor,FALSE\\r\\n1214,0,0,0,0,3,0,0.2,0.2,0,0,Mar,1,1,3,1,Returning_Visitor,FALSE\\r\\n1215,0,0,0,0,3,109,0,0.033333333,0,0,May,3,2,4,4,Returning_Visitor,TRUE\\r\\n1216,3,281.9166667,2,6,83,2616.905952,0.002409639,0.033978772,0,0,Nov,2,2,3,2,Returning_Visitor,TRUE\\r\\n1217,0,0,0,0,38,883.55,0.026315789,0.03907496,0,0,Nov,2,2,1,3,Returning_Visitor,FALSE\\r\\n1218,1,10,0,0,12,220.2666667,0,0.02,60.622383,0,Nov,1,1,1,8,New_Visitor,TRUE\\r\\n1219,1,11,0,0,15,175.75,0,0.025,0,0,Nov,1,1,2,2,New_Visitor,FALSE\\r\\n1220,0,0,0,0,13,89,0.046153846,0.1,0,0,Mar,2,2,2,1,Returning_Visitor,FALSE\\r\\n1221,0,0,1,0,46,2183.8875,0,0.010638298,0,0,Nov,2,2,9,8,Returning_Visitor,FALSE\\r\\n1222,9,233.5,2,102,81,2477.666667,0.001149425,0.011954023,0,0,May,2,2,1,2,Returning_Visitor,FALSE\\r\\n1223,0,0,0,0,4,157.2,0.04,0.1,0,0,Oct,1,8,3,1,Returning_Visitor,TRUE\\r\\n1224,0,0,0,0,14,310,0.028571429,0.064285714,0,0.2,May,2,4,1,3,Returning_Visitor,FALSE\\r\\n1225,0,0,0,0,2,11,0,0.1,0,0,Jul,2,2,1,1,Returning_Visitor,TRUE\\r\\n1226,0,0,0,0,6,63,0,0.033333333,0,0,May,2,2,4,4,Returning_Visitor,FALSE\\r\\n1227,0,0,0,0,13,973.5,0,0.046153846,0,0,Mar,2,2,1,1,Returning_Visitor,TRUE\\r\\n1228,9,866.4280303,1,691,36,1617.612554,0.010869565,0.025668172,0,0,Nov,1,1,1,2,Returning_Visitor,TRUE\\r\\n1229,7,118.5,0,0,28,829.2083333,0,0.015151515,17.79456354,0,Dec,1,2,3,2,Returning_Visitor,FALSE\\r\\n1230,9,174.475,0,0,43,895.9731685,0,0.009929078,30.66624113,0,May,1,2,6,2,Returning_Visitor,FALSE\\r\\n1231,2,56.4,1,0,72,2101.467925,0.006140351,0.029986961,0,0,Aug,1,1,2,2,Returning_Visitor,FALSE\\r\\n1232,0,0,0,0,22,704,0,0.004761905,0,0,Nov,2,2,2,2,Returning_Visitor,FALSE\\r\\n1233,2,18.33333333,0,0,36,1387.606061,0.005263158,0.025438596,0,0,Mar,2,2,8,1,Returning_Visitor,TRUE\\r\\n1234,0,0,0,0,6,463.5,0,0.033333333,0,0,Mar,2,5,1,3,Returning_Visitor,FALSE\\r\\n1235,1,31,0,0,6,25.5,0.066666667,0.083333333,0,0,Mar,3,2,3,1,Returning_Visitor,FALSE\\r\\n1236,1,4,0,0,7,417.5333333,0,0.027777778,0,0,Aug,3,2,6,2,Returning_Visitor,FALSE\\r\\n1237,0,0,0,0,8,188,0.05,0.0875,0,0,Dec,1,1,2,1,Returning_Visitor,FALSE\\r\\n1238,0,0,0,0,4,52,0,0.025,0,0,Mar,2,2,1,2,Returning_Visitor,FALSE\\r\\n1239,1,8,1,15,58,2801.75119,0.010526316,0.016374269,7.267034211,0,Dec,3,2,4,2,Returning_Visitor,FALSE\\r\\n1240,4,115.8,0,0,46,2557.35,0,0.01372549,44.35848718,0,Oct,2,2,1,2,Returning_Visitor,FALSE\\r\\n1241,7,169.5,0,0,21,484.95,0.008695652,0.037681159,0,0,Mar,1,2,2,2,Returning_Visitor,FALSE\\r\\n1242,0,0,0,0,6,134,0.066666667,0.094444444,0,0,May,1,1,1,3,Returning_Visitor,FALSE\\r\\n1243,3,123.5,1,0,22,759.5833333,0,0.0096,46.6785275,0,Nov,1,1,3,2,Returning_Visitor,FALSE\\r\\n1244,3,32.1,0,0,3,21.1,0.028571429,0.042857143,0,0,June,3,2,6,5,New_Visitor,FALSE\\r\\n1245,0,0,0,0,10,60.5,0.02,0.04,0,0,Mar,2,2,3,1,Returning_Visitor,FALSE\\r\\n1246,9,299.6333333,4,56,35,1386.633333,0.01025641,0.014871795,0,0,May,1,1,4,3,Returning_Visitor,FALSE\\r\\n1247,6,233.0833333,2,63,60,3135.442572,0.001666667,0.009358814,0,0,Mar,3,2,1,10,Returning_Visitor,FALSE\\r\\n1248,0,0,0,0,14,487.3209524,0,0.002380952,47.32661324,0,Oct,3,2,1,2,New_Visitor,FALSE\\r\\n1249,7,204.1,0,0,5,128.7,0,0.0125,0,0,Sep,2,7,1,2,New_Visitor,FALSE\\r\\n1250,1,26.2,0,0,92,2451.346667,0.007692308,0.021318681,0,0,Jul,4,1,3,1,Returning_Visitor,FALSE\\r\\n1251,1,0,0,0,9,336.8833333,0,0.04,30.21969637,0,Sep,1,2,6,4,Returning_Visitor,FALSE\\r\\n1252,0,0,0,0,13,136,0.142857143,0.154761905,0,0.8,May,3,2,7,13,Returning_Visitor,FALSE\\r\\n1253,0,0,0,0,1,0,0.2,0.2,0,0,Nov,3,2,4,3,Returning_Visitor,FALSE\\r\\n1254,0,0,3,191.3333333,57,1315.455182,0,0.009501916,0,0,Nov,3,2,3,2,Returning_Visitor,TRUE\\r\\n1255,8,183.0833333,1,40.5,349,6879.801826,0.000568182,0.004306345,1.625051033,0,Nov,4,2,9,10,Returning_Visitor,FALSE\\r\\n1256,0,0,0,0,32,1297.75,0,0.0075,42.62274459,0,Nov,2,2,3,7,Returning_Visitor,FALSE\\r\\n1257,0,0,0,0,19,196.5,0,0.021052632,0,0,May,2,2,7,1,Returning_Visitor,TRUE\\r\\n1258,0,0,0,0,3,75,0,0.066666667,0,0,Mar,2,5,1,3,Returning_Visitor,TRUE\\r\\n1259,0,0,0,0,2,149,0,0.1,0,0,May,1,1,1,3,Returning_Visitor,FALSE\\r\\n1260,0,0,0,0,4,76.75,0,0.016666667,0,0,Nov,1,1,8,2,New_Visitor,FALSE\\r\\n1261,3,103.6,0,0,39,1003.38,0.068292683,0.08699187,0,0,Aug,1,1,1,3,Returning_Visitor,FALSE\\r\\n1262,0,0,0,0,11,2076.75,0.036363636,0.081818182,0,0,Nov,2,2,4,3,Returning_Visitor,FALSE\\r\\n1263,4,282.1,0,0,7,107.6,0,0.011111111,0,0,Aug,1,1,2,5,New_Visitor,FALSE\\r\\n1264,5,62.6,0,0,15,272.5,0,0.011111111,0,0,Oct,1,1,1,2,New_Visitor,TRUE\\r\\n1265,3,115.5,0,0,55,1833.244643,0,0.008286252,18.61684302,0,Nov,2,2,6,2,Returning_Visitor,TRUE\\r\\n1266,0,0,0,0,3,5,0.1,0.166666667,0,0,May,1,1,3,6,Returning_Visitor,FALSE\\r\\n1267,1,6,0,0,41,634.6666667,0.012698413,0.024285714,0,0,May,2,4,7,3,Returning_Visitor,FALSE\\r\\n1268,10,614.1666667,0,0,47,3608.9,0,0.019871795,7.256219133,0,Mar,2,2,3,1,Returning_Visitor,FALSE\\r\\n1269,4,58,0,0,31,806.5,0,0.009375,9.7455,0,May,2,4,1,4,Returning_Visitor,FALSE\\r\\n1270,5,74.75,0,0,14,512.5,0,0.023529412,0,0,Dec,2,7,7,8,New_Visitor,TRUE\\r\\n1271,3,99.75,0,0,31,835.5833333,0,0.006451613,47.44850792,0,Nov,2,2,1,10,Returning_Visitor,FALSE\\r\\n1272,0,0,0,0,15,153,0,0.04,0,0.6,May,2,10,1,3,Returning_Visitor,FALSE\\r\\n1273,0,0,0,0,14,927.2777778,0,0.014285714,0,0,Mar,2,2,1,2,Returning_Visitor,FALSE\\r\\n1274,0,0,0,0,6,97.5,0,0.016666667,0,0,Dec,1,1,3,2,Returning_Visitor,FALSE\\r\\n1275,0,0,0,0,19,923.22,0,0,0,0,Aug,1,1,1,4,Returning_Visitor,FALSE\\r\\n1276,0,0,0,0,47,1447.577273,0,0.011134752,0,0.6,May,2,2,3,3,Returning_Visitor,FALSE\\r\\n1277,0,-1,0,-1,1,-1,0.2,0.2,0,0.6,Feb,4,2,1,3,Returning_Visitor,FALSE\\r\\n1278,0,0,0,0,2,0,0.2,0.2,0,0.8,May,3,2,1,13,Returning_Visitor,FALSE\\r\\n1279,10,317.9583333,4,821,20,781.425,0,0.002666667,0,0,Dec,2,2,7,2,Returning_Visitor,FALSE\\r\\n1280,0,0,0,0,24,810.5,0,0.017207792,0,0,Nov,1,1,1,3,Returning_Visitor,TRUE\\r\\n1281,2,190.4,1,274,39,1321.853333,0.00952381,0.018253968,0,0,Aug,2,2,8,4,Returning_Visitor,FALSE\\r\\n1282,4,55.75,0,0,74,3817.203846,0,0.020533333,0,0,Nov,2,2,1,2,Returning_Visitor,FALSE\\r\\n1283,3,101,0,0,7,441,0.02,0.04,0,0,May,2,5,4,4,Returning_Visitor,FALSE\\r\\n1284,0,0,0,0,26,2107.258333,0.005128205,0.035897436,0,0,Dec,2,5,6,2,Returning_Visitor,TRUE\\r\\n1285,1,12,0,0,99,4097.708838,0.002061856,0.013745704,0,0,Nov,2,2,3,2,Returning_Visitor,FALSE\\r\\n1286,11,376.5,4,63,104,2743.819189,0,0.007753623,7.345321739,0,May,1,1,2,20,Returning_Visitor,FALSE\\r\\n1287,0,0,0,0,43,907.5083333,0,0.002439024,0,0,Nov,1,1,1,2,New_Visitor,TRUE\\r\\n1288,1,135,0,0,2,141,0,0.066666667,0,0,Mar,2,2,1,10,Returning_Visitor,FALSE\\r\\n1289,4,197,1,25,46,1596.672282,0,0.008,19.92584938,0,Mar,4,2,2,2,New_Visitor,TRUE\\r\\n1290,2,131.5,2,99,96,3541.324493,0.010550214,0.020522711,0,0,Nov,3,2,1,2,Returning_Visitor,FALSE\\r\\n1291,2,45.2,0,0,19,230.2,0,0.019047619,0,0,Jul,2,2,2,2,New_Visitor,FALSE\\r\\n1292,0,0,0,0,7,223,0,0.028571429,0,0,Mar,1,1,1,1,Returning_Visitor,FALSE\\r\\n1293,1,108,0,0,16,448.5,0,0.006666667,0,0,May,2,6,1,1,Returning_Visitor,TRUE\\r\\n1294,0,0,0,0,4,46.75,0,0.05,0,0,Nov,1,1,3,3,Returning_Visitor,FALSE\\r\\n1295,0,0,0,0,8,158.25,0,0.003571429,0,0,Nov,1,8,4,11,Returning_Visitor,TRUE\\r\\n1296,0,0,0,0,2,135.5,0,0.1,0,0,Dec,2,2,4,3,Returning_Visitor,FALSE\\r\\n1297,0,0,0,0,7,578.2,0,0.033333333,58.488,0,May,2,5,3,6,Returning_Visitor,TRUE\\r\\n1298,1,5,0,0,15,228.8,0.01875,0.06875,0,0,Nov,2,2,1,1,Returning_Visitor,FALSE\\r\\n1299,11,88.375,1,0,81,3230.546573,0,0.017862319,15.38432962,0,Nov,1,1,7,2,Returning_Visitor,FALSE\\r\\n1300,0,0,0,0,3,98,0,0.066666667,0,0,Dec,1,1,9,2,Returning_Visitor,FALSE\\r\\n1301,3,509.6666667,0,0,19,976.3382353,0,0.010454545,23.62159091,0,May,1,1,1,2,Returning_Visitor,TRUE\\r\\n1302,4,95.8,2,35.7,14,380.2666667,0,0.011111111,0,0,Oct,2,4,7,2,New_Visitor,FALSE\\r\\n1303,0,0,0,0,8,758.1666667,0.025,0.05,0,0,Mar,1,1,1,1,Returning_Visitor,FALSE\\r\\n1304,0,0,0,0,26,1026.75,0,0.022222222,0,0.2,May,2,2,1,3,Returning_Visitor,FALSE\\r\\n1305,0,0,0,0,25,319.3333333,0.016666667,0.036666667,10.4445,0,May,2,5,5,1,Returning_Visitor,FALSE\\r\\n1306,2,13.33333333,0,0,105,2062.443592,0.01220527,0.020275689,0,0.6,May,3,2,1,4,Returning_Visitor,FALSE\\r\\n1307,0,0,0,0,3,11,0.033333333,0.166666667,0,0.6,May,2,4,1,6,Returning_Visitor,FALSE\\r\\n1308,9,110.4090909,1,51,62,3120.211102,0.00056338,0.017396907,7.891171006,0,Mar,2,2,1,10,Returning_Visitor,FALSE\\r\\n1309,5,66.96666667,2,416,291,12065.18135,0.00122631,0.008659512,9.013011371,0,May,2,2,1,4,Returning_Visitor,FALSE\\r\\n1310,3,453,3,493.5,36,1199.522619,0.004761905,0.011534392,9.323531746,0,May,6,2,2,4,Returning_Visitor,FALSE\\r\\n1311,5,75.89285714,0,0,51,4522.409524,0.015757576,0.042922078,3.229518182,1,May,2,2,6,2,Returning_Visitor,TRUE\\r\\n1312,0,0,0,0,29,1073.295779,0.013793103,0.017471264,0,0,Dec,1,1,1,3,Returning_Visitor,TRUE\\r\\n1313,0,0,0,0,14,706.5,0,0.007142857,0,0,Feb,2,2,5,4,Returning_Visitor,TRUE\\r\\n1314,0,0,0,0,6,415,0,0.033333333,0,0.4,Feb,1,1,3,2,Returning_Visitor,FALSE\\r\\n1315,0,0,2,13,4,145,0,0.04,0,0,May,1,8,4,6,Returning_Visitor,TRUE\\r\\n1316,4,353.4,2,0,11,587.2,0.013333333,0.04,0,0,Jul,2,5,2,3,Returning_Visitor,TRUE\\r\\n1317,1,0,0,0,27,889,0.021428571,0.067857143,0,0,May,4,1,3,3,Returning_Visitor,FALSE\\r\\n1318,0,0,0,0,13,546.9583333,0,0.033846154,0,0,Dec,2,2,1,3,Returning_Visitor,FALSE\\r\\n1319,2,51,3,68.75,227,12460.67006,0.007569141,0.014819782,0,0,Nov,2,2,1,2,Returning_Visitor,FALSE\\r\\n1320,1,60.5,0,0,10,449.5,0.025,0.033333333,0,0,Dec,1,8,2,20,Returning_Visitor,FALSE\\r\\n1321,1,78,0,0,21,555.8944444,0,0.002380952,24.75047619,0,Mar,1,1,1,2,New_Visitor,FALSE\\r\\n1322,3,63.5,0,0,8,253.25,0,0.02,0,0,Dec,2,2,7,2,New_Visitor,FALSE\\r\\n1323,10,302.0833333,0,0,81,1778.663263,0,0.002857143,16.43784656,0,Nov,1,1,1,8,New_Visitor,TRUE\\r\\n1324,3,63,2,204.25,20,457.25,0.009090909,0.013636364,0,0,Dec,3,2,7,2,New_Visitor,FALSE\\r\\n1325,4,26,0,0,235,10046.80771,0.007670851,0.022527689,0,0,Nov,2,2,1,2,Returning_Visitor,FALSE\\r\\n1326,9,1104.2,0,0,36,1826.441667,0.007317073,0.012601626,0,0,Oct,1,1,3,2,Returning_Visitor,TRUE\\r\\n1327,2,63.25,0,0,7,460.75,0.022222222,0.037037037,0,0,Dec,3,2,3,2,Returning_Visitor,FALSE\\r\\n1328,2,0,0,0,17,1394.666667,0,0.029761905,0,0,Mar,2,4,2,6,Returning_Visitor,FALSE\\r\\n1329,3,87.83333333,0,0,27,798.3333333,0,0.012643678,22.9160357,0.8,Feb,2,2,3,1,Returning_Visitor,FALSE\\r\\n1330,9,175.9345238,4,54.5,229,6606.783899,0.00373444,0.015020196,8.896836973,0,Nov,2,2,1,2,Returning_Visitor,FALSE\\r\\n1331,0,0,0,0,33,889.72,0.012121212,0.044444444,0,0,Nov,2,2,3,1,Returning_Visitor,FALSE\\r\\n1332,3,33,1,10,45,1142.195833,0,0.024444444,0,0,Dec,2,2,1,2,Returning_Visitor,FALSE\\r\\n1333,6,34,0,0,69,2456.297619,0.001408451,0.003553372,0,0,May,2,2,3,2,Returning_Visitor,FALSE\\r\\n1334,0,0,0,0,27,321.6666667,0.051190476,0.07224026,0,0.8,May,3,2,1,1,Returning_Visitor,FALSE\\r\\n1335,0,0,0,0,12,810,0,0.016666667,0,0,Mar,2,2,6,10,Returning_Visitor,FALSE\\r\\n1336,0,0,0,0,2,0,0,0.1,0,0,May,2,2,1,13,Returning_Visitor,TRUE\\r\\n1337,1,5,0,0,21,258.6166667,0,0.009090909,0,0,Dec,2,2,4,3,Returning_Visitor,FALSE\\r\\n1338,0,0,0,0,6,317.5,0,0.04,0,0,May,1,1,3,4,New_Visitor,TRUE\\r\\n1339,3,58.5,0,0,17,281.6666667,0.007058824,0.017647059,0,0,Feb,1,1,3,4,Returning_Visitor,FALSE\\r\\n1340,1,46.5,0,0,40,2338.95,0.017073171,0.030325203,9.472914356,0,Nov,1,1,1,3,Returning_Visitor,FALSE\\r\\n1341,3,81.33333333,1,32.5,17,733.5,0,0.002631579,0,0,Dec,2,7,9,10,Returning_Visitor,TRUE\\r\\n1342,4,174.8,0,0,16,237.5,0,0.011111111,0,0,Sep,3,2,4,2,New_Visitor,FALSE\\r\\n1343,9,331.1666667,4,154,154,8038.325302,0.007332941,0.027963219,0,0,May,2,2,1,5,Returning_Visitor,FALSE\\r\\n1344,1,11.42857143,0,0,13,833.2333333,0,0.005555556,0,0,Mar,2,2,3,2,Returning_Visitor,TRUE\\r\\n1345,8,203.4166667,0,0,116,3505.087955,0,0.009314826,62.83957669,0,Nov,2,2,1,6,Returning_Visitor,FALSE\\r\\n1346,0,0,0,0,10,254,0.02,0.04,14.0292,0,Mar,2,2,9,2,New_Visitor,FALSE\\r\\n1347,5,79.33333333,3,242.0555556,17,1142.816919,0.006818182,0.018519814,62.16886364,0,Mar,3,2,6,2,Returning_Visitor,FALSE\\r\\n1348,0,0,0,0,1,0,0.2,0.2,0,0,Nov,3,2,2,11,Returning_Visitor,TRUE\\r\\n1349,0,0,0,0,1,0,0.2,0.2,0,0,Nov,1,1,1,1,New_Visitor,FALSE\\r\\n1350,2,45.5,0,0,2,317.25,0,0.066666667,0,0,Dec,2,2,1,2,Returning_Visitor,FALSE\\r\\n1351,1,34.3,0,0,22,722.1333333,0.018181818,0.045,0,0,Sep,2,2,8,1,Returning_Visitor,FALSE\\r\\n1352,0,0,0,0,21,987.9,0.01,0.016666667,0,0,Dec,2,4,2,1,Returning_Visitor,FALSE\\r\\n1353,0,0,0,0,17,418.3333333,0,0.025,0,0,Nov,2,6,1,2,New_Visitor,FALSE\\r\\n1354,12,418.3333333,2,85,127,6931.049725,0.004347826,0.015855776,2.321101087,1,May,2,2,5,6,Returning_Visitor,TRUE\\r\\n1355,0,0,0,0,5,384,0,0.05,0,0,May,2,4,4,2,Returning_Visitor,FALSE\\r\\n1356,1,12,0,0,11,213,0.05,0.066666667,0,0,Nov,2,2,4,13,Returning_Visitor,TRUE\\r\\n1357,1,10,1,342.5,55,3165.958333,0.005660377,0.032620545,0,0,Dec,2,2,3,1,Returning_Visitor,TRUE\\r\\n1358,0,0,0,0,1,0,0.2,0.2,0,0,Mar,2,2,7,11,Returning_Visitor,FALSE\\r\\n1359,0,0,0,0,12,279.547619,0,0.019047619,0,0,Nov,3,2,1,3,Returning_Visitor,FALSE\\r\\n1360,8,131.9642857,7,1039.166667,61,1407.446429,0.000533333,0.019203175,0,0,Dec,2,2,1,2,Returning_Visitor,FALSE\\r\\n1361,0,0,0,0,2,30.4,0,0.066666667,21.47899475,0,Oct,1,8,6,20,Returning_Visitor,TRUE\\r\\n1362,0,0,0,0,6,169,0,0.016666667,0,0.4,Feb,1,1,3,3,Returning_Visitor,FALSE\\r\\n1363,2,94.6,1,108.8,42,1157.783333,0,0.032222222,0,0,Oct,2,4,1,1,Returning_Visitor,TRUE\\r\\n1364,0,0,3,82.5,9,143.375,0.016666667,0.055555556,0,0,Dec,3,2,6,2,Returning_Visitor,FALSE\\r\\n1365,4,63,0,0,5,95.5,0,0.025,0,0,Mar,3,2,1,9,New_Visitor,TRUE\\r\\n1366,0,0,0,0,3,135,0,0.066666667,0,0,Feb,2,4,3,3,Returning_Visitor,FALSE\\r\\n1367,6,143.1666667,0,0,50,925.947619,0,0.010160428,13.60512012,0,Mar,2,2,1,2,Returning_Visitor,FALSE\\r\\n1368,1,58,0,0,5,64,0,0.016666667,0,0,Mar,1,1,4,2,New_Visitor,FALSE\\r\\n1369,0,0,0,0,4,19.6,0.075,0.108333333,0,0,May,3,2,6,4,Returning_Visitor,TRUE\\r\\n1370,0,0,0,0,2,7,0,0.1,0,0,Aug,2,2,6,13,Returning_Visitor,FALSE\\r\\n1371,0,0,0,0,19,220.3848485,0.010526316,0.024642375,0,0,May,2,4,1,4,Returning_Visitor,FALSE\\r\\n1372,1,19,0,0,43,1457.113095,0.023809524,0.04015873,0,0,Nov,3,6,1,2,Returning_Visitor,TRUE\\r\\n1373,2,58,5,115,71,1563.930952,0.006578947,0.017192982,0,0.8,May,3,2,1,4,Returning_Visitor,FALSE\\r\\n1374,2,9,0,0,50,836.8,0,0.006339869,0,0,Mar,2,2,3,2,Returning_Visitor,FALSE\\r\\n1375,0,0,0,0,3,189,0,0.066666667,0,0,Mar,3,2,8,1,Returning_Visitor,FALSE\\r\\n1376,3,107,0,0,4,145.8333333,0,0.016666667,0,0,Mar,3,2,7,1,New_Visitor,FALSE\\r\\n1377,1,21.2,0,0,12,249.4095238,0.015384615,0.019230769,0,0,Oct,2,2,8,2,Returning_Visitor,TRUE\\r\\n1378,1,36.3,0,0,1,0,0.053333333,0.093333333,0,0,Sep,3,2,3,6,Returning_Visitor,FALSE\\r\\n1379,5,140.5833333,2,87,69,1918.902722,0.003424658,0.021575342,0,0,Nov,2,2,3,2,Returning_Visitor,FALSE\\r\\n1380,3,275,2,97,34,670.422619,0.010810811,0.029597244,0,0,May,3,2,4,2,Returning_Visitor,FALSE\\r\\n1381,2,53.5,0,0,16,681.5,0,0.022916667,0,0,Dec,2,4,1,2,Returning_Visitor,FALSE\\r\\n1382,0,0,0,0,2,0,0.2,0.2,0,0,Dec,2,2,1,20,Returning_Visitor,FALSE\\r\\n1383,0,0,0,0,108,3279.238428,0.012037037,0.030709877,0,0,Nov,2,2,7,1,Returning_Visitor,FALSE\\r\\n1384,1,4,0,0,22,2706.375,0.002083333,0.039814815,0,0,Nov,4,2,1,2,Returning_Visitor,FALSE\\r\\n1385,0,0,0,0,9,143,0.055555556,0.122222222,0,1,May,2,6,1,2,Returning_Visitor,TRUE\\r\\n1386,3,29.75,0,0,12,398.9803922,0,0.005555556,50.51764193,0,Nov,2,2,2,2,New_Visitor,FALSE\\r\\n1387,3,136,0,0,39,1426.583333,0,0.020731707,3.941736143,0,Nov,2,2,4,2,Returning_Visitor,FALSE\\r\\n1388,0,0,1,0,8,165.8,0.022222222,0.022222222,0,0.6,May,1,1,1,1,Returning_Visitor,FALSE\\r\\n1389,11,326.4946809,0,0,92,4637.53842,0.0005,0.011495239,17.28402947,0,Nov,4,1,4,3,Returning_Visitor,FALSE\\r\\n1390,0,0,0,0,43,3382.083333,0,0.011627907,0,0,May,2,2,1,2,Returning_Visitor,FALSE\\r\\n1391,0,0,0,0,7,1010.166667,0.028571429,0.095238095,0,0,May,2,2,1,3,Returning_Visitor,FALSE\\r\\n1392,1,67.5,1,0,11,816.5,0,0.016666667,0,0,Dec,1,1,6,2,New_Visitor,FALSE\\r\\n1393,0,0,2,23,52,4167.488095,0.009615385,0.024839744,0,0,May,2,2,3,1,Returning_Visitor,FALSE\\r\\n1394,5,247.1,0,0,8,1188.2,0,0.030769231,0,0,Oct,1,8,8,1,Returning_Visitor,TRUE\\r\\n1395,3,251.8142857,2,101.8,37,1722.814286,0.001025641,0.007997558,4.683075961,0,Oct,1,1,1,2,Returning_Visitor,TRUE\\r\\n1396,9,145.7708333,8,408.5,139,6566.867562,0.003477444,0.015531015,67.39709637,0,Nov,2,2,3,2,Returning_Visitor,TRUE\\r\\n1397,0,0,0,0,2,1207,0,0.05,0,0,May,3,3,3,1,Returning_Visitor,FALSE\\r\\n1398,2,29,1,113,14,536.0357143,0,0.003571429,0,0,May,2,2,3,2,Returning_Visitor,FALSE\\r\\n1399,0,0,0,0,24,674.5,0.041666667,0.0625,0,1,May,3,3,3,4,Returning_Visitor,TRUE\\r\\n1400,9,500,0,0,54,2201.710714,0.000595238,0.011252834,2.82745293,0,Dec,2,5,1,1,Returning_Visitor,FALSE\\r\\n1401,4,39.48,0,0,33,549.78,0,0.005555556,0,0,Sep,3,2,4,1,New_Visitor,FALSE\\r\\n1402,0,0,0,0,42,2239.363889,0.02,0.035454545,0,0,Dec,3,2,7,2,Returning_Visitor,FALSE\\r\\n1403,0,0,0,0,4,396.25,0,0.083333333,0,0,Nov,2,2,4,2,Returning_Visitor,FALSE\\r\\n1404,0,0,0,0,5,178.8333333,0,0.04,0,0,Nov,2,2,7,13,Returning_Visitor,TRUE\\r\\n1405,4,184.4583333,1,8.166666667,44,1398.390775,0.017391304,0.026402848,10.57361945,0,Nov,1,2,3,1,Returning_Visitor,TRUE\\r\\n1406,0,0,0,0,111,2805.038095,0.005405405,0.038192738,0,0,Aug,4,1,3,3,Returning_Visitor,TRUE\\r\\n1407,1,0,0,0,53,1170.733333,0.007272727,0.025454545,31.90320066,0,Aug,2,4,2,3,Returning_Visitor,FALSE\\r\\n1408,1,0,0,0,1,0,0.2,0.2,0,0.6,May,1,1,4,2,Returning_Visitor,FALSE\\r\\n1409,2,268.08,0,0,13,420.2466667,0.042105263,0.064912281,0,0,Sep,3,2,1,13,Returning_Visitor,TRUE\\r\\n1410,2,37,0,0,46,3043.916667,0.030434783,0.05,0,0,Nov,2,2,3,2,Returning_Visitor,FALSE\\r\\n1411,9,169.5,2,724,31,706.9837662,0.005714286,0.023761905,0,0,May,1,1,1,1,Returning_Visitor,FALSE\\r\\n1412,1,72.66666667,4,345,24,879.9090909,0,0.035897436,6.482798269,0,Mar,2,4,4,1,Returning_Visitor,FALSE\\r\\n1413,6,288,0,0,16,475.3,0.010526316,0.036842105,0,0,Sep,2,2,2,13,Returning_Visitor,FALSE\\r\\n1414,0,0,0,0,1,0,0.2,0.2,0,0,May,3,2,7,3,Returning_Visitor,FALSE\\r\\n1415,0,0,0,0,20,255.75,0,0.028421053,0,0,May,2,2,1,4,Returning_Visitor,FALSE\\r\\n1416,0,0,0,0,13,255.0833333,0,0.015384615,0,0,Dec,2,2,8,1,Returning_Visitor,FALSE\\r\\n1417,4,712,0,0,77,3785.5625,0.002564103,0.00982906,0,0,Nov,2,2,2,8,New_Visitor,FALSE\\r\\n1418,0,0,0,0,4,54,0,0.066666667,0,0,Dec,1,1,2,2,Returning_Visitor,TRUE\\r\\n1419,0,0,0,0,4,66,0,0.05,0,0,Dec,1,1,8,2,Returning_Visitor,FALSE\\r\\n1420,0,0,2,91.2,24,1017.775758,0.052564103,0.049224806,0,0,Nov,2,2,9,20,Returning_Visitor,TRUE\\r\\n1421,5,42.18181818,0,0,12,231.1818182,0,0.01,0,0,Mar,2,2,1,2,New_Visitor,TRUE\\r\\n1422,3,52.16666667,3,110.75,65,2019.769468,0.002941176,0.017081105,3.277744575,0,Nov,1,1,6,2,Returning_Visitor,TRUE\\r\\n1423,6,77,3,447,34,1469.702381,0,0.02398374,22.80152439,0,Mar,2,2,1,2,Returning_Visitor,FALSE\\r\\n1424,1,103,0,0,20,1140.666667,0,0.005,19.18108767,0,Dec,3,2,3,2,New_Visitor,FALSE\\r\\n1425,10,491.6666667,0,0,48,1939.571111,0.003773585,0.010539084,0,0,Nov,2,2,7,20,Returning_Visitor,FALSE\\r\\n1426,8,122.0416667,0,0,14,338.7916667,0,0.025,0,0,Dec,2,2,7,3,Returning_Visitor,FALSE\\r\\n1427,5,943,2,16,7,935.6666667,0,0.0375,0,0,Nov,2,2,3,6,Returning_Visitor,TRUE\\r\\n1428,4,70.83333333,1,30,27,1150.192063,0.003125,0.0125,23.554375,0,May,2,2,1,2,Returning_Visitor,FALSE\\r\\n1429,7,165.9166667,2,150.5,42,3127.078788,0.009614512,0.021287825,0,0,Nov,1,1,3,2,Returning_Visitor,FALSE\\r\\n1430,0,0,0,0,6,98.73333333,0,0.033333333,0,0,Sep,3,2,1,2,Returning_Visitor,TRUE\\r\\n1431,8,259.2836478,2,12,53,1854.242845,0.0004329,0.015548371,22.22165124,0,Nov,3,2,9,6,Returning_Visitor,FALSE\\r\\n1432,0,0,0,0,34,740.3071429,0,0.014052288,0,0,Nov,2,2,1,2,Returning_Visitor,TRUE\\r\\n1433,2,124.4,2,7,7,294.6,0,0.02,0,0,June,3,2,6,11,New_Visitor,FALSE\\r\\n1434,0,0,0,0,4,100.25,0,0.066666667,0,0,Dec,3,2,3,20,Returning_Visitor,TRUE\\r\\n1435,0,0,0,0,3,39.66666667,0,0.033333333,0,0,Mar,2,4,1,10,Returning_Visitor,FALSE\\r\\n1436,0,0,0,0,3,32.5,0.066666667,0.133333333,0,0,Dec,2,2,9,3,Returning_Visitor,TRUE\\r\\n1437,0,0,0,0,1,0,0.2,0.2,0,0,Mar,3,2,3,11,Returning_Visitor,FALSE\\r\\n1438,10,138.75,0,0,69,2464.294444,0,0.000544218,0,0,Dec,2,2,3,2,New_Visitor,FALSE\\r\\n1439,0,0,0,0,18,860.5603175,0,0.009705882,0,0,Oct,3,2,6,1,Returning_Visitor,FALSE\\r\\n1440,0,0,0,0,3,311,0.1,0.166666667,0,0.6,May,1,1,1,3,Returning_Visitor,FALSE\\r\\n1441,0,0,0,0,17,504,0,0.02125,33.32796813,0,Mar,2,2,3,1,Returning_Visitor,FALSE\\r\\n1442,0,0,0,0,1,0,0.2,0.2,0,0.4,May,1,8,7,4,Returning_Visitor,FALSE\\r\\n1443,5,46.5,0,0,3,26,0,0.028571429,0,0,Nov,2,2,1,2,Returning_Visitor,FALSE\\r\\n1444,14,578.5,2,913,31,699.5,0,0.005896806,22.58886486,0,May,2,2,3,4,Returning_Visitor,TRUE\\r\\n1445,1,19,1,0,56,2954.759524,0.013793103,0.049396552,0,0.6,May,2,2,3,6,Returning_Visitor,FALSE\\r\\n1446,0,0,0,0,12,130.5,0,0.008333333,0,0,Mar,2,2,1,10,Returning_Visitor,FALSE\\r\\n1447,2,37,0,0,8,603,0.014285714,0.033333333,0,0,May,2,2,6,4,Returning_Visitor,FALSE\\r\\n1448,0,0,0,0,22,584.5,0.009090909,0.036363636,0,0,May,4,1,9,4,Returning_Visitor,FALSE\\r\\n1449,0,0,1,27,20,566.5,0.004761905,0.023809524,0,0.6,May,3,2,1,3,Returning_Visitor,FALSE\\r\\n1450,0,0,0,0,6,231.8,0.066666667,0.066666667,0,0,Oct,2,5,3,2,Returning_Visitor,FALSE\\r\\n1451,0,0,0,0,9,267.75,0,0.022222222,0,0,Dec,3,2,8,2,New_Visitor,TRUE\\r\\n1452,0,0,0,0,8,110,0,0.0125,0,0,May,2,5,1,2,Returning_Visitor,FALSE\\r\\n1453,0,0,0,0,68,3357.340476,0.018137255,0.028272059,0,1,May,3,2,6,2,Returning_Visitor,TRUE\\r\\n1454,0,0,0,0,108,4590.431277,0.005555556,0.022751323,0,0,Nov,2,2,2,1,Returning_Visitor,FALSE\\r\\n1455,1,14,0,0,46,1380.166667,0,0.01037037,0,0,Mar,4,1,1,1,Returning_Visitor,FALSE\\r\\n1456,0,0,0,0,19,2177.333333,0,0.010526316,0,0,Dec,2,4,1,2,New_Visitor,FALSE\\r\\n1457,0,0,1,0,1,102,0,0.1,0,0.4,May,2,2,1,2,Returning_Visitor,FALSE\\r\\n1458,4,121.5,0,0,2,34,0,0.023809524,0,0,Nov,2,2,9,8,New_Visitor,FALSE\\r\\n1459,0,0,0,0,9,125,0,0.022222222,0,0,Mar,2,2,3,1,Returning_Visitor,FALSE\\r\\n1460,1,4,4,123.3333333,79,2387.139881,0.028733963,0.046198341,0,0,Nov,3,2,1,13,Returning_Visitor,TRUE\\r\\n1461,0,0,0,0,10,130.5,0.02,0.1,0,0,Dec,2,2,7,3,Returning_Visitor,FALSE\\r\\n1462,0,0,0,0,7,243,0.057142857,0.085714286,0,0,May,2,2,6,4,Returning_Visitor,FALSE\\r\\n1463,1,7,2,15,17,2269.9,0,0.019047619,0,0,Jul,2,2,3,4,Returning_Visitor,FALSE\\r\\n1464,4,54.6,2,22.13333333,44,1100.789082,0.008510638,0.018561297,0,0,Oct,2,2,1,1,Returning_Visitor,FALSE\\r\\n1465,0,0,0,0,10,640.875,0,0.011111111,18.85445822,0,Nov,2,2,1,2,Returning_Visitor,FALSE\\r\\n1466,6,177.6,0,0,17,284.7833333,0.009090909,0.022727273,31.99181419,0,Oct,4,1,1,2,Returning_Visitor,FALSE\\r\\n1467,2,90,0,0,22,650.6666667,0.026086957,0.045217391,0,0,May,2,2,4,1,Returning_Visitor,FALSE\\r\\n1468,6,136.5555556,0,0,59,3224.819084,0.002985075,0.011923715,8.567426866,0,Mar,2,4,2,2,Returning_Visitor,TRUE\\r\\n1469,0,0,0,0,18,133,0.038888889,0.072222222,0,0,May,4,1,1,2,Returning_Visitor,TRUE\\r\\n1470,1,0,0,0,39,1159.541667,0.00125,0.03125,0,0,Nov,2,2,6,2,Returning_Visitor,TRUE\\r\\n1471,3,118,0,0,32,791.8,0.021621622,0.046846847,1.297677921,0,Sep,2,2,1,3,Returning_Visitor,FALSE\\r\\n1472,0,0,0,0,11,458.5,0,0.007407407,0,0,May,1,1,1,4,Returning_Visitor,TRUE\\r\\n1473,0,0,1,0,16,222,0.025,0.03125,0,0,Mar,1,2,1,2,Returning_Visitor,FALSE\\r\\n1474,0,-1,0,-1,1,-1,0.2,0.2,0,0,May,2,2,9,3,Returning_Visitor,FALSE\\r\\n1475,11,365.1166667,4,65.5,149,6082.873739,0.011520436,0.027243522,0,0,Nov,1,1,3,2,Returning_Visitor,FALSE\\r\\n1476,1,19.4,0,0,18,1077.373333,0.034126984,0.035714286,18.22752549,0,Nov,3,2,9,2,Returning_Visitor,FALSE\\r\\n1477,0,0,0,0,1,0,0.2,0.2,0,0,May,1,1,3,3,Returning_Visitor,FALSE\\r\\n1478,0,0,0,0,10,72.5,0.08,0.106666667,0,0.2,May,2,2,2,13,Returning_Visitor,FALSE\\r\\n1479,3,90.7,3,65.4,13,1036.53178,0.035294118,0.048235852,19.74930078,0,Nov,3,2,1,4,Returning_Visitor,TRUE\\r\\n1480,4,305,0,0,16,1090.7,0,0.041666667,0,0,Nov,2,2,1,2,Returning_Visitor,FALSE\\r\\n1481,0,0,0,0,31,1144.972222,0.006666667,0.008333333,77.04199767,0,Dec,2,2,7,2,New_Visitor,FALSE\\r\\n1482,0,0,2,19.25,4,95,0,0.033333333,0,0,Nov,2,2,4,2,Returning_Visitor,TRUE\\r\\n1483,0,0,0,0,2,180.1470588,0.033333333,0.055555556,0,0,Nov,6,2,3,8,Returning_Visitor,FALSE\\r\\n1484,0,0,0,0,21,864.4583333,0.003174603,0.01031746,0,0,Dec,3,2,1,2,New_Visitor,FALSE\\r\\n1485,5,60.5,0,0,5,50,0,0.025,0,0,Dec,8,13,9,20,Other,TRUE\\r\\n1486,0,0,0,0,62,1875.103333,0.003278689,0.027868852,12.71367924,0,Sep,2,4,1,1,Returning_Visitor,FALSE\\r\\n1487,9,726.3666667,0,0,80,4322.779121,0.002272727,0.0163943,8.069027652,0,May,2,2,2,2,Returning_Visitor,FALSE\\r\\n1488,0,0,0,0,106,1974.702597,0.001886792,0.014426543,1.324135445,0,May,2,2,8,3,Returning_Visitor,FALSE\\r\\n1489,0,0,0,0,6,60.25,0.033333333,0.066666667,0,0,Nov,2,2,7,3,Returning_Visitor,FALSE\\r\\n1490,4,71.4,0,0,14,449.4,0.03,0.076666667,0,0,Aug,1,1,1,3,Returning_Visitor,FALSE\\r\\n1491,0,0,0,0,9,140.2,0,0.044444444,0,0,Sep,2,2,9,2,New_Visitor,TRUE\\r\\n1492,3,397.7,4,1093.3,66,4152.7631,0.014979592,0.017561939,6.282904602,0,Sep,3,2,8,4,Returning_Visitor,TRUE\\r\\n1493,0,0,0,0,1,0,0.2,0.2,0,0,May,1,1,1,3,Returning_Visitor,FALSE\\r\\n1494,0,0,0,0,14,655.1666667,0,0.007692308,0,0,May,2,2,7,4,Returning_Visitor,TRUE\\r\\n1495,0,0,0,0,4,86.36,0.0625,0.11875,0,0,Aug,3,2,4,1,Returning_Visitor,TRUE\\r\\n1496,2,29.5,0,0,36,1653.395833,0.005555556,0.022839506,68.25041784,0,Dec,3,2,1,2,Returning_Visitor,FALSE\\r\\n1497,14,173.0833333,3,424.5,115,3382.287999,0.005346832,0.021971597,0,0,May,2,2,2,6,Returning_Visitor,FALSE\\r\\n1498,1,22,0,0,9,415.25,0.033333333,0.048148148,0,0,Mar,3,3,1,1,Returning_Visitor,FALSE\\r\\n1499,1,40.25,0,0,19,501.7666667,0,0.010526316,0,0,May,2,2,1,4,Returning_Visitor,FALSE\\r\\n1500,4,45.8,2,43.2,30,1021.838095,0,0.005882353,40.43578994,0,Nov,2,2,4,2,New_Visitor,FALSE\\r\\n1501,6,66.16666667,2,120,204,9143.435714,0.004807692,0.015384615,0,0.4,May,2,2,7,4,Returning_Visitor,FALSE\\r\\n1502,0,0,0,0,21,1030,0.005,0.025,0,0,Dec,2,2,7,1,Returning_Visitor,FALSE\\r\\n1503,0,0,0,0,7,111.6666667,0,0.014285714,0,0,Mar,2,4,1,2,Returning_Visitor,TRUE\\r\\n1504,2,70.5,0,0,20,855.6666667,0,0.013157895,0,0,Nov,2,2,9,20,New_Visitor,FALSE\\r\\n1505,1,54,0,0,31,2543.5,0,0.006666667,0,0,May,2,2,5,2,Returning_Visitor,FALSE\\r\\n1506,4,206.25,0,0,16,572.65,0,0.011111111,10.17711218,0,Sep,3,2,1,4,Returning_Visitor,TRUE\\r\\n1507,0,0,0,0,20,1117.333333,0,0.000956938,0,0,Mar,2,4,7,2,Returning_Visitor,FALSE\\r\\n1508,0,0,3,56,10,369,0,0.016666667,0,0,Mar,1,1,4,2,New_Visitor,TRUE\\r\\n1509,3,35,0,0,7,117.0833333,0,0.044444444,0,0,Nov,2,2,1,2,Returning_Visitor,FALSE\\r\\n1510,0,0,0,0,8,561.5,0,0.05,0,0,Dec,2,4,7,20,Returning_Visitor,FALSE\\r\\n1511,3,648,4,168.8333333,31,1300.728987,0.000555556,0.021511104,6.938235354,0,Mar,2,2,1,2,Returning_Visitor,FALSE\\r\\n1512,0,0,0,0,2,39.5,0,0.1,0,0,Dec,2,2,8,1,Returning_Visitor,FALSE\\r\\n1513,7,98,3,61,83,2355.682738,0.002873563,0.022487296,0,0,Dec,1,1,1,2,Returning_Visitor,FALSE\\r\\n1514,3,54.8,1,28.2,24,203.0677778,0,0.008,44.35972562,0,June,2,2,1,4,Returning_Visitor,FALSE\\r\\n1515,3,102.6,0,0,35,871.8333333,0,0.002631579,0,0,Oct,1,1,1,2,New_Visitor,TRUE\\r\\n1516,0,0,0,0,19,392,0.021052632,0.052631579,0,0,Mar,2,2,5,1,Returning_Visitor,TRUE\\r\\n1517,2,7,0,0,27,541.2071429,0.008888889,0.029320988,0,0,Nov,1,1,1,2,Returning_Visitor,TRUE\\r\\n1518,5,368.4,0,0,14,481.9666667,0.010526316,0.031578947,0,0,Sep,1,1,1,2,Returning_Visitor,FALSE\\r\\n1519,2,63.5,0,0,12,222.5,0,0.007142857,0,0,Dec,2,10,3,2,New_Visitor,TRUE\\r\\n1520,0,0,0,0,7,1689,0.028571429,0.085714286,0,0.6,May,2,2,3,3,Returning_Visitor,FALSE\\r\\n1521,0,0,0,0,2,0,0.2,0.2,0,0,Mar,2,2,6,1,Returning_Visitor,FALSE\\r\\n1522,5,169.975,3,106,90,4792.380767,0.004166667,0.007479289,41.55801982,0,Nov,3,2,6,1,Returning_Visitor,FALSE\\r\\n1523,0,0,0,0,14,204.5,0.046153846,0.084615385,0,0.6,May,1,1,4,3,Returning_Visitor,FALSE\\r\\n1524,0,0,1,108.8,10,322.3666667,0,0.009090909,61.80843596,0,Nov,2,5,4,2,Returning_Visitor,FALSE\\r\\n1525,0,0,0,0,1,0,0.2,0.2,0,0,Mar,2,2,1,1,Returning_Visitor,FALSE\\r\\n1526,0,0,0,0,7,611.0833333,0,0.016666667,0,0,Dec,3,2,6,8,New_Visitor,FALSE\\r\\n1527,0,0,0,0,18,297.3,0,0.011764706,0,0,May,1,2,1,4,Returning_Visitor,FALSE\\r\\n1528,0,0,0,0,5,48,0.08,0.093333333,0,0.8,May,3,2,4,13,Returning_Visitor,FALSE\\r\\n1529,0,0,0,0,1,0,0.2,0.2,0,0,Mar,3,3,1,3,Returning_Visitor,TRUE\\r\\n1530,6,198.5,0,0,41,1824.083333,0,0.01,0,0,Dec,3,2,3,11,New_Visitor,FALSE\\r\\n1531,3,199.75,0,0,8,331.4,0,0.003333333,0,0,Mar,3,2,2,10,New_Visitor,FALSE\\r\\n1532,0,0,0,0,1,0,0.2,0.2,0,0,Nov,3,2,1,3,Returning_Visitor,FALSE\\r\\n1533,0,0,0,0,59,1889.7,0.005747126,0.014203612,0,0.6,May,2,2,1,3,Returning_Visitor,FALSE\\r\\n1534,0,0,0,0,13,1001.3,0,0.057142857,0,0,June,2,2,9,1,Returning_Visitor,FALSE\\r\\n1535,0,0,0,0,8,463.6666667,0,0.0375,0,0,Nov,1,1,1,3,Returning_Visitor,FALSE\\r\\n1536,1,58,0,0,2,7,0,0.066666667,0,0,May,3,2,3,19,New_Visitor,TRUE\\r\\n1537,5,52.5,0,0,7,415.5,0,0.016666667,0,0,May,2,2,1,4,New_Visitor,FALSE\\r\\n1538,0,0,1,14,119,2763.011332,0.005367232,0.007566642,0,0,Nov,3,2,3,13,Returning_Visitor,TRUE\\r\\n1539,0,0,0,0,3,189,0,0.066666667,0,0,May,2,2,3,4,Returning_Visitor,FALSE\\r\\n1540,0,0,0,0,17,469.4166667,0,0.011764706,0,0,Mar,1,1,2,2,Returning_Visitor,FALSE\\r\\n1541,0,0,0,0,1,8,0,0,0,0,Sep,2,2,2,1,Returning_Visitor,FALSE\\r\\n1542,4,147.6666667,2,96.33333333,46,1041.316345,0.000571429,0.013478622,2.690792571,0,May,2,2,6,4,Returning_Visitor,TRUE\\r\\n1543,0,0,0,0,27,4622,0.027160494,0.090123457,0,0,Oct,2,5,6,1,Returning_Visitor,FALSE\\r\\n1544,2,30,0,0,24,300.6666667,0.008333333,0.025,0,0,May,2,2,1,4,Returning_Visitor,FALSE\\r\\n1545,0,0,0,0,24,308.8635531,0,0.028030303,0,0,Mar,2,6,2,2,Returning_Visitor,FALSE\\r\\n1546,5,115.375,0,0,20,473.5,0.026111111,0.028996212,14.88419318,0,Dec,3,2,1,1,Returning_Visitor,FALSE\\r\\n1547,0,0,0,0,8,332,0,0.028571429,0,0,Mar,3,2,1,8,New_Visitor,TRUE\\r\\n1548,3,40.25,3,9,26,683.0292208,0.006451613,0.032319508,0,0,Nov,1,1,1,2,Returning_Visitor,FALSE\\r\\n1549,2,86.38888889,0,0,29,897.0902778,0.013978495,0.04659824,7.053335001,0,Nov,2,2,6,3,Returning_Visitor,FALSE\\r\\n1550,8,498.9809654,6,433.1,99,2129.989707,0.001869159,0.006805318,129.1013738,0,Nov,2,2,2,1,Returning_Visitor,TRUE\\r\\n1551,0,0,0,0,16,641.5,0,0.0375,0,0,May,4,1,7,1,Returning_Visitor,FALSE\\r\\n1552,1,160.2,0,0,13,381.6166667,0,0.011904762,0,0,Oct,1,2,3,2,New_Visitor,FALSE\\r\\n1553,0,0,0,0,2,33,0,0.1,0,0,May,1,8,3,2,Returning_Visitor,FALSE\\r\\n1554,3,54.5,0,0,67,2891.744571,0.013235294,0.023901833,0,0,Nov,3,2,1,13,Returning_Visitor,TRUE\\r\\n1555,6,100.1,0,0,4,60.4,0,0.022222222,0,0,Sep,2,4,7,2,New_Visitor,FALSE\\r\\n1556,3,21,0,0,109,2587.530411,0,0.01036036,0,0,Nov,2,2,1,3,Returning_Visitor,FALSE\\r\\n1557,0,0,0,0,40,1385.666667,0.005,0.0225,0,0,Nov,2,2,1,1,Returning_Visitor,FALSE\\r\\n1558,0,0,0,0,3,79,0.066666667,0.166666667,0,0,Mar,1,1,3,3,Returning_Visitor,FALSE\\r\\n1559,9,139,1,109,33,752.4592075,0.002777778,0.006415344,0,0,May,1,1,1,15,Returning_Visitor,TRUE\\r\\n1560,0,0,0,0,39,2034.466667,0.005128205,0.015555556,0,0,Nov,2,2,1,2,Returning_Visitor,TRUE\\r\\n1561,0,0,0,0,49,2990.3125,0.012244898,0.038231293,0,0,Nov,3,2,7,13,Returning_Visitor,FALSE\\r\\n1562,2,56.2,0,0,102,5978.180357,0.004692308,0.020329446,15.25033754,0.6,May,2,2,3,2,Returning_Visitor,FALSE\\r\\n1563,1,2,0,0,61,1335.737854,0,0.002,20.15710234,0,Nov,4,4,1,2,Returning_Visitor,TRUE\\r\\n1564,0,0,0,0,6,140,0,0.033333333,0,0,May,2,6,3,6,Returning_Visitor,FALSE\\r\\n1565,0,0,0,0,4,32,0,0.075,0,0,Mar,3,2,6,1,Returning_Visitor,FALSE\\r\\n1566,4,271.2,0,0,4,144.6,0,0.014285714,0,0,Oct,3,2,1,2,Returning_Visitor,FALSE\\r\\n1567,2,98,0,0,20,401.5,0,0.003333333,0,0,May,2,5,1,2,Returning_Visitor,TRUE\\r\\n1568,4,143.0666667,1,6.5,74,1294.405,0.002666667,0.010666667,0,0,Aug,2,2,3,1,Returning_Visitor,TRUE\\r\\n1569,13,241.7666667,0,0,12,255.3,0.002,0.036666667,0,0,Mar,2,2,8,2,Returning_Visitor,FALSE\\r\\n1570,4,82.46666667,0,0,10,153.9,0.016666667,0.016666667,0,0,Jul,3,2,6,4,Returning_Visitor,FALSE\\r\\n1571,6,301.2,0,0,87,1836.983333,0.009782609,0.026449275,0,0,Sep,2,2,6,3,Returning_Visitor,FALSE\\r\\n1572,6,243.75,0,0,8,171.25,0.038888889,0.067222222,0,0,Dec,3,2,3,1,Returning_Visitor,FALSE\\r\\n1573,0,0,0,0,6,199.25,0,0.033333333,0,0,Dec,2,4,1,3,Other,FALSE\\r\\n1574,0,0,2,236,66,1483.55,0,0.006153846,143.2115385,0,May,2,4,3,3,Returning_Visitor,TRUE\\r\\n1575,0,0,0,0,1,0,0.2,0.2,0,0,Dec,1,1,5,1,Returning_Visitor,FALSE\\r\\n1576,1,32.2,0,0,17,876.4285714,0,0.0040625,0,0,Jul,3,2,1,3,Returning_Visitor,FALSE\\r\\n1577,5,29,0,0,8,233.5,0,0.027777778,0,0,Dec,2,2,4,2,Returning_Visitor,FALSE\\r\\n1578,7,380.8,0,0,50,2653.196667,0.015686275,0.027908497,0,0,Aug,2,2,2,1,Returning_Visitor,FALSE\\r\\n1579,4,76.25,0,0,141,3274.521154,0,0.008391608,6.425757643,0,Dec,2,2,1,1,Returning_Visitor,FALSE\\r\\n1580,0,0,0,0,5,64,0,0.1,0,0,Sep,2,2,6,2,Returning_Visitor,FALSE\\r\\n1581,0,0,0,0,5,147.5,0,0.04,0,0,Dec,2,2,2,8,Returning_Visitor,FALSE\\r\\n1582,2,71.3,0,0,18,813.8,0.010526316,0.045438596,0,0.8,May,3,2,8,13,Returning_Visitor,FALSE\\r\\n1583,7,261.5,0,0,117,3484.269118,0.0025,0.014375,0,0,Dec,2,2,6,1,Returning_Visitor,FALSE\\r\\n1584,0,0,1,17.75,65,6203.690476,0.007395833,0.027280668,0,0,Dec,2,1,1,2,Returning_Visitor,FALSE\\r\\n1585,3,39.2,0,0,12,209,0,0.02,0,0,Sep,2,5,6,2,Returning_Visitor,FALSE\\r\\n1586,0,0,0,0,9,53,0.066666667,0.111111111,0,0,Dec,2,5,3,1,Returning_Visitor,TRUE\\r\\n1587,4,24.5,0,0,29,749.125,0.005882353,0.02745098,0,0,Nov,1,1,3,2,Returning_Visitor,FALSE\\r\\n1588,0,0,0,0,14,471.4166667,0,0.002197802,0,0,Nov,3,2,3,6,New_Visitor,FALSE\\r\\n1589,1,136.5,0,0,25,806.5,0,0.009615385,39.96971545,0,Aug,1,1,1,4,Returning_Visitor,TRUE\\r\\n1590,2,77.5,3,92,18,341.2916667,0,0.009090909,0,0,Mar,1,1,1,2,New_Visitor,TRUE\\r\\n1591,1,65.5,0,0,51,1544.855159,0.012244898,0.027755102,0,0,Nov,3,2,1,1,Returning_Visitor,TRUE\\r\\n1592,1,9,0,0,7,638,0.0375,0.045833333,0,0,Mar,1,1,1,3,Returning_Visitor,FALSE\\r\\n1593,0,0,1,0,31,751,0.003125,0.0421875,0,0,Dec,2,2,1,6,Returning_Visitor,TRUE\\r\\n1594,0,0,0,0,7,208,0,0.028571429,0,0,Feb,4,1,1,5,Returning_Visitor,TRUE\\r\\n1595,3,76.75,1,0,36,1100.916667,0.007692308,0.015262515,18.99269231,0,May,2,2,1,2,Returning_Visitor,FALSE\\r\\n1596,0,0,0,0,3,104,0,0.066666667,0,0,Nov,2,4,3,1,Returning_Visitor,FALSE\\r\\n1597,0,0,0,0,1,0,0.2,0.2,0,0,Dec,1,1,1,3,New_Visitor,FALSE\\r\\n1598,1,43,0,0,43,1223.347222,0,0.004545455,0,0,Mar,1,1,3,2,Returning_Visitor,FALSE\\r\\n1599,6,618.0666667,0,0,50,1342.083333,0,0.004385965,28.06804986,0,June,2,2,6,11,New_Visitor,FALSE\\r\\n1600,4,72,0,0,4,46.5,0.04,0.06,0,0,Nov,3,2,2,3,Returning_Visitor,FALSE\\r\\n1601,2,12.6,0,0,7,62.8,0,0.022222222,0,0,June,1,1,4,4,Returning_Visitor,FALSE\\r\\n1602,13,913.5222222,3,141.88,29,1293.652222,0.002631579,0.020570175,1.483746347,0,Aug,2,2,4,2,Returning_Visitor,TRUE\\r\\n1603,5,196.6666667,0,0,94,2129.536752,0.003157895,0.004818713,0,0,May,3,2,1,3,Returning_Visitor,FALSE\\r\\n1604,3,64,0,0,24,832.0909091,0,0.009876543,0,0,Mar,2,10,1,3,New_Visitor,FALSE\\r\\n1605,11,455.0666667,3,306.1,41,5194.857143,0.001754386,0.013972431,22.65941331,0,Oct,2,4,1,20,Returning_Visitor,FALSE\\r\\n1606,0,0,0,0,20,1017.5,0.005,0.033333333,0,0,Nov,2,2,1,1,Returning_Visitor,FALSE\\r\\n1607,3,55,0,0,18,376.5,0.021052632,0.040350877,0,0.4,May,4,2,3,11,Returning_Visitor,FALSE\\r\\n1608,0,0,0,0,7,76,0,0.071428571,0,0,May,2,2,7,3,Returning_Visitor,FALSE\\r\\n1609,4,65,0,0,26,501.8,0,0.014285714,0,0,Nov,2,2,9,2,New_Visitor,FALSE\\r\\n1610,1,49.4,0,0,18,213.1714286,0,0.003921569,0,0,Oct,2,2,1,2,New_Visitor,FALSE\\r\\n1611,0,0,0,0,21,761.25,0,0.014035088,0,0,May,3,2,3,1,Returning_Visitor,FALSE\\r\\n1612,1,13.5,1,28,88,1759.275703,0.004545455,0.020644542,0,0,Mar,2,2,1,2,Returning_Visitor,FALSE\\r\\n1613,5,136.1,0,0,45,1424.804887,0,0.008333333,10.19295165,0,Nov,2,2,6,2,Returning_Visitor,TRUE\\r\\n1614,0,0,0,0,42,1185.666667,0,0.004761905,0,0,Mar,2,2,1,1,Returning_Visitor,FALSE\\r\\n1615,0,0,2,76.5,22,850.5333333,0.004545455,0.03446281,0,0,Mar,3,2,3,1,Returning_Visitor,FALSE\\r\\n1616,6,206.03,0,0,129,3778.345,0.010687023,0.024611656,2.169469761,0,Oct,2,2,1,3,Returning_Visitor,FALSE\\r\\n1617,0,0,0,0,10,393,0.02,0.06,0,0,May,2,2,7,3,Returning_Visitor,FALSE\\r\\n1618,2,5,0,0,3,32,0,0.066666667,0,1,May,2,2,2,5,Returning_Visitor,TRUE\\r\\n1619,4,15,1,0,38,1155,0.004545455,0.020454545,5.903181818,0,May,2,2,5,2,Returning_Visitor,FALSE\\r\\n1620,1,2,0,0,16,323.2333333,0,0.013333333,0,0,Dec,3,2,8,8,Returning_Visitor,FALSE\\r\\n1621,3,52,0,0,56,2145.563492,0.011403509,0.025292398,13.11733918,0,May,2,2,1,14,Returning_Visitor,FALSE\\r\\n1622,1,21,0,0,81,2930.722222,0.003658537,0.018943089,0,0,Nov,2,2,3,1,Returning_Visitor,TRUE\\r\\n1623,0,0,0,0,4,70.5,0.05,0.1,0,0,Mar,3,2,4,3,Returning_Visitor,FALSE\\r\\n1624,0,0,0,0,3,71,0.1,0.1,0,0,May,3,2,6,13,Returning_Visitor,FALSE\\r\\n1625,0,0,0,0,1,0,0.2,0.2,0,0,Nov,1,1,4,10,Returning_Visitor,FALSE\\r\\n1626,0,0,0,0,2,0,0.2,0.2,0,0,Nov,2,5,1,2,Returning_Visitor,FALSE\\r\\n1627,0,0,0,0,8,551.1666667,0.025,0.035,0,0,Mar,3,2,2,3,Returning_Visitor,FALSE\\r\\n1628,0,0,0,0,1,0,0.2,0.2,0,0,May,1,1,4,2,New_Visitor,FALSE\\r\\n1629,7,109.0416667,0,0,35,1136.083333,0,0.013157895,46.21605051,0,Nov,3,2,3,3,Returning_Visitor,FALSE\\r\\n1630,0,0,0,0,1,0,0.2,0.2,0,0,Dec,3,2,3,2,Returning_Visitor,FALSE\\r\\n1631,0,0,0,0,20,438.3333333,0.02,0.04,0,0,Mar,2,2,7,1,Returning_Visitor,FALSE\\r\\n1632,0,0,0,0,17,557.1666667,0.023529412,0.049509804,0,0,Mar,3,2,1,1,Returning_Visitor,FALSE\\r\\n1633,0,0,0,0,9,183.3333333,0,0.022222222,0,0,Dec,2,10,4,1,Returning_Visitor,FALSE\\r\\n1634,8,144.5,4,181.7222222,52,2826.790048,0.007258065,0.030060764,0,0,May,3,2,3,13,Returning_Visitor,TRUE\\r\\n1635,0,0,0,0,9,890,0.044444444,0.066666667,0,0.4,May,2,2,6,19,Returning_Visitor,FALSE\\r\\n1636,0,0,0,0,3,55,0.044444444,0.111111111,0,0,May,3,5,1,3,Returning_Visitor,FALSE\\r\\n1637,0,0,1,0,23,489.25,0.00173913,0.032173913,0,0,May,2,5,5,2,Returning_Visitor,FALSE\\r\\n1638,1,10,1,0,28,830,0.013793103,0.044827586,0,0.4,May,2,2,1,2,Returning_Visitor,FALSE\\r\\n1639,0,0,0,0,25,934.3666667,0.024,0.054,0,0.6,May,2,2,6,13,Returning_Visitor,FALSE\\r\\n1640,2,86,0,0,36,1720.416667,0,0.00995086,0,0.2,May,2,10,4,1,Returning_Visitor,FALSE\\r\\n1641,0,0,0,0,7,245.4,0.025,0.08125,3.27121463,0,Sep,3,7,3,4,Returning_Visitor,FALSE\\r\\n1642,0,0,0,0,39,706.2,0.074774775,0.09009009,0,0,Sep,3,2,1,13,Returning_Visitor,FALSE\\r\\n1643,0,0,0,0,1,0,0.2,0.2,0,0,Nov,3,2,1,13,Returning_Visitor,FALSE\\r\\n1644,8,101.8511111,4,161.9666667,52,591.1542063,0,0.011448413,8.052496178,0,Jul,2,2,3,3,Returning_Visitor,FALSE\\r\\n1645,0,0,0,0,10,1656.666667,0.06,0.1,0,0,Mar,4,2,1,3,Returning_Visitor,FALSE\\r\\n1646,8,359,1,16,19,497.6666667,0.007692308,0.023076923,0,0,May,2,4,7,1,Returning_Visitor,FALSE\\r\\n1647,0,0,2,52,12,699.25,0.023809524,0.028571429,0,0,May,1,1,3,3,Returning_Visitor,FALSE\\r\\n1648,1,74,0,0,49,1616.083333,0.004,0.016,0,0,Mar,2,2,6,1,Returning_Visitor,FALSE\\r\\n1649,0,0,0,0,15,242.9166667,0.006666667,0.006666667,0,0,Nov,3,2,1,11,Returning_Visitor,TRUE\\r\\n1650,1,10,0,0,16,120,0.053333333,0.08,0,0,May,2,2,6,4,Returning_Visitor,FALSE\\r\\n1651,15,1629.333333,3,214.5,112,4509.823016,0.004166667,0.019960276,0,0,May,4,1,3,3,Returning_Visitor,FALSE\\r\\n1652,0,0,0,0,2,51,0,0.05,0,0,May,3,2,1,7,Returning_Visitor,TRUE\\r\\n1653,3,42,0,0,16,1266.5,0,0.003508772,0,0,Mar,2,2,6,1,Returning_Visitor,FALSE\\r\\n1654,2,17.13333333,0,0,20,1078.2,0.02,0.051166667,0,0,Oct,1,1,1,3,Returning_Visitor,FALSE\\r\\n1655,3,69.6,0,0,9,199.1333333,0,0.006060606,0,0,Jul,1,1,1,2,New_Visitor,FALSE\\r\\n1656,0,0,0,0,4,81.5,0,0.025,0,0,May,1,1,2,4,Returning_Visitor,TRUE\\r\\n1657,2,148,0,0,9,416.6666667,0,0.004545455,0,0,Mar,3,2,6,2,New_Visitor,TRUE\\r\\n1658,0,0,0,0,27,228.9,0.014814815,0.037037037,0,0,Aug,4,1,1,1,Returning_Visitor,FALSE\\r\\n1659,0,0,0,0,8,323.5,0,0.025,23.235,0,May,1,1,1,5,New_Visitor,FALSE\\r\\n1660,0,0,0,0,9,145.9,0.022222222,0.074074074,0,0,June,1,1,2,3,Returning_Visitor,TRUE\\r\\n1661,2,196.6,0,0,31,1514.3,0.036363636,0.066666667,0,0,Aug,1,8,7,1,Returning_Visitor,TRUE\\r\\n1662,0,0,0,0,14,424.3333333,0,0.007142857,0,0,Dec,2,2,2,13,Returning_Visitor,FALSE\\r\\n1663,0,0,0,0,6,67,0.016666667,0.05,0,0,Jul,2,4,1,1,Returning_Visitor,FALSE\\r\\n1664,1,7,0,0,7,151.5,0,0.025,50.9925,0,May,2,2,1,1,Returning_Visitor,FALSE\\r\\n1665,0,0,0,0,1,0,0.2,0.2,0,0,Dec,3,2,7,2,Returning_Visitor,FALSE\\r\\n1666,0,0,0,0,1,0,0.2,0.2,0,0,May,3,2,6,1,Returning_Visitor,TRUE\\r\\n1667,0,0,0,0,2,0,0.2,0.2,0,0,Dec,1,1,2,1,Returning_Visitor,TRUE\\r\\n1668,8,820.8,1,29.5,59,1609.313889,0.010447761,0.030795428,12.44030746,0,May,2,4,4,2,Returning_Visitor,TRUE\\r\\n1669,0,0,0,0,1,0,0.2,0.2,0,0,Mar,2,4,1,1,Returning_Visitor,FALSE\\r\\n1670,2,13,0,0,3,200,0,0.05,0,0,Dec,2,2,1,8,New_Visitor,FALSE\\r\\n1671,7,199.85,0,0,39,1267.453333,0.004761905,0.020634921,17.92758699,0,Nov,2,4,1,4,Returning_Visitor,FALSE\\r\\n1672,2,113.5,0,0,37,1344.340476,0,0.005405405,11.77908986,0,Dec,2,2,3,2,New_Visitor,FALSE\\r\\n1673,0,0,0,0,1,0,0.2,0.2,0,0,May,4,1,1,5,Returning_Visitor,FALSE\\r\\n1674,6,124.5,5,132.8333333,45,901.0916667,0.004,0.010111111,0,0,May,2,5,2,2,Returning_Visitor,FALSE\\r\\n1675,0,0,0,0,10,0,0.2,0.2,0,0.8,May,3,2,2,13,Returning_Visitor,FALSE\\r\\n1676,0,0,0,0,6,73.75,0.033333333,0.044444444,0,0,Mar,3,2,3,2,Returning_Visitor,FALSE\\r\\n1677,0,0,0,0,8,100,0,0.025,0,0,Mar,1,1,7,1,Returning_Visitor,FALSE\\r\\n1678,5,138.5,0,0,11,578.3333333,0.05,0.072916667,0,0,May,1,1,1,4,Returning_Visitor,FALSE\\r\\n1679,0,0,0,0,25,375.6619048,0.004,0.041777778,0,0,May,2,5,1,2,Returning_Visitor,FALSE\\r\\n1680,2,76.6,0,0,28,488.91,0.014814815,0.022222222,45.19820194,0,June,1,2,1,1,Returning_Visitor,TRUE\\r\\n1681,2,48.1875,4,121.5,51,1792.814481,0.003571429,0.01186886,60.07483189,0,Nov,3,2,1,2,Returning_Visitor,TRUE\\r\\n1682,0,0,0,0,3,50,0,0.033333333,0,0,Mar,2,2,1,2,Returning_Visitor,FALSE\\r\\n1683,5,140.8,4,254.75,61,1740.052778,0.007179487,0.023796204,14.62413644,0,Nov,2,2,2,2,Returning_Visitor,TRUE\\r\\n1684,0,0,0,0,28,341.4583333,0,0.007407407,0,0,Dec,2,4,3,10,New_Visitor,FALSE\\r\\n1685,6,100.5,0,0,10,332.5833333,0,0.002197802,0,0,Dec,8,13,9,20,Other,FALSE\\r\\n1686,0,0,0,0,20,2271,0,0.025,0,0,Mar,2,2,1,1,Returning_Visitor,FALSE\\r\\n1687,0,0,0,0,61,4501.4337,0.015,0.036678391,0,0.2,May,4,5,3,2,Returning_Visitor,FALSE\\r\\n1688,5,81.6,0,0,16,308.7,0.00952381,0.019047619,0,0,Sep,2,4,2,5,New_Visitor,FALSE\\r\\n1689,0,0,1,22,40,1284.569048,0.00625,0.019791667,0,0,Nov,1,1,9,2,Returning_Visitor,TRUE\\r\\n1690,0,0,0,0,1,0,0.2,0.2,0,0,Mar,1,1,1,3,Returning_Visitor,TRUE\\r\\n1691,0,0,0,0,3,79.5,0,0.033333333,0,0,Mar,3,2,2,2,Returning_Visitor,FALSE\\r\\n1692,1,54.5,2,132.5,14,516.5,0.017647059,0.043137255,18.71641694,0,Dec,2,2,3,1,Returning_Visitor,FALSE\\r\\n1693,0,0,0,0,4,87.875,0,0.026666667,0,0,Nov,1,1,4,10,Returning_Visitor,TRUE\\r\\n1694,0,0,0,0,5,62,0.12,0.14,0,0,Mar,3,2,3,1,Returning_Visitor,FALSE\\r\\n1695,0,0,0,0,18,346.5666667,0.02962963,0.062962963,0,0,Nov,2,2,3,2,Returning_Visitor,FALSE\\r\\n1696,6,262.25,3,298,49,2302.021242,0.000308642,0.026591844,43.3616369,0,Mar,1,1,1,2,Returning_Visitor,FALSE\\r\\n1697,0,0,1,9,30,1992.833333,0,0.003333333,9.227000967,0,Mar,2,4,1,3,Returning_Visitor,FALSE\\r\\n1698,7,421.25,0,0,59,1945.896667,0.012239583,0.010578704,28.52919049,0,June,2,6,1,20,Returning_Visitor,FALSE\\r\\n1699,0,0,0,0,29,1155.5,0.05862069,0.095402299,0,0.8,May,2,2,1,13,Returning_Visitor,FALSE\\r\\n1700,1,18.2,0,0,44,1310.5,0.042222222,0.065925926,0,0,Oct,2,2,1,13,Returning_Visitor,FALSE\\r\\n1701,1,4,0,0,50,549.9166667,0,0.008163265,0,0,May,4,1,1,4,Returning_Visitor,FALSE\\r\\n1702,0,0,0,0,3,0,0.2,0.2,0,0,Nov,2,2,1,1,Returning_Visitor,FALSE\\r\\n1703,3,52,0,0,60,3451.751515,0.006666667,0.011565934,0,0,Mar,3,2,3,1,Returning_Visitor,TRUE\\r\\n1704,4,57,0,0,10,497.1,0,0.009848485,0,0,May,1,1,8,2,Returning_Visitor,FALSE\\r\\n1705,0,0,0,0,22,231.5,0.036363636,0.072727273,0,0.6,May,2,2,4,3,Returning_Visitor,FALSE\\r\\n1706,3,139,0,0,35,631.9333333,0.005263158,0.015789474,0,0,Nov,1,2,1,2,New_Visitor,FALSE\\r\\n1707,2,13,0,0,13,477.5,0.0125,0.01875,0,0,Dec,2,5,1,1,Returning_Visitor,FALSE\\r\\n1708,0,0,0,0,15,325.5,0.02,0.058666667,0,0,Dec,2,2,1,1,Returning_Visitor,FALSE\\r\\n1709,0,0,0,0,10,443.5,0,0.027777778,38.20940741,0,May,2,5,3,4,Returning_Visitor,TRUE\\r\\n1710,0,0,5,14,31,750.5904762,0.007407407,0.036957672,0,0,Mar,2,2,1,2,Returning_Visitor,FALSE\\r\\n1711,0,-1,0,-1,1,-1,0.2,0.2,0,0,Feb,3,3,1,3,Returning_Visitor,FALSE\\r\\n1712,0,0,0,0,22,356.8,0,0.016666667,0,0,Mar,2,2,2,8,Returning_Visitor,FALSE\\r\\n1713,0,0,1,0,26,668.5,0,0.007407407,0,0,Nov,2,2,3,1,Returning_Visitor,FALSE\\r\\n1714,0,0,2,386,36,1609.939744,0,0.009323308,12.50325678,0,Nov,2,2,3,3,Returning_Visitor,FALSE\\r\\n1715,0,0,0,0,5,51.25,0,0.02,0,0,Mar,3,2,1,1,Returning_Visitor,FALSE\\r\\n1716,0,0,1,172,21,564.5,0,0.042965368,0,0.8,May,3,3,2,1,Returning_Visitor,FALSE\\r\\n1717,5,88.83333333,0,0,27,494.6440476,0,0.006781609,0,0,Nov,1,1,1,2,Returning_Visitor,FALSE\\r\\n1718,0,0,0,0,12,547.3333333,0,0.033333333,0,0,Mar,2,2,1,3,Returning_Visitor,FALSE\\r\\n1719,1,6,1,7,25,591.8928571,0,0.020833333,165.6204667,0,May,1,1,8,4,Returning_Visitor,TRUE\\r\\n1720,0,0,0,0,16,566.4866667,0,0.039365079,18.30205576,0,Sep,3,2,2,1,Returning_Visitor,FALSE\\r\\n1721,4,102.3,0,0,59,1684.496667,0,0.00952381,25.85442016,0,Nov,2,2,2,4,Returning_Visitor,FALSE\\r\\n1722,2,14,0,0,8,57,0,0.057142857,0,0,Mar,1,2,4,8,New_Visitor,FALSE\\r\\n1723,10,293.7782051,2,153,96,3283.166739,0.001960784,0.013509414,0,0,Mar,3,2,6,2,Returning_Visitor,TRUE\\r\\n1724,0,0,0,0,25,1838.5,0.004,0.052,0,0,May,2,2,1,19,Returning_Visitor,FALSE\\r\\n1725,1,0,0,0,3,178.5,0,0.066666667,8.04958574,0,Sep,2,6,2,1,Returning_Visitor,FALSE\\r\\n1726,0,0,0,0,16,336.3,0.0125,0.025,0,0,Jul,2,2,7,1,Returning_Visitor,FALSE\\r\\n1727,3,96.5,0,0,8,323.5,0,0.02,0,0,Dec,1,1,6,2,Returning_Visitor,FALSE\\r\\n1728,2,31.5,0,0,27,811.8630952,0,0.015873016,0,0,Nov,1,1,4,8,Returning_Visitor,TRUE\\r\\n1729,0,0,0,0,38,1633.833333,0,0.007894737,0,0,May,2,2,1,1,Returning_Visitor,TRUE\\r\\n1730,0,0,0,0,4,129.5,0,0.05,0,0,Dec,8,13,9,20,Other,FALSE\\r\\n1731,0,0,0,0,13,221.5,0,0.020512821,0,0,Nov,2,2,1,2,New_Visitor,FALSE\\r\\n1732,0,0,1,20,13,816.9545455,0.028571429,0.047619048,0,0,May,3,2,8,1,Returning_Visitor,FALSE\\r\\n1733,2,83,0,0,3,264,0,0.05,0,0.6,May,3,3,7,11,New_Visitor,FALSE\\r\\n1734,2,22,3,41.5,67,3397.957955,0,0.015504136,0,0,Dec,2,2,2,2,Returning_Visitor,TRUE\\r\\n1735,0,0,0,0,1,0,0.2,0.2,0,0,May,2,10,3,1,Returning_Visitor,FALSE\\r\\n1736,5,121.425,1,8,16,792.75,0.005,0.008333333,38.41401623,0,Nov,2,2,1,3,Returning_Visitor,FALSE\\r\\n1737,2,102,0,0,16,502.8333333,0,0.004444444,0,0,Mar,3,2,4,2,Returning_Visitor,TRUE\\r\\n1738,0,0,0,0,10,130.75,0.04,0.076666667,0,0,Nov,3,2,1,3,Returning_Visitor,FALSE\\r\\n1739,2,11,0,0,4,15,0,0.04,0,0,Aug,2,10,1,1,Returning_Visitor,FALSE\\r\\n1740,2,197.5,0,0,17,820.5,0.011111111,0.011111111,0,0,Dec,1,1,1,8,Returning_Visitor,FALSE\\r\\n1741,9,233.6224044,0,0,35,1941.066667,0.01255814,0.02917153,0,0,Aug,3,2,7,2,Returning_Visitor,FALSE\\r\\n1742,2,1172,0,0,24,1244.066667,0.008,0.028,0,0,May,1,8,2,6,Returning_Visitor,FALSE\\r\\n1743,1,11.1,0,0,48,830.3142529,0.004347826,0.017619048,0,0,Nov,1,1,1,3,Returning_Visitor,FALSE\\r\\n1744,0,0,0,0,6,339.5,0,0.016666667,124.9045858,0,Nov,2,6,9,20,New_Visitor,FALSE\\r\\n1745,0,0,0,0,25,314.6964286,0,0.015666667,0,0,Dec,2,2,3,2,Returning_Visitor,TRUE\\r\\n1746,0,0,3,341.3333333,59,2946.6,0.003278689,0.007962529,9.380377049,0,May,1,1,6,2,Returning_Visitor,TRUE\\r\\n1747,3,269.1666667,0,0,36,2281.208333,0.022916667,0.046203704,0,0,May,3,2,6,4,Returning_Visitor,FALSE\\r\\n1748,0,0,0,0,36,641.4083333,0.060925926,0.081375661,0,0,Jul,3,2,2,13,Returning_Visitor,FALSE\\r\\n1749,3,13,0,0,16,226.5,0,0.013333333,0,0,Mar,2,5,1,2,Returning_Visitor,FALSE\\r\\n1750,1,49.5,0,0,65,3804.2875,0,0.0203125,0,0,Nov,2,5,3,13,Returning_Visitor,TRUE\\r\\n1751,0,0,0,0,16,1092.333333,0.025,0.066666667,0,0,Dec,2,2,5,1,Returning_Visitor,FALSE\\r\\n1752,0,0,1,5,66,2537.45,0.003956044,0.022177156,0,0.4,May,2,6,1,4,Returning_Visitor,FALSE\\r\\n1753,2,13,0,0,23,855.1666667,0.008,0.025333333,0,0,Mar,2,5,1,3,Returning_Visitor,FALSE\\r\\n1754,0,0,0,0,3,1952.5,0.066666667,0.122222222,0,0,Nov,1,1,2,1,Returning_Visitor,FALSE\\r\\n1755,8,355,0,0,50,1039.599344,0.000925926,0.010164456,0,0,Nov,1,2,3,10,Returning_Visitor,FALSE\\r\\n1756,5,44.2,5,801.8,12,235.3,0.002777778,0.035925926,0,0,Aug,2,2,2,2,Returning_Visitor,FALSE\\r\\n1757,16,305,0,0,147,4123.956674,0.003797468,0.010521398,0,0,Nov,2,2,1,8,Returning_Visitor,FALSE\\r\\n1758,0,0,0,0,14,394.25,0,0.015384615,0,0,May,2,2,1,4,Returning_Visitor,TRUE\\r\\n1759,0,0,0,0,27,1316.035714,0,0.022222222,0,0,Nov,2,2,1,1,Returning_Visitor,FALSE\\r\\n1760,0,0,0,0,19,468.8333333,0.046296296,0.075,0,0,May,3,2,3,13,Returning_Visitor,FALSE\\r\\n1761,4,112.875,0,0,6,134.675,0,0.037037037,0,0,Nov,1,2,1,2,Returning_Visitor,FALSE\\r\\n1762,0,0,0,0,2,76,0,0.05,0,0.6,Feb,3,2,3,3,Returning_Visitor,FALSE\\r\\n1763,0,0,0,0,8,232,0,0.025,0,0,Jul,1,2,1,2,Returning_Visitor,TRUE\\r\\n1764,1,70,0,0,12,1644.233333,0,0.015384615,0,0,Aug,1,1,4,4,New_Visitor,FALSE\\r\\n1765,11,1284.3375,3,303.625,96,2478.070833,0.007355769,0.018144023,0,0,Dec,1,1,3,2,Returning_Visitor,FALSE\\r\\n1766,2,40,0,0,21,1494.5,0.009090909,0.004545455,0,0,May,2,2,7,2,Returning_Visitor,FALSE\\r\\n1767,1,86.6,0,0,14,349.5761905,0,0.004761905,60.43737784,0,Nov,1,1,1,3,New_Visitor,FALSE\\r\\n1768,7,143.28,0,0,27,787.2433333,0.005882353,0.044117647,0,0,Sep,1,2,3,1,Returning_Visitor,TRUE\\r\\n1769,1,26,0,0,11,345.1666667,0.022222222,0.008888889,0,0,May,1,1,4,3,Returning_Visitor,FALSE\\r\\n1770,0,0,0,0,4,56,0.1,0.15,0,0,May,2,2,6,3,Returning_Visitor,FALSE\\r\\n1771,0,0,0,0,4,127,0,0.075,0,0,May,2,2,6,4,Returning_Visitor,FALSE\\r\\n1772,0,0,1,8,21,936.6428571,0.004545455,0.008987603,0,0,Nov,1,1,3,2,Returning_Visitor,TRUE\\r\\n1773,2,153.2,1,24.2,22,615.0666667,0.008,0.036,0,0,Oct,2,2,1,1,Returning_Visitor,FALSE\\r\\n1774,1,5,0,0,5,95.1,0.066666667,0.077777778,0,0,Oct,1,1,4,4,Returning_Visitor,FALSE\\r\\n1775,3,59.2,0,0,9,1261.7,0.016666667,0.05,0,0,Aug,2,5,1,5,Returning_Visitor,FALSE\\r\\n1776,0,0,0,0,15,292.6944444,0,0.005128205,54.98,0,May,3,2,4,4,Returning_Visitor,FALSE\\r\\n1777,7,327.2357143,4,260,42,443.4990476,0,0.022666667,18.50321705,0,Jul,2,4,6,1,Returning_Visitor,FALSE\\r\\n1778,0,0,0,0,16,645.2,0.0125,0.05,0,0,Jul,4,1,3,1,Returning_Visitor,TRUE\\r\\n1779,0,0,0,0,1,0,0.2,0.2,0,0,May,2,2,1,1,Returning_Visitor,FALSE\\r\\n1780,4,242.8,0,0,7,238.6,0.018181818,0.063636364,0,0,Oct,2,2,1,2,Returning_Visitor,TRUE\\r\\n1781,1,0,2,57.5,63,1980.238095,0,0.015025253,0,0,Nov,3,2,1,2,New_Visitor,TRUE\\r\\n1782,10,236.9,0,0,19,538.2,0,0.00952381,0,0,May,2,5,3,6,New_Visitor,FALSE\\r\\n1783,1,0,0,0,16,2007,0.01875,0.054166667,0,0,Nov,1,1,3,1,Returning_Visitor,FALSE\\r\\n1784,6,378.4666667,0,0,13,950.6666667,0.022222222,0.054444444,0,0,Oct,1,1,1,3,Returning_Visitor,FALSE\\r\\n1785,0,0,0,0,13,171.5,0.019230769,0.080769231,0,0.8,May,2,2,1,1,Returning_Visitor,FALSE\\r\\n1786,0,0,0,0,9,27.5,0.044444444,0.1,0,0,May,2,2,1,1,Returning_Visitor,FALSE\\r\\n1787,1,7,0,0,24,445.4333333,0.017391304,0.02173913,0,0,Aug,1,1,4,3,Returning_Visitor,TRUE\\r\\n1788,0,0,0,0,12,121.5,0.025,0.066666667,0,0,May,2,4,1,2,Returning_Visitor,TRUE\\r\\n1789,0,0,0,0,9,300,0.011111111,0.033333333,0,0.8,May,2,4,1,3,Returning_Visitor,FALSE\\r\\n1790,2,180,3,258,61,5233.590476,0.009090909,0.035239899,0,0,May,2,2,4,4,Returning_Visitor,FALSE\\r\\n1791,0,0,0,0,13,852.2,0.164230769,0.18034188,0,0,Aug,3,2,4,13,Returning_Visitor,FALSE\\r\\n1792,2,83,2,40,241,5194.79857,0.003101093,0.014304381,0.468406088,0,Dec,2,4,1,1,Returning_Visitor,FALSE\\r\\n1793,3,444.7,0,0,59,3296.55,0.006666667,0.0265,0,0,Jul,2,2,4,13,Returning_Visitor,FALSE\\r\\n1794,0,0,0,0,6,916.25,0,0.006666667,0,0,May,2,2,9,2,Returning_Visitor,FALSE\\r\\n1795,0,0,0,0,26,2021.4,0.007692308,0.030769231,0,0,Jul,3,3,1,4,Returning_Visitor,FALSE\\r\\n1796,2,85.5,0,0,42,1741.483333,0,0.002051282,27.12804201,0,Mar,2,10,1,1,Returning_Visitor,FALSE\\r\\n1797,1,57.4,0,0,6,303.1,0.028571429,0.014285714,0,0,June,1,2,3,2,Returning_Visitor,FALSE\\r\\n1798,0,0,0,0,2,33,0,0.1,0,0.2,Feb,1,1,1,3,Returning_Visitor,FALSE\\r\\n1799,0,0,0,0,15,791,0,0.031111111,19.34826667,0,May,2,2,6,1,Returning_Visitor,FALSE\\r\\n1800,0,0,0,0,20,562.0071429,0,0.00125,0,0,Nov,1,1,1,3,Returning_Visitor,FALSE\\r\\n1801,2,37,0,0,3,17,0,0.05,0,0,Mar,3,2,1,2,New_Visitor,TRUE\\r\\n1802,1,0,0,0,29,1085.9,0,0.007407407,30.54596337,0,Nov,2,2,1,4,New_Visitor,FALSE\\r\\n1803,1,21,0,0,13,190,0,0.015384615,0,0,May,2,2,1,1,Returning_Visitor,TRUE\\r\\n1804,4,57.3,0,0,25,488.7166667,0.021428571,0.067517007,0,0,June,2,5,1,1,Returning_Visitor,FALSE\\r\\n1805,11,494.1666667,4,151,180,4773.335638,0.000537634,0.008600444,0,0,May,2,2,3,3,Returning_Visitor,FALSE\\r\\n1806,6,63,1,16,187,4987.688889,0.003108808,0.011118588,10.80188719,0,May,4,1,2,2,Returning_Visitor,FALSE\\r\\n1807,2,59.4,0,0,86,3334.506667,0.025581395,0.050387597,0,0,Aug,2,2,7,3,Returning_Visitor,FALSE\\r\\n1808,8,2086.75,1,46.5,81,5546,0.002325581,0.014562569,15.56462164,0,Nov,2,2,1,2,Returning_Visitor,FALSE\\r\\n1809,0,0,0,0,11,350.375,0.018181818,0.011688312,0,0,Nov,3,2,3,2,New_Visitor,FALSE\\r\\n1810,0,0,0,0,35,897.6666667,0.011764706,0.017016807,5.220705882,0,May,3,2,2,3,Returning_Visitor,FALSE\\r\\n1811,0,0,0,0,7,159.2,0.085714286,0.128571429,0,0,Aug,3,3,3,1,Returning_Visitor,TRUE\\r\\n1812,0,0,0,0,6,301.5,0,0.111111111,0,0,Feb,2,4,9,3,Returning_Visitor,FALSE\\r\\n1813,0,0,0,0,13,157,0,0.015384615,0,0,Nov,2,2,5,2,Returning_Visitor,FALSE\\r\\n1814,3,89.5,0,0,48,1572.2,0.017687075,0.0388854,20.11392747,0,Nov,4,2,1,3,Returning_Visitor,FALSE\\r\\n1815,5,188,0,0,25,1189.458333,0,0.006150794,36.89921429,0.6,May,2,10,1,4,Returning_Visitor,FALSE\\r\\n1816,0,0,0,0,87,4403.382777,0.002941176,0.011552302,0,0,Dec,2,2,6,2,Returning_Visitor,FALSE\\r\\n1817,6,161.8333333,5,858.5708333,84,2701.337954,0.010771277,0.016381748,7.477388113,0,Nov,1,2,1,1,Returning_Visitor,FALSE\\r\\n1818,0,0,0,0,4,46,0,0.05,0,0,Mar,2,2,1,3,Returning_Visitor,FALSE\\r\\n1819,0,0,0,0,8,349.5,0,0.028571429,25.188,0,Mar,1,2,1,8,New_Visitor,FALSE\\r\\n1820,7,250.3333333,0,0,7,180.3333333,0,0.02,0,0,Mar,2,2,1,2,New_Visitor,TRUE\\r\\n1821,8,69.83333333,1,157,45,901.9166667,0.007189542,0.02627451,7.802611111,0,May,2,2,1,6,Returning_Visitor,FALSE\\r\\n1822,7,97,3,103.25,16,1509.5,0,0.018933333,0,0,Nov,2,2,1,2,Returning_Visitor,FALSE\\r\\n1823,6,125.25,2,89,146,3697.731633,0.008108108,0.015188129,73.35866939,0,Nov,2,2,1,2,Returning_Visitor,TRUE\\r\\n1824,0,0,0,0,12,315.7797619,0.016666667,0.025,0,0,Nov,1,1,9,2,Returning_Visitor,TRUE\\r\\n1825,3,33,2,84.5,4,46.5,0,0.010666667,0,0,Mar,2,2,5,8,New_Visitor,FALSE\\r\\n1826,5,35.75,0,0,22,679.5,0,0.014666667,10.07328,0,May,2,2,8,3,Returning_Visitor,FALSE\\r\\n1827,7,120.5,0,0,19,1011.5,0,0.00952381,0,0,Mar,2,2,1,1,Returning_Visitor,FALSE\\r\\n1828,0,0,0,0,12,323,0.033333333,0.066666667,0,0,Mar,2,2,1,3,Returning_Visitor,TRUE\\r\\n1829,0,0,0,0,2,14,0,0.1,0,0,May,2,2,1,1,Returning_Visitor,FALSE\\r\\n1830,0,0,0,0,5,168.5,0,0.04,0,0,Nov,2,4,1,2,Returning_Visitor,FALSE\\r\\n1831,0,0,0,0,10,127.5,0,0.02,0,0,Mar,3,2,1,10,Returning_Visitor,FALSE\\r\\n1832,0,0,0,0,16,149.9,0.05625,0.1,0,0,June,2,2,7,1,Returning_Visitor,FALSE\\r\\n1833,0,0,1,6,13,2782.75,0,0.005128205,0,0.4,May,2,2,9,2,New_Visitor,FALSE\\r\\n1834,1,512,0,0,5,322,0,0.06,0,0.6,May,1,1,1,3,Returning_Visitor,FALSE\\r\\n1835,6,88.28,0,0,17,310.9714286,0.031578947,0.035247209,0,0,Oct,3,2,1,13,Returning_Visitor,FALSE\\r\\n1836,5,316.8,0,0,26,1086.178571,0.014285714,0.017267081,5.981166667,0,May,3,2,3,2,Returning_Visitor,FALSE\\r\\n1837,0,0,1,8,38,2370.729167,0.015384615,0.030433925,0,0,Nov,2,10,2,2,Returning_Visitor,FALSE\\r\\n1838,2,126.3333333,0,0,11,401.0133333,0,0.022222222,45.12532172,0,Nov,1,1,3,2,Returning_Visitor,TRUE\\r\\n1839,13,493.75,0,0,22,1525,0.008,0.018666667,25.00423187,0,Dec,3,2,1,1,Returning_Visitor,TRUE\\r\\n1840,0,0,0,0,3,125,0.05,0.075,0,0.8,May,2,2,1,4,Returning_Visitor,FALSE\\r\\n1841,16,237.35,0,0,46,1143.833333,0.009803922,0.014488017,0,0,Nov,3,2,4,1,Returning_Visitor,TRUE\\r\\n1842,0,0,1,2,12,1311,0.053333333,0.084722222,0,0,May,3,2,1,15,Returning_Visitor,FALSE\\r\\n1843,5,120,1,0,27,1583.596154,0,0.028282828,39.63270309,0,Mar,2,2,4,2,Returning_Visitor,FALSE\\r\\n1844,0,0,0,0,36,319.5,0.047777778,0.088888889,0,0,May,2,2,3,1,Returning_Visitor,FALSE\\r\\n1845,14,337.58,0,0,29,443.5,0,0.027027027,0,0,Oct,2,2,1,3,Returning_Visitor,FALSE\\r\\n1846,0,0,0,0,29,2159.4,0.010344828,0.02183908,0,0,Oct,3,2,1,13,Returning_Visitor,FALSE\\r\\n1847,3,32,0,0,6,209,0,0.022222222,0,0,May,2,4,1,2,New_Visitor,FALSE\\r\\n1848,2,173,0,0,7,224,0.066666667,0.111111111,0,0,May,3,2,8,2,Returning_Visitor,FALSE\\r\\n1849,0,0,0,0,2,0,0.2,0.2,0,0,Nov,1,8,3,1,Returning_Visitor,TRUE\\r\\n1850,3,111,0,0,25,461.2222222,0,0.007142857,0,0,May,2,2,4,4,Returning_Visitor,FALSE\\r\\n'}"
            ]
          },
          "metadata": {
            "tags": []
          },
          "execution_count": 41
        }
      ]
    },
    {
      "cell_type": "code",
      "metadata": {
        "id": "Ibz7i7R3dYnA",
        "colab_type": "code",
        "outputId": "d428412c-8f29-4cf8-a567-6ecea39efffa",
        "colab": {
          "base_uri": "https://localhost:8080/",
          "height": 241
        }
      },
      "source": [
        "housing_test = pd.read_csv('xtest.csv')\n",
        "housing_test.head()"
      ],
      "execution_count": 0,
      "outputs": [
        {
          "output_type": "execute_result",
          "data": {
            "text/html": [
              "<div>\n",
              "<style scoped>\n",
              "    .dataframe tbody tr th:only-of-type {\n",
              "        vertical-align: middle;\n",
              "    }\n",
              "\n",
              "    .dataframe tbody tr th {\n",
              "        vertical-align: top;\n",
              "    }\n",
              "\n",
              "    .dataframe thead th {\n",
              "        text-align: right;\n",
              "    }\n",
              "</style>\n",
              "<table border=\"1\" class=\"dataframe\">\n",
              "  <thead>\n",
              "    <tr style=\"text-align: right;\">\n",
              "      <th></th>\n",
              "      <th>ID</th>\n",
              "      <th>Homepage</th>\n",
              "      <th>Homepage _Duration</th>\n",
              "      <th>Aboutus</th>\n",
              "      <th>Aboutus_Duration</th>\n",
              "      <th>Contactus</th>\n",
              "      <th>Contactus_Duration</th>\n",
              "      <th>BounceRates</th>\n",
              "      <th>ExitRates</th>\n",
              "      <th>PageValues</th>\n",
              "      <th>SpecialDay</th>\n",
              "      <th>Month</th>\n",
              "      <th>OperatingSystems</th>\n",
              "      <th>Browser</th>\n",
              "      <th>Province</th>\n",
              "      <th>TrafficType</th>\n",
              "      <th>VisitorType</th>\n",
              "      <th>Weekend</th>\n",
              "    </tr>\n",
              "  </thead>\n",
              "  <tbody>\n",
              "    <tr>\n",
              "      <th>0</th>\n",
              "      <td>1</td>\n",
              "      <td>0</td>\n",
              "      <td>0.0</td>\n",
              "      <td>0</td>\n",
              "      <td>0.0</td>\n",
              "      <td>1</td>\n",
              "      <td>0.000000</td>\n",
              "      <td>0.200000</td>\n",
              "      <td>0.200000</td>\n",
              "      <td>0.0</td>\n",
              "      <td>0.0</td>\n",
              "      <td>May</td>\n",
              "      <td>1</td>\n",
              "      <td>1</td>\n",
              "      <td>1</td>\n",
              "      <td>1</td>\n",
              "      <td>Returning_Visitor</td>\n",
              "      <td>False</td>\n",
              "    </tr>\n",
              "    <tr>\n",
              "      <th>1</th>\n",
              "      <td>2</td>\n",
              "      <td>0</td>\n",
              "      <td>0.0</td>\n",
              "      <td>0</td>\n",
              "      <td>0.0</td>\n",
              "      <td>24</td>\n",
              "      <td>743.750000</td>\n",
              "      <td>0.000000</td>\n",
              "      <td>0.016667</td>\n",
              "      <td>0.0</td>\n",
              "      <td>0.0</td>\n",
              "      <td>Dec</td>\n",
              "      <td>2</td>\n",
              "      <td>2</td>\n",
              "      <td>2</td>\n",
              "      <td>2</td>\n",
              "      <td>New_Visitor</td>\n",
              "      <td>True</td>\n",
              "    </tr>\n",
              "    <tr>\n",
              "      <th>2</th>\n",
              "      <td>3</td>\n",
              "      <td>0</td>\n",
              "      <td>0.0</td>\n",
              "      <td>0</td>\n",
              "      <td>0.0</td>\n",
              "      <td>13</td>\n",
              "      <td>129.500000</td>\n",
              "      <td>0.015385</td>\n",
              "      <td>0.053846</td>\n",
              "      <td>0.0</td>\n",
              "      <td>0.0</td>\n",
              "      <td>Nov</td>\n",
              "      <td>2</td>\n",
              "      <td>2</td>\n",
              "      <td>3</td>\n",
              "      <td>1</td>\n",
              "      <td>Returning_Visitor</td>\n",
              "      <td>False</td>\n",
              "    </tr>\n",
              "    <tr>\n",
              "      <th>3</th>\n",
              "      <td>4</td>\n",
              "      <td>3</td>\n",
              "      <td>84.0</td>\n",
              "      <td>0</td>\n",
              "      <td>0.0</td>\n",
              "      <td>59</td>\n",
              "      <td>1720.422222</td>\n",
              "      <td>0.026984</td>\n",
              "      <td>0.038232</td>\n",
              "      <td>0.0</td>\n",
              "      <td>0.0</td>\n",
              "      <td>Oct</td>\n",
              "      <td>3</td>\n",
              "      <td>2</td>\n",
              "      <td>1</td>\n",
              "      <td>3</td>\n",
              "      <td>Returning_Visitor</td>\n",
              "      <td>True</td>\n",
              "    </tr>\n",
              "    <tr>\n",
              "      <th>4</th>\n",
              "      <td>5</td>\n",
              "      <td>0</td>\n",
              "      <td>0.0</td>\n",
              "      <td>0</td>\n",
              "      <td>0.0</td>\n",
              "      <td>13</td>\n",
              "      <td>390.500000</td>\n",
              "      <td>0.038462</td>\n",
              "      <td>0.053846</td>\n",
              "      <td>0.0</td>\n",
              "      <td>0.0</td>\n",
              "      <td>Dec</td>\n",
              "      <td>2</td>\n",
              "      <td>2</td>\n",
              "      <td>1</td>\n",
              "      <td>13</td>\n",
              "      <td>Returning_Visitor</td>\n",
              "      <td>False</td>\n",
              "    </tr>\n",
              "  </tbody>\n",
              "</table>\n",
              "</div>"
            ],
            "text/plain": [
              "   ID  Homepage  Homepage _Duration  ...  TrafficType        VisitorType  Weekend\n",
              "0   1         0                 0.0  ...            1  Returning_Visitor    False\n",
              "1   2         0                 0.0  ...            2        New_Visitor     True\n",
              "2   3         0                 0.0  ...            1  Returning_Visitor    False\n",
              "3   4         3                84.0  ...            3  Returning_Visitor     True\n",
              "4   5         0                 0.0  ...           13  Returning_Visitor    False\n",
              "\n",
              "[5 rows x 18 columns]"
            ]
          },
          "metadata": {
            "tags": []
          },
          "execution_count": 42
        }
      ]
    },
    {
      "cell_type": "code",
      "metadata": {
        "id": "2clm6t4AkxZz",
        "colab_type": "code",
        "colab": {}
      },
      "source": [
        "housing_test_set=housing_test.drop([\"id\" ,\"classification\"], axis=1)"
      ],
      "execution_count": 0,
      "outputs": []
    },
    {
      "cell_type": "code",
      "metadata": {
        "id": "clN4rZUSeJSn",
        "colab_type": "code",
        "outputId": "455db8d1-82a6-40b6-a4f6-3202ad17a362",
        "colab": {
          "base_uri": "https://localhost:8080/",
          "height": 302
        }
      },
      "source": [
        "housing_prepared_test_x = full_pipeline.fit_transform(housing_test_set)"
      ],
      "execution_count": 0,
      "outputs": [
        {
          "output_type": "error",
          "ename": "ValueError",
          "evalue": "ignored",
          "traceback": [
            "\u001b[0;31m---------------------------------------------------------------------------\u001b[0m",
            "\u001b[0;31mValueError\u001b[0m                                Traceback (most recent call last)",
            "\u001b[0;32m<ipython-input-260-e557c39bb81e>\u001b[0m in \u001b[0;36m<module>\u001b[0;34m()\u001b[0m\n\u001b[0;32m----> 1\u001b[0;31m \u001b[0mhousing_prepared_test_x\u001b[0m \u001b[0;34m=\u001b[0m \u001b[0mfull_pipeline\u001b[0m\u001b[0;34m.\u001b[0m\u001b[0mfit_transform\u001b[0m\u001b[0;34m(\u001b[0m\u001b[0mhousing_test_set\u001b[0m\u001b[0;34m)\u001b[0m\u001b[0;34m\u001b[0m\u001b[0;34m\u001b[0m\u001b[0m\n\u001b[0m",
            "\u001b[0;32m/usr/local/lib/python3.6/dist-packages/sklearn/compose/_column_transformer.py\u001b[0m in \u001b[0;36mfit_transform\u001b[0;34m(self, X, y)\u001b[0m\n\u001b[1;32m    472\u001b[0m         \u001b[0mself\u001b[0m\u001b[0;34m.\u001b[0m\u001b[0m_validate_transformers\u001b[0m\u001b[0;34m(\u001b[0m\u001b[0;34m)\u001b[0m\u001b[0;34m\u001b[0m\u001b[0;34m\u001b[0m\u001b[0m\n\u001b[1;32m    473\u001b[0m         \u001b[0mself\u001b[0m\u001b[0;34m.\u001b[0m\u001b[0m_validate_column_callables\u001b[0m\u001b[0;34m(\u001b[0m\u001b[0mX\u001b[0m\u001b[0;34m)\u001b[0m\u001b[0;34m\u001b[0m\u001b[0;34m\u001b[0m\u001b[0m\n\u001b[0;32m--> 474\u001b[0;31m         \u001b[0mself\u001b[0m\u001b[0;34m.\u001b[0m\u001b[0m_validate_remainder\u001b[0m\u001b[0;34m(\u001b[0m\u001b[0mX\u001b[0m\u001b[0;34m)\u001b[0m\u001b[0;34m\u001b[0m\u001b[0;34m\u001b[0m\u001b[0m\n\u001b[0m\u001b[1;32m    475\u001b[0m \u001b[0;34m\u001b[0m\u001b[0m\n\u001b[1;32m    476\u001b[0m         \u001b[0mresult\u001b[0m \u001b[0;34m=\u001b[0m \u001b[0mself\u001b[0m\u001b[0;34m.\u001b[0m\u001b[0m_fit_transform\u001b[0m\u001b[0;34m(\u001b[0m\u001b[0mX\u001b[0m\u001b[0;34m,\u001b[0m \u001b[0my\u001b[0m\u001b[0;34m,\u001b[0m \u001b[0m_fit_transform_one\u001b[0m\u001b[0;34m)\u001b[0m\u001b[0;34m\u001b[0m\u001b[0;34m\u001b[0m\u001b[0m\n",
            "\u001b[0;32m/usr/local/lib/python3.6/dist-packages/sklearn/compose/_column_transformer.py\u001b[0m in \u001b[0;36m_validate_remainder\u001b[0;34m(self, X)\u001b[0m\n\u001b[1;32m    313\u001b[0m         \u001b[0mcols\u001b[0m \u001b[0;34m=\u001b[0m \u001b[0;34m[\u001b[0m\u001b[0;34m]\u001b[0m\u001b[0;34m\u001b[0m\u001b[0;34m\u001b[0m\u001b[0m\n\u001b[1;32m    314\u001b[0m         \u001b[0;32mfor\u001b[0m \u001b[0mcolumns\u001b[0m \u001b[0;32min\u001b[0m \u001b[0mself\u001b[0m\u001b[0;34m.\u001b[0m\u001b[0m_columns\u001b[0m\u001b[0;34m:\u001b[0m\u001b[0;34m\u001b[0m\u001b[0;34m\u001b[0m\u001b[0m\n\u001b[0;32m--> 315\u001b[0;31m             \u001b[0mcols\u001b[0m\u001b[0;34m.\u001b[0m\u001b[0mextend\u001b[0m\u001b[0;34m(\u001b[0m\u001b[0m_get_column_indices\u001b[0m\u001b[0;34m(\u001b[0m\u001b[0mX\u001b[0m\u001b[0;34m,\u001b[0m \u001b[0mcolumns\u001b[0m\u001b[0;34m)\u001b[0m\u001b[0;34m)\u001b[0m\u001b[0;34m\u001b[0m\u001b[0;34m\u001b[0m\u001b[0m\n\u001b[0m\u001b[1;32m    316\u001b[0m         \u001b[0mremaining_idx\u001b[0m \u001b[0;34m=\u001b[0m \u001b[0mlist\u001b[0m\u001b[0;34m(\u001b[0m\u001b[0mset\u001b[0m\u001b[0;34m(\u001b[0m\u001b[0mrange\u001b[0m\u001b[0;34m(\u001b[0m\u001b[0mself\u001b[0m\u001b[0;34m.\u001b[0m\u001b[0m_n_features\u001b[0m\u001b[0;34m)\u001b[0m\u001b[0;34m)\u001b[0m \u001b[0;34m-\u001b[0m \u001b[0mset\u001b[0m\u001b[0;34m(\u001b[0m\u001b[0mcols\u001b[0m\u001b[0;34m)\u001b[0m\u001b[0;34m)\u001b[0m\u001b[0;34m\u001b[0m\u001b[0;34m\u001b[0m\u001b[0m\n\u001b[1;32m    317\u001b[0m         \u001b[0mremaining_idx\u001b[0m \u001b[0;34m=\u001b[0m \u001b[0msorted\u001b[0m\u001b[0;34m(\u001b[0m\u001b[0mremaining_idx\u001b[0m\u001b[0;34m)\u001b[0m \u001b[0;32mor\u001b[0m \u001b[0;32mNone\u001b[0m\u001b[0;34m\u001b[0m\u001b[0;34m\u001b[0m\u001b[0m\n",
            "\u001b[0;32m/usr/local/lib/python3.6/dist-packages/sklearn/compose/_column_transformer.py\u001b[0m in \u001b[0;36m_get_column_indices\u001b[0;34m(X, key)\u001b[0m\n\u001b[1;32m    701\u001b[0m             \u001b[0mcolumns\u001b[0m \u001b[0;34m=\u001b[0m \u001b[0mlist\u001b[0m\u001b[0;34m(\u001b[0m\u001b[0mkey\u001b[0m\u001b[0;34m)\u001b[0m\u001b[0;34m\u001b[0m\u001b[0;34m\u001b[0m\u001b[0m\n\u001b[1;32m    702\u001b[0m \u001b[0;34m\u001b[0m\u001b[0m\n\u001b[0;32m--> 703\u001b[0;31m         \u001b[0;32mreturn\u001b[0m \u001b[0;34m[\u001b[0m\u001b[0mall_columns\u001b[0m\u001b[0;34m.\u001b[0m\u001b[0mindex\u001b[0m\u001b[0;34m(\u001b[0m\u001b[0mcol\u001b[0m\u001b[0;34m)\u001b[0m \u001b[0;32mfor\u001b[0m \u001b[0mcol\u001b[0m \u001b[0;32min\u001b[0m \u001b[0mcolumns\u001b[0m\u001b[0;34m]\u001b[0m\u001b[0;34m\u001b[0m\u001b[0;34m\u001b[0m\u001b[0m\n\u001b[0m\u001b[1;32m    704\u001b[0m     \u001b[0;32melse\u001b[0m\u001b[0;34m:\u001b[0m\u001b[0;34m\u001b[0m\u001b[0;34m\u001b[0m\u001b[0m\n\u001b[1;32m    705\u001b[0m         raise ValueError(\"No valid specification of the columns. Only a \"\n",
            "\u001b[0;32m/usr/local/lib/python3.6/dist-packages/sklearn/compose/_column_transformer.py\u001b[0m in \u001b[0;36m<listcomp>\u001b[0;34m(.0)\u001b[0m\n\u001b[1;32m    701\u001b[0m             \u001b[0mcolumns\u001b[0m \u001b[0;34m=\u001b[0m \u001b[0mlist\u001b[0m\u001b[0;34m(\u001b[0m\u001b[0mkey\u001b[0m\u001b[0;34m)\u001b[0m\u001b[0;34m\u001b[0m\u001b[0;34m\u001b[0m\u001b[0m\n\u001b[1;32m    702\u001b[0m \u001b[0;34m\u001b[0m\u001b[0m\n\u001b[0;32m--> 703\u001b[0;31m         \u001b[0;32mreturn\u001b[0m \u001b[0;34m[\u001b[0m\u001b[0mall_columns\u001b[0m\u001b[0;34m.\u001b[0m\u001b[0mindex\u001b[0m\u001b[0;34m(\u001b[0m\u001b[0mcol\u001b[0m\u001b[0;34m)\u001b[0m \u001b[0;32mfor\u001b[0m \u001b[0mcol\u001b[0m \u001b[0;32min\u001b[0m \u001b[0mcolumns\u001b[0m\u001b[0;34m]\u001b[0m\u001b[0;34m\u001b[0m\u001b[0;34m\u001b[0m\u001b[0m\n\u001b[0m\u001b[1;32m    704\u001b[0m     \u001b[0;32melse\u001b[0m\u001b[0;34m:\u001b[0m\u001b[0;34m\u001b[0m\u001b[0;34m\u001b[0m\u001b[0m\n\u001b[1;32m    705\u001b[0m         raise ValueError(\"No valid specification of the columns. Only a \"\n",
            "\u001b[0;31mValueError\u001b[0m: 'Unnamed: 0' is not in list"
          ]
        }
      ]
    },
    {
      "cell_type": "code",
      "metadata": {
        "id": "uvxvylQ5lgDM",
        "colab_type": "code",
        "colab": {}
      },
      "source": [
        "from sklearn.ensemble import RandomForestClassifier\n",
        "from sklearn.ensemble import VotingClassifier\n",
        "\n",
        "from sklearn.svm import SVC\n",
        "\n",
        "log_clf = LogisticRegression(solver=\"liblinear\", random_state=42)\n",
        "rnd_clf = RandomForestClassifier(n_estimators=30,max_features=10, random_state=42)\n",
        "svm_clf = SVC(gamma=\"auto\", random_state=42,probability=True)\n",
        "\n",
        "voting_clf = VotingClassifier(\n",
        "    estimators=[('rf', rnd_clf), ('svc', svm_clf)],\n",
        "    voting='soft')"
      ],
      "execution_count": 0,
      "outputs": []
    },
    {
      "cell_type": "code",
      "metadata": {
        "id": "PITEI9xplkOo",
        "colab_type": "code",
        "outputId": "54282c26-b703-42d4-d261-b07b045e23f6",
        "colab": {
          "base_uri": "https://localhost:8080/",
          "height": 68
        }
      },
      "source": [
        "clf1.fit(housing_prepared, ckd_labels)"
      ],
      "execution_count": 89,
      "outputs": [
        {
          "output_type": "execute_result",
          "data": {
            "text/plain": [
              "KNeighborsClassifier(algorithm='auto', leaf_size=30, metric='minkowski',\n",
              "                     metric_params=None, n_jobs=None, n_neighbors=1, p=2,\n",
              "                     weights='uniform')"
            ]
          },
          "metadata": {
            "tags": []
          },
          "execution_count": 89
        }
      ]
    },
    {
      "cell_type": "code",
      "metadata": {
        "id": "dNBuw7KulkuG",
        "colab_type": "code",
        "colab": {}
      },
      "source": [
        ""
      ],
      "execution_count": 0,
      "outputs": []
    },
    {
      "cell_type": "code",
      "metadata": {
        "id": "Clt5uigVlAUV",
        "colab_type": "code",
        "outputId": "18cf3ee8-b1f5-454e-b0dd-4943af578251",
        "colab": {
          "base_uri": "https://localhost:8080/",
          "height": 34
        }
      },
      "source": [
        "from sklearn.metrics import accuracy_score\n",
        "\n",
        "y_pred = clf1.predict(housing_prepared_test)\n",
        "print(accuracy_score(housing_labels_test, y_pred))"
      ],
      "execution_count": 90,
      "outputs": [
        {
          "output_type": "stream",
          "text": [
            "0.8888888888888888\n"
          ],
          "name": "stdout"
        }
      ]
    },
    {
      "cell_type": "code",
      "metadata": {
        "id": "HV8sQwyymed6",
        "colab_type": "code",
        "outputId": "9a9f0fa1-d922-4d25-ff90-1c267b2d2a4d",
        "colab": {
          "base_uri": "https://localhost:8080/",
          "height": 34
        }
      },
      "source": [
        "X_train.shape"
      ],
      "execution_count": 0,
      "outputs": [
        {
          "output_type": "execute_result",
          "data": {
            "text/plain": [
              "(15016, 23)"
            ]
          },
          "metadata": {
            "tags": []
          },
          "execution_count": 127
        }
      ]
    },
    {
      "cell_type": "code",
      "metadata": {
        "id": "57aaLgCUkqX5",
        "colab_type": "code",
        "outputId": "698348bf-8327-4a67-ac2f-c5bfda953bc6",
        "colab": {
          "base_uri": "https://localhost:8080/",
          "height": 353
        }
      },
      "source": [
        "final_modelx = sclf\n",
        "\n",
        "\n",
        "\n",
        "X_test_prepared = full_pipeline.transform(housing_test)\n",
        "final_predictionsx = final_modelx.predict(X_test_prepared)"
      ],
      "execution_count": 0,
      "outputs": [
        {
          "output_type": "error",
          "ename": "ValueError",
          "evalue": "ignored",
          "traceback": [
            "\u001b[0;31m---------------------------------------------------------------------------\u001b[0m",
            "\u001b[0;31mValueError\u001b[0m                                Traceback (most recent call last)",
            "\u001b[0;32m<ipython-input-257-5abae755de98>\u001b[0m in \u001b[0;36m<module>\u001b[0;34m()\u001b[0m\n\u001b[1;32m      3\u001b[0m \u001b[0;34m\u001b[0m\u001b[0m\n\u001b[1;32m      4\u001b[0m \u001b[0;34m\u001b[0m\u001b[0m\n\u001b[0;32m----> 5\u001b[0;31m \u001b[0mX_test_prepared\u001b[0m \u001b[0;34m=\u001b[0m \u001b[0mfull_pipeline\u001b[0m\u001b[0;34m.\u001b[0m\u001b[0mtransform\u001b[0m\u001b[0;34m(\u001b[0m\u001b[0mhousing_test\u001b[0m\u001b[0;34m)\u001b[0m\u001b[0;34m\u001b[0m\u001b[0;34m\u001b[0m\u001b[0m\n\u001b[0m\u001b[1;32m      6\u001b[0m \u001b[0mfinal_predictionsx\u001b[0m \u001b[0;34m=\u001b[0m \u001b[0mfinal_modelx\u001b[0m\u001b[0;34m.\u001b[0m\u001b[0mpredict\u001b[0m\u001b[0;34m(\u001b[0m\u001b[0mX_test_prepared\u001b[0m\u001b[0;34m)\u001b[0m\u001b[0;34m\u001b[0m\u001b[0;34m\u001b[0m\u001b[0m\n",
            "\u001b[0;32m/usr/local/lib/python3.6/dist-packages/sklearn/compose/_column_transformer.py\u001b[0m in \u001b[0;36mtransform\u001b[0;34m(self, X)\u001b[0m\n\u001b[1;32m    537\u001b[0m                                  'remainder keyword')\n\u001b[1;32m    538\u001b[0m \u001b[0;34m\u001b[0m\u001b[0m\n\u001b[0;32m--> 539\u001b[0;31m         \u001b[0mXs\u001b[0m \u001b[0;34m=\u001b[0m \u001b[0mself\u001b[0m\u001b[0;34m.\u001b[0m\u001b[0m_fit_transform\u001b[0m\u001b[0;34m(\u001b[0m\u001b[0mX\u001b[0m\u001b[0;34m,\u001b[0m \u001b[0;32mNone\u001b[0m\u001b[0;34m,\u001b[0m \u001b[0m_transform_one\u001b[0m\u001b[0;34m,\u001b[0m \u001b[0mfitted\u001b[0m\u001b[0;34m=\u001b[0m\u001b[0;32mTrue\u001b[0m\u001b[0;34m)\u001b[0m\u001b[0;34m\u001b[0m\u001b[0;34m\u001b[0m\u001b[0m\n\u001b[0m\u001b[1;32m    540\u001b[0m         \u001b[0mself\u001b[0m\u001b[0;34m.\u001b[0m\u001b[0m_validate_output\u001b[0m\u001b[0;34m(\u001b[0m\u001b[0mXs\u001b[0m\u001b[0;34m)\u001b[0m\u001b[0;34m\u001b[0m\u001b[0;34m\u001b[0m\u001b[0m\n\u001b[1;32m    541\u001b[0m \u001b[0;34m\u001b[0m\u001b[0m\n",
            "\u001b[0;32m/usr/local/lib/python3.6/dist-packages/sklearn/compose/_column_transformer.py\u001b[0m in \u001b[0;36m_fit_transform\u001b[0;34m(self, X, y, func, fitted)\u001b[0m\n\u001b[1;32m    418\u001b[0m                     message=self._log_message(name, idx, len(transformers)))\n\u001b[1;32m    419\u001b[0m                 for idx, (name, trans, column, weight) in enumerate(\n\u001b[0;32m--> 420\u001b[0;31m                         self._iter(fitted=fitted, replace_strings=True), 1))\n\u001b[0m\u001b[1;32m    421\u001b[0m         \u001b[0;32mexcept\u001b[0m \u001b[0mValueError\u001b[0m \u001b[0;32mas\u001b[0m \u001b[0me\u001b[0m\u001b[0;34m:\u001b[0m\u001b[0;34m\u001b[0m\u001b[0;34m\u001b[0m\u001b[0m\n\u001b[1;32m    422\u001b[0m             \u001b[0;32mif\u001b[0m \u001b[0;34m\"Expected 2D array, got 1D array instead\"\u001b[0m \u001b[0;32min\u001b[0m \u001b[0mstr\u001b[0m\u001b[0;34m(\u001b[0m\u001b[0me\u001b[0m\u001b[0;34m)\u001b[0m\u001b[0;34m:\u001b[0m\u001b[0;34m\u001b[0m\u001b[0;34m\u001b[0m\u001b[0m\n",
            "\u001b[0;32m/usr/local/lib/python3.6/dist-packages/joblib/parallel.py\u001b[0m in \u001b[0;36m__call__\u001b[0;34m(self, iterable)\u001b[0m\n\u001b[1;32m   1004\u001b[0m                 \u001b[0mself\u001b[0m\u001b[0;34m.\u001b[0m\u001b[0m_iterating\u001b[0m \u001b[0;34m=\u001b[0m \u001b[0mself\u001b[0m\u001b[0;34m.\u001b[0m\u001b[0m_original_iterator\u001b[0m \u001b[0;32mis\u001b[0m \u001b[0;32mnot\u001b[0m \u001b[0;32mNone\u001b[0m\u001b[0;34m\u001b[0m\u001b[0;34m\u001b[0m\u001b[0m\n\u001b[1;32m   1005\u001b[0m \u001b[0;34m\u001b[0m\u001b[0m\n\u001b[0;32m-> 1006\u001b[0;31m             \u001b[0;32mwhile\u001b[0m \u001b[0mself\u001b[0m\u001b[0;34m.\u001b[0m\u001b[0mdispatch_one_batch\u001b[0m\u001b[0;34m(\u001b[0m\u001b[0miterator\u001b[0m\u001b[0;34m)\u001b[0m\u001b[0;34m:\u001b[0m\u001b[0;34m\u001b[0m\u001b[0;34m\u001b[0m\u001b[0m\n\u001b[0m\u001b[1;32m   1007\u001b[0m                 \u001b[0;32mpass\u001b[0m\u001b[0;34m\u001b[0m\u001b[0;34m\u001b[0m\u001b[0m\n\u001b[1;32m   1008\u001b[0m \u001b[0;34m\u001b[0m\u001b[0m\n",
            "\u001b[0;32m/usr/local/lib/python3.6/dist-packages/joblib/parallel.py\u001b[0m in \u001b[0;36mdispatch_one_batch\u001b[0;34m(self, iterator)\u001b[0m\n\u001b[1;32m    832\u001b[0m                 \u001b[0;32mreturn\u001b[0m \u001b[0;32mFalse\u001b[0m\u001b[0;34m\u001b[0m\u001b[0;34m\u001b[0m\u001b[0m\n\u001b[1;32m    833\u001b[0m             \u001b[0;32melse\u001b[0m\u001b[0;34m:\u001b[0m\u001b[0;34m\u001b[0m\u001b[0;34m\u001b[0m\u001b[0m\n\u001b[0;32m--> 834\u001b[0;31m                 \u001b[0mself\u001b[0m\u001b[0;34m.\u001b[0m\u001b[0m_dispatch\u001b[0m\u001b[0;34m(\u001b[0m\u001b[0mtasks\u001b[0m\u001b[0;34m)\u001b[0m\u001b[0;34m\u001b[0m\u001b[0;34m\u001b[0m\u001b[0m\n\u001b[0m\u001b[1;32m    835\u001b[0m                 \u001b[0;32mreturn\u001b[0m \u001b[0;32mTrue\u001b[0m\u001b[0;34m\u001b[0m\u001b[0;34m\u001b[0m\u001b[0m\n\u001b[1;32m    836\u001b[0m \u001b[0;34m\u001b[0m\u001b[0m\n",
            "\u001b[0;32m/usr/local/lib/python3.6/dist-packages/joblib/parallel.py\u001b[0m in \u001b[0;36m_dispatch\u001b[0;34m(self, batch)\u001b[0m\n\u001b[1;32m    751\u001b[0m         \u001b[0;32mwith\u001b[0m \u001b[0mself\u001b[0m\u001b[0;34m.\u001b[0m\u001b[0m_lock\u001b[0m\u001b[0;34m:\u001b[0m\u001b[0;34m\u001b[0m\u001b[0;34m\u001b[0m\u001b[0m\n\u001b[1;32m    752\u001b[0m             \u001b[0mjob_idx\u001b[0m \u001b[0;34m=\u001b[0m \u001b[0mlen\u001b[0m\u001b[0;34m(\u001b[0m\u001b[0mself\u001b[0m\u001b[0;34m.\u001b[0m\u001b[0m_jobs\u001b[0m\u001b[0;34m)\u001b[0m\u001b[0;34m\u001b[0m\u001b[0;34m\u001b[0m\u001b[0m\n\u001b[0;32m--> 753\u001b[0;31m             \u001b[0mjob\u001b[0m \u001b[0;34m=\u001b[0m \u001b[0mself\u001b[0m\u001b[0;34m.\u001b[0m\u001b[0m_backend\u001b[0m\u001b[0;34m.\u001b[0m\u001b[0mapply_async\u001b[0m\u001b[0;34m(\u001b[0m\u001b[0mbatch\u001b[0m\u001b[0;34m,\u001b[0m \u001b[0mcallback\u001b[0m\u001b[0;34m=\u001b[0m\u001b[0mcb\u001b[0m\u001b[0;34m)\u001b[0m\u001b[0;34m\u001b[0m\u001b[0;34m\u001b[0m\u001b[0m\n\u001b[0m\u001b[1;32m    754\u001b[0m             \u001b[0;31m# A job can complete so quickly than its callback is\u001b[0m\u001b[0;34m\u001b[0m\u001b[0;34m\u001b[0m\u001b[0;34m\u001b[0m\u001b[0m\n\u001b[1;32m    755\u001b[0m             \u001b[0;31m# called before we get here, causing self._jobs to\u001b[0m\u001b[0;34m\u001b[0m\u001b[0;34m\u001b[0m\u001b[0;34m\u001b[0m\u001b[0m\n",
            "\u001b[0;32m/usr/local/lib/python3.6/dist-packages/joblib/_parallel_backends.py\u001b[0m in \u001b[0;36mapply_async\u001b[0;34m(self, func, callback)\u001b[0m\n\u001b[1;32m    199\u001b[0m     \u001b[0;32mdef\u001b[0m \u001b[0mapply_async\u001b[0m\u001b[0;34m(\u001b[0m\u001b[0mself\u001b[0m\u001b[0;34m,\u001b[0m \u001b[0mfunc\u001b[0m\u001b[0;34m,\u001b[0m \u001b[0mcallback\u001b[0m\u001b[0;34m=\u001b[0m\u001b[0;32mNone\u001b[0m\u001b[0;34m)\u001b[0m\u001b[0;34m:\u001b[0m\u001b[0;34m\u001b[0m\u001b[0;34m\u001b[0m\u001b[0m\n\u001b[1;32m    200\u001b[0m         \u001b[0;34m\"\"\"Schedule a func to be run\"\"\"\u001b[0m\u001b[0;34m\u001b[0m\u001b[0;34m\u001b[0m\u001b[0m\n\u001b[0;32m--> 201\u001b[0;31m         \u001b[0mresult\u001b[0m \u001b[0;34m=\u001b[0m \u001b[0mImmediateResult\u001b[0m\u001b[0;34m(\u001b[0m\u001b[0mfunc\u001b[0m\u001b[0;34m)\u001b[0m\u001b[0;34m\u001b[0m\u001b[0;34m\u001b[0m\u001b[0m\n\u001b[0m\u001b[1;32m    202\u001b[0m         \u001b[0;32mif\u001b[0m \u001b[0mcallback\u001b[0m\u001b[0;34m:\u001b[0m\u001b[0;34m\u001b[0m\u001b[0;34m\u001b[0m\u001b[0m\n\u001b[1;32m    203\u001b[0m             \u001b[0mcallback\u001b[0m\u001b[0;34m(\u001b[0m\u001b[0mresult\u001b[0m\u001b[0;34m)\u001b[0m\u001b[0;34m\u001b[0m\u001b[0;34m\u001b[0m\u001b[0m\n",
            "\u001b[0;32m/usr/local/lib/python3.6/dist-packages/joblib/_parallel_backends.py\u001b[0m in \u001b[0;36m__init__\u001b[0;34m(self, batch)\u001b[0m\n\u001b[1;32m    580\u001b[0m         \u001b[0;31m# Don't delay the application, to avoid keeping the input\u001b[0m\u001b[0;34m\u001b[0m\u001b[0;34m\u001b[0m\u001b[0;34m\u001b[0m\u001b[0m\n\u001b[1;32m    581\u001b[0m         \u001b[0;31m# arguments in memory\u001b[0m\u001b[0;34m\u001b[0m\u001b[0;34m\u001b[0m\u001b[0;34m\u001b[0m\u001b[0m\n\u001b[0;32m--> 582\u001b[0;31m         \u001b[0mself\u001b[0m\u001b[0;34m.\u001b[0m\u001b[0mresults\u001b[0m \u001b[0;34m=\u001b[0m \u001b[0mbatch\u001b[0m\u001b[0;34m(\u001b[0m\u001b[0;34m)\u001b[0m\u001b[0;34m\u001b[0m\u001b[0;34m\u001b[0m\u001b[0m\n\u001b[0m\u001b[1;32m    583\u001b[0m \u001b[0;34m\u001b[0m\u001b[0m\n\u001b[1;32m    584\u001b[0m     \u001b[0;32mdef\u001b[0m \u001b[0mget\u001b[0m\u001b[0;34m(\u001b[0m\u001b[0mself\u001b[0m\u001b[0;34m)\u001b[0m\u001b[0;34m:\u001b[0m\u001b[0;34m\u001b[0m\u001b[0;34m\u001b[0m\u001b[0m\n",
            "\u001b[0;32m/usr/local/lib/python3.6/dist-packages/joblib/parallel.py\u001b[0m in \u001b[0;36m__call__\u001b[0;34m(self)\u001b[0m\n\u001b[1;32m    254\u001b[0m         \u001b[0;32mwith\u001b[0m \u001b[0mparallel_backend\u001b[0m\u001b[0;34m(\u001b[0m\u001b[0mself\u001b[0m\u001b[0;34m.\u001b[0m\u001b[0m_backend\u001b[0m\u001b[0;34m,\u001b[0m \u001b[0mn_jobs\u001b[0m\u001b[0;34m=\u001b[0m\u001b[0mself\u001b[0m\u001b[0;34m.\u001b[0m\u001b[0m_n_jobs\u001b[0m\u001b[0;34m)\u001b[0m\u001b[0;34m:\u001b[0m\u001b[0;34m\u001b[0m\u001b[0;34m\u001b[0m\u001b[0m\n\u001b[1;32m    255\u001b[0m             return [func(*args, **kwargs)\n\u001b[0;32m--> 256\u001b[0;31m                     for func, args, kwargs in self.items]\n\u001b[0m\u001b[1;32m    257\u001b[0m \u001b[0;34m\u001b[0m\u001b[0m\n\u001b[1;32m    258\u001b[0m     \u001b[0;32mdef\u001b[0m \u001b[0m__len__\u001b[0m\u001b[0;34m(\u001b[0m\u001b[0mself\u001b[0m\u001b[0;34m)\u001b[0m\u001b[0;34m:\u001b[0m\u001b[0;34m\u001b[0m\u001b[0;34m\u001b[0m\u001b[0m\n",
            "\u001b[0;32m/usr/local/lib/python3.6/dist-packages/joblib/parallel.py\u001b[0m in \u001b[0;36m<listcomp>\u001b[0;34m(.0)\u001b[0m\n\u001b[1;32m    254\u001b[0m         \u001b[0;32mwith\u001b[0m \u001b[0mparallel_backend\u001b[0m\u001b[0;34m(\u001b[0m\u001b[0mself\u001b[0m\u001b[0;34m.\u001b[0m\u001b[0m_backend\u001b[0m\u001b[0;34m,\u001b[0m \u001b[0mn_jobs\u001b[0m\u001b[0;34m=\u001b[0m\u001b[0mself\u001b[0m\u001b[0;34m.\u001b[0m\u001b[0m_n_jobs\u001b[0m\u001b[0;34m)\u001b[0m\u001b[0;34m:\u001b[0m\u001b[0;34m\u001b[0m\u001b[0;34m\u001b[0m\u001b[0m\n\u001b[1;32m    255\u001b[0m             return [func(*args, **kwargs)\n\u001b[0;32m--> 256\u001b[0;31m                     for func, args, kwargs in self.items]\n\u001b[0m\u001b[1;32m    257\u001b[0m \u001b[0;34m\u001b[0m\u001b[0m\n\u001b[1;32m    258\u001b[0m     \u001b[0;32mdef\u001b[0m \u001b[0m__len__\u001b[0m\u001b[0;34m(\u001b[0m\u001b[0mself\u001b[0m\u001b[0;34m)\u001b[0m\u001b[0;34m:\u001b[0m\u001b[0;34m\u001b[0m\u001b[0;34m\u001b[0m\u001b[0m\n",
            "\u001b[0;32m/usr/local/lib/python3.6/dist-packages/sklearn/pipeline.py\u001b[0m in \u001b[0;36m_transform_one\u001b[0;34m(transformer, X, y, weight, **fit_params)\u001b[0m\n\u001b[1;32m    693\u001b[0m \u001b[0;34m\u001b[0m\u001b[0m\n\u001b[1;32m    694\u001b[0m \u001b[0;32mdef\u001b[0m \u001b[0m_transform_one\u001b[0m\u001b[0;34m(\u001b[0m\u001b[0mtransformer\u001b[0m\u001b[0;34m,\u001b[0m \u001b[0mX\u001b[0m\u001b[0;34m,\u001b[0m \u001b[0my\u001b[0m\u001b[0;34m,\u001b[0m \u001b[0mweight\u001b[0m\u001b[0;34m,\u001b[0m \u001b[0;34m**\u001b[0m\u001b[0mfit_params\u001b[0m\u001b[0;34m)\u001b[0m\u001b[0;34m:\u001b[0m\u001b[0;34m\u001b[0m\u001b[0;34m\u001b[0m\u001b[0m\n\u001b[0;32m--> 695\u001b[0;31m     \u001b[0mres\u001b[0m \u001b[0;34m=\u001b[0m \u001b[0mtransformer\u001b[0m\u001b[0;34m.\u001b[0m\u001b[0mtransform\u001b[0m\u001b[0;34m(\u001b[0m\u001b[0mX\u001b[0m\u001b[0;34m)\u001b[0m\u001b[0;34m\u001b[0m\u001b[0;34m\u001b[0m\u001b[0m\n\u001b[0m\u001b[1;32m    696\u001b[0m     \u001b[0;31m# if we have a weight for this transformer, multiply output\u001b[0m\u001b[0;34m\u001b[0m\u001b[0;34m\u001b[0m\u001b[0;34m\u001b[0m\u001b[0m\n\u001b[1;32m    697\u001b[0m     \u001b[0;32mif\u001b[0m \u001b[0mweight\u001b[0m \u001b[0;32mis\u001b[0m \u001b[0;32mNone\u001b[0m\u001b[0;34m:\u001b[0m\u001b[0;34m\u001b[0m\u001b[0;34m\u001b[0m\u001b[0m\n",
            "\u001b[0;32m/usr/local/lib/python3.6/dist-packages/sklearn/preprocessing/_encoders.py\u001b[0m in \u001b[0;36mtransform\u001b[0;34m(self, X)\u001b[0m\n\u001b[1;32m    730\u001b[0m                                        copy=True)\n\u001b[1;32m    731\u001b[0m         \u001b[0;32melse\u001b[0m\u001b[0;34m:\u001b[0m\u001b[0;34m\u001b[0m\u001b[0;34m\u001b[0m\u001b[0m\n\u001b[0;32m--> 732\u001b[0;31m             \u001b[0;32mreturn\u001b[0m \u001b[0mself\u001b[0m\u001b[0;34m.\u001b[0m\u001b[0m_transform_new\u001b[0m\u001b[0;34m(\u001b[0m\u001b[0mX\u001b[0m\u001b[0;34m)\u001b[0m\u001b[0;34m\u001b[0m\u001b[0;34m\u001b[0m\u001b[0m\n\u001b[0m\u001b[1;32m    733\u001b[0m \u001b[0;34m\u001b[0m\u001b[0m\n\u001b[1;32m    734\u001b[0m     \u001b[0;32mdef\u001b[0m \u001b[0minverse_transform\u001b[0m\u001b[0;34m(\u001b[0m\u001b[0mself\u001b[0m\u001b[0;34m,\u001b[0m \u001b[0mX\u001b[0m\u001b[0;34m)\u001b[0m\u001b[0;34m:\u001b[0m\u001b[0;34m\u001b[0m\u001b[0;34m\u001b[0m\u001b[0m\n",
            "\u001b[0;32m/usr/local/lib/python3.6/dist-packages/sklearn/preprocessing/_encoders.py\u001b[0m in \u001b[0;36m_transform_new\u001b[0;34m(self, X)\u001b[0m\n\u001b[1;32m    678\u001b[0m         \u001b[0;34m\"\"\"New implementation assuming categorical input\"\"\"\u001b[0m\u001b[0;34m\u001b[0m\u001b[0;34m\u001b[0m\u001b[0m\n\u001b[1;32m    679\u001b[0m         \u001b[0;31m# validation of X happens in _check_X called by _transform\u001b[0m\u001b[0;34m\u001b[0m\u001b[0;34m\u001b[0m\u001b[0;34m\u001b[0m\u001b[0m\n\u001b[0;32m--> 680\u001b[0;31m         \u001b[0mX_int\u001b[0m\u001b[0;34m,\u001b[0m \u001b[0mX_mask\u001b[0m \u001b[0;34m=\u001b[0m \u001b[0mself\u001b[0m\u001b[0;34m.\u001b[0m\u001b[0m_transform\u001b[0m\u001b[0;34m(\u001b[0m\u001b[0mX\u001b[0m\u001b[0;34m,\u001b[0m \u001b[0mhandle_unknown\u001b[0m\u001b[0;34m=\u001b[0m\u001b[0mself\u001b[0m\u001b[0;34m.\u001b[0m\u001b[0mhandle_unknown\u001b[0m\u001b[0;34m)\u001b[0m\u001b[0;34m\u001b[0m\u001b[0;34m\u001b[0m\u001b[0m\n\u001b[0m\u001b[1;32m    681\u001b[0m \u001b[0;34m\u001b[0m\u001b[0m\n\u001b[1;32m    682\u001b[0m         \u001b[0mn_samples\u001b[0m\u001b[0;34m,\u001b[0m \u001b[0mn_features\u001b[0m \u001b[0;34m=\u001b[0m \u001b[0mX_int\u001b[0m\u001b[0;34m.\u001b[0m\u001b[0mshape\u001b[0m\u001b[0;34m\u001b[0m\u001b[0;34m\u001b[0m\u001b[0m\n",
            "\u001b[0;32m/usr/local/lib/python3.6/dist-packages/sklearn/preprocessing/_encoders.py\u001b[0m in \u001b[0;36m_transform\u001b[0;34m(self, X, handle_unknown)\u001b[0m\n\u001b[1;32m    106\u001b[0m \u001b[0;34m\u001b[0m\u001b[0m\n\u001b[1;32m    107\u001b[0m     \u001b[0;32mdef\u001b[0m \u001b[0m_transform\u001b[0m\u001b[0;34m(\u001b[0m\u001b[0mself\u001b[0m\u001b[0;34m,\u001b[0m \u001b[0mX\u001b[0m\u001b[0;34m,\u001b[0m \u001b[0mhandle_unknown\u001b[0m\u001b[0;34m=\u001b[0m\u001b[0;34m'error'\u001b[0m\u001b[0;34m)\u001b[0m\u001b[0;34m:\u001b[0m\u001b[0;34m\u001b[0m\u001b[0;34m\u001b[0m\u001b[0m\n\u001b[0;32m--> 108\u001b[0;31m         \u001b[0mX_list\u001b[0m\u001b[0;34m,\u001b[0m \u001b[0mn_samples\u001b[0m\u001b[0;34m,\u001b[0m \u001b[0mn_features\u001b[0m \u001b[0;34m=\u001b[0m \u001b[0mself\u001b[0m\u001b[0;34m.\u001b[0m\u001b[0m_check_X\u001b[0m\u001b[0;34m(\u001b[0m\u001b[0mX\u001b[0m\u001b[0;34m)\u001b[0m\u001b[0;34m\u001b[0m\u001b[0;34m\u001b[0m\u001b[0m\n\u001b[0m\u001b[1;32m    109\u001b[0m \u001b[0;34m\u001b[0m\u001b[0m\n\u001b[1;32m    110\u001b[0m         \u001b[0mX_int\u001b[0m \u001b[0;34m=\u001b[0m \u001b[0mnp\u001b[0m\u001b[0;34m.\u001b[0m\u001b[0mzeros\u001b[0m\u001b[0;34m(\u001b[0m\u001b[0;34m(\u001b[0m\u001b[0mn_samples\u001b[0m\u001b[0;34m,\u001b[0m \u001b[0mn_features\u001b[0m\u001b[0;34m)\u001b[0m\u001b[0;34m,\u001b[0m \u001b[0mdtype\u001b[0m\u001b[0;34m=\u001b[0m\u001b[0mnp\u001b[0m\u001b[0;34m.\u001b[0m\u001b[0mint\u001b[0m\u001b[0;34m)\u001b[0m\u001b[0;34m\u001b[0m\u001b[0;34m\u001b[0m\u001b[0m\n",
            "\u001b[0;32m/usr/local/lib/python3.6/dist-packages/sklearn/preprocessing/_encoders.py\u001b[0m in \u001b[0;36m_check_X\u001b[0;34m(self, X)\u001b[0m\n\u001b[1;32m     65\u001b[0m             \u001b[0mXi\u001b[0m \u001b[0;34m=\u001b[0m \u001b[0mself\u001b[0m\u001b[0;34m.\u001b[0m\u001b[0m_get_feature\u001b[0m\u001b[0;34m(\u001b[0m\u001b[0mX\u001b[0m\u001b[0;34m,\u001b[0m \u001b[0mfeature_idx\u001b[0m\u001b[0;34m=\u001b[0m\u001b[0mi\u001b[0m\u001b[0;34m)\u001b[0m\u001b[0;34m\u001b[0m\u001b[0;34m\u001b[0m\u001b[0m\n\u001b[1;32m     66\u001b[0m             Xi = check_array(Xi, ensure_2d=False, dtype=None,\n\u001b[0;32m---> 67\u001b[0;31m                              force_all_finite=needs_validation)\n\u001b[0m\u001b[1;32m     68\u001b[0m             \u001b[0mX_columns\u001b[0m\u001b[0;34m.\u001b[0m\u001b[0mappend\u001b[0m\u001b[0;34m(\u001b[0m\u001b[0mXi\u001b[0m\u001b[0;34m)\u001b[0m\u001b[0;34m\u001b[0m\u001b[0;34m\u001b[0m\u001b[0m\n\u001b[1;32m     69\u001b[0m \u001b[0;34m\u001b[0m\u001b[0m\n",
            "\u001b[0;32m/usr/local/lib/python3.6/dist-packages/sklearn/utils/validation.py\u001b[0m in \u001b[0;36mcheck_array\u001b[0;34m(array, accept_sparse, accept_large_sparse, dtype, order, copy, force_all_finite, ensure_2d, allow_nd, ensure_min_samples, ensure_min_features, warn_on_dtype, estimator)\u001b[0m\n\u001b[1;32m    540\u001b[0m         \u001b[0;32mif\u001b[0m \u001b[0mforce_all_finite\u001b[0m\u001b[0;34m:\u001b[0m\u001b[0;34m\u001b[0m\u001b[0;34m\u001b[0m\u001b[0m\n\u001b[1;32m    541\u001b[0m             _assert_all_finite(array,\n\u001b[0;32m--> 542\u001b[0;31m                                allow_nan=force_all_finite == 'allow-nan')\n\u001b[0m\u001b[1;32m    543\u001b[0m \u001b[0;34m\u001b[0m\u001b[0m\n\u001b[1;32m    544\u001b[0m     \u001b[0;32mif\u001b[0m \u001b[0mensure_min_samples\u001b[0m \u001b[0;34m>\u001b[0m \u001b[0;36m0\u001b[0m\u001b[0;34m:\u001b[0m\u001b[0;34m\u001b[0m\u001b[0;34m\u001b[0m\u001b[0m\n",
            "\u001b[0;32m/usr/local/lib/python3.6/dist-packages/sklearn/utils/validation.py\u001b[0m in \u001b[0;36m_assert_all_finite\u001b[0;34m(X, allow_nan)\u001b[0m\n\u001b[1;32m     58\u001b[0m     \u001b[0;32melif\u001b[0m \u001b[0mX\u001b[0m\u001b[0;34m.\u001b[0m\u001b[0mdtype\u001b[0m \u001b[0;34m==\u001b[0m \u001b[0mnp\u001b[0m\u001b[0;34m.\u001b[0m\u001b[0mdtype\u001b[0m\u001b[0;34m(\u001b[0m\u001b[0;34m'object'\u001b[0m\u001b[0;34m)\u001b[0m \u001b[0;32mand\u001b[0m \u001b[0;32mnot\u001b[0m \u001b[0mallow_nan\u001b[0m\u001b[0;34m:\u001b[0m\u001b[0;34m\u001b[0m\u001b[0;34m\u001b[0m\u001b[0m\n\u001b[1;32m     59\u001b[0m         \u001b[0;32mif\u001b[0m \u001b[0m_object_dtype_isnan\u001b[0m\u001b[0;34m(\u001b[0m\u001b[0mX\u001b[0m\u001b[0;34m)\u001b[0m\u001b[0;34m.\u001b[0m\u001b[0many\u001b[0m\u001b[0;34m(\u001b[0m\u001b[0;34m)\u001b[0m\u001b[0;34m:\u001b[0m\u001b[0;34m\u001b[0m\u001b[0;34m\u001b[0m\u001b[0m\n\u001b[0;32m---> 60\u001b[0;31m             \u001b[0;32mraise\u001b[0m \u001b[0mValueError\u001b[0m\u001b[0;34m(\u001b[0m\u001b[0;34m\"Input contains NaN\"\u001b[0m\u001b[0;34m)\u001b[0m\u001b[0;34m\u001b[0m\u001b[0;34m\u001b[0m\u001b[0m\n\u001b[0m\u001b[1;32m     61\u001b[0m \u001b[0;34m\u001b[0m\u001b[0m\n\u001b[1;32m     62\u001b[0m \u001b[0;34m\u001b[0m\u001b[0m\n",
            "\u001b[0;31mValueError\u001b[0m: Input contains NaN"
          ]
        }
      ]
    },
    {
      "cell_type": "code",
      "metadata": {
        "id": "DuGtpxMTtrwT",
        "colab_type": "code",
        "outputId": "2bd98c8a-684c-484a-c4ce-56d442bbfafb",
        "colab": {
          "resources": {
            "http://localhost:8080/nbextensions/google.colab/files.js": {
              "data": "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",
              "ok": true,
              "headers": [
                [
                  "content-type",
                  "application/javascript"
                ]
              ],
              "status": 200,
              "status_text": ""
            }
          },
          "base_uri": "https://localhost:8080/",
          "height": 111
        }
      },
      "source": [
        "from google.colab import files\n",
        "files.upload()"
      ],
      "execution_count": 0,
      "outputs": [
        {
          "output_type": "display_data",
          "data": {
            "text/html": [
              "\n",
              "     <input type=\"file\" id=\"files-20dea289-386e-4123-b2a6-e0a2f5784e20\" name=\"files[]\" multiple disabled />\n",
              "     <output id=\"result-20dea289-386e-4123-b2a6-e0a2f5784e20\">\n",
              "      Upload widget is only available when the cell has been executed in the\n",
              "      current browser session. Please rerun this cell to enable.\n",
              "      </output>\n",
              "      <script src=\"/nbextensions/google.colab/files.js\"></script> "
            ],
            "text/plain": [
              "<IPython.core.display.HTML object>"
            ]
          },
          "metadata": {
            "tags": []
          }
        },
        {
          "output_type": "stream",
          "text": [
            "Saving gygy.csv to gygy.csv\n"
          ],
          "name": "stdout"
        },
        {
          "output_type": "execute_result",
          "data": {
            "text/plain": [
              "{'gygy.csv': b'id,age,bp,sg,al,su,pc,pcc,ba,bgr,bu,sc,sod,pot,hemo,pcv,wc,rc,htn,dm,cad,appet,pe,ane,classification\\r\\n0,48,80,1.02,1,0,normal,notpresent,notpresent,121,36,1.2,,,15.4,44,7800,5.2,yes,yes,no,good,no,no,ckd\\r\\n1,7,50,1.02,4,0,normal,notpresent,notpresent,,18,0.8,,,11.3,38,6000,,no,no,no,good,no,no,ckd\\r\\n2,62,80,1.01,2,3,normal,notpresent,notpresent,423,53,1.8,,,9.6,31,7500,,no,yes,no,poor,no,yes,ckd\\r\\n3,48,70,1.005,4,0,abnormal,present,notpresent,117,56,3.8,111,2.5,11.2,32,6700,3.9,yes,no,no,poor,yes,yes,ckd\\r\\n4,51,80,1.01,2,0,normal,notpresent,notpresent,106,26,1.4,,,11.6,35,7300,4.6,no,no,no,good,no,no,ckd\\r\\n5,60,90,1.015,3,0,,notpresent,notpresent,74,25,1.1,142,3.2,12.2,39,7800,4.4,yes,yes,no,good,yes,no,ckd\\r\\n6,68,70,1.01,0,0,normal,notpresent,notpresent,100,54,24,104,4,12.4,36,,,no,no,no,good,no,no,ckd\\r\\n7,24,,1.015,2,4,abnormal,notpresent,notpresent,410,31,1.1,,,12.4,44,6900,5,no,yes,no,good,yes,no,ckd\\r\\n8,52,100,1.015,3,0,abnormal,present,notpresent,138,60,1.9,,,10.8,33,9600,4,yes,yes,no,good,no,yes,ckd\\r\\n9,53,90,1.02,2,0,abnormal,present,notpresent,70,107,7.2,114,3.7,9.5,29,12100,3.7,yes,yes,no,poor,no,yes,ckd\\r\\n10,50,60,1.01,2,4,abnormal,present,notpresent,490,55,4,,,9.4,28,,,yes,yes,no,good,no,yes,ckd\\r\\n11,63,70,1.01,3,0,abnormal,present,notpresent,380,60,2.7,131,4.2,10.8,32,4500,3.8,yes,yes,no,poor,yes,no,ckd\\r\\n12,68,70,1.015,3,1,normal,present,notpresent,208,72,2.1,138,5.8,9.7,28,12200,3.4,yes,yes,yes,poor,yes,no,ckd\\r\\n13,68,70,,,,,notpresent,notpresent,98,86,4.6,135,3.4,9.8,,,,yes,yes,yes,poor,yes,no,ckd\\r\\n14,68,80,1.01,3,2,abnormal,present,present,157,90,4.1,130,6.4,5.6,16,11000,2.6,yes,yes,yes,poor,yes,no,ckd\\r\\n15,40,80,1.015,3,0,normal,notpresent,notpresent,76,162,9.6,141,4.9,7.6,24,3800,2.8,yes,no,no,good,no,yes,ckd\\r\\n16,47,70,1.015,2,0,normal,notpresent,notpresent,99,46,2.2,138,4.1,12.6,,,,no,no,no,good,no,no,ckd\\r\\n17,47,80,,,,,notpresent,notpresent,114,87,5.2,139,3.7,12.1,,,,yes,no,no,poor,no,no,ckd\\r\\n18,60,100,1.025,0,3,normal,notpresent,notpresent,263,27,1.3,135,4.3,12.7,37,11400,4.3,yes,yes,yes,good,no,no,ckd\\r\\n19,62,60,1.015,1,0,abnormal,present,notpresent,100,31,1.6,,,10.3,30,5300,3.7,yes,no,yes,good,no,no,ckd\\r\\n20,61,80,1.015,2,0,abnormal,notpresent,notpresent,173,148,3.9,135,5.2,7.7,24,9200,3.2,yes,yes,yes,poor,yes,yes,ckd\\r\\n21,60,90,,,,,notpresent,notpresent,,180,76,4.5,,10.9,32,6200,3.6,yes,yes,yes,good,no,no,ckd\\r\\n22,48,80,1.025,4,0,abnormal,notpresent,notpresent,95,163,7.7,136,3.8,9.8,32,6900,3.4,yes,no,no,good,no,yes,ckd\\r\\n23,21,70,1.01,0,0,normal,notpresent,notpresent,,,,,,,,,,no,no,no,poor,no,yes,ckd\\r\\n24,42,100,1.015,4,0,abnormal,notpresent,present,,50,1.4,129,4,11.1,39,8300,4.6,yes,no,no,poor,no,no,ckd\\r\\n25,61,60,1.025,0,0,normal,notpresent,notpresent,108,75,1.9,141,5.2,9.9,29,8400,3.7,yes,yes,no,good,no,yes,ckd\\r\\n26,75,80,1.015,0,0,normal,notpresent,notpresent,156,45,2.4,140,3.4,11.6,35,10300,4,yes,yes,no,poor,no,no,ckd\\r\\n27,69,70,1.01,3,4,abnormal,notpresent,notpresent,264,87,2.7,130,4,12.5,37,9600,4.1,yes,yes,yes,good,yes,no,ckd\\r\\n28,75,70,,1,3,,notpresent,notpresent,123,31,1.4,,,,,,,no,yes,no,good,no,no,ckd\\r\\n29,68,70,1.005,1,0,abnormal,present,notpresent,,28,1.4,,,12.9,38,,,no,no,yes,good,no,no,ckd\\r\\n30,,70,,,,,notpresent,notpresent,93,155,7.3,132,4.9,,,,,yes,yes,no,good,no,no,ckd\\r\\n31,73,90,1.015,3,0,abnormal,present,notpresent,107,33,1.5,141,4.6,10.1,30,7800,4,no,no,no,poor,no,no,ckd\\r\\n32,61,90,1.01,1,1,normal,notpresent,notpresent,159,39,1.5,133,4.9,11.3,34,9600,4,yes,yes,no,poor,no,no,ckd\\r\\n33,60,100,1.02,2,0,abnormal,notpresent,notpresent,140,55,2.5,,,10.1,29,,,yes,no,no,poor,no,no,ckd\\r\\n34,70,70,1.01,1,0,,present,present,171,153,5.2,,,,,,,no,yes,no,poor,no,no,ckd\\r\\n35,65,90,1.02,2,1,normal,notpresent,notpresent,270,39,2,,,12,36,9800,4.9,yes,yes,no,poor,no,yes,ckd\\r\\n36,76,70,1.015,1,0,normal,notpresent,notpresent,92,29,1.8,133,3.9,10.3,32,,,yes,no,no,good,no,no,ckd\\r\\n37,72,80,,,,,notpresent,notpresent,137,65,3.4,141,4.7,9.7,28,6900,2.5,yes,yes,no,poor,no,yes,ckd\\r\\n38,69,80,1.02,3,0,normal,notpresent,notpresent,,103,4.1,132,5.9,12.5,,,,yes,no,no,good,no,no,ckd\\r\\n39,82,80,1.01,2,2,,notpresent,notpresent,140,70,3.4,136,4.2,13,40,9800,4.2,yes,yes,no,good,no,no,ckd\\r\\n40,46,90,1.01,2,0,abnormal,notpresent,notpresent,99,80,2.1,,,11.1,32,9100,4.1,yes,no,no,good,no,no,ckd\\r\\n41,45,70,1.01,0,0,normal,notpresent,notpresent,,20,0.7,,,,,,,no,no,no,good,yes,no,ckd\\r\\n42,47,100,1.01,0,0,normal,notpresent,notpresent,204,29,1,139,4.2,9.7,33,9200,4.5,yes,no,no,good,no,yes,ckd\\r\\n43,35,80,1.01,1,0,,notpresent,notpresent,79,202,10.8,134,3.4,7.9,24,7900,3.1,no,yes,no,good,no,no,ckd\\r\\n44,54,80,1.01,3,0,abnormal,notpresent,notpresent,207,77,6.3,134,4.8,9.7,28,,,yes,yes,no,poor,yes,no,ckd\\r\\n45,54,80,1.02,3,0,abnormal,notpresent,notpresent,208,89,5.9,130,4.9,9.3,,,,yes,yes,no,poor,yes,no,ckd\\r\\n46,48,70,1.015,0,0,normal,notpresent,notpresent,124,24,1.2,142,4.2,12.4,37,6400,4.7,no,yes,no,good,no,no,ckd\\r\\n47,11,80,1.01,3,0,normal,notpresent,notpresent,,17,0.8,,,15,45,8600,,no,no,no,good,no,no,ckd\\r\\n48,73,70,1.005,0,0,normal,notpresent,notpresent,70,32,0.9,125,4,10,29,18900,3.5,yes,yes,no,good,yes,no,ckd\\r\\n49,60,70,1.01,2,0,abnormal,present,notpresent,144,72,3,,,9.7,29,21600,3.5,yes,yes,no,poor,no,yes,ckd\\r\\n50,53,60,,,,,notpresent,notpresent,91,114,3.25,142,4.3,8.6,28,11000,3.8,yes,yes,no,poor,yes,yes,ckd\\r\\n51,54,100,1.015,3,0,normal,present,notpresent,162,66,1.6,136,4.4,10.3,33,,,yes,yes,no,poor,yes,no,ckd\\r\\n52,53,90,1.015,0,0,normal,notpresent,notpresent,,38,2.2,,,10.9,34,4300,3.7,no,no,no,poor,no,yes,ckd\\r\\n53,62,80,1.015,0,5,,notpresent,notpresent,246,24,1,,,13.6,40,8500,4.7,yes,yes,no,good,no,no,ckd\\r\\n54,63,80,1.01,2,2,,notpresent,notpresent,,,3.4,136,4.2,13,40,9800,4.2,yes,no,yes,good,no,no,ckd\\r\\n55,35,80,1.005,3,0,normal,notpresent,notpresent,,,,,,9.5,28,,,no,no,no,good,yes,no,ckd\\r\\n56,76,70,1.015,3,4,abnormal,present,notpresent,,164,9.7,131,4.4,10.2,30,11300,3.4,yes,yes,yes,poor,yes,no,ckd\\r\\n57,76,90,,,,normal,notpresent,notpresent,93,155,7.3,132,4.9,,,,,yes,yes,yes,poor,no,no,ckd\\r\\n58,73,80,1.02,2,0,abnormal,notpresent,notpresent,253,142,4.6,138,5.8,10.5,33,7200,4.3,yes,yes,yes,good,no,no,ckd\\r\\n59,59,100,,,,,notpresent,notpresent,,96,6.4,,,6.6,,,,yes,yes,no,good,no,yes,ckd\\r\\n60,67,90,1.02,1,0,abnormal,present,notpresent,141,66,3.2,138,6.6,,,,,yes,no,no,good,no,no,ckd\\r\\n61,67,80,1.01,1,3,abnormal,notpresent,notpresent,182,391,32,163,39,,,,,no,no,no,good,yes,no,ckd\\r\\n62,15,60,1.02,3,0,normal,notpresent,notpresent,86,15,0.6,138,4,11,33,7700,3.8,yes,yes,no,good,no,no,ckd\\r\\n63,46,70,1.015,1,0,normal,notpresent,notpresent,150,111,6.1,131,3.7,7.5,27,,,no,no,no,good,no,yes,ckd\\r\\n64,55,80,1.01,0,0,normal,notpresent,notpresent,146,,,,,9.8,,,,no,no,no,good,no,no,ckd\\r\\n65,44,90,1.01,1,0,normal,notpresent,notpresent,,20,1.1,,,15,48,,,no,no,no,good,no,no,ckd\\r\\n66,67,70,1.02,2,0,normal,notpresent,notpresent,150,55,1.6,131,4.8,,?,,,yes,yes,no,good,yes,no,ckd\\r\\n67,45,80,1.02,3,0,abnormal,notpresent,notpresent,425,,,,,,,,,no,no,no,poor,no,no,ckd\\r\\n68,65,70,1.01,2,0,normal,present,notpresent,112,73,3.3,,,10.9,37,,,no,no,no,good,no,no,ckd\\r\\n69,26,70,1.015,0,4,normal,notpresent,notpresent,250,20,1.1,,,15.6,52,6900,6,no,yes,no,good,no,no,ckd\\r\\n70,61,80,1.015,0,4,normal,notpresent,notpresent,360,19,0.7,137,4.4,15.2,44,8300,5.2,yes,yes,no,good,no,no,ckd\\r\\n71,46,60,1.01,1,0,normal,notpresent,notpresent,163,92,3.3,141,4,9.8,28,14600,3.2,yes,yes,no,good,no,no,ckd\\r\\n72,64,90,1.01,3,3,abnormal,present,notpresent,,35,1.3,,,10.3,,,,yes,yes,no,good,yes,no,ckd\\r\\n73,,100,1.015,2,0,abnormal,notpresent,notpresent,129,107,6.7,132,4.4,4.8,14,6300,,yes,no,no,good,yes,yes,ckd\\r\\n74,56,90,1.015,2,0,abnormal,notpresent,notpresent,129,107,6.7,131,4.8,9.1,29,6400,3.4,yes,no,no,good,no,no,ckd\\r\\n75,5,,1.015,1,0,normal,notpresent,notpresent,,16,0.7,138,3.2,8.1,,,,no,no,no,good,no,yes,ckd\\r\\n76,48,80,1.005,4,0,abnormal,notpresent,present,133,139,8.5,132,5.5,10.3,36,6200,4,no,yes,no,good,yes,no,ckd\\r\\n77,67,70,1.01,1,0,normal,notpresent,notpresent,102,48,3.2,137,5,11.9,34,7100,3.7,yes,yes,no,good,yes,no,ckd\\r\\n78,70,80,,,,,notpresent,notpresent,158,85,3.2,141,3.5,10.1,30,,,yes,no,no,good,yes,no,ckd\\r\\n79,56,80,1.01,1,0,normal,notpresent,notpresent,165,55,1.8,,,13.5,40,11800,5,yes,yes,no,poor,yes,no,ckd\\r\\n80,74,80,1.01,0,0,normal,notpresent,notpresent,132,98,2.8,133,5,10.8,31,9400,3.8,yes,yes,no,good,no,no,ckd\\r\\n81,45,90,,,,,notpresent,notpresent,360,45,2.4,128,4.4,8.3,29,5500,3.7,yes,yes,no,good,no,no,ckd\\r\\n82,38,70,,,,,notpresent,notpresent,104,77,1.9,140,3.9,,,,,yes,no,no,poor,yes,no,ckd\\r\\n83,48,70,1.015,1,0,normal,notpresent,notpresent,127,19,1,134,3.6,,,,,yes,yes,no,good,no,no,ckd\\r\\n84,59,70,1.01,3,0,abnormal,notpresent,notpresent,76,186,15,135,7.6,7.1,22,3800,2.1,yes,no,no,poor,yes,yes,ckd\\r\\n85,70,70,1.015,2,,,notpresent,notpresent,,46,1.5,,,9.9,,,,no,yes,no,poor,yes,no,ckd\\r\\n86,56,80,,,,,notpresent,notpresent,415,37,1.9,,,,,,,no,yes,no,good,no,no,ckd\\r\\n87,70,100,1.005,1,0,abnormal,present,notpresent,169,47,2.9,,,11.1,32,5800,5,yes,yes,no,poor,no,no,ckd\\r\\n88,58,110,1.01,4,0,normal,notpresent,notpresent,251,52,2.2,,,,,13200,4.7,yes,yes,no,good,no,no,ckd\\r\\n89,50,70,1.02,0,0,normal,notpresent,notpresent,109,32,1.4,139,4.7,,,,,no,no,no,poor,no,no,ckd\\r\\n90,63,100,1.01,2,2,normal,notpresent,present,280,35,3.2,143,3.5,13,40,9800,4.2,yes,no,yes,good,no,no,ckd\\r\\n91,56,70,1.015,4,1,normal,notpresent,notpresent,210,26,1.7,136,3.8,16.1,52,12500,5.6,no,no,no,good,no,no,ckd\\r\\n92,71,70,1.01,3,0,abnormal,present,present,219,82,3.6,133,4.4,10.4,33,5600,3.6,yes,yes,yes,good,no,no,ckd\\r\\n93,73,100,1.01,3,2,abnormal,present,notpresent,295,90,5.6,140,2.9,9.2,30,7000,3.2,yes,yes,yes,poor,no,no,ckd\\r\\n94,65,70,1.01,0,0,normal,notpresent,notpresent,93,66,1.6,137,4.5,11.6,36,11900,3.9,no,yes,no,good,no,no,ckd\\r\\n95,62,90,1.015,1,0,normal,notpresent,notpresent,94,25,1.1,131,3.7,,,,,yes,no,no,good,yes,yes,ckd\\r\\n96,60,80,1.01,1,1,normal,notpresent,notpresent,172,32,2.7,,,11.2,36,,,no,yes,yes,poor,no,no,ckd\\r\\n97,65,60,1.015,1,0,normal,notpresent,notpresent,91,51,2.2,132,3.8,10,32,9100,4,yes,yes,no,poor,yes,no,ckd\\r\\n98,50,140,,,,,notpresent,notpresent,101,106,6.5,135,4.3,6.2,18,5800,2.3,yes,yes,no,poor,no,yes,ckd\\r\\n99,56,180,,0,4,abnormal,notpresent,notpresent,298,24,1.2,139,3.9,11.2,32,10400,4.2,yes,yes,no,poor,yes,no,ckd\\r\\n100,34,70,1.015,4,0,abnormal,notpresent,notpresent,153,22,0.9,133,3.8,,,,,no,no,no,good,yes,no,ckd\\r\\n101,71,90,1.015,2,0,abnormal,present,present,88,80,4.4,139,5.7,11.3,33,10700,3.9,no,no,no,good,no,no,ckd\\r\\n102,17,60,1.01,0,0,normal,notpresent,notpresent,92,32,2.1,141,4.2,13.9,52,7000,,no,no,no,good,no,no,ckd\\r\\n103,76,70,1.015,2,0,abnormal,present,notpresent,226,217,10.2,,,10.2,36,12700,4.2,yes,no,no,poor,yes,yes,ckd\\r\\n104,55,90,,,,,notpresent,notpresent,143,88,2,,,,,,,yes,yes,no,poor,yes,no,ckd\\r\\n105,65,80,1.015,0,0,normal,notpresent,notpresent,115,32,11.5,139,4,14.1,42,6800,5.2,no,no,no,good,no,no,ckd\\r\\n106,50,90,,,,,notpresent,notpresent,89,118,6.1,127,4.4,6,17,6500,,yes,yes,no,good,yes,yes,ckd\\r\\n107,55,100,1.015,1,4,,notpresent,notpresent,297,53,2.8,139,4.5,11.2,34,13600,4.4,yes,yes,no,good,no,no,ckd\\r\\n108,45,80,1.015,0,0,abnormal,notpresent,notpresent,107,15,1,141,4.2,11.8,37,10200,4.2,no,no,no,good,no,no,ckd\\r\\n109,54,70,,,,,notpresent,notpresent,233,50.1,1.9,,,11.7,,,,no,yes,no,good,no,no,ckd\\r\\n110,63,90,1.015,0,0,normal,notpresent,notpresent,123,19,2,142,3.8,11.7,34,11400,4.7,no,no,no,good,no,no,ckd\\r\\n111,65,80,1.01,3,3,normal,notpresent,notpresent,294,71,4.4,128,5.4,10,32,9000,3.9,yes,yes,yes,good,no,no,ckd\\r\\n112,,60,1.015,3,0,abnormal,notpresent,notpresent,,34,1.2,,,10.8,33,,,no,no,no,good,no,no,ckd\\r\\n113,61,90,1.015,0,2,normal,notpresent,notpresent,,,,,,,,9800,,no,yes,no,poor,no,yes,ckd\\r\\n114,12,60,1.015,3,0,abnormal,present,notpresent,,51,1.8,,,12.1,,10300,,no,no,no,good,no,no,ckd\\r\\n115,47,80,1.01,0,0,abnormal,notpresent,notpresent,,28,0.9,,,12.4,44,5600,4.3,no,no,no,good,no,yes,ckd\\r\\n116,,70,1.015,4,0,normal,notpresent,notpresent,104,16,0.5,,,,,,,no,no,no,good,yes,no,ckd\\r\\n117,,70,1.02,0,0,,notpresent,notpresent,219,36,1.3,139,3.7,12.5,37,9800,4.4,no,no,no,good,no,no,ckd\\r\\n118,55,70,1.01,3,0,normal,notpresent,notpresent,99,25,1.2,,,11.4,,,,no,no,no,poor,yes,no,ckd\\r\\n119,60,70,1.01,0,0,normal,notpresent,notpresent,140,27,1.2,,,,,,,no,no,no,good,no,no,ckd\\r\\n120,72,90,1.025,1,3,normal,notpresent,notpresent,323,40,2.2,137,5.3,12.6,,,,no,yes,yes,poor,no,no,ckd\\r\\n121,54,60,,3,,,notpresent,notpresent,125,21,1.3,137,3.4,15,46,,,yes,yes,no,good,yes,no,ckd\\r\\n122,34,70,,,,,notpresent,notpresent,,219,12.2,130,3.8,6,,,,yes,no,no,good,no,yes,ckd\\r\\n123,43,80,1.015,2,3,abnormal,present,present,,30,1.1,,,14,42,14900,,no,no,no,good,no,no,ckd\\r\\n124,65,100,1.015,0,0,normal,notpresent,notpresent,90,98,2.5,,,9.1,28,5500,3.6,yes,no,no,good,no,no,ckd\\r\\n125,72,90,,,,,notpresent,notpresent,308,36,2.5,131,4.3,,,,,yes,yes,no,poor,no,no,ckd\\r\\n126,70,90,1.015,0,0,normal,notpresent,notpresent,144,125,4,136,4.6,12,37,8200,4.5,yes,yes,no,poor,yes,no,ckd\\r\\n127,71,60,1.015,4,0,normal,notpresent,notpresent,118,125,5.3,136,4.9,11.4,35,15200,4.3,yes,yes,no,poor,yes,no,ckd\\r\\n128,52,90,1.015,4,3,abnormal,notpresent,notpresent,224,166,5.6,133,47,8.1,23,5000,2.9,yes,yes,no,good,no,yes,ckd\\r\\n129,75,70,1.025,1,0,normal,notpresent,notpresent,158,49,1.4,135,4.7,11.1,,,,yes,no,no,poor,yes,no,ckd\\r\\n130,50,90,1.01,2,0,abnormal,present,present,128,208,9.2,134,4.8,8.2,22,16300,2.7,no,no,no,poor,yes,yes,ckd\\r\\n131,5,50,1.01,0,0,normal,notpresent,notpresent,,25,0.6,,,11.8,36,12400,,no,no,no,good,no,no,ckd\\r\\n132,50,,,,,,notpresent,notpresent,219,176,13.8,136,4.5,8.6,24,13200,2.7,yes,no,no,good,yes,yes,ckd\\r\\n133,70,100,1.015,4,0,normal,notpresent,notpresent,118,125,5.3,136,4.9,12,37,8400,8,yes,no,no,good,no,no,ckd\\r\\n134,47,100,1.01,,,,notpresent,notpresent,122,,16.9,138,5.2,10.8,33,10200,3.8,no,yes,no,good,no,no,ckd\\r\\n135,48,80,1.015,0,2,normal,notpresent,notpresent,214,24,1.3,140,4,13.2,39,,,no,yes,no,poor,no,no,ckd\\r\\n136,46,90,1.02,,,normal,notpresent,notpresent,213,68,2.8,146,6.3,9.3,,,,yes,yes,no,good,no,no,ckd\\r\\n137,45,60,1.01,2,0,abnormal,present,notpresent,268,86,4,134,5.1,10,29,9200,,yes,yes,no,good,no,no,ckd\\r\\n138,73,,1.01,1,0,,notpresent,notpresent,95,51,1.6,142,3.5,,,,,no,no,no,good,no,no,ckd\\r\\n139,41,70,1.015,2,0,abnormal,notpresent,present,,68,2.8,132,4.1,11.1,33,,,yes,no,no,good,yes,yes,ckd\\r\\n140,69,70,1.01,0,4,normal,notpresent,notpresent,256,40,1.2,142,5.6,,,,,no,no,no,good,no,no,ckd\\r\\n141,67,70,1.01,1,0,normal,notpresent,notpresent,,106,6,137,4.9,6.1,19,6500,,yes,no,no,good,no,yes,ckd\\r\\n142,72,90,,,,,notpresent,notpresent,84,145,7.1,135,5.3,,,,,no,yes,no,good,no,no,ckd\\r\\n143,41,80,1.015,1,4,normal,notpresent,notpresent,210,165,18,135,4.7,,,,,no,yes,no,good,no,no,ckd\\r\\n144,60,90,1.01,2,0,normal,notpresent,notpresent,105,53,2.3,136,5.2,11.1,33,10500,4.1,no,no,no,good,no,no,ckd\\r\\n145,57,90,1.015,5,0,abnormal,notpresent,present,,322,13,126,4.8,8,24,4200,3.3,yes,yes,yes,poor,yes,yes,ckd\\r\\n146,53,100,1.01,1,3,normal,notpresent,notpresent,213,23,1,139,4,,,,,no,yes,no,good,no,no,ckd\\r\\n147,60,60,1.01,3,1,abnormal,present,notpresent,288,36,1.7,130,3,7.9,25,15200,3,yes,no,no,poor,no,yes,ckd\\r\\n148,69,60,,,,,notpresent,notpresent,171,26,48.1,,,,,,,yes,no,no,poor,no,no,ckd\\r\\n149,65,70,1.02,1,0,abnormal,notpresent,notpresent,139,29,1,,,10.5,32,,,yes,no,no,good,yes,no,ckd\\r\\n150,8,60,1.025,3,0,normal,notpresent,notpresent,78,27,0.9,,,12.3,41,6700,,no,no,no,poor,yes,no,ckd\\r\\n151,76,90,,,,,notpresent,notpresent,172,46,1.7,141,5.5,9.6,30,,,yes,yes,no,good,no,yes,ckd\\r\\n152,39,70,1.01,0,0,normal,notpresent,notpresent,121,20,0.8,133,3.5,10.9,32,,,no,yes,no,good,no,no,ckd\\r\\n153,55,90,1.01,2,1,abnormal,notpresent,notpresent,273,235,14.2,132,3.4,8.3,22,14600,2.9,yes,yes,no,poor,yes,yes,ckd\\r\\n154,56,90,1.005,4,3,abnormal,notpresent,notpresent,242,132,16.4,140,4.2,8.4,26,,3,yes,yes,no,poor,yes,yes,ckd\\r\\n155,50,70,1.02,3,0,normal,present,present,123,40,1.8,,,11.1,36,4700,,no,no,no,good,no,no,ckd\\r\\n156,66,90,1.015,2,0,normal,notpresent,present,153,76,3.3,,,,,,,no,no,no,poor,no,no,ckd\\r\\n157,62,70,1.025,3,0,abnormal,notpresent,notpresent,122,42,1.7,136,4.7,12.6,39,7900,3.9,yes,yes,no,good,no,no,ckd\\r\\n158,71,60,1.02,3,2,normal,present,notpresent,424,48,1.5,132,4,10.9,31,,,yes,yes,yes,good,no,no,ckd\\r\\n159,59,80,1.01,1,0,normal,notpresent,notpresent,303,35,1.3,122,3.5,10.4,35,10900,4.3,no,yes,no,poor,no,no,ckd\\r\\n160,81,60,,,,,notpresent,notpresent,148,39,2.1,147,4.2,10.9,35,9400,2.4,yes,yes,yes,poor,yes,no,ckd\\r\\n161,62,,1.015,3,0,,notpresent,notpresent,,,,,,14.3,42,10200,4.8,yes,yes,no,good,no,no,ckd\\r\\n162,59,70,,,,,notpresent,notpresent,204,34,1.5,124,4.1,9.8,37,6000,?,no,yes,no,good,no,no,ckd\\r\\n163,46,80,1.01,0,0,normal,notpresent,notpresent,160,40,2,140,4.1,9,27,8100,3.2,yes,no,no,poor,no,yes,ckd\\r\\n164,14,,1.015,0,0,,notpresent,notpresent,192,15,0.8,137,4.2,14.3,40,9500,5.4,no,yes,no,poor,yes,no,ckd\\r\\n165,60,80,1.02,0,2,,notpresent,notpresent,,,,,,,,,,no,yes,no,good,no,no,ckd\\r\\n166,27,60,,,,,notpresent,notpresent,76,44,3.9,127,4.3,,,,,no,no,no,poor,yes,yes,ckd\\r\\n167,34,70,1.02,0,0,normal,notpresent,notpresent,139,19,0.9,,,12.7,42,2200,,no,no,no,poor,no,no,ckd\\r\\n168,65,70,1.015,4,4,normal,present,notpresent,307,28,1.5,,,11,39,6700,,yes,yes,no,good,no,no,ckd\\r\\n169,,70,1.01,0,2,normal,notpresent,notpresent,220,68,2.8,,,8.7,27,,,yes,yes,no,good,no,yes,ckd\\r\\n170,66,70,1.015,2,5,normal,notpresent,notpresent,447,41,1.7,131,3.9,12.5,33,9600,4.4,yes,yes,no,good,no,no,ckd\\r\\n171,83,70,1.02,3,0,normal,notpresent,notpresent,102,60,2.6,115,5.7,8.7,26,12800,3.1,yes,no,no,poor,no,yes,ckd\\r\\n172,62,80,1.01,1,2,,notpresent,notpresent,309,113,2.9,130,2.5,10.6,34,12800,4.9,no,no,no,good,no,no,ckd\\r\\n173,17,70,1.015,1,0,normal,notpresent,notpresent,22,1.5,7.3,145,2.8,13.1,41,11200,,no,no,no,good,no,no,ckd\\r\\n174,54,70,,,,,notpresent,notpresent,111,146,7.5,141,4.7,11,35,8600,4.6,no,no,no,good,no,no,ckd\\r\\n175,60,50,1.01,0,0,normal,notpresent,notpresent,261,58,2.2,113,3,,,4200,3.4,yes,no,no,good,no,no,ckd\\r\\n176,21,90,1.01,4,0,abnormal,present,present,107,40,1.7,125,3.5,8.3,23,12400,3.9,no,no,no,good,no,yes,ckd\\r\\n177,65,80,1.015,2,1,normal,present,notpresent,215,133,2.5,,,13.2,41,,,no,yes,no,good,no,no,ckd\\r\\n178,42,90,1.02,2,0,abnormal,present,notpresent,93,153,2.7,139,4.3,9.8,34,9800,,no,no,no,poor,yes,yes,ckd\\r\\n179,72,90,1.01,2,0,abnormal,present,notpresent,124,53,2.3,,,11.9,39,,,no,no,no,good,no,no,ckd\\r\\n180,73,90,1.01,1,4,abnormal,present,notpresent,234,56,1.9,,,10.3,28,,,no,yes,no,good,no,no,ckd\\r\\n181,45,70,1.025,2,0,abnormal,present,notpresent,117,52,2.2,136,3.8,10,30,19100,3.7,no,no,no,good,no,no,ckd\\r\\n182,61,80,1.02,0,0,normal,notpresent,notpresent,131,23,0.8,140,4.1,11.3,35,,,no,no,no,good,no,no,ckd\\r\\n183,30,70,1.015,0,0,normal,notpresent,notpresent,101,106,6.5,135,4.3,,,,,no,no,no,poor,no,no,ckd\\r\\n184,54,60,1.015,3,2,abnormal,notpresent,notpresent,352,137,3.3,133,4.5,11.3,31,5800,3.6,yes,yes,yes,poor,yes,no,ckd\\r\\n185,4,,1.02,1,0,normal,notpresent,notpresent,99,23,0.6,138,4.4,12,34,?,,no,no,no,good,no,no,ckd\\r\\n186,8,50,1.02,4,0,normal,notpresent,notpresent,,46,1,135,3.8,,,,,no,no,no,good,yes,no,ckd\\r\\n187,3,,1.01,2,0,normal,notpresent,notpresent,,22,0.7,,,10.7,34,12300,,no,no,no,good,no,no,ckd\\r\\n188,8,,,,,,notpresent,notpresent,80,66,2.5,142,3.6,12.2,38,,,no,no,no,good,no,no,ckd\\r\\n189,64,60,1.01,4,1,abnormal,notpresent,present,239,58,4.3,137,5.4,9.5,29,7500,3.4,yes,yes,no,poor,yes,no,ckd\\r\\n190,6,60,1.01,4,0,abnormal,notpresent,present,94,67,1,135,4.9,9.9,30,16700,4.8,no,no,no,poor,no,no,ckd\\r\\n191,,70,1.01,3,0,normal,notpresent,notpresent,110,115,6,134,2.7,9.1,26,9200,3.4,yes,yes,no,poor,no,no,ckd\\r\\n192,46,110,1.015,0,0,normal,notpresent,notpresent,130,16,0.9,,,,,,,no,no,no,good,no,no,ckd\\r\\n193,32,90,1.025,1,0,abnormal,notpresent,notpresent,,223,18.1,113,6.5,5.5,15,2600,2.8,yes,yes,no,poor,yes,yes,ckd\\r\\n194,80,70,1.01,2,,abnormal,notpresent,notpresent,,49,1.2,,,,,,,yes,yes,no,good,no,no,ckd\\r\\n195,70,90,1.02,2,1,abnormal,notpresent,present,184,98.6,3.3,138,3.9,5.8,,,,yes,yes,yes,poor,no,no,ckd\\r\\n196,49,100,1.01,3,0,abnormal,notpresent,notpresent,129,158,11.8,122,3.2,8.1,24,9600,3.5,yes,yes,no,poor,yes,yes,ckd\\r\\n197,57,80,,,,,notpresent,notpresent,,111,9.3,124,5.3,6.8,,4300,3,yes,yes,no,good,no,yes,ckd\\r\\n198,59,100,1.02,4,2,normal,notpresent,notpresent,252,40,3.2,137,4.7,11.2,30,26400,3.9,yes,yes,no,poor,yes,no,ckd\\r\\n199,65,80,1.015,0,0,normal,notpresent,notpresent,92,37,1.5,140,5.2,8.8,25,10700,3.2,yes,no,yes,good,yes,no,ckd\\r\\n200,90,90,1.025,1,0,normal,notpresent,notpresent,139,89,3,140,4.1,12,37,7900,3.9,yes,yes,no,good,no,no,ckd\\r\\n201,64,70,,,,,notpresent,notpresent,113,94,7.3,137,4.3,7.9,21,,,yes,yes,yes,good,yes,yes,ckd\\r\\n202,78,60,,,,,notpresent,notpresent,114,74,2.9,135,5.9,8,24,,,no,yes,no,good,no,yes,ckd\\r\\n203,,90,,,,,notpresent,notpresent,207,80,6.8,142,5.5,8.5,,,,yes,yes,no,good,no,yes,ckd\\r\\n204,65,90,1.01,4,2,normal,notpresent,notpresent,172,82,13.5,145,6.3,8.8,31,,,yes,yes,no,good,yes,yes,ckd\\r\\n205,61,70,,,,,notpresent,notpresent,100,28,2.1,,,12.6,43,,,yes,yes,no,good,no,no,ckd\\r\\n206,60,70,1.01,1,0,normal,notpresent,notpresent,109,96,3.9,135,4,13.8,41,,,yes,no,no,good,no,no,ckd\\r\\n207,50,70,1.01,0,0,normal,notpresent,notpresent,230,50,2.2,,,12,41,10400,4.6,yes,yes,no,good,no,no,ckd\\r\\n208,67,80,,,,,notpresent,notpresent,341,37,1.5,,,12.3,41,6900,4.9,yes,yes,no,good,no,yes,ckd\\r\\n209,19,70,1.02,0,0,normal,notpresent,notpresent,,,,,,11.5,,6900,,no,no,no,good,no,no,ckd\\r\\n210,59,100,1.015,4,2,normal,notpresent,notpresent,255,132,12.8,135,5.7,7.3,20,9800,3.9,yes,yes,yes,good,no,yes,ckd\\r\\n211,54,120,1.015,0,0,normal,notpresent,notpresent,103,18,1.2,,,,,,,no,no,no,good,no,no,ckd\\r\\n212,40,70,1.015,3,4,normal,notpresent,notpresent,253,150,11.9,132,5.6,10.9,31,8800,3.4,yes,yes,no,poor,yes,no,ckd\\r\\n213,55,80,1.01,3,1,abnormal,present,present,214,73,3.9,137,4.9,10.9,34,7400,3.7,yes,yes,no,good,yes,no,ckd\\r\\n214,68,80,1.015,0,0,abnormal,notpresent,notpresent,171,30,1,,,13.7,43,4900,5.2,no,yes,no,good,no,no,ckd\\r\\n215,2,,1.01,3,0,abnormal,notpresent,notpresent,,,,,,,,,,no,no,no,good,yes,no,ckd\\r\\n216,64,70,1.01,0,0,normal,notpresent,notpresent,107,15,,,,12.8,38,,,no,no,no,good,no,no,ckd\\r\\n217,63,100,1.01,1,0,normal,notpresent,notpresent,78,61,1.8,141,4.4,12.2,36,10500,4.3,no,yes,no,good,no,no,ckd\\r\\n218,33,90,1.015,0,0,normal,notpresent,notpresent,92,19,0.8,,,11.8,34,7000,,no,no,no,good,no,no,ckd\\r\\n219,68,90,1.01,0,0,normal,notpresent,notpresent,238,57,2.5,,,9.8,28,8000,3.3,yes,yes,no,poor,no,no,ckd\\r\\n220,36,80,1.01,0,0,normal,notpresent,notpresent,103,,,,,11.9,36,8800,,no,no,no,good,no,no,ckd\\r\\n221,66,70,1.02,1,0,,notpresent,notpresent,248,30,1.7,138,5.3,,,,,yes,yes,no,good,no,no,ckd\\r\\n222,74,60,,,,,notpresent,notpresent,108,68,1.8,,,,,,,yes,yes,no,good,no,no,ckd\\r\\n223,71,90,1.01,0,3,normal,notpresent,notpresent,303,30,1.3,136,4.1,13,38,9200,4.6,yes,yes,no,good,no,no,ckd\\r\\n224,34,60,1.02,0,0,normal,notpresent,notpresent,117,28,2.2,138,3.8,,,,,no,no,no,good,yes,no,ckd\\r\\n225,60,90,1.01,3,5,normal,notpresent,present,490,95,2.7,131,3.8,11.5,35,12000,4.5,yes,yes,no,good,no,no,ckd\\r\\n226,64,100,1.015,4,2,abnormal,notpresent,present,163,54,7.2,140,4.6,7.9,26,7500,3.4,yes,yes,no,good,yes,no,ckd\\r\\n227,57,80,1.015,0,0,normal,notpresent,notpresent,120,48,1.6,,,11.3,36,7200,3.8,yes,yes,no,good,no,no,ckd\\r\\n228,60,70,,,,,notpresent,notpresent,124,52,2.5,,,,,,,yes,no,no,good,no,no,ckd\\r\\n229,59,50,1.01,3,0,abnormal,notpresent,notpresent,241,191,12,114,2.9,9.6,31,15700,3.8,no,yes,no,good,yes,no,ckd\\r\\n230,65,60,1.01,2,0,abnormal,present,notpresent,192,17,1.7,130,4.3,,,9500,,yes,yes,no,poor,no,no,ckd\\r\\n231,60,90,,,,,notpresent,notpresent,269,51,2.8,138,3.7,11.5,35,,,yes,yes,yes,good,yes,no,ckd\\r\\n232,50,90,1.015,1,0,abnormal,notpresent,notpresent,,,,,,,,,,no,no,no,good,yes,no,ckd\\r\\n233,51,100,1.015,2,0,normal,notpresent,present,93,20,1.6,146,4.5,,,,,no,no,no,poor,no,no,ckd\\r\\n234,37,100,1.01,0,0,normal,notpresent,notpresent,,19,1.3,,,15,44,4100,5.2,yes,no,no,good,no,no,ckd\\r\\n235,45,70,1.01,2,0,normal,notpresent,notpresent,113,93,2.3,,,7.9,26,5700,,no,no,yes,good,no,yes,ckd\\r\\n236,65,80,,,,,notpresent,notpresent,74,66,2,136,5.4,9.1,25,,,yes,yes,yes,good,yes,no,ckd\\r\\n237,80,70,1.015,2,2,normal,notpresent,notpresent,141,53,2.2,,,12.7,40,9600,,yes,yes,no,poor,yes,no,ckd\\r\\n238,72,100,,,,,notpresent,notpresent,201,241,13.4,127,4.8,9.4,28,,,yes,yes,no,good,no,yes,ckd\\r\\n239,34,90,1.015,2,0,normal,notpresent,notpresent,104,50,1.6,137,4.1,11.9,39,,,no,no,no,good,no,no,ckd\\r\\n240,65,70,1.015,1,0,normal,notpresent,notpresent,203,46,1.4,,,11.4,36,5000,4.1,yes,yes,no,poor,yes,no,ckd\\r\\n241,57,70,1.015,1,0,abnormal,notpresent,notpresent,165,45,1.5,140,3.3,10.4,31,4200,3.9,no,no,no,good,no,no,ckd\\r\\n242,69,70,1.01,4,3,abnormal,present,present,214,96,6.3,120,3.9,9.4,28,11500,3.3,yes,yes,yes,good,yes,yes,ckd\\r\\n243,62,90,1.02,2,1,normal,notpresent,notpresent,169,48,2.4,138,2.9,13.4,47,11000,6.1,yes,no,no,good,no,no,ckd\\r\\n244,64,90,1.015,3,2,abnormal,present,notpresent,463,64,2.8,135,4.1,12.2,40,9800,4.6,yes,yes,no,good,no,yes,ckd\\r\\n245,48,100,,,,,notpresent,notpresent,103,79,5.3,135,6.3,6.3,19,7200,2.6,yes,no,yes,poor,no,no,ckd\\r\\n246,48,110,1.015,3,0,normal,present,notpresent,106,215,15.2,120,5.7,8.6,26,5000,2.5,yes,no,yes,good,no,yes,ckd\\r\\n247,54,90,1.025,1,0,abnormal,notpresent,notpresent,150,18,1.2,140,4.2,,,,,no,no,no,poor,yes,yes,ckd\\r\\n248,59,70,1.01,1,3,abnormal,notpresent,notpresent,424,55,1.7,138,4.5,12.6,37,10200,4.1,yes,yes,yes,good,no,no,ckd\\r\\n249,56,90,1.01,4,1,abnormal,present,notpresent,176,309,13.3,124,6.5,3.1,9,5400,2.1,yes,yes,no,poor,yes,yes,ckd\\r\\n250,40,80,1.025,0,0,normal,notpresent,notpresent,140,10,1.2,135,5,15,48,10400,4.5,no,no,no,good,no,no,notckd\\r\\n251,23,80,1.025,0,0,normal,notpresent,notpresent,70,36,1,150,4.6,17,52,9800,5,no,no,no,good,no,no,notckd\\r\\n252,45,80,1.025,0,0,normal,notpresent,notpresent,82,49,0.6,147,4.4,15.9,46,9100,4.7,no,no,no,good,no,no,notckd\\r\\n253,57,80,1.025,0,0,normal,notpresent,notpresent,119,17,1.2,135,4.7,15.4,42,6200,6.2,no,no,no,good,no,no,notckd\\r\\n254,51,60,1.025,0,0,normal,notpresent,notpresent,99,38,0.8,135,3.7,13,49,8300,5.2,no,no,no,good,no,no,notckd\\r\\n255,34,80,1.025,0,0,normal,notpresent,notpresent,121,27,1.2,144,3.9,13.6,52,9200,6.3,no,no,no,good,no,no,notckd\\r\\n256,60,80,1.025,0,0,normal,notpresent,notpresent,131,10,0.5,146,5,14.5,41,10700,5.1,no,no,no,good,no,no,notckd\\r\\n257,38,60,1.02,0,0,normal,notpresent,notpresent,91,36,0.7,135,3.7,14,46,9100,5.8,no,no,no,good,no,no,notckd\\r\\n258,42,80,1.02,0,0,normal,notpresent,notpresent,98,20,0.5,140,3.5,13.9,44,8400,5.5,no,no,no,good,no,no,notckd\\r\\n259,35,80,1.02,0,0,normal,notpresent,notpresent,104,31,1.2,135,5,16.1,45,4300,5.2,no,no,no,good,no,no,notckd\\r\\n260,30,80,1.02,0,0,normal,notpresent,notpresent,131,38,1,147,3.8,14.1,45,9400,5.3,no,no,no,good,no,no,notckd\\r\\n261,49,80,1.02,0,0,normal,notpresent,notpresent,122,32,1.2,139,3.9,17,41,5600,4.9,no,no,no,good,no,no,notckd\\r\\n262,55,80,1.02,0,0,normal,notpresent,notpresent,118,18,0.9,135,3.6,15.5,43,7200,5.4,no,no,no,good,no,no,notckd\\r\\n263,45,80,1.02,0,0,normal,notpresent,notpresent,117,46,1.2,137,5,16.2,45,8600,5.2,no,no,no,good,no,no,notckd\\r\\n264,42,80,1.02,0,0,normal,notpresent,notpresent,132,24,0.7,140,4.1,14.4,50,5000,4.5,no,no,no,good,no,no,notckd\\r\\n265,50,80,1.02,0,0,normal,notpresent,notpresent,97,40,0.6,150,4.5,14.2,48,10500,5,no,no,no,good,no,no,notckd\\r\\n266,55,80,1.02,0,0,normal,notpresent,notpresent,133,17,1.2,135,4.8,13.2,41,6800,5.3,no,no,no,good,no,no,notckd\\r\\n267,48,80,1.025,0,0,normal,notpresent,notpresent,122,33,0.9,146,3.9,13.9,48,9500,4.8,no,no,no,good,no,no,notckd\\r\\n268,,80,,,,,notpresent,notpresent,100,49,1,140,5,16.3,53,8500,4.9,no,no,no,good,no,no,notckd\\r\\n269,25,80,1.025,0,0,normal,notpresent,notpresent,121,19,1.2,142,4.9,15,48,6900,5.3,no,no,no,good,no,no,notckd\\r\\n270,23,80,1.025,0,0,normal,notpresent,notpresent,111,34,1.1,145,4,14.3,41,7200,5,no,no,no,good,no,no,notckd\\r\\n271,30,80,1.025,0,0,normal,notpresent,notpresent,96,25,0.5,144,4.8,13.8,42,9000,4.5,no,no,no,good,no,no,notckd\\r\\n272,56,80,1.025,0,0,normal,notpresent,notpresent,139,15,1.2,135,5,14.8,42,5600,5.5,no,no,no,good,no,no,notckd\\r\\n273,47,80,1.02,0,0,normal,notpresent,notpresent,95,35,0.9,140,4.1,,,,,no,no,no,good,no,no,notckd\\r\\n274,19,80,1.02,0,0,normal,notpresent,notpresent,107,23,0.7,141,4.2,14.4,44,,,no,no,no,good,no,no,notckd\\r\\n275,52,80,1.02,0,0,normal,notpresent,notpresent,125,22,1.2,139,4.6,16.5,43,4700,4.6,no,no,no,good,no,no,notckd\\r\\n276,20,60,1.025,0,0,normal,notpresent,notpresent,,,,137,4.7,14,41,4500,5.5,no,no,no,good,no,no,notckd\\r\\n277,46,60,1.025,0,0,normal,notpresent,notpresent,123,46,1,135,5,15.7,50,6300,4.8,no,no,no,good,no,no,notckd\\r\\n278,48,60,1.02,0,0,normal,notpresent,notpresent,112,44,1.2,142,4.9,14.5,44,9400,6.4,no,no,no,good,no,no,notckd\\r\\n279,24,70,1.025,0,0,normal,notpresent,notpresent,140,23,0.6,140,4.7,16.3,48,5800,5.6,no,no,no,good,no,no,notckd\\r\\n280,47,80,,,,,notpresent,notpresent,93,33,0.9,144,4.5,13.3,52,8100,5.2,no,no,no,good,no,no,notckd\\r\\n281,55,80,1.025,0,0,normal,notpresent,notpresent,130,50,1.2,147,5,15.5,41,9100,6,no,no,no,good,no,no,notckd\\r\\n282,20,70,1.02,0,0,normal,notpresent,notpresent,123,44,1,135,3.8,14.6,44,5500,4.8,no,no,no,good,no,no,notckd\\r\\n283,60,70,1.02,0,0,normal,notpresent,notpresent,,,,,,16.4,43,10800,5.7,no,no,no,good,no,no,notckd\\r\\n284,33,80,1.025,0,0,normal,notpresent,notpresent,100,37,1.2,142,4,16.9,52,6700,6,no,no,no,good,no,no,notckd\\r\\n285,66,70,1.02,0,0,normal,notpresent,notpresent,94,19,0.7,135,3.9,16,41,5300,5.9,no,no,no,good,no,no,notckd\\r\\n286,71,70,1.02,0,0,normal,notpresent,notpresent,81,18,0.8,145,5,14.7,44,9800,6,no,no,no,good,no,no,notckd\\r\\n287,39,70,1.025,0,0,normal,notpresent,notpresent,124,22,0.6,137,3.8,13.4,43,,,no,no,no,good,no,no,notckd\\r\\n288,56,70,1.025,0,0,normal,notpresent,notpresent,70,46,1.2,135,4.9,15.9,50,11000,5.1,,,,good,no,no,notckd\\r\\n289,42,70,1.02,0,0,normal,notpresent,notpresent,93,32,0.9,143,4.7,16.6,43,7100,5.3,no,no,no,good,no,no,notckd\\r\\n290,54,70,1.02,0,0,,,,76,28,0.6,146,3.5,14.8,52,8400,5.9,no,no,no,good,no,no,notckd\\r\\n291,47,80,1.025,0,0,normal,notpresent,notpresent,124,44,1,140,4.9,14.9,41,7000,5.7,no,no,no,good,no,no,notckd\\r\\n292,30,80,1.02,0,0,normal,notpresent,notpresent,89,42,0.5,139,5,16.7,52,10200,5,no,no,no,good,no,no,notckd\\r\\n293,50,,1.02,0,0,normal,notpresent,notpresent,92,19,1.2,150,4.8,14.9,48,4700,5.4,no,no,no,good,no,no,notckd\\r\\n294,75,60,1.02,0,0,normal,notpresent,notpresent,110,50,0.7,135,5,14.3,40,8300,5.8,no,no,no,,,,notckd\\r\\n295,44,70,,,,,notpresent,notpresent,106,25,0.9,150,3.6,15,50,9600,6.5,no,no,no,good,no,no,notckd\\r\\n296,41,70,1.02,0,0,normal,notpresent,notpresent,125,38,0.6,140,5,16.8,41,6300,5.9,no,no,no,good,no,no,notckd\\r\\n297,53,60,1.025,0,0,normal,notpresent,notpresent,116,26,1,146,4.9,15.8,45,7700,5.2,,,,good,no,no,notckd\\r\\n298,34,60,1.02,0,0,normal,notpresent,notpresent,91,49,1.2,135,4.5,13.5,48,8600,4.9,no,no,no,good,no,no,notckd\\r\\n299,73,60,1.02,0,0,normal,notpresent,notpresent,127,48,0.5,150,3.5,15.1,52,11000,4.7,no,no,no,good,no,no,notckd\\r\\n300,45,60,1.02,0,0,normal,,,114,26,0.7,141,4.2,15,43,9200,5.8,no,no,no,good,no,no,notckd\\r\\n301,44,60,1.025,0,0,normal,notpresent,notpresent,96,33,0.9,147,4.5,16.9,41,7200,5,no,no,no,good,no,no,notckd\\r\\n302,29,70,1.02,0,0,normal,notpresent,notpresent,127,44,1.2,145,5,14.8,48,,,no,no,no,good,no,no,notckd\\r\\n303,55,70,1.02,0,0,normal,notpresent,notpresent,107,26,1.1,,,17,50,6700,6.1,no,no,no,good,no,no,notckd\\r\\n304,33,80,1.025,0,0,normal,notpresent,notpresent,128,38,0.6,135,3.9,13.1,45,6200,4.5,no,no,no,good,no,no,notckd\\r\\n305,41,80,1.02,0,0,normal,notpresent,notpresent,122,25,0.8,138,5,17.1,41,9100,5.2,no,no,no,good,no,no,notckd\\r\\n306,52,80,1.02,0,0,normal,notpresent,notpresent,128,30,1.2,140,4.5,15.2,52,4300,5.7,no,no,no,good,no,no,notckd\\r\\n307,47,60,1.02,0,0,normal,notpresent,notpresent,137,17,0.5,150,3.5,13.6,44,7900,4.5,no,no,no,good,no,no,notckd\\r\\n308,43,80,1.025,0,0,normal,notpresent,notpresent,81,46,0.6,135,4.9,13.9,48,6900,4.9,no,no,no,good,no,no,notckd\\r\\n309,51,60,1.02,0,0,,notpresent,notpresent,129,25,1.2,139,5,17.2,40,8100,5.9,no,no,no,good,no,no,notckd\\r\\n310,46,60,1.02,0,0,normal,notpresent,notpresent,102,27,0.7,142,4.9,13.2,44,11000,5.4,no,no,no,good,no,no,notckd\\r\\n311,56,60,1.025,0,0,normal,notpresent,notpresent,132,18,1.1,147,4.7,13.7,45,7500,5.6,no,no,no,good,no,no,notckd\\r\\n312,80,70,1.02,0,0,normal,notpresent,notpresent,,,,135,4.1,15.3,48,6300,6.1,no,no,no,good,no,no,notckd\\r\\n313,55,80,1.02,0,0,normal,notpresent,notpresent,104,28,0.9,142,4.8,17.3,52,8200,4.8,no,no,no,good,no,no,notckd\\r\\n314,39,70,1.025,0,0,normal,notpresent,notpresent,131,46,0.6,145,5,15.6,41,9400,4.7,no,no,no,good,no,no,notckd\\r\\n315,44,70,1.025,0,0,normal,notpresent,notpresent,,,,,,13.8,48,7800,4.4,no,no,no,good,no,no,notckd\\r\\n316,35,,1.02,0,0,normal,,,99,30,0.5,135,4.9,15.4,48,5000,5.2,no,no,no,good,no,no,notckd\\r\\n317,58,70,1.02,0,0,normal,notpresent,notpresent,102,48,1.2,139,4.3,15,40,8100,4.9,no,no,no,good,no,no,notckd\\r\\n318,61,70,1.025,0,0,normal,notpresent,notpresent,120,29,0.7,137,3.5,17.4,52,7000,5.3,no,no,no,good,no,no,notckd\\r\\n319,30,60,1.02,0,0,normal,notpresent,notpresent,138,15,1.1,135,4.4,,,,,no,no,no,good,no,no,notckd\\r\\n320,57,60,1.02,0,0,normal,notpresent,notpresent,105,49,1.2,150,4.7,15.7,44,10400,6.2,no,no,no,good,no,no,notckd\\r\\n321,65,60,1.02,0,0,normal,notpresent,notpresent,109,39,1,144,3.5,13.9,48,9600,4.8,no,no,no,good,no,no,notckd\\r\\n322,70,60,,,,,notpresent,notpresent,120,40,0.5,140,4.6,16,43,4500,4.9,no,no,no,good,no,no,notckd\\r\\n323,43,80,1.025,0,0,normal,notpresent,notpresent,130,30,1.1,143,5,15.9,45,7800,4.5,no,no,no,good,no,no,notckd\\r\\n324,40,80,1.02,0,0,normal,notpresent,notpresent,119,15,0.7,150,4.9,,,,,no,no,no,good,no,no,notckd\\r\\n325,58,80,1.02,0,0,normal,notpresent,notpresent,100,50,1.2,140,3.5,14,50,6700,6.5,no,no,no,good,no,no,notckd\\r\\n326,47,60,1.02,0,0,normal,notpresent,notpresent,109,25,1.1,141,4.7,15.8,41,8300,5.2,no,no,no,good,no,no,notckd\\r\\n327,30,60,1.025,0,0,normal,notpresent,notpresent,120,31,0.8,150,4.6,13.4,44,10700,5.8,no,no,no,good,no,no,notckd\\r\\n328,28,70,1.02,0,0,normal,,,131,29,0.6,145,4.9,,45,8600,6.5,no,no,no,good,no,no,notckd\\r\\n329,33,60,1.025,0,0,normal,notpresent,notpresent,80,25,0.9,146,3.5,14.1,48,7800,5.1,no,no,no,good,no,no,notckd\\r\\n330,43,80,1.02,0,0,normal,notpresent,notpresent,114,32,1.1,135,3.9,,42,,,no,no,no,good,no,no,notckd\\r\\n331,59,70,1.025,0,0,normal,notpresent,notpresent,130,39,0.7,147,4.7,13.5,46,6700,4.5,no,no,no,good,no,no,notckd\\r\\n332,34,70,1.025,0,0,normal,notpresent,notpresent,,33,1,150,5,15.3,44,10500,6.1,no,no,no,good,no,no,notckd\\r\\n333,23,80,1.02,0,0,normal,notpresent,notpresent,99,46,1.2,142,4,17.7,46,4300,5.5,no,no,no,good,no,no,notckd\\r\\n334,24,80,1.025,0,0,normal,notpresent,notpresent,125,,,136,3.5,15.4,43,5600,4.5,no,no,no,good,no,no,notckd\\r\\n335,60,60,1.02,0,0,normal,notpresent,notpresent,134,45,0.5,139,4.8,14.2,48,10700,5.6,no,no,no,good,no,no,notckd\\r\\n336,25,60,1.02,0,0,normal,notpresent,notpresent,119,27,0.5,,,15.2,40,9200,5.2,no,no,no,good,no,no,notckd\\r\\n337,44,70,1.025,0,0,normal,notpresent,notpresent,92,40,0.9,141,4.9,14,52,7500,6.2,no,no,no,good,no,no,notckd\\r\\n338,62,80,1.02,0,0,normal,notpresent,notpresent,132,34,0.8,147,3.5,17.8,44,4700,4.5,no,no,no,good,no,no,notckd\\r\\n339,25,70,1.02,0,0,normal,notpresent,notpresent,88,42,0.5,136,3.5,13.3,48,7000,4.9,no,no,no,good,no,no,notckd\\r\\n340,32,70,1.025,0,0,normal,notpresent,notpresent,100,29,1.1,142,4.5,14.3,43,6700,5.9,no,no,no,good,no,no,notckd\\r\\n341,63,70,1.025,0,0,normal,notpresent,notpresent,130,37,0.9,150,5,13.4,41,7300,4.7,no,no,no,good,no,no,notckd\\r\\n342,44,60,1.02,0,0,normal,notpresent,notpresent,95,46,0.5,138,4.2,15,50,7700,6.3,no,no,no,good,no,no,notckd\\r\\n343,37,60,1.025,0,0,normal,notpresent,notpresent,111,35,0.8,135,4.1,16.2,50,5500,5.7,no,no,no,good,no,no,notckd\\r\\n344,64,60,1.02,0,0,normal,notpresent,notpresent,106,27,0.7,150,3.3,14.4,42,8100,4.7,no,no,no,good,no,no,notckd\\r\\n345,22,60,1.025,0,0,normal,notpresent,notpresent,97,18,1.2,138,4.3,13.5,42,7900,6.4,no,no,no,good,no,no,notckd\\r\\n346,33,60,,,,normal,notpresent,notpresent,130,41,0.9,141,4.4,15.5,52,4300,5.8,no,no,no,good,no,no,notckd\\r\\n347,43,60,1.025,0,0,normal,notpresent,notpresent,108,25,1,144,5,17.8,43,7200,5.5,no,no,no,good,no,no,notckd\\r\\n348,38,80,1.02,0,0,normal,notpresent,notpresent,99,19,0.5,147,3.5,13.6,44,7300,6.4,no,no,no,good,no,no,notckd\\r\\n349,35,70,1.025,0,0,,notpresent,notpresent,82,36,1.1,150,3.5,14.5,52,9400,6.1,no,no,no,good,no,no,notckd\\r\\n350,65,70,1.025,0,0,,notpresent,notpresent,85,20,1,142,4.8,16.1,43,9600,4.5,no,no,no,good,no,no,notckd\\r\\n351,29,80,1.02,0,0,normal,notpresent,notpresent,83,49,0.9,139,3.3,17.5,40,9900,4.7,no,no,no,good,no,no,notckd\\r\\n352,37,60,1.02,0,0,normal,notpresent,notpresent,109,47,1.1,141,4.9,15,48,7000,5.2,no,no,no,good,no,no,notckd\\r\\n353,39,60,1.02,0,0,normal,notpresent,notpresent,86,37,0.6,150,5,13.6,51,5800,4.5,no,no,no,good,no,no,notckd\\r\\n354,32,60,1.025,0,0,normal,notpresent,notpresent,102,17,0.4,147,4.7,14.6,41,6800,5.1,no,no,no,good,no,no,notckd\\r\\n355,23,60,1.02,0,0,normal,notpresent,notpresent,95,24,0.8,145,5,15,52,6300,4.6,no,no,no,good,no,no,notckd\\r\\n356,34,70,1.025,0,0,normal,notpresent,notpresent,87,38,0.5,144,4.8,17.1,47,7400,6.1,no,no,no,good,no,no,notckd\\r\\n357,66,70,1.025,0,0,normal,notpresent,notpresent,107,16,1.1,140,3.6,13.6,42,11000,4.9,no,no,no,good,no,no,notckd\\r\\n358,47,60,1.02,0,0,normal,notpresent,notpresent,117,22,1.2,138,3.5,13,45,5200,5.6,no,no,no,good,no,no,notckd\\r\\n359,74,60,1.02,0,0,normal,notpresent,notpresent,88,50,0.6,147,3.7,17.2,53,6000,4.5,no,no,no,good,no,no,notckd\\r\\n360,35,60,1.025,0,0,normal,notpresent,notpresent,105,39,0.5,135,3.9,14.7,43,5800,6.2,no,no,no,good,no,no,notckd\\r\\n361,29,80,1.02,0,0,normal,notpresent,notpresent,70,16,0.7,138,3.5,13.7,54,5400,5.8,no,no,no,good,no,no,notckd\\r\\n362,33,80,1.025,0,0,normal,notpresent,notpresent,89,19,1.1,144,5,15,40,10300,4.8,no,no,no,good,no,no,notckd\\r\\n363,67,80,1.025,0,0,normal,notpresent,notpresent,99,40,0.5,,,17.8,44,5900,5.2,no,no,no,good,no,no,notckd\\r\\n364,73,80,1.025,0,0,normal,notpresent,notpresent,118,44,0.7,137,3.5,14.8,45,9300,4.7,no,no,no,good,no,no,notckd\\r\\n365,24,80,1.02,0,0,normal,notpresent,notpresent,93,46,1,145,3.5,,,10700,6.3,no,no,no,good,no,no,notckd\\r\\n366,60,80,1.025,0,0,normal,notpresent,notpresent,81,15,0.5,141,3.6,15,46,10500,5.3,no,no,no,good,no,no,notckd\\r\\n367,68,60,1.025,0,0,normal,notpresent,notpresent,125,41,1.1,139,3.8,17.4,50,6700,6.1,no,no,no,good,no,no,notckd\\r\\n368,30,80,1.025,0,0,normal,notpresent,notpresent,82,42,0.7,146,5,14.9,45,9400,5.9,no,no,no,good,no,no,notckd\\r\\n369,75,70,1.02,0,0,normal,notpresent,notpresent,107,48,0.8,144,3.5,13.6,46,10300,4.8,no,no,no,good,no,no,notckd\\r\\n370,69,70,1.02,0,0,normal,notpresent,notpresent,83,42,1.2,139,3.7,16.2,50,9300,5.4,no,no,no,good,no,no,notckd\\r\\n371,28,60,1.025,0,0,normal,notpresent,notpresent,79,50,0.5,145,5,17.6,51,6500,5,no,no,no,good,no,no,notckd\\r\\n372,72,60,1.02,0,0,normal,notpresent,notpresent,109,26,0.9,150,4.9,15,52,10500,5.5,no,no,no,good,no,no,notckd\\r\\n373,61,70,1.025,0,0,normal,notpresent,notpresent,133,38,1,142,3.6,13.7,47,9200,4.9,no,no,no,good,no,no,notckd\\r\\n374,79,80,1.025,0,0,normal,notpresent,notpresent,111,44,1.2,146,3.6,16.3,40,8000,6.4,no,no,no,good,no,no,notckd\\r\\n375,70,80,1.02,0,0,normal,notpresent,notpresent,74,41,0.5,143,4.5,15.1,48,9700,5.6,no,no,no,good,no,no,notckd\\r\\n376,58,70,1.025,0,0,normal,notpresent,notpresent,88,16,1.1,147,3.5,16.4,53,9100,5.2,no,no,no,good,no,no,notckd\\r\\n377,64,70,1.02,0,0,normal,notpresent,notpresent,97,27,0.7,145,4.8,13.8,49,6400,4.8,no,no,no,good,no,no,notckd\\r\\n378,71,60,1.025,0,0,normal,notpresent,notpresent,,,0.9,140,4.8,15.2,42,7700,5.5,no,no,no,good,no,no,notckd\\r\\n379,62,80,1.025,0,0,normal,notpresent,notpresent,78,45,0.6,138,3.5,16.1,50,5400,5.7,no,no,no,good,no,no,notckd\\r\\n380,59,60,1.02,0,0,normal,notpresent,notpresent,113,23,1.1,139,3.5,15.3,54,6500,4.9,no,no,no,good,no,no,notckd\\r\\n381,71,70,1.025,0,0,,notpresent,notpresent,79,47,0.5,142,4.8,16.6,40,5800,5.9,no,no,no,good,no,no,notckd\\r\\n382,48,80,1.025,0,0,normal,notpresent,notpresent,75,22,0.8,137,5,16.8,51,6000,6.5,no,no,no,good,no,no,notckd\\r\\n383,80,80,1.025,0,0,normal,notpresent,notpresent,119,46,0.7,141,4.9,13.9,49,5100,5,no,no,no,good,no,no,notckd\\r\\n384,57,60,1.02,0,0,normal,notpresent,notpresent,132,18,1.1,150,4.7,15.4,42,11000,4.5,no,no,no,good,no,no,notckd\\r\\n385,63,70,1.02,0,0,normal,notpresent,notpresent,113,25,0.6,146,4.9,16.5,52,8000,5.1,no,no,no,good,no,no,notckd\\r\\n386,46,70,1.025,0,0,normal,notpresent,notpresent,100,47,0.5,142,3.5,16.4,43,5700,6.5,no,no,no,good,no,no,notckd\\r\\n387,15,80,1.025,0,0,normal,notpresent,notpresent,93,17,0.9,136,3.9,16.7,50,6200,5.2,no,no,no,good,no,no,notckd\\r\\n388,51,80,1.02,0,0,normal,notpresent,notpresent,94,15,1.2,144,3.7,15.5,46,9500,6.4,no,no,no,good,no,no,notckd\\r\\n389,41,80,1.025,0,0,normal,notpresent,notpresent,112,48,0.7,140,5,17,52,7200,5.8,no,no,no,good,no,no,notckd\\r\\n390,52,80,1.025,0,0,normal,notpresent,notpresent,99,25,0.8,135,3.7,15,52,6300,5.3,no,no,no,good,no,no,notckd\\r\\n391,36,80,1.025,0,0,normal,notpresent,notpresent,85,16,1.1,142,4.1,15.6,44,5800,6.3,no,no,no,good,no,no,notckd\\r\\n392,57,80,1.02,0,0,normal,notpresent,notpresent,133,48,1.2,147,4.3,14.8,46,6600,5.5,no,no,no,good,no,no,notckd\\r\\n393,43,60,1.025,0,0,normal,notpresent,notpresent,117,45,0.7,141,4.4,13,54,7400,5.4,no,no,no,good,no,no,notckd\\r\\n394,50,80,1.02,0,0,normal,notpresent,notpresent,137,46,0.8,139,5,14.1,45,9500,4.6,no,no,no,good,no,no,notckd\\r\\n395,55,80,1.02,0,0,normal,notpresent,notpresent,140,49,0.5,150,4.9,15.7,47,6700,4.9,no,no,no,good,no,no,notckd\\r\\n396,42,70,1.025,0,0,normal,notpresent,notpresent,75,31,1.2,141,3.5,16.5,54,7800,6.2,no,no,no,good,no,no,notckd\\r\\n397,12,80,1.02,0,0,normal,notpresent,notpresent,100,26,0.6,137,4.4,15.8,49,6600,5.4,no,no,no,good,no,no,notckd\\r\\n398,17,60,1.025,0,0,normal,notpresent,notpresent,114,50,1,135,4.9,14.2,51,7200,5.9,no,no,no,good,no,no,notckd\\r\\n399,58,80,1.025,0,0,normal,notpresent,notpresent,131,18,1.1,141,3.5,15.8,53,6800,6.1,no,no,no,good,no,no,notckd'}"
            ]
          },
          "metadata": {
            "tags": []
          },
          "execution_count": 255
        }
      ]
    },
    {
      "cell_type": "code",
      "metadata": {
        "id": "APxhKESplIHP",
        "colab_type": "code",
        "outputId": "61f33b19-a136-405d-e813-c5f3ddf17c58",
        "colab": {
          "base_uri": "https://localhost:8080/",
          "height": 196
        }
      },
      "source": [
        "housing_test = pd.read_csv('gygy.csv')\n",
        "housing_test.head()"
      ],
      "execution_count": 0,
      "outputs": [
        {
          "output_type": "execute_result",
          "data": {
            "text/html": [
              "<div>\n",
              "<style scoped>\n",
              "    .dataframe tbody tr th:only-of-type {\n",
              "        vertical-align: middle;\n",
              "    }\n",
              "\n",
              "    .dataframe tbody tr th {\n",
              "        vertical-align: top;\n",
              "    }\n",
              "\n",
              "    .dataframe thead th {\n",
              "        text-align: right;\n",
              "    }\n",
              "</style>\n",
              "<table border=\"1\" class=\"dataframe\">\n",
              "  <thead>\n",
              "    <tr style=\"text-align: right;\">\n",
              "      <th></th>\n",
              "      <th>id</th>\n",
              "      <th>age</th>\n",
              "      <th>bp</th>\n",
              "      <th>sg</th>\n",
              "      <th>al</th>\n",
              "      <th>su</th>\n",
              "      <th>pc</th>\n",
              "      <th>pcc</th>\n",
              "      <th>ba</th>\n",
              "      <th>bgr</th>\n",
              "      <th>bu</th>\n",
              "      <th>sc</th>\n",
              "      <th>sod</th>\n",
              "      <th>pot</th>\n",
              "      <th>hemo</th>\n",
              "      <th>pcv</th>\n",
              "      <th>wc</th>\n",
              "      <th>rc</th>\n",
              "      <th>htn</th>\n",
              "      <th>dm</th>\n",
              "      <th>cad</th>\n",
              "      <th>appet</th>\n",
              "      <th>pe</th>\n",
              "      <th>ane</th>\n",
              "      <th>classification</th>\n",
              "    </tr>\n",
              "  </thead>\n",
              "  <tbody>\n",
              "    <tr>\n",
              "      <th>0</th>\n",
              "      <td>0</td>\n",
              "      <td>48.0</td>\n",
              "      <td>80.0</td>\n",
              "      <td>1.020</td>\n",
              "      <td>1.0</td>\n",
              "      <td>0.0</td>\n",
              "      <td>normal</td>\n",
              "      <td>notpresent</td>\n",
              "      <td>notpresent</td>\n",
              "      <td>121.0</td>\n",
              "      <td>36.0</td>\n",
              "      <td>1.2</td>\n",
              "      <td>NaN</td>\n",
              "      <td>NaN</td>\n",
              "      <td>15.4</td>\n",
              "      <td>44</td>\n",
              "      <td>7800</td>\n",
              "      <td>5.2</td>\n",
              "      <td>yes</td>\n",
              "      <td>yes</td>\n",
              "      <td>no</td>\n",
              "      <td>good</td>\n",
              "      <td>no</td>\n",
              "      <td>no</td>\n",
              "      <td>ckd</td>\n",
              "    </tr>\n",
              "    <tr>\n",
              "      <th>1</th>\n",
              "      <td>1</td>\n",
              "      <td>7.0</td>\n",
              "      <td>50.0</td>\n",
              "      <td>1.020</td>\n",
              "      <td>4.0</td>\n",
              "      <td>0.0</td>\n",
              "      <td>normal</td>\n",
              "      <td>notpresent</td>\n",
              "      <td>notpresent</td>\n",
              "      <td>NaN</td>\n",
              "      <td>18.0</td>\n",
              "      <td>0.8</td>\n",
              "      <td>NaN</td>\n",
              "      <td>NaN</td>\n",
              "      <td>11.3</td>\n",
              "      <td>38</td>\n",
              "      <td>6000</td>\n",
              "      <td>NaN</td>\n",
              "      <td>no</td>\n",
              "      <td>no</td>\n",
              "      <td>no</td>\n",
              "      <td>good</td>\n",
              "      <td>no</td>\n",
              "      <td>no</td>\n",
              "      <td>ckd</td>\n",
              "    </tr>\n",
              "    <tr>\n",
              "      <th>2</th>\n",
              "      <td>2</td>\n",
              "      <td>62.0</td>\n",
              "      <td>80.0</td>\n",
              "      <td>1.010</td>\n",
              "      <td>2.0</td>\n",
              "      <td>3.0</td>\n",
              "      <td>normal</td>\n",
              "      <td>notpresent</td>\n",
              "      <td>notpresent</td>\n",
              "      <td>423.0</td>\n",
              "      <td>53.0</td>\n",
              "      <td>1.8</td>\n",
              "      <td>NaN</td>\n",
              "      <td>NaN</td>\n",
              "      <td>9.6</td>\n",
              "      <td>31</td>\n",
              "      <td>7500</td>\n",
              "      <td>NaN</td>\n",
              "      <td>no</td>\n",
              "      <td>yes</td>\n",
              "      <td>no</td>\n",
              "      <td>poor</td>\n",
              "      <td>no</td>\n",
              "      <td>yes</td>\n",
              "      <td>ckd</td>\n",
              "    </tr>\n",
              "    <tr>\n",
              "      <th>3</th>\n",
              "      <td>3</td>\n",
              "      <td>48.0</td>\n",
              "      <td>70.0</td>\n",
              "      <td>1.005</td>\n",
              "      <td>4.0</td>\n",
              "      <td>0.0</td>\n",
              "      <td>abnormal</td>\n",
              "      <td>present</td>\n",
              "      <td>notpresent</td>\n",
              "      <td>117.0</td>\n",
              "      <td>56.0</td>\n",
              "      <td>3.8</td>\n",
              "      <td>111.0</td>\n",
              "      <td>2.5</td>\n",
              "      <td>11.2</td>\n",
              "      <td>32</td>\n",
              "      <td>6700</td>\n",
              "      <td>3.9</td>\n",
              "      <td>yes</td>\n",
              "      <td>no</td>\n",
              "      <td>no</td>\n",
              "      <td>poor</td>\n",
              "      <td>yes</td>\n",
              "      <td>yes</td>\n",
              "      <td>ckd</td>\n",
              "    </tr>\n",
              "    <tr>\n",
              "      <th>4</th>\n",
              "      <td>4</td>\n",
              "      <td>51.0</td>\n",
              "      <td>80.0</td>\n",
              "      <td>1.010</td>\n",
              "      <td>2.0</td>\n",
              "      <td>0.0</td>\n",
              "      <td>normal</td>\n",
              "      <td>notpresent</td>\n",
              "      <td>notpresent</td>\n",
              "      <td>106.0</td>\n",
              "      <td>26.0</td>\n",
              "      <td>1.4</td>\n",
              "      <td>NaN</td>\n",
              "      <td>NaN</td>\n",
              "      <td>11.6</td>\n",
              "      <td>35</td>\n",
              "      <td>7300</td>\n",
              "      <td>4.6</td>\n",
              "      <td>no</td>\n",
              "      <td>no</td>\n",
              "      <td>no</td>\n",
              "      <td>good</td>\n",
              "      <td>no</td>\n",
              "      <td>no</td>\n",
              "      <td>ckd</td>\n",
              "    </tr>\n",
              "  </tbody>\n",
              "</table>\n",
              "</div>"
            ],
            "text/plain": [
              "   id   age    bp     sg   al   su  ...   dm cad appet   pe  ane  classification\n",
              "0   0  48.0  80.0  1.020  1.0  0.0  ...  yes  no  good   no   no             ckd\n",
              "1   1   7.0  50.0  1.020  4.0  0.0  ...   no  no  good   no   no             ckd\n",
              "2   2  62.0  80.0  1.010  2.0  3.0  ...  yes  no  poor   no  yes             ckd\n",
              "3   3  48.0  70.0  1.005  4.0  0.0  ...   no  no  poor  yes  yes             ckd\n",
              "4   4  51.0  80.0  1.010  2.0  0.0  ...   no  no  good   no   no             ckd\n",
              "\n",
              "[5 rows x 25 columns]"
            ]
          },
          "metadata": {
            "tags": []
          },
          "execution_count": 256
        }
      ]
    },
    {
      "cell_type": "code",
      "metadata": {
        "id": "-VUzY3-Za_RQ",
        "colab_type": "code",
        "outputId": "fc3e019a-61f6-43f1-c39f-435346b73e20",
        "colab": {
          "base_uri": "https://localhost:8080/",
          "height": 119
        }
      },
      "source": [
        "!pip install imblearn"
      ],
      "execution_count": 0,
      "outputs": [
        {
          "output_type": "stream",
          "text": [
            "Requirement already satisfied: imblearn in /usr/local/lib/python3.6/dist-packages (0.0)\n",
            "Requirement already satisfied: imbalanced-learn in /usr/local/lib/python3.6/dist-packages (from imblearn) (0.4.3)\n",
            "Requirement already satisfied: numpy>=1.8.2 in /usr/local/lib/python3.6/dist-packages (from imbalanced-learn->imblearn) (1.16.5)\n",
            "Requirement already satisfied: scipy>=0.13.3 in /usr/local/lib/python3.6/dist-packages (from imbalanced-learn->imblearn) (1.3.1)\n",
            "Requirement already satisfied: scikit-learn>=0.20 in /usr/local/lib/python3.6/dist-packages (from imbalanced-learn->imblearn) (0.21.3)\n",
            "Requirement already satisfied: joblib>=0.11 in /usr/local/lib/python3.6/dist-packages (from scikit-learn>=0.20->imbalanced-learn->imblearn) (0.13.2)\n"
          ],
          "name": "stdout"
        }
      ]
    },
    {
      "cell_type": "code",
      "metadata": {
        "id": "XXZrG3U0bEXP",
        "colab_type": "code",
        "outputId": "7324d77f-db70-47db-9426-fa82a2b0fadb",
        "colab": {
          "base_uri": "https://localhost:8080/",
          "height": 71
        }
      },
      "source": [
        "from imblearn.over_sampling import SMOTE"
      ],
      "execution_count": 0,
      "outputs": [
        {
          "output_type": "stream",
          "text": [
            "/usr/local/lib/python3.6/dist-packages/sklearn/externals/six.py:31: DeprecationWarning: The module is deprecated in version 0.21 and will be removed in version 0.23 since we've dropped support for Python 2.7. Please rely on the official version of six (https://pypi.org/project/six/).\n",
            "  \"(https://pypi.org/project/six/).\", DeprecationWarning)\n"
          ],
          "name": "stderr"
        }
      ]
    },
    {
      "cell_type": "code",
      "metadata": {
        "id": "VYYX0GY4bKCW",
        "colab_type": "code",
        "colab": {}
      },
      "source": [
        "smt = SMOTE()\n",
        "X_train, y_train = smt.fit_sample(housing_prepared, housing_labels2)"
      ],
      "execution_count": 0,
      "outputs": []
    },
    {
      "cell_type": "code",
      "metadata": {
        "id": "ZormnJQpms59",
        "colab_type": "code",
        "colab": {}
      },
      "source": [
        "smt = SMOTE()\n",
        "X_train_test, y_train_test = smt.fit_sample(housing_prepared_test, housing_labels2_test)"
      ],
      "execution_count": 0,
      "outputs": []
    },
    {
      "cell_type": "code",
      "metadata": {
        "id": "aIdGUdDtbVAA",
        "colab_type": "code",
        "outputId": "584d60f0-f88d-480f-f906-0c00c1c2316a",
        "colab": {
          "base_uri": "https://localhost:8080/",
          "height": 34
        }
      },
      "source": [
        "np.bincount(y_train)"
      ],
      "execution_count": 0,
      "outputs": [
        {
          "output_type": "execute_result",
          "data": {
            "text/plain": [
              "array([7508, 7508])"
            ]
          },
          "metadata": {
            "tags": []
          },
          "execution_count": 36
        }
      ]
    },
    {
      "cell_type": "code",
      "metadata": {
        "id": "NTbzzzqcIPEP",
        "colab_type": "code",
        "outputId": "a70d6f6f-9ffb-4221-8f79-7ffddc2264ef",
        "colab": {
          "base_uri": "https://localhost:8080/",
          "height": 34
        }
      },
      "source": [
        "y_train.shape"
      ],
      "execution_count": 0,
      "outputs": [
        {
          "output_type": "execute_result",
          "data": {
            "text/plain": [
              "(15016,)"
            ]
          },
          "metadata": {
            "tags": []
          },
          "execution_count": 45
        }
      ]
    },
    {
      "cell_type": "code",
      "metadata": {
        "id": "uorCqsvMITr8",
        "colab_type": "code",
        "outputId": "92e2a18d-94de-40dd-f9f7-3c8bc0818e0d",
        "colab": {
          "base_uri": "https://localhost:8080/",
          "height": 34
        }
      },
      "source": [
        "X_train.shape"
      ],
      "execution_count": 0,
      "outputs": [
        {
          "output_type": "execute_result",
          "data": {
            "text/plain": [
              "(15016, 35)"
            ]
          },
          "metadata": {
            "tags": []
          },
          "execution_count": 37
        }
      ]
    },
    {
      "cell_type": "code",
      "metadata": {
        "id": "OVlQBqMhbbOM",
        "colab_type": "code",
        "outputId": "cb2a0455-b430-40bb-9f61-03672299e87b",
        "colab": {
          "base_uri": "https://localhost:8080/",
          "height": 163
        }
      },
      "source": [
        "np.bincount(X_train)"
      ],
      "execution_count": 0,
      "outputs": [
        {
          "output_type": "error",
          "ename": "ValueError",
          "evalue": "ignored",
          "traceback": [
            "\u001b[0;31m---------------------------------------------------------------------------\u001b[0m",
            "\u001b[0;31mValueError\u001b[0m                                Traceback (most recent call last)",
            "\u001b[0;32m<ipython-input-67-ae96489765fa>\u001b[0m in \u001b[0;36m<module>\u001b[0;34m()\u001b[0m\n\u001b[0;32m----> 1\u001b[0;31m \u001b[0mnp\u001b[0m\u001b[0;34m.\u001b[0m\u001b[0mbincount\u001b[0m\u001b[0;34m(\u001b[0m\u001b[0mX_train\u001b[0m\u001b[0;34m)\u001b[0m\u001b[0;34m\u001b[0m\u001b[0;34m\u001b[0m\u001b[0m\n\u001b[0m",
            "\u001b[0;31mValueError\u001b[0m: object too deep for desired array"
          ]
        }
      ]
    },
    {
      "cell_type": "code",
      "metadata": {
        "id": "kljQEglZuxYg",
        "colab_type": "code",
        "outputId": "94629085-4587-4e80-b94d-680945d1f17a",
        "colab": {
          "base_uri": "https://localhost:8080/",
          "height": 204
        }
      },
      "source": [
        "from sklearn.ensemble import RandomForestClassifier\n",
        "from sklearn.model_selection import cross_val_score\n",
        "\n",
        "RF = RandomForestClassifier(n_estimators=30, max_depth=8, random_state=42)\n",
        "score = cross_val_score(RF, X_train, y_train, cv=3, verbose=3)\n",
        "score.mean()"
      ],
      "execution_count": 0,
      "outputs": [
        {
          "output_type": "stream",
          "text": [
            "[Parallel(n_jobs=1)]: Using backend SequentialBackend with 1 concurrent workers.\n"
          ],
          "name": "stderr"
        },
        {
          "output_type": "stream",
          "text": [
            "[CV]  ................................................................\n",
            "[CV] .................................... , score=0.880, total=   0.3s\n",
            "[CV]  ................................................................\n"
          ],
          "name": "stdout"
        },
        {
          "output_type": "stream",
          "text": [
            "[Parallel(n_jobs=1)]: Done   1 out of   1 | elapsed:    0.3s remaining:    0.0s\n"
          ],
          "name": "stderr"
        },
        {
          "output_type": "stream",
          "text": [
            "[CV] .................................... , score=0.905, total=   0.3s\n",
            "[CV]  ................................................................\n"
          ],
          "name": "stdout"
        },
        {
          "output_type": "stream",
          "text": [
            "[Parallel(n_jobs=1)]: Done   2 out of   2 | elapsed:    0.5s remaining:    0.0s\n"
          ],
          "name": "stderr"
        },
        {
          "output_type": "stream",
          "text": [
            "[CV] .................................... , score=0.903, total=   0.3s\n"
          ],
          "name": "stdout"
        },
        {
          "output_type": "stream",
          "text": [
            "[Parallel(n_jobs=1)]: Done   3 out of   3 | elapsed:    0.8s finished\n"
          ],
          "name": "stderr"
        },
        {
          "output_type": "execute_result",
          "data": {
            "text/plain": [
              "0.8957787558739798"
            ]
          },
          "metadata": {
            "tags": []
          },
          "execution_count": 140
        }
      ]
    },
    {
      "cell_type": "code",
      "metadata": {
        "id": "8Q9htndlu-VH",
        "colab_type": "code",
        "outputId": "2d28e795-4f8e-481e-e020-496f8585425b",
        "colab": {
          "base_uri": "https://localhost:8080/",
          "height": 357
        }
      },
      "source": [
        "from sklearn.model_selection import GridSearchCV\n",
        "\n",
        "param_grid = [\n",
        "    # try 12 (3×4) combinations of hyperparameters\n",
        "    {'n_estimators': [3, 10, 30], 'max_features': [2, 4, 6, 8, 10]},\n",
        "    # then try 6 (2×3) combinations with bootstrap set as False\n",
        "    {'bootstrap': [False], 'n_estimators': [3, 10], 'max_features': [2, 3, 4]},\n",
        "  ]\n",
        "\n",
        "forest_reg = RandomForestClassifier(random_state=42)\n",
        "# train across 5 folds, that's a total of (12+6)*5=90 rounds of training \n",
        "grid_search = GridSearchCV(forest_reg, param_grid, cv=5,\n",
        "                           scoring='neg_mean_squared_error',\n",
        "                           return_train_score=True)\n",
        "grid_search.fit(X_train, y_train)"
      ],
      "execution_count": 0,
      "outputs": [
        {
          "output_type": "execute_result",
          "data": {
            "text/plain": [
              "GridSearchCV(cv=5, error_score='raise-deprecating',\n",
              "             estimator=RandomForestClassifier(bootstrap=True, class_weight=None,\n",
              "                                              criterion='gini', max_depth=None,\n",
              "                                              max_features='auto',\n",
              "                                              max_leaf_nodes=None,\n",
              "                                              min_impurity_decrease=0.0,\n",
              "                                              min_impurity_split=None,\n",
              "                                              min_samples_leaf=1,\n",
              "                                              min_samples_split=2,\n",
              "                                              min_weight_fraction_leaf=0.0,\n",
              "                                              n_estimators='warn', n_jobs=None,\n",
              "                                              oob_score=False, random_state=42,\n",
              "                                              verbose=0, warm_start=False),\n",
              "             iid='warn', n_jobs=None,\n",
              "             param_grid=[{'max_features': [2, 4, 6, 8, 10],\n",
              "                          'n_estimators': [3, 10, 30]},\n",
              "                         {'bootstrap': [False], 'max_features': [2, 3, 4],\n",
              "                          'n_estimators': [3, 10]}],\n",
              "             pre_dispatch='2*n_jobs', refit=True, return_train_score=True,\n",
              "             scoring='neg_mean_squared_error', verbose=0)"
            ]
          },
          "metadata": {
            "tags": []
          },
          "execution_count": 142
        }
      ]
    },
    {
      "cell_type": "code",
      "metadata": {
        "id": "dBr8Z-79vXFh",
        "colab_type": "code",
        "outputId": "17b95741-4cff-4df0-b8ec-9afb396219f7",
        "colab": {
          "base_uri": "https://localhost:8080/",
          "height": 374
        }
      },
      "source": [
        "cvres = grid_search.cv_results_\n",
        "for mean_score, params in zip(cvres[\"mean_test_score\"], cvres[\"params\"]):\n",
        "    print(np.sqrt(-mean_score), params)"
      ],
      "execution_count": 0,
      "outputs": [
        {
          "output_type": "stream",
          "text": [
            "0.3101033563758843 {'max_features': 2, 'n_estimators': 3}\n",
            "0.27028763857280586 {'max_features': 2, 'n_estimators': 10}\n",
            "0.2546844025693245 {'max_features': 2, 'n_estimators': 30}\n",
            "0.30227339641469375 {'max_features': 4, 'n_estimators': 3}\n",
            "0.26991780354634626 {'max_features': 4, 'n_estimators': 10}\n",
            "0.2583192261316183 {'max_features': 4, 'n_estimators': 30}\n",
            "0.30039487420314387 {'max_features': 6, 'n_estimators': 3}\n",
            "0.2746868222048899 {'max_features': 6, 'n_estimators': 10}\n",
            "0.25844809579597355 {'max_features': 6, 'n_estimators': 30}\n",
            "0.3046872331904628 {'max_features': 8, 'n_estimators': 3}\n",
            "0.27016441648362416 {'max_features': 8, 'n_estimators': 10}\n",
            "0.2620307155615713 {'max_features': 8, 'n_estimators': 30}\n",
            "0.30227339641469375 {'max_features': 10, 'n_estimators': 3}\n",
            "0.2778206916475301 {'max_features': 10, 'n_estimators': 10}\n",
            "0.25921996838307854 {'max_features': 10, 'n_estimators': 30}\n",
            "0.28608745323829377 {'bootstrap': False, 'max_features': 2, 'n_estimators': 3}\n",
            "0.2602455706811106 {'bootstrap': False, 'max_features': 2, 'n_estimators': 10}\n",
            "0.2838674231136215 {'bootstrap': False, 'max_features': 3, 'n_estimators': 3}\n",
            "0.2557281954785323 {'bootstrap': False, 'max_features': 3, 'n_estimators': 10}\n",
            "0.2843362383349582 {'bootstrap': False, 'max_features': 4, 'n_estimators': 3}\n",
            "0.25520683266205885 {'bootstrap': False, 'max_features': 4, 'n_estimators': 10}\n"
          ],
          "name": "stdout"
        }
      ]
    },
    {
      "cell_type": "code",
      "metadata": {
        "id": "sGpmwWYHw3ML",
        "colab_type": "code",
        "outputId": "46fa1789-739b-433e-9ab0-d98d9e142ea2",
        "colab": {
          "base_uri": "https://localhost:8080/",
          "height": 231
        }
      },
      "source": [
        "lr = LogisticRegression(solver='liblinear').fit(X_train, y_train)\n",
        " \n",
        "# Predict on training set\n",
        "lr_pred = grid_search_best_estimator_.predict(housing_prepared_test)\n",
        "\n",
        "# Checking accuracy\n",
        "\n",
        "print(accuracy_score(housing_labels2_test, lr_pred))\n",
        "    "
      ],
      "execution_count": 0,
      "outputs": [
        {
          "output_type": "error",
          "ename": "NameError",
          "evalue": "ignored",
          "traceback": [
            "\u001b[0;31m---------------------------------------------------------------------------\u001b[0m",
            "\u001b[0;31mNameError\u001b[0m                                 Traceback (most recent call last)",
            "\u001b[0;32m<ipython-input-152-9ec292dc2ae7>\u001b[0m in \u001b[0;36m<module>\u001b[0;34m()\u001b[0m\n\u001b[1;32m      2\u001b[0m \u001b[0;34m\u001b[0m\u001b[0m\n\u001b[1;32m      3\u001b[0m \u001b[0;31m# Predict on training set\u001b[0m\u001b[0;34m\u001b[0m\u001b[0;34m\u001b[0m\u001b[0;34m\u001b[0m\u001b[0m\n\u001b[0;32m----> 4\u001b[0;31m \u001b[0mlr_pred\u001b[0m \u001b[0;34m=\u001b[0m \u001b[0mgrid_search_best_estimator_\u001b[0m\u001b[0;34m.\u001b[0m\u001b[0mpredict\u001b[0m\u001b[0;34m(\u001b[0m\u001b[0mhousing_prepared_test\u001b[0m\u001b[0;34m)\u001b[0m\u001b[0;34m\u001b[0m\u001b[0;34m\u001b[0m\u001b[0m\n\u001b[0m\u001b[1;32m      5\u001b[0m \u001b[0;34m\u001b[0m\u001b[0m\n\u001b[1;32m      6\u001b[0m \u001b[0;31m# Checking accuracy\u001b[0m\u001b[0;34m\u001b[0m\u001b[0;34m\u001b[0m\u001b[0;34m\u001b[0m\u001b[0m\n",
            "\u001b[0;31mNameError\u001b[0m: name 'grid_search_best_estimator_' is not defined"
          ]
        }
      ]
    },
    {
      "cell_type": "code",
      "metadata": {
        "id": "HWpLEZGjRfUn",
        "colab_type": "code",
        "colab": {}
      },
      "source": [
        "from sklearn.svm import LinearSVC\n",
        "lin_clf = LinearSVC(random_state=42)"
      ],
      "execution_count": 0,
      "outputs": []
    },
    {
      "cell_type": "code",
      "metadata": {
        "id": "tUCYACw2R2Gk",
        "colab_type": "code",
        "outputId": "bd956741-e236-4b9f-96b6-98a4ce5412ab",
        "colab": {
          "base_uri": "https://localhost:8080/",
          "height": 34
        }
      },
      "source": [
        "from sklearn.metrics import accuracy_score\n",
        "\n",
        "y_pred = lin_clf.predict(housing_prepared_test)\n",
        "accuracy_score(housing_labels_test, y_pred)"
      ],
      "execution_count": 93,
      "outputs": [
        {
          "output_type": "execute_result",
          "data": {
            "text/plain": [
              "0.8333333333333334"
            ]
          },
          "metadata": {
            "tags": []
          },
          "execution_count": 93
        }
      ]
    },
    {
      "cell_type": "code",
      "metadata": {
        "id": "onrGzuTJR-Ih",
        "colab_type": "code",
        "outputId": "16b7d35a-ef64-42c6-d6de-97b4bfb826fe",
        "colab": {
          "base_uri": "https://localhost:8080/",
          "height": 85
        }
      },
      "source": [
        "lin_clf.fit(housing_prepared, ckd_labels)"
      ],
      "execution_count": 92,
      "outputs": [
        {
          "output_type": "execute_result",
          "data": {
            "text/plain": [
              "LinearSVC(C=1.0, class_weight=None, dual=True, fit_intercept=True,\n",
              "          intercept_scaling=1, loss='squared_hinge', max_iter=1000,\n",
              "          multi_class='ovr', penalty='l2', random_state=42, tol=0.0001,\n",
              "          verbose=0)"
            ]
          },
          "metadata": {
            "tags": []
          },
          "execution_count": 92
        }
      ]
    },
    {
      "cell_type": "code",
      "metadata": {
        "id": "OMlXZDCTSCAi",
        "colab_type": "code",
        "outputId": "a629b930-d6ad-444d-93a1-fd271f0f9550",
        "colab": {
          "base_uri": "https://localhost:8080/",
          "height": 34
        }
      },
      "source": [
        "\n",
        "from sklearn.metrics import accuracy_score\n",
        "\n",
        "y_pred = lin_clf.predict(housing_prepared_test)\n",
        "accuracy_score(housing_labels2_test, y_pred)"
      ],
      "execution_count": 0,
      "outputs": [
        {
          "output_type": "execute_result",
          "data": {
            "text/plain": [
              "0.8244274809160306"
            ]
          },
          "metadata": {
            "tags": []
          },
          "execution_count": 55
        }
      ]
    },
    {
      "cell_type": "code",
      "metadata": {
        "id": "cCDJc4NaSNts",
        "colab_type": "code",
        "colab": {}
      },
      "source": [
        "scaler = StandardScaler()\n",
        "X_train_scaled = scaler.fit_transform(housing_prepared.astype(np.float32))\n",
        "X_test_scaled = scaler.transform(housing_prepared_test.astype(np.float32))"
      ],
      "execution_count": 0,
      "outputs": []
    },
    {
      "cell_type": "code",
      "metadata": {
        "id": "bUbXJ2coSdot",
        "colab_type": "code",
        "outputId": "d26107ed-06f8-4ee9-c693-808905868e80",
        "colab": {
          "base_uri": "https://localhost:8080/",
          "height": 238
        }
      },
      "source": [
        "\n",
        "polynomial_svm_clf.fit(X_train_scaled, ckd_labels)"
      ],
      "execution_count": 95,
      "outputs": [
        {
          "output_type": "execute_result",
          "data": {
            "text/plain": [
              "Pipeline(memory=None,\n",
              "         steps=[('poly_features',\n",
              "                 PolynomialFeatures(degree=3, include_bias=True,\n",
              "                                    interaction_only=False, order='C')),\n",
              "                ('scaler',\n",
              "                 StandardScaler(copy=True, with_mean=True, with_std=True)),\n",
              "                ('svm_clf',\n",
              "                 SVC(C=5, cache_size=200, class_weight=None, coef0=1,\n",
              "                     decision_function_shape='ovr', degree=3,\n",
              "                     gamma='auto_deprecated', kernel='poly', max_iter=-1,\n",
              "                     probability=False, random_state=None, shrinking=True,\n",
              "                     tol=0.001, verbose=False))],\n",
              "         verbose=False)"
            ]
          },
          "metadata": {
            "tags": []
          },
          "execution_count": 95
        }
      ]
    },
    {
      "cell_type": "code",
      "metadata": {
        "id": "k3AxxmLWSi1y",
        "colab_type": "code",
        "outputId": "0e7a6332-5754-447f-89d8-3fe829d33ed8",
        "colab": {
          "base_uri": "https://localhost:8080/",
          "height": 34
        }
      },
      "source": [
        "y_pred = polynomial_svm_clf.predict(X_test_scaled)\n",
        "accuracy_score(housing_labels_test, y_pred)"
      ],
      "execution_count": 96,
      "outputs": [
        {
          "output_type": "execute_result",
          "data": {
            "text/plain": [
              "0.8888888888888888"
            ]
          },
          "metadata": {
            "tags": []
          },
          "execution_count": 96
        }
      ]
    },
    {
      "cell_type": "code",
      "metadata": {
        "id": "LJfH_Je_SuNi",
        "colab_type": "code",
        "outputId": "f19ebc2f-4ced-4c9c-c70a-8f582a171b46",
        "colab": {
          "base_uri": "https://localhost:8080/",
          "height": 180
        }
      },
      "source": [
        "svm_clfa = polynomial_svm_clf(decision_function_shape=\"ovr\", gamma=\"auto\")\n",
        "svm_clfa.fit(X_train_scaled[:100], ckd_labels[:100])"
      ],
      "execution_count": 0,
      "outputs": [
        {
          "output_type": "error",
          "ename": "TypeError",
          "evalue": "ignored",
          "traceback": [
            "\u001b[0;31m---------------------------------------------------------------------------\u001b[0m",
            "\u001b[0;31mTypeError\u001b[0m                                 Traceback (most recent call last)",
            "\u001b[0;32m<ipython-input-157-3ed44e922ebd>\u001b[0m in \u001b[0;36m<module>\u001b[0;34m()\u001b[0m\n\u001b[0;32m----> 1\u001b[0;31m \u001b[0msvm_clfa\u001b[0m \u001b[0;34m=\u001b[0m \u001b[0mpolynomial_svm_clf\u001b[0m\u001b[0;34m(\u001b[0m\u001b[0mdecision_function_shape\u001b[0m\u001b[0;34m=\u001b[0m\u001b[0;34m\"ovr\"\u001b[0m\u001b[0;34m,\u001b[0m \u001b[0mgamma\u001b[0m\u001b[0;34m=\u001b[0m\u001b[0;34m\"auto\"\u001b[0m\u001b[0;34m)\u001b[0m\u001b[0;34m\u001b[0m\u001b[0;34m\u001b[0m\u001b[0m\n\u001b[0m\u001b[1;32m      2\u001b[0m \u001b[0msvm_clfa\u001b[0m\u001b[0;34m.\u001b[0m\u001b[0mfit\u001b[0m\u001b[0;34m(\u001b[0m\u001b[0mX_train_scaled\u001b[0m\u001b[0;34m[\u001b[0m\u001b[0;34m:\u001b[0m\u001b[0;36m100\u001b[0m\u001b[0;34m]\u001b[0m\u001b[0;34m,\u001b[0m \u001b[0mckd_labels\u001b[0m\u001b[0;34m[\u001b[0m\u001b[0;34m:\u001b[0m\u001b[0;36m100\u001b[0m\u001b[0;34m]\u001b[0m\u001b[0;34m)\u001b[0m\u001b[0;34m\u001b[0m\u001b[0;34m\u001b[0m\u001b[0m\n",
            "\u001b[0;31mTypeError\u001b[0m: 'Pipeline' object is not callable"
          ]
        }
      ]
    },
    {
      "cell_type": "code",
      "metadata": {
        "id": "pXd7edPFS0Wk",
        "colab_type": "code",
        "outputId": "908f1814-1cd5-4791-8ac6-70bf4a3fb806",
        "colab": {
          "base_uri": "https://localhost:8080/",
          "height": 323
        }
      },
      "source": [
        "y_pred = svm_clf.predict(X_test_scaled)\n",
        "accuracy_score(housing_labels_test, y_pred)"
      ],
      "execution_count": 0,
      "outputs": [
        {
          "output_type": "error",
          "ename": "NotFittedError",
          "evalue": "ignored",
          "traceback": [
            "\u001b[0;31m---------------------------------------------------------------------------\u001b[0m",
            "\u001b[0;31mNotFittedError\u001b[0m                            Traceback (most recent call last)",
            "\u001b[0;32m<ipython-input-155-3036519f5204>\u001b[0m in \u001b[0;36m<module>\u001b[0;34m()\u001b[0m\n\u001b[0;32m----> 1\u001b[0;31m \u001b[0my_pred\u001b[0m \u001b[0;34m=\u001b[0m \u001b[0msvm_clf\u001b[0m\u001b[0;34m.\u001b[0m\u001b[0mpredict\u001b[0m\u001b[0;34m(\u001b[0m\u001b[0mX_test_scaled\u001b[0m\u001b[0;34m)\u001b[0m\u001b[0;34m\u001b[0m\u001b[0;34m\u001b[0m\u001b[0m\n\u001b[0m\u001b[1;32m      2\u001b[0m \u001b[0maccuracy_score\u001b[0m\u001b[0;34m(\u001b[0m\u001b[0mhousing_labels_test\u001b[0m\u001b[0;34m,\u001b[0m \u001b[0my_pred\u001b[0m\u001b[0;34m)\u001b[0m\u001b[0;34m\u001b[0m\u001b[0;34m\u001b[0m\u001b[0m\n",
            "\u001b[0;32m/usr/local/lib/python3.6/dist-packages/sklearn/svm/base.py\u001b[0m in \u001b[0;36mpredict\u001b[0;34m(self, X)\u001b[0m\n\u001b[1;32m    572\u001b[0m             \u001b[0mClass\u001b[0m \u001b[0mlabels\u001b[0m \u001b[0;32mfor\u001b[0m \u001b[0msamples\u001b[0m \u001b[0;32min\u001b[0m \u001b[0mX\u001b[0m\u001b[0;34m.\u001b[0m\u001b[0;34m\u001b[0m\u001b[0;34m\u001b[0m\u001b[0m\n\u001b[1;32m    573\u001b[0m         \"\"\"\n\u001b[0;32m--> 574\u001b[0;31m         \u001b[0my\u001b[0m \u001b[0;34m=\u001b[0m \u001b[0msuper\u001b[0m\u001b[0;34m(\u001b[0m\u001b[0;34m)\u001b[0m\u001b[0;34m.\u001b[0m\u001b[0mpredict\u001b[0m\u001b[0;34m(\u001b[0m\u001b[0mX\u001b[0m\u001b[0;34m)\u001b[0m\u001b[0;34m\u001b[0m\u001b[0;34m\u001b[0m\u001b[0m\n\u001b[0m\u001b[1;32m    575\u001b[0m         \u001b[0;32mreturn\u001b[0m \u001b[0mself\u001b[0m\u001b[0;34m.\u001b[0m\u001b[0mclasses_\u001b[0m\u001b[0;34m.\u001b[0m\u001b[0mtake\u001b[0m\u001b[0;34m(\u001b[0m\u001b[0mnp\u001b[0m\u001b[0;34m.\u001b[0m\u001b[0masarray\u001b[0m\u001b[0;34m(\u001b[0m\u001b[0my\u001b[0m\u001b[0;34m,\u001b[0m \u001b[0mdtype\u001b[0m\u001b[0;34m=\u001b[0m\u001b[0mnp\u001b[0m\u001b[0;34m.\u001b[0m\u001b[0mintp\u001b[0m\u001b[0;34m)\u001b[0m\u001b[0;34m)\u001b[0m\u001b[0;34m\u001b[0m\u001b[0;34m\u001b[0m\u001b[0m\n\u001b[1;32m    576\u001b[0m \u001b[0;34m\u001b[0m\u001b[0m\n",
            "\u001b[0;32m/usr/local/lib/python3.6/dist-packages/sklearn/svm/base.py\u001b[0m in \u001b[0;36mpredict\u001b[0;34m(self, X)\u001b[0m\n\u001b[1;32m    320\u001b[0m         \u001b[0my_pred\u001b[0m \u001b[0;34m:\u001b[0m \u001b[0marray\u001b[0m\u001b[0;34m,\u001b[0m \u001b[0mshape\u001b[0m \u001b[0;34m(\u001b[0m\u001b[0mn_samples\u001b[0m\u001b[0;34m,\u001b[0m\u001b[0;34m)\u001b[0m\u001b[0;34m\u001b[0m\u001b[0;34m\u001b[0m\u001b[0m\n\u001b[1;32m    321\u001b[0m         \"\"\"\n\u001b[0;32m--> 322\u001b[0;31m         \u001b[0mX\u001b[0m \u001b[0;34m=\u001b[0m \u001b[0mself\u001b[0m\u001b[0;34m.\u001b[0m\u001b[0m_validate_for_predict\u001b[0m\u001b[0;34m(\u001b[0m\u001b[0mX\u001b[0m\u001b[0;34m)\u001b[0m\u001b[0;34m\u001b[0m\u001b[0;34m\u001b[0m\u001b[0m\n\u001b[0m\u001b[1;32m    323\u001b[0m         \u001b[0mpredict\u001b[0m \u001b[0;34m=\u001b[0m \u001b[0mself\u001b[0m\u001b[0;34m.\u001b[0m\u001b[0m_sparse_predict\u001b[0m \u001b[0;32mif\u001b[0m \u001b[0mself\u001b[0m\u001b[0;34m.\u001b[0m\u001b[0m_sparse\u001b[0m \u001b[0;32melse\u001b[0m \u001b[0mself\u001b[0m\u001b[0;34m.\u001b[0m\u001b[0m_dense_predict\u001b[0m\u001b[0;34m\u001b[0m\u001b[0;34m\u001b[0m\u001b[0m\n\u001b[1;32m    324\u001b[0m         \u001b[0;32mreturn\u001b[0m \u001b[0mpredict\u001b[0m\u001b[0;34m(\u001b[0m\u001b[0mX\u001b[0m\u001b[0;34m)\u001b[0m\u001b[0;34m\u001b[0m\u001b[0;34m\u001b[0m\u001b[0m\n",
            "\u001b[0;32m/usr/local/lib/python3.6/dist-packages/sklearn/svm/base.py\u001b[0m in \u001b[0;36m_validate_for_predict\u001b[0;34m(self, X)\u001b[0m\n\u001b[1;32m    449\u001b[0m \u001b[0;34m\u001b[0m\u001b[0m\n\u001b[1;32m    450\u001b[0m     \u001b[0;32mdef\u001b[0m \u001b[0m_validate_for_predict\u001b[0m\u001b[0;34m(\u001b[0m\u001b[0mself\u001b[0m\u001b[0;34m,\u001b[0m \u001b[0mX\u001b[0m\u001b[0;34m)\u001b[0m\u001b[0;34m:\u001b[0m\u001b[0;34m\u001b[0m\u001b[0;34m\u001b[0m\u001b[0m\n\u001b[0;32m--> 451\u001b[0;31m         \u001b[0mcheck_is_fitted\u001b[0m\u001b[0;34m(\u001b[0m\u001b[0mself\u001b[0m\u001b[0;34m,\u001b[0m \u001b[0;34m'support_'\u001b[0m\u001b[0;34m)\u001b[0m\u001b[0;34m\u001b[0m\u001b[0;34m\u001b[0m\u001b[0m\n\u001b[0m\u001b[1;32m    452\u001b[0m \u001b[0;34m\u001b[0m\u001b[0m\n\u001b[1;32m    453\u001b[0m         X = check_array(X, accept_sparse='csr', dtype=np.float64, order=\"C\",\n",
            "\u001b[0;32m/usr/local/lib/python3.6/dist-packages/sklearn/utils/validation.py\u001b[0m in \u001b[0;36mcheck_is_fitted\u001b[0;34m(estimator, attributes, msg, all_or_any)\u001b[0m\n\u001b[1;32m    912\u001b[0m \u001b[0;34m\u001b[0m\u001b[0m\n\u001b[1;32m    913\u001b[0m     \u001b[0;32mif\u001b[0m \u001b[0;32mnot\u001b[0m \u001b[0mall_or_any\u001b[0m\u001b[0;34m(\u001b[0m\u001b[0;34m[\u001b[0m\u001b[0mhasattr\u001b[0m\u001b[0;34m(\u001b[0m\u001b[0mestimator\u001b[0m\u001b[0;34m,\u001b[0m \u001b[0mattr\u001b[0m\u001b[0;34m)\u001b[0m \u001b[0;32mfor\u001b[0m \u001b[0mattr\u001b[0m \u001b[0;32min\u001b[0m \u001b[0mattributes\u001b[0m\u001b[0;34m]\u001b[0m\u001b[0;34m)\u001b[0m\u001b[0;34m:\u001b[0m\u001b[0;34m\u001b[0m\u001b[0;34m\u001b[0m\u001b[0m\n\u001b[0;32m--> 914\u001b[0;31m         \u001b[0;32mraise\u001b[0m \u001b[0mNotFittedError\u001b[0m\u001b[0;34m(\u001b[0m\u001b[0mmsg\u001b[0m \u001b[0;34m%\u001b[0m \u001b[0;34m{\u001b[0m\u001b[0;34m'name'\u001b[0m\u001b[0;34m:\u001b[0m \u001b[0mtype\u001b[0m\u001b[0;34m(\u001b[0m\u001b[0mestimator\u001b[0m\u001b[0;34m)\u001b[0m\u001b[0;34m.\u001b[0m\u001b[0m__name__\u001b[0m\u001b[0;34m}\u001b[0m\u001b[0;34m)\u001b[0m\u001b[0;34m\u001b[0m\u001b[0;34m\u001b[0m\u001b[0m\n\u001b[0m\u001b[1;32m    915\u001b[0m \u001b[0;34m\u001b[0m\u001b[0m\n\u001b[1;32m    916\u001b[0m \u001b[0;34m\u001b[0m\u001b[0m\n",
            "\u001b[0;31mNotFittedError\u001b[0m: This SVC instance is not fitted yet. Call 'fit' with appropriate arguments before using this method."
          ]
        }
      ]
    },
    {
      "cell_type": "code",
      "metadata": {
        "id": "k3xeCGOVS-CN",
        "colab_type": "code",
        "outputId": "696b04c2-a033-4b88-89c4-fe2291108a5a",
        "colab": {
          "base_uri": "https://localhost:8080/",
          "height": 1000
        }
      },
      "source": [
        "\n",
        "from sklearn.model_selection import RandomizedSearchCV\n",
        "from scipy.stats import reciprocal, uniform\n",
        "\n",
        "param_distributions = {\"gamma\": reciprocal(0.001, 0.1), \"C\": uniform(1, 10)}\n",
        "rnd_search_cv = RandomizedSearchCV(svm_clf, param_distributions, n_iter=10, verbose=2, cv=3)\n",
        "rnd_search_cv.fit(X_train_scaled[:25], ckd_labels[:25])"
      ],
      "execution_count": 97,
      "outputs": [
        {
          "output_type": "stream",
          "text": [
            "Fitting 3 folds for each of 10 candidates, totalling 30 fits\n",
            "[CV] C=8.965429868602328, gamma=0.002327392228062871 .................\n",
            "[CV] .. C=8.965429868602328, gamma=0.002327392228062871, total=   0.0s\n",
            "[CV] C=8.965429868602328, gamma=0.002327392228062871 .................\n",
            "[CV] .. C=8.965429868602328, gamma=0.002327392228062871, total=   0.0s\n",
            "[CV] C=8.965429868602328, gamma=0.002327392228062871 .................\n",
            "[CV] .. C=8.965429868602328, gamma=0.002327392228062871, total=   0.0s\n",
            "[CV] C=8.796910002727692, gamma=0.015620693675639861 .................\n",
            "[CV] .. C=8.796910002727692, gamma=0.015620693675639861, total=   0.0s\n",
            "[CV] C=8.796910002727692, gamma=0.015620693675639861 .................\n",
            "[CV] .. C=8.796910002727692, gamma=0.015620693675639861, total=   0.0s\n",
            "[CV] C=8.796910002727692, gamma=0.015620693675639861 .................\n",
            "[CV] .. C=8.796910002727692, gamma=0.015620693675639861, total=   0.0s\n",
            "[CV] C=5.458327528535912, gamma=0.0015847101210439089 ................\n",
            "[CV] . C=5.458327528535912, gamma=0.0015847101210439089, total=   0.0s\n",
            "[CV] C=5.458327528535912, gamma=0.0015847101210439089 ................\n",
            "[CV] . C=5.458327528535912, gamma=0.0015847101210439089, total=   0.0s\n",
            "[CV] C=5.458327528535912, gamma=0.0015847101210439089 ................\n",
            "[CV] . C=5.458327528535912, gamma=0.0015847101210439089, total=   0.0s\n",
            "[CV] C=5.592488919658671, gamma=0.004649617447336332 .................\n",
            "[CV] .. C=5.592488919658671, gamma=0.004649617447336332, total=   0.0s\n",
            "[CV] C=5.592488919658671, gamma=0.004649617447336332 .................\n",
            "[CV] .. C=5.592488919658671, gamma=0.004649617447336332, total=   0.0s\n",
            "[CV] C=5.592488919658671, gamma=0.004649617447336332 .................\n",
            "[CV] .. C=5.592488919658671, gamma=0.004649617447336332, total=   0.0s\n",
            "[CV] C=2.428668179219408, gamma=0.020034427927560723 .................\n",
            "[CV] .. C=2.428668179219408, gamma=0.020034427927560723, total=   0.0s\n",
            "[CV] C=2.428668179219408, gamma=0.020034427927560723 .................\n",
            "[CV] .. C=2.428668179219408, gamma=0.020034427927560723, total=   0.0s\n",
            "[CV] C=2.428668179219408, gamma=0.020034427927560723 .................\n",
            "[CV] .. C=2.428668179219408, gamma=0.020034427927560723, total=   0.0s\n",
            "[CV] C=1.5641157902710026, gamma=0.027796975515266813 ................\n",
            "[CV] . C=1.5641157902710026, gamma=0.027796975515266813, total=   0.0s\n",
            "[CV] C=1.5641157902710026, gamma=0.027796975515266813 ................\n",
            "[CV] . C=1.5641157902710026, gamma=0.027796975515266813, total=   0.0s\n",
            "[CV] C=1.5641157902710026, gamma=0.027796975515266813 ................\n",
            "[CV] . C=1.5641157902710026, gamma=0.027796975515266813, total=   0.0s\n",
            "[CV] C=10.385527090157503, gamma=0.001003592787878091 ................\n",
            "[CV] . C=10.385527090157503, gamma=0.001003592787878091, total=   0.0s\n",
            "[CV] C=10.385527090157503, gamma=0.001003592787878091 ................\n",
            "[CV] . C=10.385527090157503, gamma=0.001003592787878091, total=   0.0s\n",
            "[CV] C=10.385527090157503, gamma=0.001003592787878091 ................\n",
            "[CV] . C=10.385527090157503, gamma=0.001003592787878091, total=   0.0s\n",
            "[CV] C=10.922115592912174, gamma=0.017177621112338375 ................\n",
            "[CV] . C=10.922115592912174, gamma=0.017177621112338375, total=   0.0s\n",
            "[CV] C=10.922115592912174, gamma=0.017177621112338375 ................\n",
            "[CV] . C=10.922115592912174, gamma=0.017177621112338375, total=   0.0s\n",
            "[CV] C=10.922115592912174, gamma=0.017177621112338375 ................\n",
            "[CV] . C=10.922115592912174, gamma=0.017177621112338375, total=   0.0s\n",
            "[CV] C=7.116531604882809, gamma=0.0010330768043240405 ................\n",
            "[CV] . C=7.116531604882809, gamma=0.0010330768043240405, total=   0.0s\n",
            "[CV] C=7.116531604882809, gamma=0.0010330768043240405 ................\n",
            "[CV] . C=7.116531604882809, gamma=0.0010330768043240405, total=   0.0s\n",
            "[CV] C=7.116531604882809, gamma=0.0010330768043240405 ................\n",
            "[CV] . C=7.116531604882809, gamma=0.0010330768043240405, total=   0.0s\n",
            "[CV] C=1.2306242504141576, gamma=0.011208547084229366 ................\n",
            "[CV] . C=1.2306242504141576, gamma=0.011208547084229366, total=   0.0s\n",
            "[CV] C=1.2306242504141576, gamma=0.011208547084229366 ................\n",
            "[CV] . C=1.2306242504141576, gamma=0.011208547084229366, total=   0.0s\n",
            "[CV] C=1.2306242504141576, gamma=0.011208547084229366 ................\n",
            "[CV] . C=1.2306242504141576, gamma=0.011208547084229366, total=   0.0s\n"
          ],
          "name": "stdout"
        },
        {
          "output_type": "stream",
          "text": [
            "[Parallel(n_jobs=1)]: Using backend SequentialBackend with 1 concurrent workers.\n",
            "[Parallel(n_jobs=1)]: Done   1 out of   1 | elapsed:    0.0s remaining:    0.0s\n",
            "[Parallel(n_jobs=1)]: Done  30 out of  30 | elapsed:    0.1s finished\n"
          ],
          "name": "stderr"
        },
        {
          "output_type": "execute_result",
          "data": {
            "text/plain": [
              "RandomizedSearchCV(cv=3, error_score='raise-deprecating',\n",
              "                   estimator=SVC(C=1.0, cache_size=200, class_weight=None,\n",
              "                                 coef0=0.0, decision_function_shape='ovr',\n",
              "                                 degree=3, gamma='auto', kernel='rbf',\n",
              "                                 max_iter=-1, probability=True, random_state=42,\n",
              "                                 shrinking=True, tol=0.001, verbose=False),\n",
              "                   iid='warn', n_iter=10, n_jobs=None,\n",
              "                   param_distributions={'C': <scipy.stats._distn_infrastructure.rv_frozen object at 0x7f14542459e8>,\n",
              "                                        'gamma': <scipy.stats._distn_infrastructure.rv_frozen object at 0x7f14542454e0>},\n",
              "                   pre_dispatch='2*n_jobs', random_state=None, refit=True,\n",
              "                   return_train_score=False, scoring=None, verbose=2)"
            ]
          },
          "metadata": {
            "tags": []
          },
          "execution_count": 97
        }
      ]
    },
    {
      "cell_type": "code",
      "metadata": {
        "id": "FomrwTNHTX5U",
        "colab_type": "code",
        "outputId": "727ce19e-ee82-4c6f-e6b2-322ad98eb02b",
        "colab": {
          "base_uri": "https://localhost:8080/",
          "height": 85
        }
      },
      "source": [
        "rnd_search_cv.best_estimator_"
      ],
      "execution_count": 98,
      "outputs": [
        {
          "output_type": "execute_result",
          "data": {
            "text/plain": [
              "SVC(C=8.965429868602328, cache_size=200, class_weight=None, coef0=0.0,\n",
              "    decision_function_shape='ovr', degree=3, gamma=0.002327392228062871,\n",
              "    kernel='rbf', max_iter=-1, probability=True, random_state=42,\n",
              "    shrinking=True, tol=0.001, verbose=False)"
            ]
          },
          "metadata": {
            "tags": []
          },
          "execution_count": 98
        }
      ]
    },
    {
      "cell_type": "code",
      "metadata": {
        "id": "KessC3F8TbH9",
        "colab_type": "code",
        "outputId": "831bae49-491d-4359-8379-01e104a16c45",
        "colab": {
          "base_uri": "https://localhost:8080/",
          "height": 34
        }
      },
      "source": [
        "rnd_search_cv.best_score_"
      ],
      "execution_count": 99,
      "outputs": [
        {
          "output_type": "execute_result",
          "data": {
            "text/plain": [
              "0.84"
            ]
          },
          "metadata": {
            "tags": []
          },
          "execution_count": 99
        }
      ]
    },
    {
      "cell_type": "code",
      "metadata": {
        "id": "r3rFMS0gTehy",
        "colab_type": "code",
        "outputId": "232cbb2c-ac1d-4c3c-c9d0-383a7bb21a25",
        "colab": {
          "base_uri": "https://localhost:8080/",
          "height": 85
        }
      },
      "source": [
        "rnd_search_cv.best_estimator_.fit(X_train_scaled, ckd_labels)"
      ],
      "execution_count": 100,
      "outputs": [
        {
          "output_type": "execute_result",
          "data": {
            "text/plain": [
              "SVC(C=8.965429868602328, cache_size=200, class_weight=None, coef0=0.0,\n",
              "    decision_function_shape='ovr', degree=3, gamma=0.002327392228062871,\n",
              "    kernel='rbf', max_iter=-1, probability=True, random_state=42,\n",
              "    shrinking=True, tol=0.001, verbose=False)"
            ]
          },
          "metadata": {
            "tags": []
          },
          "execution_count": 100
        }
      ]
    },
    {
      "cell_type": "code",
      "metadata": {
        "id": "8KghyE9mTjCC",
        "colab_type": "code",
        "outputId": "1e5cbdc5-3bef-4293-f21d-ebad24170f3f",
        "colab": {
          "base_uri": "https://localhost:8080/",
          "height": 34
        }
      },
      "source": [
        "y_pred = rnd_search_cv.best_estimator_.predict(X_test_scaled)\n",
        "accuracy_score(housing_labels_test, y_pred)"
      ],
      "execution_count": 101,
      "outputs": [
        {
          "output_type": "execute_result",
          "data": {
            "text/plain": [
              "1.0"
            ]
          },
          "metadata": {
            "tags": []
          },
          "execution_count": 101
        }
      ]
    },
    {
      "cell_type": "code",
      "metadata": {
        "id": "VREV_SB3mjvq",
        "colab_type": "code",
        "outputId": "77670d3e-af30-4913-c59f-3ff339d0e85d",
        "colab": {
          "base_uri": "https://localhost:8080/",
          "height": 1000
        }
      },
      "source": [
        "import tensorflow as tf\n",
        "learning_rate=0.01\n",
        "\n",
        "s = tf.InteractiveSession()\n",
        "\n",
        " \n",
        "\n",
        "inputs = tf.placeholder('float32',shape=(None,14),name=\"X\")\n",
        "\n",
        "labels = tf.placeholder('string',shape=(None,),name='y')\n",
        "\n",
        " \n",
        "\n",
        "with tf.name_scope('dnn'):\n",
        "\n",
        "    hidden1 = tf.layers.dense(inputs,100,activation = tf.nn.elu, kernel_initializer=tf.initializers.variance_scaling)\n",
        "\n",
        "    hidden2 = tf.layers.dense(hidden1,70,activation=tf.nn.elu,kernel_initializer=tf.initializers.variance_scaling)\n",
        "\n",
        "    logits = tf.layers.dense(hidden2,2)\n",
        "\n",
        "    classes = tf.argmax(logits,axis=1)\n",
        "\n",
        " \n",
        "\n",
        "with tf.name_scope(\"loss\"):\n",
        "\n",
        "    xentropy = tf.nn.softmax_cross_entropy_with_logits(labels=labels,logits=logits)\n",
        "\n",
        "    loss = tf.reduce_mean(xentropy, name=\"base_loss\")\n",
        "\n",
        "   \n",
        "\n",
        "with tf.name_scope(\"train\"):\n",
        "\n",
        "    optimizer = tf.train.AdamOptimizer(learning_rate) #,momentum=0.9, use_nesterov = True)\n",
        "\n",
        "    step = optimizer.minimize(loss)\n",
        "\n",
        "   \n",
        "\n",
        "s.run(tf.global_variables_initializer())\n",
        "\n",
        " \n",
        "\n",
        "BATCH_SIZE =1000\n",
        "\n",
        "EPOCHS = 50\n",
        "\n",
        " \n",
        "\n",
        "# for logging the progress right here in Jupyter (for those who don't have TensorBoard)\n",
        "\n",
        "#simpleTrainingCurves = matplotlib_utils.SimpleTrainingCurves(\"cross-entropy\", \"accuracy\")\n",
        "\n",
        " \n",
        "\n",
        "for epoch in range(EPOCHS):  # we finish an epoch when we've looked at all training samples\n",
        "\n",
        "   \n",
        "\n",
        "    batch_losses = []\n",
        "\n",
        "    for batch_start in range(0, housing_prepared.shape[0], BATCH_SIZE):  # data is already shuffled\n",
        "\n",
        "        _, batch_loss = s.run([step, loss], {inputs: housing_prepared[batch_start:batch_start+BATCH_SIZE],\n",
        "\n",
        "                                             labels: ckd_labels[batch_start:batch_start+BATCH_SIZE]})\n",
        "\n",
        "        # collect batch losses, this is almost free as we need a forward pass for backprop anyway\n",
        "\n",
        "        batch_losses.append(batch_loss)\n",
        "\n",
        " \n",
        "\n",
        "    train_loss = np.mean(batch_losses)\n",
        "\n",
        "    val_loss = s.run(loss, {inputs: housing_prepared_test, labels:  housing_labels_test})  # this part is usually small\n",
        "\n",
        "    print('train_loss:',epoch,train_loss)\n",
        "\n",
        "    print('val_loss:',epoch,val_loss)\n",
        "\n",
        "    print('train_accuracy:',epoch, accuracy_score(ckd_labels, s.run(classes, {inputs: housing_prepared})))  # this is slow and usually skipped\n",
        "\n",
        "    print(\"**********************val_acc: \",epoch,accuracy_score(housing_labels_test, s.run(classes, {inputs: housing_prepared_test\n",
        "                                                                                              \n",
        "                                                                                              \n",
        "                                                                                              \n",
        "                                                                                              \n",
        "                                                                                              }))) \n",
        "\n",
        "    #simpleTrainingCurves.add(train_loss, val_loss, train_accuracy, valid_accuracy)"
      ],
      "execution_count": 0,
      "outputs": [
        {
          "output_type": "error",
          "ename": "UnimplementedError",
          "evalue": "ignored",
          "traceback": [
            "\u001b[0;31m---------------------------------------------------------------------------\u001b[0m",
            "\u001b[0;31mUnimplementedError\u001b[0m                        Traceback (most recent call last)",
            "\u001b[0;32m/usr/local/lib/python3.6/dist-packages/tensorflow_core/python/client/session.py\u001b[0m in \u001b[0;36m_do_call\u001b[0;34m(self, fn, *args)\u001b[0m\n\u001b[1;32m   1364\u001b[0m     \u001b[0;32mtry\u001b[0m\u001b[0;34m:\u001b[0m\u001b[0;34m\u001b[0m\u001b[0;34m\u001b[0m\u001b[0m\n\u001b[0;32m-> 1365\u001b[0;31m       \u001b[0;32mreturn\u001b[0m \u001b[0mfn\u001b[0m\u001b[0;34m(\u001b[0m\u001b[0;34m*\u001b[0m\u001b[0margs\u001b[0m\u001b[0;34m)\u001b[0m\u001b[0;34m\u001b[0m\u001b[0;34m\u001b[0m\u001b[0m\n\u001b[0m\u001b[1;32m   1366\u001b[0m     \u001b[0;32mexcept\u001b[0m \u001b[0merrors\u001b[0m\u001b[0;34m.\u001b[0m\u001b[0mOpError\u001b[0m \u001b[0;32mas\u001b[0m \u001b[0me\u001b[0m\u001b[0;34m:\u001b[0m\u001b[0;34m\u001b[0m\u001b[0;34m\u001b[0m\u001b[0m\n",
            "\u001b[0;32m/usr/local/lib/python3.6/dist-packages/tensorflow_core/python/client/session.py\u001b[0m in \u001b[0;36m_run_fn\u001b[0;34m(feed_dict, fetch_list, target_list, options, run_metadata)\u001b[0m\n\u001b[1;32m   1349\u001b[0m       return self._call_tf_sessionrun(options, feed_dict, fetch_list,\n\u001b[0;32m-> 1350\u001b[0;31m                                       target_list, run_metadata)\n\u001b[0m\u001b[1;32m   1351\u001b[0m \u001b[0;34m\u001b[0m\u001b[0m\n",
            "\u001b[0;32m/usr/local/lib/python3.6/dist-packages/tensorflow_core/python/client/session.py\u001b[0m in \u001b[0;36m_call_tf_sessionrun\u001b[0;34m(self, options, feed_dict, fetch_list, target_list, run_metadata)\u001b[0m\n\u001b[1;32m   1442\u001b[0m                                             \u001b[0mfetch_list\u001b[0m\u001b[0;34m,\u001b[0m \u001b[0mtarget_list\u001b[0m\u001b[0;34m,\u001b[0m\u001b[0;34m\u001b[0m\u001b[0;34m\u001b[0m\u001b[0m\n\u001b[0;32m-> 1443\u001b[0;31m                                             run_metadata)\n\u001b[0m\u001b[1;32m   1444\u001b[0m \u001b[0;34m\u001b[0m\u001b[0m\n",
            "\u001b[0;31mUnimplementedError\u001b[0m: Cast string to float is not supported\n\t [[{{node loss_3/softmax_cross_entropy_with_logits_sg/Cast}}]]",
            "\nDuring handling of the above exception, another exception occurred:\n",
            "\u001b[0;31mUnimplementedError\u001b[0m                        Traceback (most recent call last)",
            "\u001b[0;32m<ipython-input-169-09d10f753767>\u001b[0m in \u001b[0;36m<module>\u001b[0;34m()\u001b[0m\n\u001b[1;32m     66\u001b[0m         _, batch_loss = s.run([step, loss], {inputs: housing_prepared[batch_start:batch_start+BATCH_SIZE],\n\u001b[1;32m     67\u001b[0m \u001b[0;34m\u001b[0m\u001b[0m\n\u001b[0;32m---> 68\u001b[0;31m                                              labels: ckd_labels[batch_start:batch_start+BATCH_SIZE]})\n\u001b[0m\u001b[1;32m     69\u001b[0m \u001b[0;34m\u001b[0m\u001b[0m\n\u001b[1;32m     70\u001b[0m         \u001b[0;31m# collect batch losses, this is almost free as we need a forward pass for backprop anyway\u001b[0m\u001b[0;34m\u001b[0m\u001b[0;34m\u001b[0m\u001b[0;34m\u001b[0m\u001b[0m\n",
            "\u001b[0;32m/usr/local/lib/python3.6/dist-packages/tensorflow_core/python/client/session.py\u001b[0m in \u001b[0;36mrun\u001b[0;34m(self, fetches, feed_dict, options, run_metadata)\u001b[0m\n\u001b[1;32m    954\u001b[0m     \u001b[0;32mtry\u001b[0m\u001b[0;34m:\u001b[0m\u001b[0;34m\u001b[0m\u001b[0;34m\u001b[0m\u001b[0m\n\u001b[1;32m    955\u001b[0m       result = self._run(None, fetches, feed_dict, options_ptr,\n\u001b[0;32m--> 956\u001b[0;31m                          run_metadata_ptr)\n\u001b[0m\u001b[1;32m    957\u001b[0m       \u001b[0;32mif\u001b[0m \u001b[0mrun_metadata\u001b[0m\u001b[0;34m:\u001b[0m\u001b[0;34m\u001b[0m\u001b[0;34m\u001b[0m\u001b[0m\n\u001b[1;32m    958\u001b[0m         \u001b[0mproto_data\u001b[0m \u001b[0;34m=\u001b[0m \u001b[0mtf_session\u001b[0m\u001b[0;34m.\u001b[0m\u001b[0mTF_GetBuffer\u001b[0m\u001b[0;34m(\u001b[0m\u001b[0mrun_metadata_ptr\u001b[0m\u001b[0;34m)\u001b[0m\u001b[0;34m\u001b[0m\u001b[0;34m\u001b[0m\u001b[0m\n",
            "\u001b[0;32m/usr/local/lib/python3.6/dist-packages/tensorflow_core/python/client/session.py\u001b[0m in \u001b[0;36m_run\u001b[0;34m(self, handle, fetches, feed_dict, options, run_metadata)\u001b[0m\n\u001b[1;32m   1178\u001b[0m     \u001b[0;32mif\u001b[0m \u001b[0mfinal_fetches\u001b[0m \u001b[0;32mor\u001b[0m \u001b[0mfinal_targets\u001b[0m \u001b[0;32mor\u001b[0m \u001b[0;34m(\u001b[0m\u001b[0mhandle\u001b[0m \u001b[0;32mand\u001b[0m \u001b[0mfeed_dict_tensor\u001b[0m\u001b[0;34m)\u001b[0m\u001b[0;34m:\u001b[0m\u001b[0;34m\u001b[0m\u001b[0;34m\u001b[0m\u001b[0m\n\u001b[1;32m   1179\u001b[0m       results = self._do_run(handle, final_targets, final_fetches,\n\u001b[0;32m-> 1180\u001b[0;31m                              feed_dict_tensor, options, run_metadata)\n\u001b[0m\u001b[1;32m   1181\u001b[0m     \u001b[0;32melse\u001b[0m\u001b[0;34m:\u001b[0m\u001b[0;34m\u001b[0m\u001b[0;34m\u001b[0m\u001b[0m\n\u001b[1;32m   1182\u001b[0m       \u001b[0mresults\u001b[0m \u001b[0;34m=\u001b[0m \u001b[0;34m[\u001b[0m\u001b[0;34m]\u001b[0m\u001b[0;34m\u001b[0m\u001b[0;34m\u001b[0m\u001b[0m\n",
            "\u001b[0;32m/usr/local/lib/python3.6/dist-packages/tensorflow_core/python/client/session.py\u001b[0m in \u001b[0;36m_do_run\u001b[0;34m(self, handle, target_list, fetch_list, feed_dict, options, run_metadata)\u001b[0m\n\u001b[1;32m   1357\u001b[0m     \u001b[0;32mif\u001b[0m \u001b[0mhandle\u001b[0m \u001b[0;32mis\u001b[0m \u001b[0;32mNone\u001b[0m\u001b[0;34m:\u001b[0m\u001b[0;34m\u001b[0m\u001b[0;34m\u001b[0m\u001b[0m\n\u001b[1;32m   1358\u001b[0m       return self._do_call(_run_fn, feeds, fetches, targets, options,\n\u001b[0;32m-> 1359\u001b[0;31m                            run_metadata)\n\u001b[0m\u001b[1;32m   1360\u001b[0m     \u001b[0;32melse\u001b[0m\u001b[0;34m:\u001b[0m\u001b[0;34m\u001b[0m\u001b[0;34m\u001b[0m\u001b[0m\n\u001b[1;32m   1361\u001b[0m       \u001b[0;32mreturn\u001b[0m \u001b[0mself\u001b[0m\u001b[0;34m.\u001b[0m\u001b[0m_do_call\u001b[0m\u001b[0;34m(\u001b[0m\u001b[0m_prun_fn\u001b[0m\u001b[0;34m,\u001b[0m \u001b[0mhandle\u001b[0m\u001b[0;34m,\u001b[0m \u001b[0mfeeds\u001b[0m\u001b[0;34m,\u001b[0m \u001b[0mfetches\u001b[0m\u001b[0;34m)\u001b[0m\u001b[0;34m\u001b[0m\u001b[0;34m\u001b[0m\u001b[0m\n",
            "\u001b[0;32m/usr/local/lib/python3.6/dist-packages/tensorflow_core/python/client/session.py\u001b[0m in \u001b[0;36m_do_call\u001b[0;34m(self, fn, *args)\u001b[0m\n\u001b[1;32m   1382\u001b[0m                     \u001b[0;34m'\\nsession_config.graph_options.rewrite_options.'\u001b[0m\u001b[0;34m\u001b[0m\u001b[0;34m\u001b[0m\u001b[0m\n\u001b[1;32m   1383\u001b[0m                     'disable_meta_optimizer = True')\n\u001b[0;32m-> 1384\u001b[0;31m       \u001b[0;32mraise\u001b[0m \u001b[0mtype\u001b[0m\u001b[0;34m(\u001b[0m\u001b[0me\u001b[0m\u001b[0;34m)\u001b[0m\u001b[0;34m(\u001b[0m\u001b[0mnode_def\u001b[0m\u001b[0;34m,\u001b[0m \u001b[0mop\u001b[0m\u001b[0;34m,\u001b[0m \u001b[0mmessage\u001b[0m\u001b[0;34m)\u001b[0m\u001b[0;34m\u001b[0m\u001b[0;34m\u001b[0m\u001b[0m\n\u001b[0m\u001b[1;32m   1385\u001b[0m \u001b[0;34m\u001b[0m\u001b[0m\n\u001b[1;32m   1386\u001b[0m   \u001b[0;32mdef\u001b[0m \u001b[0m_extend_graph\u001b[0m\u001b[0;34m(\u001b[0m\u001b[0mself\u001b[0m\u001b[0;34m)\u001b[0m\u001b[0;34m:\u001b[0m\u001b[0;34m\u001b[0m\u001b[0;34m\u001b[0m\u001b[0m\n",
            "\u001b[0;31mUnimplementedError\u001b[0m: Cast string to float is not supported\n\t [[node loss_3/softmax_cross_entropy_with_logits_sg/Cast (defined at /usr/local/lib/python3.6/dist-packages/tensorflow_core/python/framework/ops.py:1748) ]]\n\nOriginal stack trace for 'loss_3/softmax_cross_entropy_with_logits_sg/Cast':\n  File \"/usr/lib/python3.6/runpy.py\", line 193, in _run_module_as_main\n    \"__main__\", mod_spec)\n  File \"/usr/lib/python3.6/runpy.py\", line 85, in _run_code\n    exec(code, run_globals)\n  File \"/usr/local/lib/python3.6/dist-packages/ipykernel_launcher.py\", line 16, in <module>\n    app.launch_new_instance()\n  File \"/usr/local/lib/python3.6/dist-packages/traitlets/config/application.py\", line 664, in launch_instance\n    app.start()\n  File \"/usr/local/lib/python3.6/dist-packages/ipykernel/kernelapp.py\", line 477, in start\n    ioloop.IOLoop.instance().start()\n  File \"/usr/local/lib/python3.6/dist-packages/tornado/ioloop.py\", line 888, in start\n    handler_func(fd_obj, events)\n  File \"/usr/local/lib/python3.6/dist-packages/tornado/stack_context.py\", line 277, in null_wrapper\n    return fn(*args, **kwargs)\n  File \"/usr/local/lib/python3.6/dist-packages/zmq/eventloop/zmqstream.py\", line 450, in _handle_events\n    self._handle_recv()\n  File \"/usr/local/lib/python3.6/dist-packages/zmq/eventloop/zmqstream.py\", line 480, in _handle_recv\n    self._run_callback(callback, msg)\n  File \"/usr/local/lib/python3.6/dist-packages/zmq/eventloop/zmqstream.py\", line 432, in _run_callback\n    callback(*args, **kwargs)\n  File \"/usr/local/lib/python3.6/dist-packages/tornado/stack_context.py\", line 277, in null_wrapper\n    return fn(*args, **kwargs)\n  File \"/usr/local/lib/python3.6/dist-packages/ipykernel/kernelbase.py\", line 283, in dispatcher\n    return self.dispatch_shell(stream, msg)\n  File \"/usr/local/lib/python3.6/dist-packages/ipykernel/kernelbase.py\", line 235, in dispatch_shell\n    handler(stream, idents, msg)\n  File \"/usr/local/lib/python3.6/dist-packages/ipykernel/kernelbase.py\", line 399, in execute_request\n    user_expressions, allow_stdin)\n  File \"/usr/local/lib/python3.6/dist-packages/ipykernel/ipkernel.py\", line 196, in do_execute\n    res = shell.run_cell(code, store_history=store_history, silent=silent)\n  File \"/usr/local/lib/python3.6/dist-packages/ipykernel/zmqshell.py\", line 533, in run_cell\n    return super(ZMQInteractiveShell, self).run_cell(*args, **kwargs)\n  File \"/usr/local/lib/python3.6/dist-packages/IPython/core/interactiveshell.py\", line 2718, in run_cell\n    interactivity=interactivity, compiler=compiler, result=result)\n  File \"/usr/local/lib/python3.6/dist-packages/IPython/core/interactiveshell.py\", line 2822, in run_ast_nodes\n    if self.run_code(code, result):\n  File \"/usr/local/lib/python3.6/dist-packages/IPython/core/interactiveshell.py\", line 2882, in run_code\n    exec(code_obj, self.user_global_ns, self.user_ns)\n  File \"<ipython-input-169-09d10f753767>\", line 28, in <module>\n    xentropy = tf.nn.softmax_cross_entropy_with_logits(labels=labels,logits=logits)\n  File \"/usr/local/lib/python3.6/dist-packages/tensorflow_core/python/util/deprecation.py\", line 324, in new_func\n    return func(*args, **kwargs)\n  File \"/usr/local/lib/python3.6/dist-packages/tensorflow_core/python/ops/nn_ops.py\", line 3300, in softmax_cross_entropy_with_logits\n    labels=labels, logits=logits, axis=dim, name=name)\n  File \"/usr/local/lib/python3.6/dist-packages/tensorflow_core/python/ops/nn_ops.py\", line 3105, in softmax_cross_entropy_with_logits_v2\n    labels=labels, logits=logits, axis=axis, name=name)\n  File \"/usr/local/lib/python3.6/dist-packages/tensorflow_core/python/util/deprecation.py\", line 507, in new_func\n    return func(*args, **kwargs)\n  File \"/usr/local/lib/python3.6/dist-packages/tensorflow_core/python/ops/nn_ops.py\", line 3177, in softmax_cross_entropy_with_logits_v2_helper\n    labels = math_ops.cast(labels, precise_logits.dtype)\n  File \"/usr/local/lib/python3.6/dist-packages/tensorflow_core/python/util/dispatch.py\", line 180, in wrapper\n    return target(*args, **kwargs)\n  File \"/usr/local/lib/python3.6/dist-packages/tensorflow_core/python/ops/math_ops.py\", line 704, in cast\n    x = gen_math_ops.cast(x, base_type, name=name)\n  File \"/usr/local/lib/python3.6/dist-packages/tensorflow_core/python/ops/gen_math_ops.py\", line 2219, in cast\n    \"Cast\", x=x, DstT=DstT, Truncate=Truncate, name=name)\n  File \"/usr/local/lib/python3.6/dist-packages/tensorflow_core/python/framework/op_def_library.py\", line 794, in _apply_op_helper\n    op_def=op_def)\n  File \"/usr/local/lib/python3.6/dist-packages/tensorflow_core/python/util/deprecation.py\", line 507, in new_func\n    return func(*args, **kwargs)\n  File \"/usr/local/lib/python3.6/dist-packages/tensorflow_core/python/framework/ops.py\", line 3357, in create_op\n    attrs, op_def, compute_device)\n  File \"/usr/local/lib/python3.6/dist-packages/tensorflow_core/python/framework/ops.py\", line 3426, in _create_op_internal\n    op_def=op_def)\n  File \"/usr/local/lib/python3.6/dist-packages/tensorflow_core/python/framework/ops.py\", line 1748, in __init__\n    self._traceback = tf_stack.extract_stack()\n"
          ]
        }
      ]
    },
    {
      "cell_type": "code",
      "metadata": {
        "id": "qP5lS1mwZz1D",
        "colab_type": "code",
        "colab": {}
      },
      "source": [
        ""
      ],
      "execution_count": 0,
      "outputs": []
    }
  ]
}